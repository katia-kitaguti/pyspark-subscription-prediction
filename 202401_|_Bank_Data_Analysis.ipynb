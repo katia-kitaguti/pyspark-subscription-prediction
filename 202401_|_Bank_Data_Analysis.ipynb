{
  "cells": [
    {
      "cell_type": "markdown",
      "metadata": {
        "id": "view-in-github",
        "colab_type": "text"
      },
      "source": [
        "<a href=\"https://colab.research.google.com/github/katia-kitaguti/pyspark-subscription-prediction/blob/main/202401_%7C_Bank_Data_Analysis.ipynb\" target=\"_parent\"><img src=\"https://colab.research.google.com/assets/colab-badge.svg\" alt=\"Open In Colab\"/></a>"
      ]
    },
    {
      "cell_type": "markdown",
      "metadata": {
        "id": "1kFbmCPWFabm"
      },
      "source": [
        "# About Pyspark"
      ]
    },
    {
      "cell_type": "markdown",
      "metadata": {
        "id": "6SYnBjSVFckn"
      },
      "source": [
        "Pyspark is an interface of Apache Spark in Python. You can deal with a real-time, large-scale data, as well as manipulating and analysing data.\n",
        "\n",
        "In order to learn more regarding it, I used as a reference the article published in Towards Data Science, which can be checked in \"References\" part.\n",
        "\n",
        "I used a base download from Kaggle, which is related to direct campaigns (phone calls) of a Portuguese banking institution. The purpose is to predict whether the client will subscribe (Yes/No) under a term deposit."
      ]
    },
    {
      "cell_type": "markdown",
      "metadata": {
        "id": "-DTt_WESMXpW"
      },
      "source": [
        "# Import Libraries"
      ]
    },
    {
      "cell_type": "code",
      "execution_count": 1,
      "metadata": {
        "id": "y_Vf_KUdMOB9",
        "colab": {
          "base_uri": "https://localhost:8080/"
        },
        "outputId": "db002cab-1346-440e-96ef-83a85b5a0023"
      },
      "outputs": [
        {
          "output_type": "stream",
          "name": "stdout",
          "text": [
            "Collecting pyspark\n",
            "  Downloading pyspark-3.5.0.tar.gz (316.9 MB)\n",
            "\u001b[2K     \u001b[90m━━━━━━━━━━━━━━━━━━━━━━━━━━━━━━━━━━━━━━━━\u001b[0m \u001b[32m316.9/316.9 MB\u001b[0m \u001b[31m2.4 MB/s\u001b[0m eta \u001b[36m0:00:00\u001b[0m\n",
            "\u001b[?25h  Preparing metadata (setup.py) ... \u001b[?25l\u001b[?25hdone\n",
            "Requirement already satisfied: py4j==0.10.9.7 in /usr/local/lib/python3.10/dist-packages (from pyspark) (0.10.9.7)\n",
            "Building wheels for collected packages: pyspark\n",
            "  Building wheel for pyspark (setup.py) ... \u001b[?25l\u001b[?25hdone\n",
            "  Created wheel for pyspark: filename=pyspark-3.5.0-py2.py3-none-any.whl size=317425345 sha256=3948309c307ce923f1d28fdf682c175ecfdd73815fce0a1a4ac0697e76e2b234\n",
            "  Stored in directory: /root/.cache/pip/wheels/41/4e/10/c2cf2467f71c678cfc8a6b9ac9241e5e44a01940da8fbb17fc\n",
            "Successfully built pyspark\n",
            "Installing collected packages: pyspark\n",
            "Successfully installed pyspark-3.5.0\n"
          ]
        }
      ],
      "source": [
        "# !pip install pyspark"
      ]
    },
    {
      "cell_type": "code",
      "execution_count": 3,
      "metadata": {
        "id": "pw7-xbNseE77"
      },
      "outputs": [],
      "source": [
        "# pip show pandas"
      ]
    },
    {
      "cell_type": "code",
      "execution_count": 2,
      "metadata": {
        "id": "jMuh4Zw3fARm",
        "colab": {
          "base_uri": "https://localhost:8080/"
        },
        "outputId": "012ad83d-85d4-4716-a852-c4504d126175"
      },
      "outputs": [
        {
          "output_type": "stream",
          "name": "stdout",
          "text": [
            "\u001b[31mERROR: Could not find a version that satisfies the requirement pandas.plotting (from versions: none)\u001b[0m\u001b[31m\n",
            "\u001b[0m\u001b[31mERROR: No matching distribution found for pandas.plotting\u001b[0m\u001b[31m\n",
            "\u001b[0m"
          ]
        }
      ],
      "source": [
        "# !pip install pandas.plotting"
      ]
    },
    {
      "cell_type": "code",
      "execution_count": 4,
      "metadata": {
        "id": "9iEa7dK1NIVl",
        "colab": {
          "base_uri": "https://localhost:8080/"
        },
        "outputId": "7ecceabe-0e43-4421-96dc-09d85e308975"
      },
      "outputs": [
        {
          "output_type": "stream",
          "name": "stdout",
          "text": [
            "Mounted at /content/drive\n"
          ]
        }
      ],
      "source": [
        "# Deal with dataframes\n",
        "import pandas as pd\n",
        "import numpy as np\n",
        "# Accessing GCP Data\n",
        "from google.colab import drive\n",
        "from google.auth.transport.requests import Request\n",
        "from google.oauth2.service_account import Credentials\n",
        "from google.colab import auth\n",
        "auth.authenticate_user()\n",
        "import gspread\n",
        "from oauth2client.service_account import ServiceAccountCredentials\n",
        "\n",
        "##### Pyspark\n",
        "# Change data format\n",
        "from pyspark.sql.types import IntegerType,BooleanType,DateType\n",
        "# Pyspark\n",
        "from pyspark.sql import SparkSession\n",
        "# Pyspark ML\n",
        "from pyspark.ml.feature import OneHotEncoder, StringIndexer, VectorAssembler\n",
        "from pyspark.ml import Pipeline\n",
        "# Pyspark Logistic Regression\n",
        "from pyspark.ml.classification import LogisticRegression\n",
        "from pyspark.ml.evaluation import BinaryClassificationEvaluator\n",
        "# Pyspark Decision Tree\n",
        "from pyspark.ml.classification import DecisionTreeClassifier\n",
        "#Pyspark Random Forest\n",
        "from pyspark.ml.classification import RandomForestClassifier\n",
        "# Pyspark Gradient_boosted Tree Classifier\n",
        "from pyspark.ml.classification import GBTClassifier\n",
        "#Create tables with pyspark\n",
        "from pyspark import SparkContext, SQLContext\n",
        "from pyspark.sql import Row\n",
        "#Deal with functions\n",
        "from pyspark.sql.functions import col, count, when\n",
        "# Tuning\n",
        "from pyspark.ml.tuning import ParamGridBuilder, CrossValidator\n",
        "#Feature Selection\n",
        "from pyspark.ml.feature import ChiSqSelector\n",
        "from pyspark.ml.linalg import Vectors\n",
        "from pyspark.ml import Pipeline\n",
        "\n",
        "\n",
        "# Plot Scatter matrix\n",
        "import plotly.express as px\n",
        "# Others plot format\n",
        "import matplotlib.pyplot as plt\n",
        "\n",
        "drive.mount('/content/drive')"
      ]
    },
    {
      "cell_type": "markdown",
      "metadata": {
        "id": "B3JXjbMjNgkD"
      },
      "source": [
        "# Exploratory Data Analysis (EDA)"
      ]
    },
    {
      "cell_type": "code",
      "execution_count": 5,
      "metadata": {
        "id": "3lIv690VNfgx"
      },
      "outputs": [],
      "source": [
        "# I uploaded the csv clicking in the document button locatted in the left bar in google colab. After it uploaded, I got the copy its path\n",
        "spark = SparkSession.builder.appName('ml-lg-bank').getOrCreate()\n",
        "url = \"/content/bank.csv\"\n",
        "df_bnk = spark.createDataFrame(pd.read_csv(url))"
      ]
    },
    {
      "cell_type": "code",
      "execution_count": 6,
      "metadata": {
        "id": "N5u7e3swQiAp",
        "colab": {
          "base_uri": "https://localhost:8080/"
        },
        "outputId": "2f85a235-c03a-463b-d596-6353a4cd90d3"
      },
      "outputs": [
        {
          "output_type": "stream",
          "name": "stdout",
          "text": [
            "root\n",
            " |-- age: long (nullable = true)\n",
            " |-- job: string (nullable = true)\n",
            " |-- marital: string (nullable = true)\n",
            " |-- education: string (nullable = true)\n",
            " |-- default: string (nullable = true)\n",
            " |-- balance: long (nullable = true)\n",
            " |-- housing: string (nullable = true)\n",
            " |-- loan: string (nullable = true)\n",
            " |-- contact: string (nullable = true)\n",
            " |-- day: long (nullable = true)\n",
            " |-- month: string (nullable = true)\n",
            " |-- duration: long (nullable = true)\n",
            " |-- campaign: long (nullable = true)\n",
            " |-- pdays: long (nullable = true)\n",
            " |-- previous: long (nullable = true)\n",
            " |-- poutcome: string (nullable = true)\n",
            " |-- deposit: string (nullable = true)\n",
            "\n"
          ]
        }
      ],
      "source": [
        "df_bnk.printSchema()"
      ]
    },
    {
      "cell_type": "code",
      "execution_count": 7,
      "metadata": {
        "id": "_M10tSaozs3D",
        "colab": {
          "base_uri": "https://localhost:8080/"
        },
        "outputId": "e131282c-db09-49a9-f4cc-1a85da94c3ab"
      },
      "outputs": [
        {
          "output_type": "stream",
          "name": "stdout",
          "text": [
            "+---+---+-------+---------+-------+-------+-------+----+-------+---+-----+--------+--------+-----+--------+--------+-------+\n",
            "|age|job|marital|education|default|balance|housing|loan|contact|day|month|duration|campaign|pdays|previous|poutcome|deposit|\n",
            "+---+---+-------+---------+-------+-------+-------+----+-------+---+-----+--------+--------+-----+--------+--------+-------+\n",
            "|  0|  0|      0|        0|      0|      0|      0|   0|      0|  0|    0|       0|       0|    0|       0|       0|      0|\n",
            "+---+---+-------+---------+-------+-------+-------+----+-------+---+-----+--------+--------+-----+--------+--------+-------+\n",
            "\n"
          ]
        }
      ],
      "source": [
        "# Checking whether there is null values in the columns or not\n",
        "df_bnk_checkNulls = df_bnk.select([count(when(col(i).isNull(), i )).alias(i) for i in df_bnk.columns])\n",
        "df_bnk_checkNulls.show()"
      ]
    },
    {
      "cell_type": "code",
      "execution_count": 8,
      "metadata": {
        "id": "vmhC4HZYJjNH",
        "colab": {
          "base_uri": "https://localhost:8080/"
        },
        "outputId": "44d4a6d8-34e9-4afb-a3a9-d023bbad1712"
      },
      "outputs": [
        {
          "output_type": "stream",
          "name": "stdout",
          "text": [
            "[Row(age=29), Row(age=26), Row(age=65), Row(age=54), Row(age=19), Row(age=22), Row(age=77), Row(age=34), Row(age=50), Row(age=57), Row(age=32), Row(age=43), Row(age=84), Row(age=31), Row(age=39), Row(age=25), Row(age=95), Row(age=71), Row(age=68), Row(age=72), Row(age=87), Row(age=58), Row(age=27), Row(age=63), Row(age=56), Row(age=51), Row(age=52), Row(age=79), Row(age=41), Row(age=28), Row(age=33), Row(age=85), Row(age=48), Row(age=67), Row(age=44), Row(age=61), Row(age=37), Row(age=83), Row(age=55), Row(age=74), Row(age=62), Row(age=49), Row(age=35), Row(age=80), Row(age=66), Row(age=76), Row(age=92), Row(age=36), Row(age=75), Row(age=78), Row(age=18), Row(age=69), Row(age=21), Row(age=59), Row(age=81), Row(age=38), Row(age=82), Row(age=42), Row(age=30), Row(age=73), Row(age=90), Row(age=23), Row(age=46), Row(age=70), Row(age=20), Row(age=86), Row(age=60), Row(age=93), Row(age=40), Row(age=64), Row(age=45), Row(age=53), Row(age=47), Row(age=24), Row(age=88), Row(age=89)]\n",
            "[Row(job='management'), Row(job='retired'), Row(job='unknown'), Row(job='self-employed'), Row(job='student'), Row(job='blue-collar'), Row(job='entrepreneur'), Row(job='admin.'), Row(job='technician'), Row(job='services'), Row(job='housemaid'), Row(job='unemployed')]\n",
            "[Row(marital='divorced'), Row(marital='married'), Row(marital='single')]\n",
            "[Row(education='unknown'), Row(education='tertiary'), Row(education='secondary'), Row(education='primary')]\n",
            "[Row(default='no'), Row(default='yes')]\n",
            "[Row(balance=2453), Row(balance=-251), Row(balance=2040), Row(balance=2509), Row(balance=26), Row(balance=474), Row(balance=7279), Row(balance=29), Row(balance=3764), Row(balance=1697), Row(balance=4590), Row(balance=13460), Row(balance=65), Row(balance=541), Row(balance=1224), Row(balance=191), Row(balance=1258), Row(balance=558), Row(balance=4126), Row(balance=1277), Row(balance=-522), Row(balance=3391), Row(balance=-528), Row(balance=1840), Row(balance=2812), Row(balance=1145), Row(balance=293), Row(balance=-109), Row(balance=-839), Row(balance=1371), Row(balance=270), Row(balance=730), Row(balance=938), Row(balance=2581), Row(balance=222), Row(balance=3704), Row(balance=278), Row(balance=367), Row(balance=720), Row(balance=1919), Row(balance=2944), Row(balance=243), Row(balance=705), Row(balance=2371), Row(balance=1690), Row(balance=442), Row(balance=1175), Row(balance=54), Row(balance=19), Row(balance=926), Row(balance=296), Row(balance=2551), Row(balance=2857), Row(balance=4174), Row(balance=4256), Row(balance=965), Row(balance=0), Row(balance=415), Row(balance=4117), Row(balance=348), Row(balance=277), Row(balance=5741), Row(balance=1077), Row(balance=2648), Row(balance=2486), Row(balance=-799), Row(balance=4108), Row(balance=2881), Row(balance=3382), Row(balance=-1206), Row(balance=502), Row(balance=3144), Row(balance=1055), Row(balance=656), Row(balance=155), Row(balance=113), Row(balance=-30), Row(balance=1882), Row(balance=1599), Row(balance=167), Row(balance=831), Row(balance=-3), Row(balance=1738), Row(balance=3324), Row(balance=736), Row(balance=2364), Row(balance=112), Row(balance=385), Row(balance=-324), Row(balance=347), Row(balance=1547), Row(balance=-35), Row(balance=602), Row(balance=1740), Row(balance=4684), Row(balance=1636), Row(balance=237), Row(balance=241), Row(balance=588), Row(balance=7608), Row(balance=3158), Row(balance=22), Row(balance=414), Row(balance=1211), Row(balance=198), Row(balance=1905), Row(balance=2263), Row(balance=1241), Row(balance=2489), Row(balance=2681), Row(balance=330), Row(balance=2488), Row(balance=1711), Row(balance=724), Row(balance=2378), Row(balance=10287), Row(balance=486), Row(balance=823), Row(balance=196), Row(balance=2473), Row(balance=1050), Row(balance=130), Row(balance=932), Row(balance=2282), Row(balance=1374), Row(balance=3821), Row(balance=1059), Row(balance=10861), Row(balance=29080), Row(balance=487), Row(balance=77), Row(balance=3243), Row(balance=1353), Row(balance=12737), Row(balance=3352), Row(balance=7), Row(balance=677), Row(balance=1979), Row(balance=11115), Row(balance=2983), Row(balance=2007), Row(balance=2611), Row(balance=1527), Row(balance=7918), Row(balance=1760), Row(balance=2476), Row(balance=184), Row(balance=3161), Row(balance=635), Row(balance=2929), Row(balance=1540), Row(balance=4657), Row(balance=1529), Row(balance=7111), Row(balance=2724), Row(balance=5275), Row(balance=858), Row(balance=34), Row(balance=830), Row(balance=1542), Row(balance=853), Row(balance=-190), Row(balance=1319), Row(balance=551), Row(balance=1200), Row(balance=6089), Row(balance=1329), Row(balance=3634), Row(balance=2033), Row(balance=463), Row(balance=939), Row(balance=4147), Row(balance=-382), Row(balance=3326), Row(balance=188), Row(balance=2807), Row(balance=2575), Row(balance=2069), Row(balance=1458), Row(balance=1052), Row(balance=2643), Row(balance=2684), Row(balance=7818), Row(balance=1199), Row(balance=1445), Row(balance=2975), Row(balance=399), Row(balance=3696), Row(balance=274), Row(balance=126), Row(balance=844), Row(balance=202), Row(balance=1730), Row(balance=228), Row(balance=4406), Row(balance=3076), Row(balance=1988), Row(balance=889), Row(balance=5108), Row(balance=11303), Row(balance=2717), Row(balance=2204), Row(balance=406), Row(balance=1694), Row(balance=-7), Row(balance=325), Row(balance=9004), Row(balance=1567), Row(balance=624), Row(balance=3636), Row(balance=-438), Row(balance=3399), Row(balance=262), Row(balance=3689), Row(balance=2227), Row(balance=6728), Row(balance=1508), Row(balance=1766), Row(balance=2998), Row(balance=734), Row(balance=-90), Row(balance=1908), Row(balance=2308), Row(balance=1776), Row(balance=691), Row(balance=2568), Row(balance=10332), Row(balance=8828), Row(balance=1949), Row(balance=94), Row(balance=149), Row(balance=421), Row(balance=50), Row(balance=2071), Row(balance=4608), Row(balance=4859), Row(balance=1210), Row(balance=638), Row(balance=1110), Row(balance=264), Row(balance=22520), Row(balance=3552), Row(balance=5005), Row(balance=1756), Row(balance=2149), Row(balance=1064), Row(balance=961), Row(balance=7929), Row(balance=876), Row(balance=600), Row(balance=3944), Row(balance=3687), Row(balance=-546), Row(balance=1376), Row(balance=229), Row(balance=1559), Row(balance=1119), Row(balance=3737), Row(balance=3403), Row(balance=1185), Row(balance=2196), Row(balance=2590), Row(balance=4951), Row(balance=3173), Row(balance=650), Row(balance=1598), Row(balance=343), Row(balance=706), Row(balance=1967), Row(balance=275), Row(balance=190), Row(balance=110), Row(balance=902), Row(balance=439), Row(balance=6567), Row(balance=3796), Row(balance=2987), Row(balance=2530), Row(balance=3054), Row(balance=5517), Row(balance=4210), Row(balance=7803), Row(balance=513), Row(balance=828), Row(balance=3043), Row(balance=136), Row(balance=936), Row(balance=3754), Row(balance=3343), Row(balance=4176), Row(balance=1213), Row(balance=57), Row(balance=388), Row(balance=-233), Row(balance=144), Row(balance=3133), Row(balance=4436), Row(balance=412), Row(balance=2021), Row(balance=3698), Row(balance=-61), Row(balance=963), Row(balance=-466), Row(balance=-172), Row(balance=5086), Row(balance=417), Row(balance=909), Row(balance=-392), Row(balance=1240), Row(balance=2470), Row(balance=2615), Row(balance=4254), Row(balance=8929), Row(balance=2971), Row(balance=2939), Row(balance=1219), Row(balance=3239), Row(balance=3940), Row(balance=2235), Row(balance=696), Row(balance=32), Row(balance=1134), Row(balance=43), Row(balance=2112), Row(balance=34646), Row(balance=17297), Row(balance=555), Row(balance=1108), Row(balance=752), Row(balance=1089), Row(balance=2223), Row(balance=10905), Row(balance=2667), Row(balance=2077), Row(balance=-41), Row(balance=84), Row(balance=378), Row(balance=1233), Row(balance=970), Row(balance=212), Row(balance=1501), Row(balance=766), Row(balance=779), Row(balance=1722), Row(balance=4646), Row(balance=4069), Row(balance=-525), Row(balance=1361), Row(balance=31), Row(balance=5909), Row(balance=376), Row(balance=4623), Row(balance=4402), Row(balance=119), Row(balance=395), Row(balance=12026), Row(balance=8089), Row(balance=1940), Row(balance=4579), Row(balance=4831), Row(balance=7441), Row(balance=768), Row(balance=974), Row(balance=386), Row(balance=1444), Row(balance=3407), Row(balance=326), Row(balance=1461), Row(balance=15161), Row(balance=596), Row(balance=4412), Row(balance=595), Row(balance=4758), Row(balance=6843), Row(balance=39), Row(balance=98), Row(balance=4733), Row(balance=5293), Row(balance=496), Row(balance=561), Row(balance=18967), Row(balance=187), Row(balance=10281), Row(balance=1297), Row(balance=1405), Row(balance=3652), Row(balance=201), Row(balance=-168), Row(balance=990), Row(balance=2360), Row(balance=2022), Row(balance=6983), Row(balance=232), Row(balance=5169), Row(balance=1775), Row(balance=7135), Row(balance=1504), Row(balance=1624), Row(balance=1612), Row(balance=962), Row(balance=4693), Row(balance=2493), Row(balance=2979), Row(balance=1269), Row(balance=4680), Row(balance=1639), Row(balance=700), Row(balance=8781), Row(balance=203), Row(balance=3114), Row(balance=145), Row(balance=3469), Row(balance=116), Row(balance=2531), Row(balance=6784), Row(balance=5220), Row(balance=488), Row(balance=3538), Row(balance=-158), Row(balance=1942), Row(balance=880), Row(balance=25), Row(balance=1099), Row(balance=-701), Row(balance=2787), Row(balance=1757), Row(balance=814), Row(balance=2016), Row(balance=8278), Row(balance=1778), Row(balance=1893), Row(balance=8229), Row(balance=-213), Row(balance=2999), Row(balance=3465), Row(balance=3623), Row(balance=-368), Row(balance=948), Row(balance=3848), Row(balance=3463), Row(balance=1731), Row(balance=1805), Row(balance=1330), Row(balance=-195), Row(balance=157), Row(balance=1347), Row(balance=14968), Row(balance=4151), Row(balance=1535), Row(balance=363), Row(balance=3728), Row(balance=1858), Row(balance=1441), Row(balance=1135), Row(balance=181), Row(balance=124), Row(balance=1368), Row(balance=1323), Row(balance=4321), Row(balance=2384), Row(balance=1712), Row(balance=843), Row(balance=-101), Row(balance=-88), Row(balance=1238), Row(balance=1795), Row(balance=1785), Row(balance=1777), Row(balance=3287), Row(balance=3846), Row(balance=2887), Row(balance=14220), Row(balance=7620), Row(balance=5296), Row(balance=4343), Row(balance=6529), Row(balance=589), Row(balance=95), Row(balance=268), Row(balance=925), Row(balance=3444), Row(balance=699), Row(balance=3436), Row(balance=-71), Row(balance=1246), Row(balance=227), Row(balance=562), Row(balance=2297), Row(balance=455), Row(balance=369), Row(balance=912), Row(balance=760), Row(balance=3122), Row(balance=413), Row(balance=820), Row(balance=915), Row(balance=1831), Row(balance=703), Row(balance=2763), Row(balance=143), Row(balance=370), Row(balance=2346), Row(balance=71), Row(balance=621), Row(balance=704), Row(balance=1960), Row(balance=-268), Row(balance=443), Row(balance=1429), Row(balance=1669), Row(balance=5689), Row(balance=4808), Row(balance=193), Row(balance=161), Row(balance=2354), Row(balance=1191), Row(balance=1934), Row(balance=-192), Row(balance=1242), Row(balance=68), Row(balance=466), Row(balance=3665), Row(balance=1012), Row(balance=6), Row(balance=3384), Row(balance=31472), Row(balance=2498), Row(balance=4158), Row(balance=-197), Row(balance=5346), Row(balance=72), Row(balance=215), Row(balance=1608), Row(balance=87), Row(balance=4380), Row(balance=4761), Row(balance=2616), Row(balance=2027), Row(balance=756), Row(balance=1994), Row(balance=320), Row(balance=665), Row(balance=4145), Row(balance=854), Row(balance=-119), Row(balance=2518), Row(balance=255), Row(balance=883), Row(balance=258), Row(balance=10346), Row(balance=58), Row(balance=5878), Row(balance=2795), Row(balance=271), Row(balance=5613), Row(balance=1817), Row(balance=107), Row(balance=997), Row(balance=424), Row(balance=882), Row(balance=266), Row(balance=221), Row(balance=3733), Row(balance=6746), Row(balance=3779), Row(balance=3608), Row(balance=316), Row(balance=7606), Row(balance=9), Row(balance=897), Row(balance=13546), Row(balance=920), Row(balance=29340), Row(balance=754), Row(balance=158), Row(balance=2084), Row(balance=63), Row(balance=959), Row(balance=27), Row(balance=1693), Row(balance=397), Row(balance=447), Row(balance=1623), Row(balance=389), Row(balance=4717), Row(balance=5473), Row(balance=2758), Row(balance=1570), Row(balance=796), Row(balance=2281), Row(balance=2287), Row(balance=51), Row(balance=56), Row(balance=178), Row(balance=6101), Row(balance=353), Row(balance=341), Row(balance=239), Row(balance=234), Row(balance=891), Row(balance=1761), Row(balance=-198), Row(balance=-413), Row(balance=150), Row(balance=2037), Row(balance=279), Row(balance=6610), Row(balance=1514), Row(balance=146), Row(balance=52), Row(balance=694), Row(balance=7098), Row(balance=1307), Row(balance=346), Row(balance=7702), Row(balance=1762), Row(balance=608), Row(balance=5073), Row(balance=2714), Row(balance=52587), Row(balance=5715), Row(balance=3715), Row(balance=2066), Row(balance=3308), Row(balance=4580), Row(balance=1046), Row(balance=1253), Row(balance=-556), Row(balance=1236), Row(balance=3387), Row(balance=2567), Row(balance=459), Row(balance=2140), Row(balance=861), Row(balance=446), Row(balance=2658), Row(balance=825), Row(balance=2455), Row(balance=2885), Row(balance=4291), Row(balance=2018), Row(balance=4189), Row(balance=712), Row(balance=174), Row(balance=3951), Row(balance=1641), Row(balance=170), Row(balance=661), Row(balance=7049), Row(balance=2786), Row(balance=17), Row(balance=79), Row(balance=209), Row(balance=5236), Row(balance=-1042), Row(balance=19268), Row(balance=2240), Row(balance=-36), Row(balance=1629), Row(balance=236), Row(balance=253), Row(balance=10252), Row(balance=103), Row(balance=989), Row(balance=2338), Row(balance=3943), Row(balance=2665), Row(balance=1250), Row(balance=5773), Row(balance=276), Row(balance=592), Row(balance=509), Row(balance=1287), Row(balance=4389), Row(balance=246), Row(balance=4136), Row(balance=-170), Row(balance=139), Row(balance=1196), Row(balance=1781), Row(balance=10086), Row(balance=3025), Row(balance=1190), Row(balance=9064), Row(balance=2635), Row(balance=226), Row(balance=1009), Row(balance=726), Row(balance=242), Row(balance=3485), Row(balance=1230), Row(balance=11462), Row(balance=817), Row(balance=5872), Row(balance=7290), Row(balance=6513), Row(balance=3591), Row(balance=453), Row(balance=977), Row(balance=1085), Row(balance=1783), Row(balance=2171), Row(balance=1273), Row(balance=-276), Row(balance=41), Row(balance=6651), Row(balance=1574), Row(balance=-205), Row(balance=1595), Row(balance=33), Row(balance=519), Row(balance=6822), Row(balance=405), Row(balance=4148), Row(balance=13094), Row(balance=88), Row(balance=1807), Row(balance=2201), Row(balance=257), Row(balance=384), Row(balance=208), Row(balance=1321), Row(balance=671), Row(balance=138), Row(balance=12519), Row(balance=7707), Row(balance=498), Row(balance=4227), Row(balance=207), Row(balance=637), Row(balance=866), Row(balance=1358), Row(balance=307), Row(balance=462), Row(balance=769), Row(balance=3300), Row(balance=649), Row(balance=235), Row(balance=304), Row(balance=1855), Row(balance=1948), Row(balance=1206), Row(balance=-115), Row(balance=599), Row(balance=2630), Row(balance=114), Row(balance=-123), Row(balance=1625), Row(balance=3518), Row(balance=678), Row(balance=1474), Row(balance=1425), Row(balance=742), Row(balance=2376), Row(balance=4079), Row(balance=434), Row(balance=714), Row(balance=5), Row(balance=794), Row(balance=2383), Row(balance=1331), Row(balance=1363), Row(balance=3498), Row(balance=2883), Row(balance=1723), Row(balance=-215), Row(balance=1), Row(balance=1040), Row(balance=901), Row(balance=404), Row(balance=319), Row(balance=1583), Row(balance=1316), Row(balance=896), Row(balance=539), Row(balance=7458), Row(balance=1071), Row(balance=-538), Row(balance=-271), Row(balance=-315), Row(balance=1074), Row(balance=115), Row(balance=-19), Row(balance=5802), Row(balance=5887), Row(balance=718), Row(balance=2959), Row(balance=153), Row(balance=-309), Row(balance=1562), Row(balance=7585), Row(balance=2506), Row(balance=377), Row(balance=-27), Row(balance=859), Row(balance=96), Row(balance=1257), Row(balance=2637), Row(balance=250), Row(balance=1367), Row(balance=1609), Row(balance=2915), Row(balance=11650), Row(balance=1163), Row(balance=3143), Row(balance=849), Row(balance=1279), Row(balance=1115), Row(balance=328), Row(balance=2396), Row(balance=2850), Row(balance=1130), Row(balance=1534), Row(balance=4068), Row(balance=890), Row(balance=22125), Row(balance=11821), Row(balance=349), Row(balance=2228), Row(balance=6619), Row(balance=-617), Row(balance=-386), Row(balance=185), Row(balance=375), Row(balance=6027), Row(balance=632), Row(balance=3189), Row(balance=2366), Row(balance=4170), Row(balance=104), Row(balance=219), Row(balance=515), Row(balance=4508), Row(balance=3234), Row(balance=834), Row(balance=623), Row(balance=978), Row(balance=3935), Row(balance=1388), Row(balance=944), Row(balance=2820), Row(balance=368), Row(balance=1075), Row(balance=1232), Row(balance=3291), Row(balance=214), Row(balance=14282), Row(balance=719), Row(balance=538), Row(balance=-462), Row(balance=1493), Row(balance=4401), Row(balance=1536), Row(balance=461), Row(balance=2855), Row(balance=6771), Row(balance=1478), Row(balance=1729), Row(balance=3622), Row(balance=593), Row(balance=252), Row(balance=874), Row(balance=4152), Row(balance=816), Row(balance=2707), Row(balance=2193), Row(balance=17924), Row(balance=419), Row(balance=1696), Row(balance=556), Row(balance=2779), Row(balance=12264), Row(balance=10), Row(balance=-97), Row(balance=120), Row(balance=945), Row(balance=-970), Row(balance=423), Row(balance=806), Row(balance=1278), Row(balance=89), Row(balance=550), Row(balance=5110), Row(balance=2178), Row(balance=3417), Row(balance=8897), Row(balance=521), Row(balance=644), Row(balance=361), Row(balance=3933), Row(balance=1045), Row(balance=3049), Row(balance=-407), Row(balance=-454), Row(balance=5063), Row(balance=3561), Row(balance=501), Row(balance=2646), Row(balance=6807), Row(balance=364), Row(balance=1779), Row(balance=870), Row(balance=537), Row(balance=1588), Row(balance=452), Row(balance=3236), Row(balance=2543), Row(balance=403), Row(balance=1000), Row(balance=871), Row(balance=1794), Row(balance=1066), Row(balance=1543), Row(balance=1822), Row(balance=2840), Row(balance=5106), Row(balance=356), Row(balance=-887), Row(balance=7050), Row(balance=490), Row(balance=1381), Row(balance=975), Row(balance=1517), Row(balance=3528), Row(balance=6840), Row(balance=497), Row(balance=128), Row(balance=6402), Row(balance=697), Row(balance=197), Row(balance=1808), Row(balance=5462), Row(balance=911), Row(balance=2970), Row(balance=464), Row(balance=11766), Row(balance=13107), Row(balance=85), Row(balance=867), Row(balance=106), Row(balance=111), Row(balance=2222), Row(balance=2625), Row(balance=2722), Row(balance=1947), Row(balance=4383), Row(balance=1228), Row(balance=575), Row(balance=332), Row(balance=6158), Row(balance=4500), Row(balance=3917), Row(balance=2367), Row(balance=4448), Row(balance=3283), Row(balance=-366), Row(balance=4101), Row(balance=-393), Row(balance=301), Row(balance=548), Row(balance=20138), Row(balance=4659), Row(balance=6060), Row(balance=411), Row(balance=3735), Row(balance=1809), Row(balance=6112), Row(balance=1231), Row(balance=2544), Row(balance=5583), Row(balance=5966), Row(balance=1435), Row(balance=5397), Row(balance=3624), Row(balance=460), Row(balance=3070), Row(balance=-17), Row(balance=7119), Row(balance=1879), Row(balance=2511), Row(balance=2090), Row(balance=5845), Row(balance=3208), Row(balance=-46), Row(balance=179), Row(balance=448), Row(balance=7468), Row(balance=557), Row(balance=2253), Row(balance=563), Row(balance=2424), Row(balance=3338), Row(balance=659), Row(balance=306), Row(balance=517), Row(balance=953), Row(balance=673), Row(balance=48), Row(balance=755), Row(balance=1920), Row(balance=67), Row(balance=3288), Row(balance=224), Row(balance=3115), Row(balance=2085), Row(balance=2353), Row(balance=8535), Row(balance=168), Row(balance=2559), Row(balance=1314), Row(balance=254), Row(balance=761), Row(balance=1295), Row(balance=324), Row(balance=927), Row(balance=9407), Row(balance=1400), Row(balance=481), Row(balance=4752), Row(balance=3145), Row(balance=1187), Row(balance=5679), Row(balance=5763), Row(balance=142), Row(balance=5862), Row(balance=100), Row(balance=6170), Row(balance=247), Row(balance=5355), Row(balance=4917), Row(balance=7005), Row(balance=528), Row(balance=992), Row(balance=3588), Row(balance=2503), Row(balance=318), Row(balance=105), Row(balance=131), Row(balance=850), Row(balance=-180), Row(balance=1412), Row(balance=1970), Row(balance=4089), Row(balance=581), Row(balance=3994), Row(balance=8295), Row(balance=19317), Row(balance=1013), Row(balance=294), Row(balance=3237), Row(balance=1406), Row(balance=800), Row(balance=451), Row(balance=-357), Row(balance=3290), Row(balance=1765), Row(balance=654), Row(balance=5372), Row(balance=-374), Row(balance=993), Row(balance=333), Row(balance=1047), Row(balance=3537), Row(balance=108), Row(balance=339), Row(balance=1137), Row(balance=934), Row(balance=3771), Row(balance=218), Row(balance=309), Row(balance=611), Row(balance=-176), Row(balance=44), Row(balance=471), Row(balance=-477), Row(balance=5806), Row(balance=540), Row(balance=132), Row(balance=804), Row(balance=17964), Row(balance=3006), Row(balance=392), Row(balance=4416), Row(balance=3701), Row(balance=6013), Row(balance=1332), Row(balance=947), Row(balance=3229), Row(balance=127), Row(balance=746), Row(balance=-103), Row(balance=123), Row(balance=1815), Row(balance=-504), Row(balance=1011), Row(balance=20585), Row(balance=951), Row(balance=641), Row(balance=552), Row(balance=1561), Row(balance=1657), Row(balance=-247), Row(balance=7195), Row(balance=210), Row(balance=5795), Row(balance=590), Row(balance=1117), Row(balance=9131), Row(balance=1255), Row(balance=994), Row(balance=2265), Row(balance=731), Row(balance=3141), Row(balance=1998), Row(balance=205), Row(balance=8729), Row(balance=4393), Row(balance=-1129), Row(balance=323), Row(balance=981), Row(balance=682), Row(balance=225), Row(balance=1308), Row(balance=6422), Row(balance=7066), Row(balance=352), Row(balance=1857), Row(balance=5267), Row(balance=2013), Row(balance=15485), Row(balance=1627), Row(balance=381), Row(balance=1354), Row(balance=249), Row(balance=-122), Row(balance=2918), Row(balance=11891), Row(balance=819), Row(balance=383), Row(balance=-493), Row(balance=2061), Row(balance=762), Row(balance=822), Row(balance=1084), Row(balance=3119), Row(balance=3285), Row(balance=-411), Row(balance=61), Row(balance=1968), Row(balance=303), Row(balance=1309), Row(balance=1812), Row(balance=1207), Row(balance=3726), Row(balance=940), Row(balance=988), Row(balance=4654), Row(balance=-114), Row(balance=995), Row(balance=3415), Row(balance=3480), Row(balance=1005), Row(balance=379), Row(balance=3169), Row(balance=2190), Row(balance=1348), Row(balance=2335), Row(balance=5301), Row(balance=3357), Row(balance=2226), Row(balance=3057), Row(balance=2266), Row(balance=580), Row(balance=4465), Row(balance=2416), Row(balance=1925), Row(balance=567), Row(balance=535), Row(balance=10943), Row(balance=4629), Row(balance=2206), Row(balance=9421), Row(balance=213), Row(balance=454), Row(balance=473), Row(balance=921), Row(balance=1880), Row(balance=3713), Row(balance=653), Row(balance=-39), Row(balance=337), Row(balance=3902), Row(balance=192), Row(balance=440), Row(balance=2536), Row(balance=-306), Row(balance=5345), Row(balance=156), Row(balance=3899), Row(balance=4414), Row(balance=7084), Row(balance=2325), Row(balance=1107), Row(balance=1524), Row(balance=3041), Row(balance=1146), Row(balance=9001), Row(balance=5768), Row(balance=1271), Row(balance=7895), Row(balance=2183), Row(balance=429), Row(balance=587), Row(balance=4415), Row(balance=846), Row(balance=636), Row(balance=7802), Row(balance=1454), Row(balance=1544), Row(balance=1772), Row(balance=941), Row(balance=160), Row(balance=8629), Row(balance=715), Row(balance=4736), Row(balance=283), Row(balance=2580), Row(balance=1977), Row(balance=957), Row(balance=3547), Row(balance=9883), Row(balance=3), Row(balance=863), Row(balance=982), Row(balance=1451), Row(balance=6360), Row(balance=576), Row(balance=1227), Row(balance=2232), Row(balance=2613), Row(balance=1662), Row(balance=6900), Row(balance=4112), Row(balance=979), Row(balance=4665), Row(balance=482), Row(balance=206), Row(balance=-188), Row(balance=2666), Row(balance=3913), Row(balance=618), Row(balance=382), Row(balance=478), Row(balance=6468), Row(balance=6997), Row(balance=3546), Row(balance=431), Row(balance=292), Row(balance=776), Row(balance=101), Row(balance=37), Row(balance=2436), Row(balance=5361), Row(balance=12114), Row(balance=6138), Row(balance=9366), Row(balance=4708), Row(balance=2466), Row(balance=5329), Row(balance=1090), Row(balance=2495), Row(balance=3544), Row(balance=-267), Row(balance=-8), Row(balance=1580), Row(balance=1265), Row(balance=2870), Row(balance=362), Row(balance=3059), Row(balance=2351), Row(balance=83), Row(balance=-106), Row(balance=1430), Row(balance=4833), Row(balance=10576), Row(balance=1820), Row(balance=491), Row(balance=2120), Row(balance=1189), Row(balance=905), Row(balance=3663), Row(balance=3644), Row(balance=2656), Row(balance=655), Row(balance=-33), Row(balance=12), Row(balance=355), Row(balance=200), Row(balance=1044), Row(balance=295), Row(balance=2102), Row(balance=952), Row(balance=2306), Row(balance=4642), Row(balance=3556), Row(balance=4348), Row(balance=543), Row(balance=879), Row(balance=826), Row(balance=855), Row(balance=1747), Row(balance=4396), Row(balance=5188), Row(balance=8749), Row(balance=141), Row(balance=2087), Row(balance=942), Row(balance=2352), Row(balance=288), Row(balance=1672), Row(balance=2952), Row(balance=1201), Row(balance=55), Row(balance=1464), Row(balance=2788), Row(balance=1538), Row(balance=373), Row(balance=4562), Row(balance=943), Row(balance=544), Row(balance=922), Row(balance=614), Row(balance=390), Row(balance=1289), Row(balance=492), Row(balance=3864), Row(balance=664), Row(balance=-156), Row(balance=280), Row(balance=1387), Row(balance=3630), Row(balance=322), Row(balance=893), Row(balance=1584), Row(balance=1102), Row(balance=2002), Row(balance=668), Row(balance=62), Row(balance=658), Row(balance=3400), Row(balance=512), Row(balance=2640), Row(balance=1506), Row(balance=8), Row(balance=1853), Row(balance=10541), Row(balance=2532), Row(balance=334), Row(balance=1245), Row(balance=182), Row(balance=4889), Row(balance=4457), Row(balance=1058), Row(balance=1120), Row(balance=1664), Row(balance=12857), Row(balance=2539), Row(balance=2143), Row(balance=4182), Row(balance=14533), Row(balance=1355), Row(balance=3334), Row(balance=5561), Row(balance=4047), Row(balance=4118), Row(balance=7019), Row(balance=2671), Row(balance=1113), Row(balance=2817), Row(balance=4468), Row(balance=1707), Row(balance=710), Row(balance=331), Row(balance=1982), Row(balance=1468), Row(balance=3027), Row(balance=1619), Row(balance=3109), Row(balance=3411), Row(balance=1522), Row(balance=1818), Row(balance=4071), Row(balance=1154), Row(balance=3611), Row(balance=772), Row(balance=2965), Row(balance=792), Row(balance=480), Row(balance=-468), Row(balance=2054), Row(balance=2766), Row(balance=171), Row(balance=5437), Row(balance=906), Row(balance=2304), Row(balance=747), Row(balance=631), Row(balance=3837), Row(balance=49), Row(balance=437), Row(balance=1423), Row(balance=775), Row(balance=1091), Row(balance=514), Row(balance=1341), Row(balance=803), Row(balance=1291), Row(balance=2044), Row(balance=2734), Row(balance=6574), Row(balance=11), Row(balance=4922), Row(balance=6181), Row(balance=290), Row(balance=12356), Row(balance=716), Row(balance=639), Row(balance=1248), Row(balance=1080), Row(balance=560), Row(balance=1125), Row(balance=1801), Row(balance=35), Row(balance=3020), Row(balance=2104), Row(balance=1035), Row(balance=1138), Row(balance=5303), Row(balance=5037), Row(balance=507), Row(balance=3203), Row(balance=-1944), Row(balance=-54), Row(balance=1034), Row(balance=27696), Row(balance=371), Row(balance=3810), Row(balance=1393), Row(balance=2904), Row(balance=260), Row(balance=740), Row(balance=801), Row(balance=2089), Row(balance=4979), Row(balance=1167), Row(balance=7766), Row(balance=3255), Row(balance=2129), Row(balance=166), Row(balance=4718), Row(balance=13711), Row(balance=7433), Row(balance=3674), Row(balance=622), Row(balance=1679), Row(balance=807), Row(balance=1533), Row(balance=8556), Row(balance=80), Row(balance=774), Row(balance=1490), Row(balance=785), Row(balance=-754), Row(balance=-87), Row(balance=3727), Row(balance=327), Row(balance=-4), Row(balance=-824), Row(balance=380), Row(balance=2845), Row(balance=400), Row(balance=3370), Row(balance=829), Row(balance=1235), Row(balance=4775), Row(balance=2693), Row(balance=3160), Row(balance=2896), Row(balance=321), Row(balance=18188), Row(balance=1179), Row(balance=5047), Row(balance=199), Row(balance=1364), Row(balance=-144), Row(balance=2442), Row(balance=1337), Row(balance=477), Row(balance=3342), Row(balance=1727), Row(balance=3426), Row(balance=8648), Row(balance=2), Row(balance=465), Row(balance=518), Row(balance=6657), Row(balance=36252), Row(balance=2145), Row(balance=2144), Row(balance=3576), Row(balance=4721), Row(balance=6748), Row(balance=1379), Row(balance=1954), Row(balance=66), Row(balance=432), Row(balance=11174), Row(balance=-53), Row(balance=265), Row(balance=154), Row(balance=3082), Row(balance=4572), Row(balance=2331), Row(balance=5021), Row(balance=2283), Row(balance=1031), Row(balance=1303), Row(balance=2067), Row(balance=2984), Row(balance=10685), Row(balance=520), Row(balance=1306), Row(balance=508), Row(balance=657), Row(balance=1593), Row(balance=-78), Row(balance=244), Row(balance=162), Row(balance=5254), Row(balance=5115), Row(balance=1709), Row(balance=344), Row(balance=615), Row(balance=689), Row(balance=4945), Row(balance=1699), Row(balance=1234), Row(balance=869), Row(balance=3550), Row(balance=4688), Row(balance=553), Row(balance=1515), Row(balance=428), Row(balance=1933), Row(balance=9962), Row(balance=4060), Row(balance=1438), Row(balance=12067), Row(balance=2038), Row(balance=4012), Row(balance=23076), Row(balance=-34), Row(balance=164), Row(balance=503), Row(balance=3929), Row(balance=1076), Row(balance=1528), Row(balance=3993), Row(balance=24277), Row(balance=2733), Row(balance=605), Row(balance=1082), Row(balance=2956), Row(balance=11887), Row(balance=495), Row(balance=1720), Row(balance=360), Row(balance=6188), Row(balance=7103), Row(balance=1596), Row(balance=-203), Row(balance=536), Row(balance=2843), Row(balance=2957), Row(balance=8029), Row(balance=732), Row(balance=134), Row(balance=329), Row(balance=1081), Row(balance=2816), Row(balance=2160), Row(balance=2913), Row(balance=1859), Row(balance=11835), Row(balance=245), Row(balance=2910), Row(balance=3278), Row(balance=1315), Row(balance=1097), Row(balance=1027), Row(balance=634), Row(balance=422), Row(balance=8603), Row(balance=3840), Row(balance=2601), Row(balance=2155), Row(balance=2039), Row(balance=4438), Row(balance=102), Row(balance=426), Row(balance=76), Row(balance=2374), Row(balance=175), Row(balance=1784), Row(balance=1204), Row(balance=1825), Row(balance=3337), Row(balance=26965), Row(balance=606), Row(balance=565), Row(balance=2303), Row(balance=6016), Row(balance=7613), Row(balance=4596), Row(balance=1973), Row(balance=991), Row(balance=-40), Row(balance=2467), Row(balance=914), Row(balance=4243), Row(balance=7180), Row(balance=506), Row(balance=2329), Row(balance=3068), Row(balance=5461), Row(balance=2557), Row(balance=9480), Row(balance=684), Row(balance=827), Row(balance=745), Row(balance=-519), Row(balance=4), Row(balance=92), Row(balance=163), Row(balance=-241), Row(balance=230), Row(balance=391), Row(balance=5639), Row(balance=1088), Row(balance=1714), Row(balance=549), Row(balance=898), Row(balance=-443), Row(balance=1980), Row(balance=2986), Row(balance=4675), Row(balance=2838), Row(balance=1957), Row(balance=1188), Row(balance=2538), Row(balance=1221), Row(balance=899), Row(balance=1317), Row(balance=1568), Row(balance=810), Row(balance=930), Row(balance=842), Row(balance=2540), Row(balance=4328), Row(balance=3230), Row(balance=1962), Row(balance=308), Row(balance=4216), Row(balance=-405), Row(balance=118), Row(balance=524), Row(balance=3950), Row(balance=-452), Row(balance=1872), Row(balance=805), Row(balance=763), Row(balance=1681), Row(balance=3949), Row(balance=1380), Row(balance=687), Row(balance=568), Row(balance=13), Row(balance=765), Row(balance=916), Row(balance=5313), Row(balance=3654), Row(balance=3856), Row(balance=272), Row(balance=1788), Row(balance=305), Row(balance=4297), Row(balance=1600), Row(balance=2917), Row(balance=75), Row(balance=36), Row(balance=603), Row(balance=2678), Row(balance=2252), Row(balance=302), Row(balance=12972), Row(balance=7529), Row(balance=722), Row(balance=8103), Row(balance=3738), Row(balance=4930), Row(balance=2633), Row(balance=10180), Row(balance=9601), Row(balance=172), Row(balance=613), Row(balance=10596), Row(balance=22867), Row(balance=3026), Row(balance=-675), Row(balance=408), Row(balance=314), Row(balance=1173), Row(balance=1101), Row(balance=1275), Row(balance=924), Row(balance=78), Row(balance=4963), Row(balance=2776), Row(balance=973), Row(balance=1978), Row(balance=2046), Row(balance=6551), Row(balance=-236), Row(balance=10250), Row(balance=-487), Row(balance=780), Row(balance=10583), Row(balance=5584), Row(balance=579), Row(balance=3472), Row(balance=1519), Row(balance=1020), Row(balance=3585), Row(balance=4536), Row(balance=5810), Row(balance=-253), Row(balance=955), Row(balance=-32), Row(balance=6036), Row(balance=2469), Row(balance=2093), Row(balance=2230), Row(balance=2343), Row(balance=125), Row(balance=410), Row(balance=-713), Row(balance=679), Row(balance=1613), Row(balance=1995), Row(balance=3511), Row(balance=18), Row(balance=3271), Row(balance=533), Row(balance=140), Row(balance=2139), Row(balance=1015), Row(balance=1416), Row(balance=6046), Row(balance=4803), Row(balance=1830), Row(balance=2946), Row(balance=5112), Row(balance=4613), Row(balance=298), Row(balance=983), Row(balance=-189), Row(balance=289), Row(balance=1541), Row(balance=1129), Row(balance=5990), Row(balance=607), Row(balance=2600), Row(balance=2109), Row(balance=3138), Row(balance=-370), Row(balance=2290), Row(balance=2823), Row(balance=10185), Row(balance=670), Row(balance=1070), Row(balance=3221), Row(balance=-51), Row(balance=4744), Row(balance=3512), Row(balance=-627), Row(balance=1628), Row(balance=1938), Row(balance=1575), Row(balance=1646), Row(balance=69), Row(balance=1086), Row(balance=1750), Row(balance=475), Row(balance=1791), Row(balance=-157), Row(balance=5539), Row(balance=12018), Row(balance=860), Row(balance=1162), Row(balance=6993), Row(balance=3676), Row(balance=14), Row(balance=1318), Row(balance=681), Row(balance=1123), Row(balance=1014), Row(balance=594), Row(balance=4844), Row(balance=2166), Row(balance=3527), Row(balance=-779), Row(balance=10925), Row(balance=733), Row(balance=1649), Row(balance=935), Row(balance=2081), Row(balance=4266), Row(balance=216), Row(balance=2686), Row(balance=1304), Row(balance=5389), Row(balance=5514), Row(balance=4119), Row(balance=840), Row(balance=1109), Row(balance=1170), Row(balance=864), Row(balance=12198), Row(balance=2074), Row(balance=1311), Row(balance=598), Row(balance=3126), Row(balance=6403), Row(balance=2689), Row(balance=-274), Row(balance=2725), Row(balance=286), Row(balance=791), Row(balance=1223), Row(balance=23878), Row(balance=-361), Row(balance=1974), Row(balance=583), Row(balance=2391), Row(balance=5320), Row(balance=173), Row(balance=5060), Row(balance=2103), Row(balance=4004), Row(balance=2974), Row(balance=194), Row(balance=505), Row(balance=137), Row(balance=1633), Row(balance=2311), Row(balance=135), Row(balance=2271), Row(balance=3881), Row(balance=238), Row(balance=-130), Row(balance=881), Row(balance=547), Row(balance=8000), Row(balance=2907), Row(balance=877), Row(balance=21), Row(balance=2729), Row(balance=2599), Row(balance=2187), Row(balance=-578), Row(balance=2337), Row(balance=-449), Row(balance=1177), Row(balance=701), Row(balance=1767), Row(balance=5958), Row(balance=1216), Row(balance=1298), Row(balance=3904), Row(balance=1946), Row(balance=-930), Row(balance=122), Row(balance=620), Row(balance=59), Row(balance=372), Row(balance=129), Row(balance=1144), Row(balance=7968), Row(balance=6791), Row(balance=12569), Row(balance=542), Row(balance=1413), Row(balance=759), Row(balance=5291), Row(balance=335), Row(balance=1981), Row(balance=651), Row(balance=8163), Row(balance=10613), Row(balance=1401), Row(balance=3340), Row(balance=1093), Row(balance=2411), Row(balance=81204), Row(balance=1352), Row(balance=3254), Row(balance=2948), Row(balance=313), Row(balance=1996), Row(balance=493), Row(balance=985), Row(balance=393), Row(balance=2847), Row(balance=2454), Row(balance=4807), Row(balance=9299), Row(balance=1030), Row(balance=2736), Row(balance=-22), Row(balance=223), Row(balance=3316), Row(balance=81), Row(balance=2483), Row(balance=165), Row(balance=15), Row(balance=315), Row(balance=878), Row(balance=6538), Row(balance=1579), Row(balance=1796), Row(balance=1320), Row(balance=811), Row(balance=180), Row(balance=195), Row(balance=438), Row(balance=436), Row(balance=3047), Row(balance=82), Row(balance=695), Row(balance=9103), Row(balance=2589), Row(balance=523), Row(balance=-3058), Row(balance=1780), Row(balance=1396), Row(balance=38), Row(balance=1871), Row(balance=6991), Row(balance=97), Row(balance=351), Row(balance=663), Row(balance=470), Row(balance=133), Row(balance=2785), Row(balance=5474), Row(balance=723), Row(balance=980), Row(balance=-69), Row(balance=1382), Row(balance=30), Row(balance=151), Row(balance=895), Row(balance=42), Row(balance=73), Row(balance=11385), Row(balance=1180), Row(balance=6368), Row(balance=582), Row(balance=7331), Row(balance=2161), Row(balance=401), Row(balance=8165), Row(balance=45248), Row(balance=1028), Row(balance=5724), Row(balance=3466), Row(balance=256), Row(balance=3490), Row(balance=90), Row(balance=159), Row(balance=1852), Row(balance=1276), Row(balance=4041), Row(balance=3450), Row(balance=2679), Row(balance=685), Row(balance=425), Row(balance=7561), Row(balance=312), Row(balance=1377), Row(balance=1104), Row(balance=9827), Row(balance=1614), Row(balance=5041), Row(balance=6888), Row(balance=445), Row(balance=643), Row(balance=3792), Row(balance=338), Row(balance=1193), Row(balance=8332), Row(balance=771), Row(balance=2976), Row(balance=812), Row(balance=597), Row(balance=2657), Row(balance=8345), Row(balance=297), Row(balance=674), Row(balance=5310), Row(balance=1965), Row(balance=764), Row(balance=5028), Row(balance=7192), Row(balance=1868), Row(balance=783), Row(balance=117), Row(balance=291), Row(balance=-811), Row(balance=23), Row(balance=22086), Row(balance=7443), Row(balance=1961), Row(balance=1229), Row(balance=7459), Row(balance=2421), Row(balance=-399), Row(balance=-416), Row(balance=121), Row(balance=-308), Row(balance=2465), Row(balance=824), Row(balance=-9), Row(balance=409), Row(balance=217), Row(balance=46), Row(balance=3434), Row(balance=4099), Row(balance=2614), Row(balance=284), Row(balance=-42), Row(balance=1841), Row(balance=1660), Row(balance=4017), Row(balance=494), Row(balance=358), Row(balance=1414), Row(balance=7554), Row(balance=2781), Row(balance=1759), Row(balance=7138), Row(balance=20), Row(balance=5359), Row(balance=479), Row(balance=70), Row(balance=10884), Row(balance=7105), Row(balance=1215), Row(balance=2340), Row(balance=300), Row(balance=3354), Row(balance=1004), Row(balance=-92), Row(balance=-375), Row(balance=781), Row(balance=616), Row(balance=4987), Row(balance=2645), Row(balance=12980), Row(balance=1168), Row(balance=1133), Row(balance=1618), Row(balance=1713), Row(balance=6281), Row(balance=99), Row(balance=976), Row(balance=1792), Row(balance=2284), Row(balance=676), Row(balance=4420), Row(balance=7773), Row(balance=630), Row(balance=3286), Row(balance=937), Row(balance=1939), Row(balance=444), Row(balance=-639), Row(balance=2552), Row(balance=617), Row(balance=2094), Row(balance=1181), Row(balance=1989), Row(balance=799), Row(balance=510), Row(balance=-11), Row(balance=231), Row(balance=1140), Row(balance=9676), Row(balance=387), Row(balance=3842), Row(balance=13014), Row(balance=2398), Row(balance=6571), Row(balance=885), Row(balance=-291), Row(balance=-20), Row(balance=4692), Row(balance=86), Row(balance=5839), Row(balance=1610), Row(balance=354), Row(balance=1732), Row(balance=483), Row(balance=3401), Row(balance=4329), Row(balance=640), Row(balance=4031), Row(balance=109), Row(balance=6481), Row(balance=3648), Row(balance=3982), Row(balance=2152), Row(balance=-379), Row(balance=476), Row(balance=660), Row(balance=2326), Row(balance=802), Row(balance=2815), Row(balance=4855), Row(balance=3706), Row(balance=2892), Row(balance=2245), Row(balance=1006), Row(balance=3443), Row(balance=3186), Row(balance=832), Row(balance=1270), Row(balance=545), Row(balance=189), Row(balance=1904), Row(balance=1026), Row(balance=2032), Row(balance=2156), Row(balance=2345), Row(balance=3723), Row(balance=1094), Row(balance=60), Row(balance=1390), Row(balance=8491), Row(balance=5637), Row(balance=2138), Row(balance=2988), Row(balance=311), Row(balance=873), Row(balance=2313), Row(balance=-242), Row(balance=10052), Row(balance=1249), Row(balance=4333), Row(balance=1293), Row(balance=1411), Row(balance=534), Row(balance=1684), Row(balance=4984), Row(balance=2524), Row(balance=566), Row(balance=569), Row(balance=3154), Row(balance=2408), Row(balance=5511), Row(balance=93), Row(balance=40), Row(balance=366), Row(balance=707), Row(balance=-239), Row(balance=204), Row(balance=251), Row(balance=1183), Row(balance=666), Row(balance=-94), Row(balance=259), Row(balance=9367), Row(balance=2239), Row(balance=1644), Row(balance=4198), Row(balance=1477), Row(balance=2981), Row(balance=1616), Row(balance=4391), Row(balance=11862), Row(balance=285), Row(balance=3629), Row(balance=5774), Row(balance=282), Row(balance=1492), Row(balance=1742), Row(balance=1539), Row(balance=8990), Row(balance=1604), Row(balance=5090), Row(balance=908), Row(balance=1495), Row(balance=7506), Row(balance=7724), Row(balance=12039), Row(balance=147), Row(balance=-207), Row(balance=1184), Row(balance=183), Row(balance=522), Row(balance=1634), Row(balance=4570), Row(balance=725), Row(balance=3730), Row(balance=527), Row(balance=728), Row(balance=-254), Row(balance=7863), Row(balance=1049), Row(balance=2574), Row(balance=1032), Row(balance=571), Row(balance=5475), Row(balance=2889), Row(balance=3765), Row(balance=15459), Row(balance=1262), Row(balance=1165), Row(balance=3923), Row(balance=1521), Row(balance=240), Row(balance=-563), Row(balance=1003), Row(balance=2749), Row(balance=6005), Row(balance=10532), Row(balance=2048), Row(balance=3033), Row(balance=1057), Row(balance=2321), Row(balance=396), Row(balance=32685), Row(balance=-191), Row(balance=12956), Row(balance=16), Row(balance=64), Row(balance=18508), Row(balance=3123), Row(balance=-184), Row(balance=5205), Row(balance=3371), Row(balance=1708), Row(balance=1022), Row(balance=281), Row(balance=4499), Row(balance=698), Row(balance=2269), Row(balance=-29), Row(balance=336), Row(balance=3850), Row(balance=4745), Row(balance=839), Row(balance=416), Row(balance=152), Row(balance=11008), Row(balance=-277), Row(balance=267), Row(balance=9328), Row(balance=8180), Row(balance=317), Row(balance=91), Row(balance=11262), Row(balance=4787), Row(balance=-1), Row(balance=3301), Row(balance=2480), Row(balance=5603), Row(balance=808), Row(balance=757), Row(balance=2603), Row(balance=2991), Row(balance=398), Row(balance=261), Row(balance=2146), Row(balance=27624), Row(balance=2955), Row(balance=2427), Row(balance=4124), Row(balance=18111), Row(balance=949), Row(balance=625), Row(balance=1819), Row(balance=489), Row(balance=-67), Row(balance=2794), Row(balance=2626), Row(balance=4661), Row(balance=45), Row(balance=1443), Row(balance=619), Row(balance=3798), Row(balance=3176), Row(balance=394), Row(balance=3473), Row(balance=572), Row(balance=53), Row(balance=148), Row(balance=1159), Row(balance=484), Row(balance=47), Row(balance=3317), Row(balance=7560), Row(balance=2688), Row(balance=1384), Row(balance=14481), Row(balance=1243), Row(balance=751), Row(balance=5024), Row(balance=169), Row(balance=8866), Row(balance=1268), Row(balance=1286), Row(balance=2431), Row(balance=3743), Row(balance=786), Row(balance=2159), Row(balance=2801), Row(balance=-311), Row(balance=1033), Row(balance=1494), Row(balance=273), Row(balance=18016), Row(balance=4388), Row(balance=2587), Row(balance=1205), Row(balance=1105), Row(balance=1511), Row(balance=1854), Row(balance=24), Row(balance=4822), Row(balance=340), Row(balance=1836), Row(balance=456), Row(balance=5701), Row(balance=1214), Row(balance=2753), Row(balance=1147), Row(balance=2218), Row(balance=739), Row(balance=14646), Row(balance=1092), Row(balance=-395), Row(balance=526), Row(balance=-127), Row(balance=5447), Row(balance=469), Row(balance=1718), Row(balance=1843), Row(balance=4539), Row(balance=8304), Row(balance=3219), Row(balance=211), Row(balance=1587), Row(balance=3376), Row(balance=-250), Row(balance=964), Row(balance=1806), Row(balance=3091), Row(balance=-938), Row(balance=7747), Row(balance=-725), Row(balance=2173), Row(balance=418), Row(balance=13658), Row(balance=2895), Row(balance=-349), Row(balance=1409), Row(balance=-752), Row(balance=2994), Row(balance=-58), Row(balance=2570), Row(balance=66653), Row(balance=1127), Row(balance=29207), Row(balance=1463), Row(balance=1202), Row(balance=-302), Row(balance=2030), Row(balance=4519), Row(balance=2520), Row(balance=3120), Row(balance=1532), Row(balance=-261), Row(balance=1217), Row(balance=1951), Row(balance=6362), Row(balance=9051), Row(balance=4929), Row(balance=1537), Row(balance=1782), Row(balance=-159), Row(balance=1958), Row(balance=-193), Row(balance=287), Row(balance=2940), Row(balance=1336), Row(balance=2157), Row(balance=7867), Row(balance=847), Row(balance=1594), Row(balance=4872), Row(balance=1480), Row(balance=5888), Row(balance=3680), Row(balance=2583), Row(balance=3296), Row(balance=2088), Row(balance=9228), Row(balance=-666), Row(balance=299), Row(balance=1042), Row(balance=2400), Row(balance=2878), Row(balance=2403), Row(balance=7010), Row(balance=5172), Row(balance=2672), Row(balance=2278), Row(balance=11222), Row(balance=857), Row(balance=564), Row(balance=4798), Row(balance=2549), Row(balance=7408), Row(balance=6690), Row(balance=1526), Row(balance=530), Row(balance=-141), Row(balance=-1489), Row(balance=1157), Row(balance=1403), Row(balance=1428), Row(balance=427), Row(balance=8319), Row(balance=1972), Row(balance=-60), Row(balance=-488), Row(balance=-972), Row(balance=4545), Row(balance=4482), Row(balance=4517), Row(balance=4819), Row(balance=5193), Row(balance=10655), Row(balance=-209), Row(balance=3240), Row(balance=9994), Row(balance=-25), Row(balance=2775), Row(balance=8267), Row(balance=1873), Row(balance=3311), Row(balance=-257), Row(balance=532), Row(balance=1887), Row(balance=4492), Row(balance=-718), Row(balance=3854), Row(balance=2158), Row(balance=3495), Row(balance=7845), Row(balance=1471), Row(balance=3031), Row(balance=-410), Row(balance=-448), Row(balance=-49), Row(balance=9447), Row(balance=2700), Row(balance=2854), Row(balance=693), Row(balance=-65), Row(balance=2116), Row(balance=5222), Row(balance=529), Row(balance=2497), Row(balance=5641), Row(balance=1591), Row(balance=8876), Row(balance=13901), Row(balance=4513), Row(balance=13818), Row(balance=-762), Row(balance=-185), Row(balance=570), Row(balance=2080), Row(balance=4358), Row(balance=9374), Row(balance=3396), Row(balance=2162), Row(balance=1038), Row(balance=1895), Row(balance=2764), Row(balance=6298), Row(balance=-79), Row(balance=3430), Row(balance=5809), Row(balance=3201), Row(balance=-444), Row(balance=-13), Row(balance=-221), Row(balance=-1701), Row(balance=3136), Row(balance=1343), Row(balance=1969), Row(balance=1212), Row(balance=9192), Row(balance=-116), Row(balance=1846), Row(balance=2593), Row(balance=2596), Row(balance=3196), Row(balance=629), Row(balance=737), Row(balance=11254), Row(balance=4178), Row(balance=3410), Row(balance=8564), Row(balance=3105), Row(balance=1728), Row(balance=2982), Row(balance=1002), Row(balance=3918), Row(balance=-26), Row(balance=-204), Row(balance=1571), Row(balance=34230), Row(balance=22815), Row(balance=1710), Row(balance=16397), Row(balance=4319), Row(balance=1025), Row(balance=8494), Row(balance=3390), Row(balance=2404), Row(balance=1256), Row(balance=1283), Row(balance=1549), Row(balance=1937), Row(balance=1128), Row(balance=4095), Row(balance=5276), Row(balance=420), Row(balance=-360), Row(balance=4574), Row(balance=-391), Row(balance=2995), Row(balance=2289), Row(balance=1924), Row(balance=5735), Row(balance=2276), Row(balance=-154), Row(balance=3067), Row(balance=6971), Row(balance=4128), Row(balance=2908), Row(balance=2894), Row(balance=3570), Row(balance=6766), Row(balance=958), Row(balance=7426), Row(balance=4293), Row(balance=6337), Row(balance=3955), Row(balance=20723), Row(balance=1434), Row(balance=516), Row(balance=5127), Row(balance=2137), Row(balance=1440), Row(balance=6839), Row(balance=2923), Row(balance=450), Row(balance=894), Row(balance=2113), Row(balance=1513), Row(balance=6637), Row(balance=5154), Row(balance=1918), Row(balance=-384), Row(balance=19343), Row(balance=-50), Row(balance=-337), Row(balance=2806), Row(balance=12223), Row(balance=402), Row(balance=1141), Row(balance=4324), Row(balance=2185), Row(balance=1252), Row(balance=7264), Row(balance=7816), Row(balance=4150), Row(balance=-663), Row(balance=5244), Row(balance=37127), Row(balance=-805), Row(balance=1282), Row(balance=5801), Row(balance=7984), Row(balance=773), Row(balance=6332), Row(balance=1945), Row(balance=966), Row(balance=3050), Row(balance=1850), Row(balance=2499), Row(balance=5260), Row(balance=2996), Row(balance=2348), Row(balance=7051), Row(balance=51439), Row(balance=1602), Row(balance=4062), Row(balance=2356), Row(balance=3986), Row(balance=1530), Row(balance=1299), Row(balance=3431), Row(balance=-246), Row(balance=-98), Row(balance=2110), Row(balance=2708), Row(balance=-330), Row(balance=2478), Row(balance=-295), Row(balance=-235), Row(balance=-770), Row(balance=3834), Row(balance=2550), Row(balance=-388), Row(balance=1021), Row(balance=8097), Row(balance=-516), Row(balance=3818), Row(balance=1897), Row(balance=2059), Row(balance=1048), Row(balance=5249), Row(balance=17672), Row(balance=2261), Row(balance=20806), Row(balance=586), Row(balance=-581), Row(balance=9072), Row(balance=-15), Row(balance=2501), Row(balance=13849), Row(balance=3262), Row(balance=-289), Row(balance=-749), Row(balance=686), Row(balance=-112), Row(balance=1737), Row(balance=1016), Row(balance=-284), Row(balance=-575), Row(balance=2715), Row(balance=4903), Row(balance=6445), Row(balance=2176), Row(balance=2924), Row(balance=4592), Row(balance=3098), Row(balance=5122), Row(balance=12159), Row(balance=-325), Row(balance=4335), Row(balance=-513), Row(balance=1395), Row(balance=-227), Row(balance=-194), Row(balance=3794), Row(balance=25290), Row(balance=-202), Row(balance=3195), Row(balance=3914), Row(balance=790), Row(balance=2555), Row(balance=642), Row(balance=3884), Row(balance=4515), Row(balance=365), Row(balance=-346), Row(balance=5083), Row(balance=-45), Row(balance=2458), Row(balance=7641), Row(balance=3534), Row(balance=-1139), Row(balance=342), Row(balance=713), Row(balance=2394), Row(balance=2573), Row(balance=7102), Row(balance=20011), Row(balance=2362), Row(balance=-181), Row(balance=1098), Row(balance=5746), Row(balance=-633), Row(balance=8725), Row(balance=10465), Row(balance=8121), Row(balance=-104), Row(balance=2291), Row(balance=9326), Row(balance=1862), Row(balance=1150), Row(balance=1898), Row(balance=5737), Row(balance=2879), Row(balance=968), Row(balance=744), Row(balance=789), Row(balance=-1415), Row(balance=1675), Row(balance=1476), Row(balance=4053), Row(balance=7831), Row(balance=554), Row(balance=-96), Row(balance=4660), Row(balance=407), Row(balance=5943), Row(balance=-601), Row(balance=-398), Row(balance=1516), Row(balance=2170), Row(balance=933), Row(balance=2920), Row(balance=10218), Row(balance=1267), Row(balance=2741), Row(balance=-1531), Row(balance=3261), Row(balance=2743), Row(balance=1164), Row(balance=702), Row(balance=4331), Row(balance=2420), Row(balance=8023), Row(balance=610), Row(balance=-861), Row(balance=3870), Row(balance=1437), Row(balance=8514), Row(balance=1426), Row(balance=574), Row(balance=3658), Row(balance=1800), Row(balance=-435), Row(balance=1545), Row(balance=31868), Row(balance=546), Row(balance=1328), Row(balance=3558), Row(balance=5521), Row(balance=8422), Row(balance=577), Row(balance=-47), Row(balance=1103), Row(balance=585), Row(balance=5231), Row(balance=6217), Row(balance=3646), Row(balance=-245), Row(balance=6212), Row(balance=-396), Row(balance=3238), Row(balance=946), Row(balance=4840), Row(balance=1821), Row(balance=-509), Row(balance=2579), Row(balance=1342), Row(balance=-372), Row(balance=1453), Row(balance=1060), Row(balance=-473), Row(balance=-82), Row(balance=5879), Row(balance=4910), Row(balance=738), Row(balance=-700), Row(balance=6691), Row(balance=20718), Row(balance=-1053), Row(balance=-320), Row(balance=-16), Row(balance=3756), Row(balance=2572), Row(balance=3137), Row(balance=3549), Row(balance=-55), Row(balance=1770), Row(balance=1121), Row(balance=430), Row(balance=-412), Row(balance=3868), Row(balance=29184), Row(balance=14522), Row(balance=5827), Row(balance=6836), Row(balance=-365), Row(balance=907), Row(balance=3953), Row(balance=1114), Row(balance=499), Row(balance=1689), Row(balance=2556), Row(balance=-238), Row(balance=1473), Row(balance=1716), Row(balance=1673), Row(balance=248), Row(balance=28), Row(balance=2769), Row(balance=-183), Row(balance=3163), Row(balance=2460), Row(balance=-423), Row(balance=2496), Row(balance=-164), Row(balance=511), Row(balance=3309), Row(balance=3740), Row(balance=1683), Row(balance=5969), Row(balance=833), Row(balance=865), Row(balance=3776), Row(balance=813), Row(balance=-1965), Row(balance=2234), Row(balance=928), Row(balance=8982), Row(balance=3331), Row(balance=23592), Row(balance=900), Row(balance=3247), Row(balance=4522), Row(balance=1597), Row(balance=1884), Row(balance=2628), Row(balance=2876), Row(balance=2079), Row(balance=1875), Row(balance=1909), Row(balance=4722), Row(balance=5559), Row(balance=2242), Row(balance=-110), Row(balance=2819), Row(balance=-1636), Row(balance=3984), Row(balance=4790), Row(balance=4726), Row(balance=1953), Row(balance=2925), Row(balance=6507), Row(balance=1717), Row(balance=1218), Row(balance=1741), Row(balance=743), Row(balance=1685), Row(balance=2413), Row(balance=-262), Row(balance=8837), Row(balance=3150), Row(balance=2050), Row(balance=5366), Row(balance=1790), Row(balance=-2), Row(balance=1838), Row(balance=7503), Row(balance=1582), Row(balance=6714), Row(balance=9713), Row(balance=3060), Row(balance=13054), Row(balance=-173), Row(balance=4582), Row(balance=1054), Row(balance=1151), Row(balance=5571), Row(balance=-505), Row(balance=10269), Row(balance=1894), Row(balance=1436), Row(balance=10721), Row(balance=6542), Row(balance=7132), Row(balance=-151), Row(balance=449), Row(balance=3038), Row(balance=3131), Row(balance=1373), Row(balance=3643), Row(balance=3571), Row(balance=9710), Row(balance=818), Row(balance=748), Row(balance=8403), Row(balance=500), Row(balance=5299), Row(balance=485), Row(balance=1433), Row(balance=-131), Row(balance=12848), Row(balance=2830), Row(balance=3992), Row(balance=1498), Row(balance=2891), Row(balance=3151), Row(balance=3364), Row(balance=-414), Row(balance=2369), Row(balance=3517), Row(balance=5215), Row(balance=3954), Row(balance=-240), Row(balance=-547), Row(balance=2662), Row(balance=1566), Row(balance=2305), Row(balance=-745), Row(balance=1487), Row(balance=-759), Row(balance=1944), Row(balance=7668), Row(balance=923), Row(balance=1928), Row(balance=2036), Row(balance=-140), Row(balance=784), Row(balance=741), Row(balance=8486), Row(balance=1449), Row(balance=-218), Row(balance=1322), Row(balance=4168), Row(balance=1239), Row(balance=13156), Row(balance=-383), Row(balance=-177), Row(balance=838), Row(balance=2064), Row(balance=-287), Row(balance=1744), Row(balance=1310), Row(balance=7934), Row(balance=1556), Row(balance=2805), Row(balance=735), Row(balance=13342), Row(balance=2951), Row(balance=-84), Row(balance=3770), Row(balance=-28), Row(balance=12276), Row(balance=903), Row(balance=-124), Row(balance=-803), Row(balance=5807), Row(balance=177), Row(balance=5271), Row(balance=1734), Row(balance=3165), Row(balance=3885), Row(balance=4576), Row(balance=797), Row(balance=-81), Row(balance=1764), Row(balance=3428), Row(balance=-294), Row(balance=950), Row(balance=4622), Row(balance=1558), Row(balance=5010), Row(balance=2298), Row(balance=3178), Row(balance=-160), Row(balance=2163), Row(balance=1222), Row(balance=24450), Row(balance=1023), Row(balance=441), Row(balance=11494), Row(balance=3685), Row(balance=4982), Row(balance=7296), Row(balance=2315), Row(balance=4382), Row(balance=-367), Row(balance=3323), Row(balance=6981), Row(balance=2405), Row(balance=-755), Row(balance=467), Row(balance=1617), Row(balance=5916), Row(balance=-269), Row(balance=9214), Row(balance=5956), Row(balance=3717), Row(balance=4013), Row(balance=-614), Row(balance=1172), Row(balance=-389), Row(balance=9916), Row(balance=2410), Row(balance=5426), Row(balance=18558), Row(balance=2452), Row(balance=2070), Row(balance=1079), Row(balance=2487), Row(balance=2547), Row(balance=1068), Row(balance=2443), Row(balance=-934), Row(balance=2768), Row(balance=2813), Row(balance=683), Row(balance=1007), Row(balance=3782), Row(balance=345), Row(balance=1357), Row(balance=1410), Row(balance=2642), Row(balance=2674), Row(balance=8784), Row(balance=5828), Row(balance=-321), Row(balance=-38), Row(balance=-470), Row(balance=2195), Row(balance=559), Row(balance=2199), Row(balance=4976), Row(balance=1577), Row(balance=1866), Row(balance=5553), Row(balance=4312), Row(balance=9324), Row(balance=3016), Row(balance=4040), Row(balance=-548), Row(balance=-199), Row(balance=795), Row(balance=3598), Row(balance=220), Row(balance=-6), Row(balance=1856), Row(balance=4645), Row(balance=1842), Row(balance=3419), Row(balance=-436), Row(balance=8379), Row(balance=688), Row(balance=1813), Row(balance=2312), Row(balance=8785), Row(balance=17361), Row(balance=-222), Row(balance=9317), Row(balance=5781), Row(balance=-57), Row(balance=777), Row(balance=3932), Row(balance=4025), Row(balance=4253), Row(balance=1432), Row(balance=7602), Row(balance=5914), Row(balance=16992), Row(balance=4969), Row(balance=-482), Row(balance=573), Row(balance=1264), Row(balance=3503), Row(balance=21614), Row(balance=3967), Row(balance=7811), Row(balance=-1137), Row(balance=-1451), Row(balance=5091), Row(balance=1984), Row(balance=841), Row(balance=1153), Row(balance=2880), Row(balance=5214), Row(balance=4381), Row(balance=-68), Row(balance=628), Row(balance=4594), Row(balance=2406), Row(balance=-720), Row(balance=-971), Row(balance=-910), Row(balance=1340), Row(balance=1743), Row(balance=-208), Row(balance=6134), Row(balance=7752), Row(balance=1631), Row(balance=1254), Row(balance=6227), Row(balance=2047), Row(balance=6739), Row(balance=1682), Row(balance=-344), Row(balance=2605), Row(balance=5547), Row(balance=4305), Row(balance=3817), Row(balance=1900), Row(balance=435), Row(balance=4695), Row(balance=6374), Row(balance=4374), Row(balance=-1386), Row(balance=-331), Row(balance=-616), Row(balance=2669), Row(balance=-426), Row(balance=8919), Row(balance=5261), Row(balance=4471), Row(balance=5016), Row(balance=4314), Row(balance=7313), Row(balance=16786), Row(balance=2333), Row(balance=-600), Row(balance=-14), Row(balance=2323), Row(balance=2257), Row(balance=2251), Row(balance=-481), Row(balance=-44), Row(balance=3783), Row(balance=5050), Row(balance=-63), Row(balance=2003), Row(balance=-634), Row(balance=919), Row(balance=1466), Row(balance=10786), Row(balance=2571), Row(balance=14930), Row(balance=4577), Row(balance=2585), Row(balance=2440), Row(balance=4048), Row(balance=3185), Row(balance=10005), Row(balance=1296), Row(balance=3003), Row(balance=5223), Row(balance=5163), Row(balance=2565), Row(balance=4157), Row(balance=1397), Row(balance=2328), Row(balance=74), Row(balance=-671), Row(balance=10438), Row(balance=996), Row(balance=872), Row(balance=3086), Row(balance=-72), Row(balance=2911), Row(balance=4056), Row(balance=1143), Row(balance=1585), Row(balance=1261), Row(balance=2302), Row(balance=3702), Row(balance=1062), Row(balance=2990), Row(balance=23421), Row(balance=2682), Row(balance=4287), Row(balance=1758), Row(balance=9314), Row(balance=1345), Row(balance=186), Row(balance=1327), Row(balance=910), Row(balance=1096), Row(balance=3672), Row(balance=-187), Row(balance=1398), Row(balance=-328), Row(balance=3413), Row(balance=1655), Row(balance=9851), Row(balance=1166), Row(balance=1481), Row(balance=19358), Row(balance=1903), Row(balance=3117), Row(balance=3957), Row(balance=-37), Row(balance=-994), Row(balance=1510), Row(balance=1518), Row(balance=3572), Row(balance=2117), Row(balance=-2712), Row(balance=6242), Row(balance=-1050), Row(balance=2133), Row(balance=591), Row(balance=2578), Row(balance=4769), Row(balance=5092), Row(balance=2194), Row(balance=2591), Row(balance=2731), Row(balance=1496), Row(balance=-300), Row(balance=11431), Row(balance=2433), Row(balance=3014), Row(balance=5315), Row(balance=-479), Row(balance=2945), Row(balance=-329), Row(balance=2564), Row(balance=3228), Row(balance=-537), Row(balance=6904), Row(balance=-12), Row(balance=6958), Row(balance=1018), Row(balance=2058), Row(balance=2490), Row(balance=22755), Row(balance=753), Row(balance=468), Row(balance=1001), Row(balance=6116), Row(balance=1648), Row(balance=-105), Row(balance=-813), Row(balance=7378), Row(balance=-849), Row(balance=778), Row(balance=2417), Row(balance=3494), Row(balance=6200), Row(balance=2761), Row(balance=1402), Row(balance=3748), Row(balance=-880), Row(balance=15578), Row(balance=886), Row(balance=11265), Row(balance=750), Row(balance=-508), Row(balance=4751), Row(balance=5350), Row(balance=2344), Row(balance=1161), Row(balance=5432), Row(balance=1335), Row(balance=7735), Row(balance=-298), Row(balance=1966), Row(balance=7177), Row(balance=1653), Row(balance=269), Row(balance=7369), Row(balance=7336), Row(balance=4497), Row(balance=5563), Row(balance=-390), Row(balance=2457), Row(balance=-280), Row(balance=1063), Row(balance=-10), Row(balance=3079), Row(balance=1489), Row(balance=3695), Row(balance=967), Row(balance=2728), Row(balance=13774), Row(balance=2916), Row(balance=7876), Row(balance=1198), Row(balance=4556), Row(balance=-558), Row(balance=433), Row(balance=525), Row(balance=2744), Row(balance=4841), Row(balance=10984), Row(balance=931), Row(balance=6388), Row(balance=4943), Row(balance=1350), Row(balance=875), Row(balance=821), Row(balance=15474), Row(balance=6004), Row(balance=1301), Row(balance=-312), Row(balance=3531), Row(balance=-397), Row(balance=3578), Row(balance=6215), Row(balance=4037), Row(balance=-888), Row(balance=3551), Row(balance=2481), Row(balance=3499), Row(balance=6512), Row(balance=1356), Row(balance=2118), Row(balance=-565), Row(balance=176), Row(balance=3140), Row(balance=3773), Row(balance=4222), Row(balance=1611), Row(balance=504), Row(balance=1590), Row(balance=1626), Row(balance=1654), Row(balance=4130), Row(balance=3090), Row(balance=971), Row(balance=8226), Row(balance=-825), Row(balance=4279), Row(balance=2661), Row(balance=3214), Row(balance=4567), Row(balance=2422), Row(balance=-327), Row(balance=1386), Row(balance=3028), Row(balance=2607), Row(balance=2485), Row(balance=-102), Row(balance=6979), Row(balance=-378), Row(balance=1182), Row(balance=8669), Row(balance=5632), Row(balance=233), Row(balance=729), Row(balance=892), Row(balance=1823), Row(balance=1203), Row(balance=2220), Row(balance=1659), Row(balance=1670), Row(balance=-259), Row(balance=6835), Row(balance=2791), Row(balance=727), Row(balance=1753), Row(balance=4418), Row(balance=604), Row(balance=1847), Row(balance=6429), Row(balance=-150), Row(balance=1305), Row(balance=10787), Row(balance=2459), Row(balance=8590), Row(balance=-364), Row(balance=-577), Row(balance=-128), Row(balance=4110), Row(balance=21522), Row(balance=5953), Row(balance=1078), Row(balance=-273), Row(balance=3164), Row(balance=2225), Row(balance=1160), Row(balance=3395), Row(balance=3492), Row(balance=1861), Row(balance=2430), Row(balance=-301), Row(balance=2655), Row(balance=-2049), Row(balance=1272), Row(balance=2188), Row(balance=5769), Row(balance=9224), Row(balance=652), Row(balance=2836), Row(balance=6659), Row(balance=2200), Row(balance=2034), Row(balance=1667), Row(balance=4366), Row(balance=984), Row(balance=7162), Row(balance=7007), Row(balance=3350), Row(balance=9216), Row(balance=4568), Row(balance=4121), Row(balance=36935), Row(balance=1462), Row(balance=1324), Row(balance=8298), Row(balance=3851), Row(balance=-142), Row(balance=3168), Row(balance=8016), Row(balance=-283), Row(balance=1824), Row(balance=-461), Row(balance=672), Row(balance=3540), Row(balance=904), Row(balance=7780), Row(balance=4461), Row(balance=-243), Row(balance=3402), Row(balance=1661), Row(balance=8806), Row(balance=-165), Row(balance=9569), Row(balance=-456), Row(balance=-354), Row(balance=1156), Row(balance=1300), Row(balance=6570), Row(balance=6641), Row(balance=1601), Row(balance=-722), Row(balance=1499), Row(balance=-59), Row(balance=-126), Row(balance=1036), Row(balance=1148), Row(balance=-292), Row(balance=913), Row(balance=2019), Row(balance=2258), Row(balance=3874), Row(balance=2095), Row(balance=4527), Row(balance=1705), Row(balance=2500), Row(balance=-497), Row(balance=374), Row(balance=5435), Row(balance=12180), Row(balance=4564), Row(balance=8417), Row(balance=-588), Row(balance=-196), Row(balance=1509), Row(balance=-496), Row(balance=1554), Row(balance=5784), Row(balance=1865), Row(balance=25947), Row(balance=2780), Row(balance=-341), Row(balance=6014), Row(balance=1573), Row(balance=2834), Row(balance=-467), Row(balance=3768), Row(balance=767), Row(balance=1869), Row(balance=6102), Row(balance=-974), Row(balance=782), Row(balance=5312), Row(balance=1735), Row(balance=999), Row(balance=7100), Row(balance=1932), Row(balance=9301), Row(balance=4464), Row(balance=11854), Row(balance=7628), Row(balance=601), Row(balance=1563), Row(balance=626), Row(balance=3166), Row(balance=692), Row(balance=-353), Row(balance=-152), Row(balance=1914), Row(balance=3297), Row(balance=3839), Row(balance=2793), Row(balance=-475), Row(balance=1906), Row(balance=1724), Row(balance=-636), Row(balance=6699), Row(balance=-85), Row(balance=-120), Row(balance=2767), Row(balance=-498), Row(balance=7067), Row(balance=5381), Row(balance=12531), Row(balance=6307), Row(balance=56831), Row(balance=3064), Row(balance=-125), Row(balance=9645), Row(balance=1333), Row(balance=-338), Row(balance=3478), Row(balance=4367), Row(balance=7944), Row(balance=-288), Row(balance=13338), Row(balance=5700), Row(balance=-441), Row(balance=-848), Row(balance=5034), Row(balance=310), Row(balance=1385), Row(balance=4105), Row(balance=5731), Row(balance=1686), Row(balance=627), Row(balance=-155), Row(balance=11016), Row(balance=-336), Row(balance=-613), Row(balance=-738), Row(balance=-175), Row(balance=3975), Row(balance=1881), Row(balance=-553), Row(balance=3536), Row(balance=8585), Row(balance=1417), Row(balance=1992), Row(balance=5691), Row(balance=648), Row(balance=1457), Row(balance=1500), Row(balance=1220), Row(balance=350), Row(balance=609), Row(balance=-211), Row(balance=8918), Row(balance=472), Row(balance=15841), Row(balance=-451), Row(balance=-918), Row(balance=2597), Row(balance=4612), Row(balance=1630), Row(balance=24780), Row(balance=3310), Row(balance=9756), Row(balance=3876), Row(balance=708), Row(balance=1746), Row(balance=-43), Row(balance=5744), Row(balance=-132), Row(balance=3071), Row(balance=457), Row(balance=2770), Row(balance=5678), Row(balance=1797), Row(balance=23189), Row(balance=709), Row(balance=3107), Row(balance=690), Row(balance=4063), Row(balance=3335), Row(balance=851), Row(balance=6269), Row(balance=6525), Row(balance=18777), Row(balance=1389), Row(balance=6596), Row(balance=680), Row(balance=4709), Row(balance=2008), Row(balance=6798), Row(balance=4466), Row(balance=6831), Row(balance=2933), Row(balance=-143), Row(balance=1043), Row(balance=3104), Row(balance=2428), Row(balance=4793), Row(balance=-206), Row(balance=1019), Row(balance=3505), Row(balance=-2282), Row(balance=1285), Row(balance=10635), Row(balance=1943), Row(balance=7832), Row(balance=6432), Row(balance=2548), Row(balance=1008), Row(balance=19447), Row(balance=-56), Row(balance=-463), Row(balance=-326), Row(balance=3021), Row(balance=11528), Row(balance=-74), Row(balance=3461), Row(balance=2363), Row(balance=1525), Row(balance=4888), Row(balance=-258), Row(balance=-322), Row(balance=1459), Row(balance=848), Row(balance=1365), Row(balance=1901), Row(balance=1178), Row(balance=3304), Row(balance=-230), Row(balance=7649), Row(balance=6929), Row(balance=2937), Row(balance=1993), Row(balance=3579), Row(balance=4344), Row(balance=14144), Row(balance=4874), Row(balance=-234), Row(balance=2756), Row(balance=1349), Row(balance=3244), Row(balance=-93), Row(balance=2993), Row(balance=-314), Row(balance=2652), Row(balance=10378), Row(balance=2128), Row(balance=6718), Row(balance=2677), Row(balance=4054), Row(balance=-89), Row(balance=1313), Row(balance=-179), Row(balance=8044), Row(balance=4996), Row(balance=1131), Row(balance=1450), Row(balance=1637), Row(balance=2388), Row(balance=20928), Row(balance=918), Row(balance=4196), Row(balance=793), Row(balance=862), Row(balance=5423), Row(balance=5704), Row(balance=-134), Row(balance=4830), Row(balance=-782), Row(balance=4641), Row(balance=-529), Row(balance=-167), Row(balance=7687), Row(balance=2399), Row(balance=578), Row(balance=-6847), Row(balance=1195), Row(balance=5903), Row(balance=3157), Row(balance=1351), Row(balance=-201), Row(balance=3832), Row(balance=633), Row(balance=1111), Row(balance=-31), Row(balance=717), Row(balance=888), Row(balance=4707), Row(balance=1581), Row(balance=969), Row(balance=-249), Row(balance=1844), Row(balance=1503), Row(balance=2295), Row(balance=-637), Row(balance=1106), Row(balance=-232), Row(balance=1281), Row(balance=23495), Row(balance=2875), Row(balance=647), Row(balance=-978), Row(balance=2000), Row(balance=1139), Row(balance=5336), Row(balance=1294), Row(balance=1839), Row(balance=787), Row(balance=5252), Row(balance=887), Row(balance=4968), Row(balance=837), Row(balance=4920), Row(balance=-491), Row(balance=263), Row(balance=-422), Row(balance=2697), Row(balance=4299), Row(balance=1017), Row(balance=-66), Row(balance=4023), Row(balance=3100), Row(balance=10041), Row(balance=917), Row(balance=1442), Row(balance=612), Row(balance=-210), Row(balance=1039), Row(balance=2702), Row(balance=667), Row(balance=357), Row(balance=788), Row(balance=-100), Row(balance=-244), Row(balance=2060), Row(balance=4565), Row(balance=4696), Row(balance=5920), Row(balance=20772), Row(balance=584), Row(balance=6203), Row(balance=2595), Row(balance=1067), Row(balance=1929), Row(balance=2123), Row(balance=-76), Row(balance=2246), Row(balance=-80), Row(balance=13410), Row(balance=2213), Row(balance=2644), Row(balance=1851), Row(balance=-272), Row(balance=1755), Row(balance=972), Row(balance=1394), Row(balance=531), Row(balance=7298), Row(balance=1431), Row(balance=15341), Row(balance=-492), Row(balance=11219), Row(balance=3455), Row(balance=3560), Row(balance=758), Row(balance=6392), Row(balance=1467), Row(balance=3096), Row(balance=1158), Row(balance=3720), Row(balance=3872), Row(balance=4087), Row(balance=4264), Row(balance=458), Row(balance=1704), Row(balance=-139), Row(balance=4869), Row(balance=13578), Row(balance=4912), Row(balance=14850), Row(balance=2475), Row(balance=2800)]\n",
            "[Row(housing='no'), Row(housing='yes')]\n",
            "[Row(loan='no'), Row(loan='yes')]\n",
            "[Row(contact='unknown'), Row(contact='cellular'), Row(contact='telephone')]\n",
            "[Row(day=26), Row(day=29), Row(day=19), Row(day=22), Row(day=7), Row(day=31), Row(day=25), Row(day=6), Row(day=9), Row(day=27), Row(day=17), Row(day=28), Row(day=5), Row(day=1), Row(day=10), Row(day=3), Row(day=12), Row(day=8), Row(day=11), Row(day=2), Row(day=4), Row(day=13), Row(day=18), Row(day=14), Row(day=21), Row(day=15), Row(day=30), Row(day=23), Row(day=20), Row(day=16), Row(day=24)]\n",
            "[Row(month='jun'), Row(month='aug'), Row(month='may'), Row(month='feb'), Row(month='sep'), Row(month='mar'), Row(month='oct'), Row(month='jul'), Row(month='nov'), Row(month='apr'), Row(month='dec'), Row(month='jan')]\n",
            "[Row(duration=1697), Row(duration=1806), Row(duration=474), Row(duration=1677), Row(duration=541), Row(duration=1224), Row(duration=1360), Row(duration=418), Row(duration=1258), Row(duration=558), Row(duration=65), Row(duration=1277), Row(duration=191), Row(duration=1010), Row(duration=938), Row(duration=1409), Row(duration=730), Row(duration=1642), Row(duration=270), Row(duration=293), Row(duration=222), Row(duration=1127), Row(duration=2184), Row(duration=442), Row(duration=720), Row(duration=1175), Row(duration=278), Row(duration=367), Row(duration=1532), Row(duration=705), Row(duration=243), Row(duration=1463), Row(duration=1202), Row(duration=965), Row(duration=296), Row(duration=1217), Row(duration=926), Row(duration=1447), Row(duration=1336), Row(duration=1077), Row(duration=277), Row(duration=415), Row(duration=348), Row(duration=1594), Row(duration=287), Row(duration=847), Row(duration=1055), Row(duration=656), Row(duration=502), Row(duration=1042), Row(duration=1882), Row(duration=736), Row(duration=385), Row(duration=112), Row(duration=299), Row(duration=113), Row(duration=167), Row(duration=155), Row(duration=831), Row(duration=857), Row(duration=588), Row(duration=564), Row(duration=241), Row(duration=237), Row(duration=347), Row(duration=414), Row(duration=724), Row(duration=1211), Row(duration=1241), Row(duration=530), Row(duration=198), Row(duration=330), Row(duration=486), Row(duration=487), Row(duration=1152), Row(duration=823), Row(duration=1374), Row(duration=1059), Row(duration=427), Row(duration=130), Row(duration=196), Row(duration=677), Row(duration=2775), Row(duration=1353), Row(duration=858), Row(duration=1540), Row(duration=532), Row(duration=635), Row(duration=184), Row(duration=34), Row(duration=1041), Row(duration=853), Row(duration=939), Row(duration=551), Row(duration=463), Row(duration=1200), Row(duration=1471), Row(duration=830), Row(duration=1460), Row(duration=1319), Row(duration=3102), Row(duration=1329), Row(duration=1052), Row(duration=1199), Row(duration=693), Row(duration=399), Row(duration=188), Row(duration=1730), Row(duration=228), Row(duration=889), Row(duration=529), Row(duration=126), Row(duration=202), Row(duration=3076), Row(duration=274), Row(duration=844), Row(duration=998), Row(duration=406), Row(duration=262), Row(duration=325), Row(duration=624), Row(duration=691), Row(duration=570), Row(duration=1508), Row(duration=734), Row(duration=1776), Row(duration=1038), Row(duration=1174), Row(duration=149), Row(duration=421), Row(duration=94), Row(duration=1064), Row(duration=638), Row(duration=1210), Row(duration=961), Row(duration=600), Row(duration=1110), Row(duration=876), Row(duration=1789), Row(duration=264), Row(duration=1119), Row(duration=650), Row(duration=1343), Row(duration=1212), Row(duration=229), Row(duration=629), Row(duration=706), Row(duration=902), Row(duration=439), Row(duration=737), Row(duration=1598), Row(duration=190), Row(duration=343), Row(duration=110), Row(duration=275), Row(duration=513), Row(duration=828), Row(duration=1002), Row(duration=136), Row(duration=1407), Row(duration=412), Row(duration=963), Row(duration=388), Row(duration=144), Row(duration=1571), Row(duration=417), Row(duration=1025), Row(duration=1240), Row(duration=1051), Row(duration=555), Row(duration=1089), Row(duration=420), Row(duration=1134), Row(duration=696), Row(duration=1073), Row(duration=1550), Row(duration=378), Row(duration=84), Row(duration=1233), Row(duration=766), Row(duration=779), Row(duration=970), Row(duration=212), Row(duration=958), Row(duration=662), Row(duration=376), Row(duration=516), Row(duration=395), Row(duration=768), Row(duration=119), Row(duration=1420), Row(duration=974), Row(duration=1440), Row(duration=595), Row(duration=894), Row(duration=596), Row(duration=386), Row(duration=450), Row(duration=326), Row(duration=1461), Row(duration=1297), Row(duration=845), Row(duration=496), Row(duration=561), Row(duration=187), Row(duration=98), Row(duration=39), Row(duration=1141), Row(duration=990), Row(duration=402), Row(duration=232), Row(duration=201), Row(duration=1975), Row(duration=1405), Row(duration=1252), Row(duration=1269), Row(duration=962), Row(duration=773), Row(duration=1282), Row(duration=700), Row(duration=203), Row(duration=3183), Row(duration=1602), Row(duration=488), Row(duration=116), Row(duration=145), Row(duration=814), Row(duration=2653), Row(duration=2016), Row(duration=880), Row(duration=1472), Row(duration=25), Row(duration=1452), Row(duration=1330), Row(duration=157), Row(duration=1347), Row(duration=1048), Row(duration=843), Row(duration=1149), Row(duration=586), Row(duration=2621), Row(duration=1135), Row(duration=1441), Row(duration=363), Row(duration=181), Row(duration=124), Row(duration=1323), Row(duration=1777), Row(duration=686), Row(duration=1238), Row(duration=852), Row(duration=562), Row(duration=1553), Row(duration=1833), Row(duration=699), Row(duration=227), Row(duration=268), Row(duration=925), Row(duration=589), Row(duration=95), Row(duration=1246), Row(duration=1721), Row(duration=760), Row(duration=912), Row(duration=369), Row(duration=1395), Row(duration=455), Row(duration=413), Row(duration=915), Row(duration=820), Row(duration=704), Row(duration=642), Row(duration=621), Row(duration=703), Row(duration=370), Row(duration=71), Row(duration=143), Row(duration=790), Row(duration=1960), Row(duration=1669), Row(duration=193), Row(duration=161), Row(duration=443), Row(duration=365), Row(duration=1012), Row(duration=1242), Row(duration=342), Row(duration=466), Row(duration=713), Row(duration=756), Row(duration=215), Row(duration=87), Row(duration=1608), Row(duration=665), Row(duration=854), Row(duration=1098), Row(duration=320), Row(duration=1665), Row(duration=258), Row(duration=255), Row(duration=883), Row(duration=1259), Row(duration=882), Row(duration=3094), Row(duration=1150), Row(duration=424), Row(duration=221), Row(duration=266), Row(duration=271), Row(duration=107), Row(duration=997), Row(duration=1817), Row(duration=1124), Row(duration=920), Row(duration=897), Row(duration=789), Row(duration=968), Row(duration=316), Row(duration=744), Row(duration=407), Row(duration=554), Row(duration=856), Row(duration=754), Row(duration=158), Row(duration=796), Row(duration=63), Row(duration=397), Row(duration=389), Row(duration=447), Row(duration=1516), Row(duration=1531), Row(duration=959), Row(duration=1623), Row(duration=933), Row(duration=1164), Row(duration=178), Row(duration=353), Row(duration=2420), Row(duration=891), Row(duration=341), Row(duration=610), Row(duration=234), Row(duration=239), Row(duration=1437), Row(duration=574), Row(duration=1426), Row(duration=1545), Row(duration=279), Row(duration=3253), Row(duration=150), Row(duration=1514), Row(duration=608), Row(duration=1328), Row(duration=546), Row(duration=694), Row(duration=1307), Row(duration=146), Row(duration=346), Row(duration=1263), Row(duration=446), Row(duration=1236), Row(duration=577), Row(duration=585), Row(duration=459), Row(duration=861), Row(duration=1046), Row(duration=1103), Row(duration=712), Row(duration=946), Row(duration=174), Row(duration=825), Row(duration=1346), Row(duration=1060), Row(duration=1342), Row(duration=661), Row(duration=170), Row(duration=79), Row(duration=209), Row(duration=1484), Row(duration=675), Row(duration=738), Row(duration=253), Row(duration=236), Row(duration=103), Row(duration=1334), Row(duration=509), Row(duration=1250), Row(duration=276), Row(duration=592), Row(duration=139), Row(duration=1196), Row(duration=1190), Row(duration=246), Row(duration=430), Row(duration=1009), Row(duration=453), Row(duration=726), Row(duration=1121), Row(duration=226), Row(duration=242), Row(duration=817), Row(duration=977), Row(duration=1574), Row(duration=1689), Row(duration=1085), Row(duration=1473), Row(duration=499), Row(duration=907), Row(duration=208), Row(duration=2769), Row(duration=519), Row(duration=384), Row(duration=248), Row(duration=405), Row(duration=88), Row(duration=257), Row(duration=671), Row(duration=637), Row(duration=498), Row(duration=1321), Row(duration=1576), Row(duration=511), Row(duration=138), Row(duration=207), Row(duration=813), Row(duration=649), Row(duration=833), Row(duration=769), Row(duration=1206), Row(duration=235), Row(duration=1855), Row(duration=307), Row(duration=462), Row(duration=304), Row(duration=865), Row(duration=2456), Row(duration=434), Row(duration=599), Row(duration=114), Row(duration=714), Row(duration=1425), Row(duration=678), Row(duration=742), Row(duration=646), Row(duration=1363), Row(duration=794), Row(duration=900), Row(duration=1723), Row(duration=1597), Row(duration=896), Row(duration=539), Row(duration=901), Row(duration=404), Row(duration=1040), Row(duration=2062), Row(duration=319), Row(duration=718), Row(duration=1074), Row(duration=115), Row(duration=153), Row(duration=929), Row(duration=743), Row(duration=1136), Row(duration=96), Row(duration=377), Row(duration=859), Row(duration=250), Row(duration=1218), Row(duration=1257), Row(duration=1132), Row(duration=1560), Row(duration=1446), Row(duration=849), Row(duration=1130), Row(duration=1877), Row(duration=890), Row(duration=1126), Row(duration=1279), Row(duration=328), Row(duration=1469), Row(duration=1790), Row(duration=632), Row(duration=185), Row(duration=375), Row(duration=349), Row(duration=515), Row(duration=834), Row(duration=623), Row(duration=978), Row(duration=1151), Row(duration=1232), Row(duration=944), Row(duration=104), Row(duration=219), Row(duration=368), Row(duration=1075), Row(duration=1388), Row(duration=538), Row(duration=1622), Row(duration=719), Row(duration=1536), Row(duration=214), Row(duration=449), Row(duration=461), Row(duration=1024), Row(duration=2231), Row(duration=556), Row(duration=1208), Row(duration=1373), Row(duration=874), Row(duration=419), Row(duration=593), Row(duration=252), Row(duration=816), Row(duration=945), Row(duration=500), Row(duration=748), Row(duration=1037), Row(duration=836), Row(duration=120), Row(duration=423), Row(duration=485), Row(duration=1087), Row(duration=806), Row(duration=521), Row(duration=550), Row(duration=89), Row(duration=1045), Row(duration=644), Row(duration=361), Row(duration=537), Row(duration=870), Row(duration=501), Row(duration=452), Row(duration=364), Row(duration=923), Row(duration=741), Row(duration=1449), Row(duration=784), Row(duration=1000), Row(duration=490), Row(duration=871), Row(duration=1381), Row(duration=1543), Row(duration=356), Row(duration=403), Row(duration=911), Row(duration=1867), Row(duration=838), Row(duration=497), Row(duration=128), Row(duration=1112), Row(duration=464), Row(duration=697), Row(duration=1512), Row(duration=815), Row(duration=867), Row(duration=1456), Row(duration=735), Row(duration=1404), Row(duration=106), Row(duration=111), Row(duration=332), Row(duration=85), Row(duration=1556), Row(duration=1310), Row(duration=575), Row(duration=903), Row(duration=411), Row(duration=548), Row(duration=301), Row(duration=1231), Row(duration=177), Row(duration=1558), Row(duration=460), Row(duration=797), Row(duration=950), Row(duration=659), Row(duration=563), Row(duration=1023), Row(duration=448), Row(duration=1222), Row(duration=1237), Row(duration=441), Row(duration=179), Row(duration=306), Row(duration=557), Row(duration=1424), Row(duration=673), Row(duration=755), Row(duration=517), Row(duration=224), Row(duration=953), Row(duration=67), Row(duration=927), Row(duration=1187), Row(duration=761), Row(duration=481), Row(duration=749), Row(duration=168), Row(duration=142), Row(duration=324), Row(duration=254), Row(duration=1314), Row(duration=467), Row(duration=1617), Row(duration=528), Row(duration=100), Row(duration=247), Row(duration=992), Row(duration=850), Row(duration=1013), Row(duration=581), Row(duration=131), Row(duration=105), Row(duration=318), Row(duration=1970), Row(duration=654), Row(duration=993), Row(duration=294), Row(duration=800), Row(duration=1137), Row(duration=108), Row(duration=333), Row(duration=218), Row(duration=339), Row(duration=934), Row(duration=1068), Row(duration=804), Row(duration=540), Row(duration=1488), Row(duration=309), Row(duration=471), Row(duration=132), Row(duration=392), Row(duration=1332), Row(duration=611), Row(duration=683), Row(duration=552), Row(duration=746), Row(duration=1007), Row(duration=641), Row(duration=1011), Row(duration=1357), Row(duration=123), Row(duration=127), Row(duration=345), Row(duration=951), Row(duration=1410), Row(duration=1486), Row(duration=590), Row(duration=1255), Row(duration=1555), Row(duration=210), Row(duration=731), Row(duration=994), Row(duration=205), Row(duration=682), Row(duration=1663), Row(duration=981), Row(duration=352), Row(duration=559), Row(duration=323), Row(duration=1244), Row(duration=225), Row(duration=1084), Row(duration=688), Row(duration=795), Row(duration=762), Row(duration=381), Row(duration=819), Row(duration=383), Row(duration=1842), Row(duration=220), Row(duration=249), Row(duration=822), Row(duration=1309), Row(duration=61), Row(duration=303), Row(duration=1392), Row(duration=1207), Row(duration=777), Row(duration=940), Row(duration=988), Row(duration=379), Row(duration=1348), Row(duration=1005), Row(duration=535), Row(duration=567), Row(duration=580), Row(duration=653), Row(duration=454), Row(duration=473), Row(duration=921), Row(duration=337), Row(duration=1192), Row(duration=192), Row(duration=440), Row(duration=213), Row(duration=573), Row(duration=1153), Row(duration=1107), Row(duration=1122), Row(duration=841), Row(duration=156), Row(duration=1691), Row(duration=1340), Row(duration=636), Row(duration=587), Row(duration=846), Row(duration=429), Row(duration=628), Row(duration=941), Row(duration=957), Row(duration=160), Row(duration=283), Row(duration=715), Row(duration=576), Row(duration=435), Row(duration=979), Row(duration=2516), Row(duration=1227), Row(duration=1451), Row(duration=863), Row(duration=982), Row(duration=482), Row(duration=382), Row(duration=618), Row(duration=478), Row(duration=206), Row(duration=431), Row(duration=101), Row(duration=1090), Row(duration=776), Row(duration=292), Row(duration=362), Row(duration=83), Row(duration=1265), Row(duration=905), Row(duration=491), Row(duration=919), Row(duration=1366), Row(duration=1044), Row(duration=952), Row(duration=355), Row(duration=200), Row(duration=655), Row(duration=295), Row(duration=1201), Row(duration=2087), Row(duration=942), Row(duration=543), Row(duration=855), Row(duration=141), Row(duration=826), Row(duration=288), Row(duration=879), Row(duration=943), Row(duration=614), Row(duration=922), Row(duration=1397), Row(duration=1056), Row(duration=373), Row(duration=544), Row(duration=1102), Row(duration=893), Row(duration=1584), Row(duration=664), Row(duration=996), Row(duration=1387), Row(duration=492), Row(duration=280), Row(duration=390), Row(duration=322), Row(duration=74), Row(duration=872), Row(duration=1143), Row(duration=182), Row(duration=658), Row(duration=1062), Row(duration=512), Row(duration=8), Row(duration=668), Row(duration=334), Row(duration=1120), Row(duration=1058), Row(duration=910), Row(duration=1345), Row(duration=1327), Row(duration=1096), Row(duration=186), Row(duration=1707), Row(duration=710), Row(duration=1468), Row(duration=331), Row(duration=1186), Row(duration=772), Row(duration=1154), Row(duration=792), Row(duration=747), Row(duration=1491), Row(duration=480), Row(duration=171), Row(duration=631), Row(duration=906), Row(duration=1423), Row(duration=803), Row(duration=775), Row(duration=716), Row(duration=1341), Row(duration=514), Row(duration=11), Row(duration=1091), Row(duration=591), Row(duration=437), Row(duration=290), Row(duration=49), Row(duration=1125), Row(duration=560), Row(duration=1248), Row(duration=1080), Row(duration=639), Row(duration=507), Row(duration=371), Row(duration=1034), Row(duration=1035), Row(duration=1393), Row(duration=1138), Row(duration=1209), Row(duration=1001), Row(duration=801), Row(duration=1018), Row(duration=740), Row(duration=2029), Row(duration=260), Row(duration=166), Row(duration=753), Row(duration=1448), Row(duration=80), Row(duration=1490), Row(duration=774), Row(duration=622), Row(duration=785), Row(duration=886), Row(duration=750), Row(duration=829), Row(duration=1171), Row(duration=327), Row(duration=321), Row(duration=400), Row(duration=380), Row(duration=477), Row(duration=199), Row(duration=1161), Row(duration=465), Row(duration=518), Row(duration=269), Row(duration=1063), Row(duration=432), Row(duration=1031), Row(duration=154), Row(duration=1303), Row(duration=265), Row(duration=520), Row(duration=508), Row(duration=884), Row(duration=657), Row(duration=1489), Row(duration=967), Row(duration=1234), Row(duration=615), Row(duration=869), Row(duration=1399), Row(duration=689), Row(duration=162), Row(duration=344), Row(duration=244), Row(duration=954), Row(duration=525), Row(duration=553), Row(duration=428), Row(duration=433), Row(duration=1528), Row(duration=821), Row(duration=875), Row(duration=931), Row(duration=503), Row(duration=164), Row(duration=1076), Row(duration=711), Row(duration=605), Row(duration=1082), Row(duration=1720), Row(duration=360), Row(duration=495), Row(duration=176), Row(duration=504), Row(duration=732), Row(duration=645), Row(duration=536), Row(duration=1081), Row(duration=1369), Row(duration=1344), Row(duration=134), Row(duration=329), Row(duration=245), Row(duration=1097), Row(duration=422), Row(duration=634), Row(duration=359), Row(duration=1027), Row(duration=1635), Row(duration=426), Row(duration=1204), Row(duration=175), Row(duration=76), Row(duration=102), Row(duration=1182), Row(duration=565), Row(duration=1973), Row(duration=991), Row(duration=606), Row(duration=506), Row(duration=745), Row(duration=684), Row(duration=729), Row(duration=233), Row(duration=1203), Row(duration=827), Row(duration=892), Row(duration=2330), Row(duration=1980), Row(duration=230), Row(duration=1088), Row(duration=727), Row(duration=1408), Row(duration=898), Row(duration=549), Row(duration=92), Row(duration=163), Row(duration=391), Row(duration=1658), Row(duration=930), Row(duration=604), Row(duration=810), Row(duration=308), Row(duration=1095), Row(duration=899), Row(duration=1962), Row(duration=1681), Row(duration=763), Row(duration=524), Row(duration=805), Row(duration=118), Row(duration=1078), Row(duration=568), Row(duration=687), Row(duration=765), Row(duration=272), Row(duration=1272), Row(duration=305), Row(duration=652), Row(duration=1600), Row(duration=2301), Row(duration=984), Row(duration=722), Row(duration=603), Row(duration=302), Row(duration=1971), Row(duration=75), Row(duration=1053), Row(duration=172), Row(duration=613), Row(duration=1173), Row(duration=973), Row(duration=1275), Row(duration=1978), Row(duration=924), Row(duration=314), Row(duration=1101), Row(duration=78), Row(duration=408), Row(duration=1370), Row(duration=579), Row(duration=780), Row(duration=904), Row(duration=672), Row(duration=955), Row(duration=1020), Row(duration=1015), Row(duration=679), Row(duration=1613), Row(duration=125), Row(duration=1416), Row(duration=1661), Row(duration=298), Row(duration=533), Row(duration=140), Row(duration=410), Row(duration=1156), Row(duration=607), Row(duration=1290), Row(duration=1499), Row(duration=289), Row(duration=1541), Row(duration=983), Row(duration=1129), Row(duration=1036), Row(duration=670), Row(duration=1070), Row(duration=913), Row(duration=1148), Row(duration=1086), Row(duration=475), Row(duration=69), Row(duration=1628), Row(duration=1162), Row(duration=860), Row(duration=1123), Row(duration=1318), Row(duration=681), Row(duration=1014), Row(duration=374), Row(duration=935), Row(duration=1649), Row(duration=733), Row(duration=1359), Row(duration=594), Row(duration=1554), Row(duration=1865), Row(duration=767), Row(duration=864), Row(duration=1109), Row(duration=598), Row(duration=1311), Row(duration=216), Row(duration=286), Row(duration=840), Row(duration=1573), Row(duration=791), Row(duration=583), Row(duration=782), Row(duration=1735), Row(duration=1223), Row(duration=194), Row(duration=626), Row(duration=692), Row(duration=1917), Row(duration=137), Row(duration=601), Row(duration=173), Row(duration=505), Row(duration=3881), Row(duration=881), Row(duration=809), Row(duration=135), Row(duration=547), Row(duration=877), Row(duration=238), Row(duration=701), Row(duration=1946), Row(duration=1226), Row(duration=1298), Row(duration=1767), Row(duration=542), Row(duration=372), Row(duration=122), Row(duration=1144), Row(duration=129), Row(duration=620), Row(duration=651), Row(duration=1093), Row(duration=1169), Row(duration=1333), Row(duration=335), Row(duration=759), Row(duration=1352), Row(duration=1030), Row(duration=985), Row(duration=627), Row(duration=313), Row(duration=310), Row(duration=493), Row(duration=393), Row(duration=868), Row(duration=878), Row(duration=81), Row(duration=1579), Row(duration=165), Row(duration=223), Row(duration=315), Row(duration=648), Row(duration=195), Row(duration=180), Row(duration=438), Row(duration=811), Row(duration=436), Row(duration=1417), Row(duration=695), Row(duration=523), Row(duration=1871), Row(duration=472), Row(duration=609), Row(duration=2372), Row(duration=350), Row(duration=82), Row(duration=1500), Row(duration=470), Row(duration=663), Row(duration=133), Row(duration=97), Row(duration=980), Row(duration=351), Row(duration=1028), Row(duration=895), Row(duration=582), Row(duration=401), Row(duration=151), Row(duration=30), Row(duration=708), Row(duration=1180), Row(duration=709), Row(duration=1276), Row(duration=690), Row(duration=851), Row(duration=90), Row(duration=2770), Row(duration=159), Row(duration=457), Row(duration=256), Row(duration=1389), Row(duration=1193), Row(duration=685), Row(duration=1029), Row(duration=643), Row(duration=312), Row(duration=771), Row(duration=680), Row(duration=445), Row(duration=338), Row(duration=1104), Row(duration=425), Row(duration=597), Row(duration=764), Row(duration=812), Row(duration=674), Row(duration=297), Row(duration=783), Row(duration=1019), Row(duration=117), Row(duration=291), Row(duration=23), Row(duration=1502), Row(duration=121), Row(duration=1176), Row(duration=824), Row(duration=494), Row(duration=1008), Row(duration=217), Row(duration=284), Row(duration=409), Row(duration=46), Row(duration=358), Row(duration=479), Row(duration=1422), Row(duration=848), Row(duration=2028), Row(duration=1133), Row(duration=781), Row(duration=616), Row(duration=300), Row(duration=1365), Row(duration=1178), Row(duration=617), Row(duration=676), Row(duration=799), Row(duration=444), Row(duration=630), Row(duration=976), Row(duration=1181), Row(duration=1792), Row(duration=99), Row(duration=510), Row(duration=937), Row(duration=1349), Row(duration=885), Row(duration=1916), Row(duration=387), Row(duration=231), Row(duration=483), Row(duration=640), Row(duration=354), Row(duration=109), Row(duration=1313), Row(duration=86), Row(duration=476), Row(duration=802), Row(duration=918), Row(duration=660), Row(duration=832), Row(duration=862), Row(duration=793), Row(duration=1006), Row(duration=770), Row(duration=189), Row(duration=545), Row(duration=1391), Row(duration=1094), Row(duration=578), Row(duration=534), Row(duration=873), Row(duration=1249), Row(duration=1293), Row(duration=798), Row(duration=311), Row(duration=633), Row(duration=721), Row(duration=969), Row(duration=888), Row(duration=93), Row(duration=717), Row(duration=566), Row(duration=1111), Row(duration=569), Row(duration=1835), Row(duration=1183), Row(duration=707), Row(duration=1503), Row(duration=366), Row(duration=251), Row(duration=204), Row(duration=259), Row(duration=666), Row(duration=1492), Row(duration=285), Row(duration=282), Row(duration=647), Row(duration=1702), Row(duration=1616), Row(duration=1106), Row(duration=908), Row(duration=1139), Row(duration=1184), Row(duration=787), Row(duration=147), Row(duration=2078), Row(duration=1294), Row(duration=522), Row(duration=728), Row(duration=837), Row(duration=725), Row(duration=1142), Row(duration=1032), Row(duration=571), Row(duration=183), Row(duration=527), Row(duration=1165), Row(duration=396), Row(duration=1057), Row(duration=1017), Row(duration=263), Row(duration=240), Row(duration=1003), Row(duration=1262), Row(duration=1022), Row(duration=917), Row(duration=1039), Row(duration=281), Row(duration=839), Row(duration=698), Row(duration=612), Row(duration=336), Row(duration=1692), Row(duration=788), Row(duration=584), Row(duration=416), Row(duration=835), Row(duration=317), Row(duration=152), Row(duration=91), Row(duration=667), Row(duration=267), Row(duration=357), Row(duration=757), Row(duration=1061), Row(duration=808), Row(duration=956), Row(duration=261), Row(duration=398), Row(duration=625), Row(duration=1439), Row(duration=489), Row(duration=949), Row(duration=1288), Row(duration=1603), Row(duration=619), Row(duration=394), Row(duration=1159), Row(duration=531), Row(duration=669), Row(duration=572), Row(duration=148), Row(duration=786), Row(duration=751), Row(duration=1268), Row(duration=1243), Row(duration=169), Row(duration=1467), Row(duration=1205), Row(duration=1656), Row(duration=1105), Row(duration=1033), Row(duration=758), Row(duration=1158), Row(duration=273), Row(duration=458), Row(duration=1092), Row(duration=739), Row(duration=340), Row(duration=456), Row(duration=2692), Row(duration=526), Row(duration=2015), Row(duration=211), Row(duration=469), Row(duration=2453), Row(duration=29), Row(duration=26), Row(duration=19), Row(duration=54), Row(duration=602), Row(duration=1740), Row(duration=22), Row(duration=77), Row(duration=7), Row(duration=1529), Row(duration=3284), Row(duration=1567), Row(duration=50), Row(duration=57), Row(duration=1710), Row(duration=32), Row(duration=43), Row(duration=31), Row(duration=1434), Row(duration=1361), Row(duration=1504), Row(duration=948), Row(duration=68), Row(duration=6), Row(duration=72), Row(duration=2027), Row(duration=58), Row(duration=9), Row(duration=1476), Row(duration=27), Row(duration=51), Row(duration=56), Row(duration=702), Row(duration=52), Row(duration=17), Row(duration=1230), Row(duration=1114), Row(duration=41), Row(duration=33), Row(duration=28), Row(duration=866), Row(duration=1100), Row(duration=5), Row(duration=1083), Row(duration=818), Row(duration=10), Row(duration=975), Row(duration=197), Row(duration=48), Row(duration=451), Row(duration=1047), Row(duration=44), Row(duration=1812), Row(duration=3), Row(duration=37), Row(duration=12), Row(duration=55), Row(duration=62), Row(duration=1113), Row(duration=1166), Row(duration=1291), Row(duration=35), Row(duration=468), Row(duration=2), Row(duration=66), Row(duration=1306), Row(duration=1438), Row(duration=986), Row(duration=971), Row(duration=1386), Row(duration=914), Row(duration=4), Row(duration=916), Row(duration=13), Row(duration=36), Row(duration=2093), Row(duration=18), Row(duration=14), Row(duration=999), Row(duration=21), Row(duration=59), Row(duration=960), Row(duration=15), Row(duration=2053), Row(duration=38), Row(duration=723), Row(duration=73), Row(duration=42), Row(duration=70), Row(duration=20), Row(duration=60), Row(duration=1195), Row(duration=40), Row(duration=1521), Row(duration=64), Row(duration=16), Row(duration=47), Row(duration=45), Row(duration=972), Row(duration=53), Row(duration=484), Row(duration=24)]\n",
            "[Row(campaign=29), Row(campaign=7), Row(campaign=32), Row(campaign=6), Row(campaign=9), Row(campaign=17), Row(campaign=5), Row(campaign=1), Row(campaign=10), Row(campaign=3), Row(campaign=12), Row(campaign=8), Row(campaign=11), Row(campaign=2), Row(campaign=4), Row(campaign=13), Row(campaign=14), Row(campaign=21), Row(campaign=15), Row(campaign=20), Row(campaign=16), Row(campaign=24), Row(campaign=26), Row(campaign=19), Row(campaign=22), Row(campaign=43), Row(campaign=31), Row(campaign=25), Row(campaign=63), Row(campaign=27), Row(campaign=41), Row(campaign=28), Row(campaign=33), Row(campaign=18), Row(campaign=30), Row(campaign=23)]\n",
            "[Row(pdays=474), Row(pdays=29), Row(pdays=65), Row(pdays=191), Row(pdays=558), Row(pdays=541), Row(pdays=270), Row(pdays=222), Row(pdays=293), Row(pdays=278), Row(pdays=367), Row(pdays=442), Row(pdays=243), Row(pdays=296), Row(pdays=287), Row(pdays=348), Row(pdays=415), Row(pdays=277), Row(pdays=167), Row(pdays=112), Row(pdays=113), Row(pdays=385), Row(pdays=155), Row(pdays=347), Row(pdays=237), Row(pdays=198), Row(pdays=22), Row(pdays=414), Row(pdays=330), Row(pdays=196), Row(pdays=130), Row(pdays=427), Row(pdays=77), Row(pdays=34), Row(pdays=184), Row(pdays=532), Row(pdays=551), Row(pdays=463), Row(pdays=188), Row(pdays=399), Row(pdays=126), Row(pdays=274), Row(pdays=202), Row(pdays=529), Row(pdays=325), Row(pdays=262), Row(pdays=94), Row(pdays=50), Row(pdays=149), Row(pdays=421), Row(pdays=264), Row(pdays=229), Row(pdays=110), Row(pdays=343), Row(pdays=190), Row(pdays=275), Row(pdays=439), Row(pdays=57), Row(pdays=828), Row(pdays=412), Row(pdays=388), Row(pdays=144), Row(pdays=417), Row(pdays=555), Row(pdays=43), Row(pdays=420), Row(pdays=84), Row(pdays=378), Row(pdays=212), Row(pdays=376), Row(pdays=31), Row(pdays=119), Row(pdays=395), Row(pdays=386), Row(pdays=326), Row(pdays=595), Row(pdays=450), Row(pdays=98), Row(pdays=187), Row(pdays=561), Row(pdays=201), Row(pdays=232), Row(pdays=203), Row(pdays=145), Row(pdays=116), Row(pdays=157), Row(pdays=181), Row(pdays=363), Row(pdays=586), Row(pdays=124), Row(pdays=268), Row(pdays=95), Row(pdays=227), Row(pdays=369), Row(pdays=455), Row(pdays=370), Row(pdays=71), Row(pdays=143), Row(pdays=161), Row(pdays=193), Row(pdays=365), Row(pdays=6), Row(pdays=342), Row(pdays=466), Row(pdays=87), Row(pdays=72), Row(pdays=320), Row(pdays=58), Row(pdays=258), Row(pdays=854), Row(pdays=266), Row(pdays=271), Row(pdays=107), Row(pdays=424), Row(pdays=221), Row(pdays=9), Row(pdays=316), Row(pdays=407), Row(pdays=27), Row(pdays=389), Row(pdays=63), Row(pdays=397), Row(pdays=158), Row(pdays=56), Row(pdays=178), Row(pdays=353), Row(pdays=239), Row(pdays=341), Row(pdays=234), Row(pdays=150), Row(pdays=279), Row(pdays=146), Row(pdays=346), Row(pdays=52), Row(pdays=459), Row(pdays=446), Row(pdays=174), Row(pdays=170), Row(pdays=79), Row(pdays=17), Row(pdays=209), Row(pdays=103), Row(pdays=236), Row(pdays=276), Row(pdays=246), Row(pdays=139), Row(pdays=242), Row(pdays=430), Row(pdays=41), Row(pdays=88), Row(pdays=257), Row(pdays=28), Row(pdays=208), Row(pdays=384), Row(pdays=405), Row(pdays=138), Row(pdays=207), Row(pdays=307), Row(pdays=462), Row(pdays=304), Row(pdays=769), Row(pdays=114), Row(pdays=1), Row(pdays=319), Row(pdays=153), Row(pdays=115), Row(pdays=96), Row(pdays=377), Row(pdays=328), Row(pdays=349), Row(pdays=375), Row(pdays=185), Row(pdays=368), Row(pdays=104), Row(pdays=515), Row(pdays=461), Row(pdays=449), Row(pdays=10), Row(pdays=120), Row(pdays=89), Row(pdays=521), Row(pdays=550), Row(pdays=361), Row(pdays=364), Row(pdays=356), Row(pdays=403), Row(pdays=784), Row(pdays=490), Row(pdays=128), Row(pdays=197), Row(pdays=85), Row(pdays=106), Row(pdays=111), Row(pdays=332), Row(pdays=301), Row(pdays=177), Row(pdays=460), Row(pdays=306), Row(pdays=179), Row(pdays=67), Row(pdays=48), Row(pdays=224), Row(pdays=254), Row(pdays=142), Row(pdays=481), Row(pdays=761), Row(pdays=749), Row(pdays=168), Row(pdays=100), Row(pdays=318), Row(pdays=105), Row(pdays=131), Row(pdays=294), Row(pdays=333), Row(pdays=339), Row(pdays=392), Row(pdays=132), Row(pdays=309), Row(pdays=44), Row(pdays=804), Row(pdays=345), Row(pdays=127), Row(pdays=683), Row(pdays=123), Row(pdays=210), Row(pdays=205), Row(pdays=323), Row(pdays=352), Row(pdays=225), Row(pdays=535), Row(pdays=337), Row(pdays=192), Row(pdays=213), Row(pdays=440), Row(pdays=156), Row(pdays=587), Row(pdays=160), Row(pdays=283), Row(pdays=435), Row(pdays=478), Row(pdays=206), Row(pdays=292), Row(pdays=101), Row(pdays=776), Row(pdays=37), Row(pdays=83), Row(pdays=362), Row(pdays=491), Row(pdays=295), Row(pdays=355), Row(pdays=200), Row(pdays=141), Row(pdays=288), Row(pdays=55), Row(pdays=74), Row(pdays=280), Row(pdays=390), Row(pdays=322), Row(pdays=182), Row(pdays=334), Row(pdays=62), Row(pdays=186), Row(pdays=171), Row(pdays=792), Row(pdays=49), Row(pdays=437), Row(pdays=290), Row(pdays=35), Row(pdays=371), Row(pdays=166), Row(pdays=260), Row(pdays=80), Row(pdays=327), Row(pdays=321), Row(pdays=199), Row(pdays=477), Row(pdays=2), Row(pdays=269), Row(pdays=518), Row(pdays=154), Row(pdays=66), Row(pdays=265), Row(pdays=520), Row(pdays=344), Row(pdays=162), Row(pdays=244), Row(pdays=428), Row(pdays=433), Row(pdays=553), Row(pdays=164), Row(pdays=503), Row(pdays=176), Row(pdays=360), Row(pdays=329), Row(pdays=134), Row(pdays=504), Row(pdays=359), Row(pdays=422), Row(pdays=175), Row(pdays=76), Row(pdays=102), Row(pdays=426), Row(pdays=163), Row(pdays=92), Row(pdays=4), Row(pdays=391), Row(pdays=230), Row(pdays=308), Row(pdays=842), Row(pdays=272), Row(pdays=13), Row(pdays=305), Row(pdays=302), Row(pdays=75), Row(pdays=603), Row(pdays=172), Row(pdays=78), Row(pdays=314), Row(pdays=579), Row(pdays=298), Row(pdays=140), Row(pdays=125), Row(pdays=69), Row(pdays=475), Row(pdays=374), Row(pdays=14), Row(pdays=286), Row(pdays=216), Row(pdays=782), Row(pdays=173), Row(pdays=194), Row(pdays=626), Row(pdays=137), Row(pdays=238), Row(pdays=135), Row(pdays=21), Row(pdays=122), Row(pdays=372), Row(pdays=129), Row(pdays=335), Row(pdays=310), Row(pdays=313), Row(pdays=315), Row(pdays=81), Row(pdays=165), Row(pdays=223), Row(pdays=195), Row(pdays=180), Row(pdays=436), Row(pdays=648), Row(pdays=82), Row(pdays=350), Row(pdays=38), Row(pdays=133), Row(pdays=97), Row(pdays=351), Row(pdays=470), Row(pdays=73), Row(pdays=90), Row(pdays=256), Row(pdays=457), Row(pdays=690), Row(pdays=312), Row(pdays=425), Row(pdays=445), Row(pdays=297), Row(pdays=291), Row(pdays=121), Row(pdays=284), Row(pdays=358), Row(pdays=409), Row(pdays=20), Row(pdays=70), Row(pdays=479), Row(pdays=300), Row(pdays=616), Row(pdays=99), Row(pdays=444), Row(pdays=231), Row(pdays=387), Row(pdays=86), Row(pdays=109), Row(pdays=476), Row(pdays=189), Row(pdays=60), Row(pdays=311), Row(pdays=93), Row(pdays=259), Row(pdays=366), Row(pdays=40), Row(pdays=251), Row(pdays=204), Row(pdays=285), Row(pdays=282), Row(pdays=147), Row(pdays=183), Row(pdays=728), Row(pdays=263), Row(pdays=64), Row(pdays=281), Row(pdays=91), Row(pdays=267), Row(pdays=357), Row(pdays=152), Row(pdays=-1), Row(pdays=261), Row(pdays=398), Row(pdays=148), Row(pdays=394), Row(pdays=53), Row(pdays=169), Row(pdays=273), Row(pdays=340), Row(pdays=458), Row(pdays=211), Row(pdays=469), Row(pdays=299), Row(pdays=241), Row(pdays=486), Row(pdays=228), Row(pdays=136), Row(pdays=68), Row(pdays=255), Row(pdays=253), Row(pdays=33), Row(pdays=235), Row(pdays=5), Row(pdays=404), Row(pdays=250), Row(pdays=214), Row(pdays=252), Row(pdays=324), Row(pdays=247), Row(pdays=108), Row(pdays=381), Row(pdays=61), Row(pdays=303), Row(pdays=12), Row(pdays=826), Row(pdays=544), Row(pdays=373), Row(pdays=8), Row(pdays=772), Row(pdays=331), Row(pdays=774), Row(pdays=778), Row(pdays=495), Row(pdays=245), Row(pdays=233), Row(pdays=805), Row(pdays=118), Row(pdays=36), Row(pdays=289), Row(pdays=594), Row(pdays=701), Row(pdays=59), Row(pdays=651), Row(pdays=15), Row(pdays=472), Row(pdays=401), Row(pdays=42), Row(pdays=151), Row(pdays=159), Row(pdays=771), Row(pdays=338), Row(pdays=117), Row(pdays=217), Row(pdays=354), Row(pdays=717), Row(pdays=336), Row(pdays=317), Row(pdays=24)]\n",
            "[Row(previous=29), Row(previous=26), Row(previous=19), Row(previous=0), Row(previous=22), Row(previous=7), Row(previous=6), Row(previous=58), Row(previous=9), Row(previous=17), Row(previous=5), Row(previous=1), Row(previous=10), Row(previous=3), Row(previous=12), Row(previous=55), Row(previous=8), Row(previous=11), Row(previous=2), Row(previous=4), Row(previous=13), Row(previous=14), Row(previous=21), Row(previous=15), Row(previous=30), Row(previous=23), Row(previous=20), Row(previous=27), Row(previous=41), Row(previous=28), Row(previous=37), Row(previous=18), Row(previous=40), Row(previous=16)]\n",
            "[Row(poutcome='success'), Row(poutcome='unknown'), Row(poutcome='other'), Row(poutcome='failure')]\n",
            "[Row(deposit='yes'), Row(deposit='no')]\n"
          ]
        }
      ],
      "source": [
        "#showing all the distincts values from each column\n",
        "for column_value in df_bnk.columns:\n",
        "  print(df_bnk.select(column_value).distinct().collect())"
      ]
    },
    {
      "cell_type": "code",
      "execution_count": 9,
      "metadata": {
        "id": "9nBusDP8YHOX",
        "colab": {
          "base_uri": "https://localhost:8080/",
          "height": 383
        },
        "outputId": "3eb2ba40-7d27-4d3b-bc95-71715cf1c1b3"
      },
      "outputs": [
        {
          "output_type": "execute_result",
          "data": {
            "text/plain": [
              "   age         job   marital  education default  balance housing loan  \\\n",
              "0   59      admin.   married  secondary      no     2343     yes   no   \n",
              "1   56      admin.   married  secondary      no       45      no   no   \n",
              "2   41  technician   married  secondary      no     1270     yes   no   \n",
              "3   55    services   married  secondary      no     2476     yes   no   \n",
              "4   54      admin.   married   tertiary      no      184      no   no   \n",
              "5   42  management    single   tertiary      no        0     yes  yes   \n",
              "6   56  management   married   tertiary      no      830     yes  yes   \n",
              "7   60     retired  divorced  secondary      no      545     yes   no   \n",
              "8   37  technician   married  secondary      no        1     yes   no   \n",
              "9   28    services    single  secondary      no     5090     yes   no   \n",
              "\n",
              "   contact  day month  duration  campaign  pdays  previous poutcome deposit  \n",
              "0  unknown    5   may      1042         1     -1         0  unknown     yes  \n",
              "1  unknown    5   may      1467         1     -1         0  unknown     yes  \n",
              "2  unknown    5   may      1389         1     -1         0  unknown     yes  \n",
              "3  unknown    5   may       579         1     -1         0  unknown     yes  \n",
              "4  unknown    5   may       673         2     -1         0  unknown     yes  \n",
              "5  unknown    5   may       562         2     -1         0  unknown     yes  \n",
              "6  unknown    6   may      1201         1     -1         0  unknown     yes  \n",
              "7  unknown    6   may      1030         1     -1         0  unknown     yes  \n",
              "8  unknown    6   may       608         1     -1         0  unknown     yes  \n",
              "9  unknown    6   may      1297         3     -1         0  unknown     yes  "
            ],
            "text/html": [
              "\n",
              "  <div id=\"df-b49af537-5c36-4771-bfbd-363374266396\" class=\"colab-df-container\">\n",
              "    <div>\n",
              "<style scoped>\n",
              "    .dataframe tbody tr th:only-of-type {\n",
              "        vertical-align: middle;\n",
              "    }\n",
              "\n",
              "    .dataframe tbody tr th {\n",
              "        vertical-align: top;\n",
              "    }\n",
              "\n",
              "    .dataframe thead th {\n",
              "        text-align: right;\n",
              "    }\n",
              "</style>\n",
              "<table border=\"1\" class=\"dataframe\">\n",
              "  <thead>\n",
              "    <tr style=\"text-align: right;\">\n",
              "      <th></th>\n",
              "      <th>age</th>\n",
              "      <th>job</th>\n",
              "      <th>marital</th>\n",
              "      <th>education</th>\n",
              "      <th>default</th>\n",
              "      <th>balance</th>\n",
              "      <th>housing</th>\n",
              "      <th>loan</th>\n",
              "      <th>contact</th>\n",
              "      <th>day</th>\n",
              "      <th>month</th>\n",
              "      <th>duration</th>\n",
              "      <th>campaign</th>\n",
              "      <th>pdays</th>\n",
              "      <th>previous</th>\n",
              "      <th>poutcome</th>\n",
              "      <th>deposit</th>\n",
              "    </tr>\n",
              "  </thead>\n",
              "  <tbody>\n",
              "    <tr>\n",
              "      <th>0</th>\n",
              "      <td>59</td>\n",
              "      <td>admin.</td>\n",
              "      <td>married</td>\n",
              "      <td>secondary</td>\n",
              "      <td>no</td>\n",
              "      <td>2343</td>\n",
              "      <td>yes</td>\n",
              "      <td>no</td>\n",
              "      <td>unknown</td>\n",
              "      <td>5</td>\n",
              "      <td>may</td>\n",
              "      <td>1042</td>\n",
              "      <td>1</td>\n",
              "      <td>-1</td>\n",
              "      <td>0</td>\n",
              "      <td>unknown</td>\n",
              "      <td>yes</td>\n",
              "    </tr>\n",
              "    <tr>\n",
              "      <th>1</th>\n",
              "      <td>56</td>\n",
              "      <td>admin.</td>\n",
              "      <td>married</td>\n",
              "      <td>secondary</td>\n",
              "      <td>no</td>\n",
              "      <td>45</td>\n",
              "      <td>no</td>\n",
              "      <td>no</td>\n",
              "      <td>unknown</td>\n",
              "      <td>5</td>\n",
              "      <td>may</td>\n",
              "      <td>1467</td>\n",
              "      <td>1</td>\n",
              "      <td>-1</td>\n",
              "      <td>0</td>\n",
              "      <td>unknown</td>\n",
              "      <td>yes</td>\n",
              "    </tr>\n",
              "    <tr>\n",
              "      <th>2</th>\n",
              "      <td>41</td>\n",
              "      <td>technician</td>\n",
              "      <td>married</td>\n",
              "      <td>secondary</td>\n",
              "      <td>no</td>\n",
              "      <td>1270</td>\n",
              "      <td>yes</td>\n",
              "      <td>no</td>\n",
              "      <td>unknown</td>\n",
              "      <td>5</td>\n",
              "      <td>may</td>\n",
              "      <td>1389</td>\n",
              "      <td>1</td>\n",
              "      <td>-1</td>\n",
              "      <td>0</td>\n",
              "      <td>unknown</td>\n",
              "      <td>yes</td>\n",
              "    </tr>\n",
              "    <tr>\n",
              "      <th>3</th>\n",
              "      <td>55</td>\n",
              "      <td>services</td>\n",
              "      <td>married</td>\n",
              "      <td>secondary</td>\n",
              "      <td>no</td>\n",
              "      <td>2476</td>\n",
              "      <td>yes</td>\n",
              "      <td>no</td>\n",
              "      <td>unknown</td>\n",
              "      <td>5</td>\n",
              "      <td>may</td>\n",
              "      <td>579</td>\n",
              "      <td>1</td>\n",
              "      <td>-1</td>\n",
              "      <td>0</td>\n",
              "      <td>unknown</td>\n",
              "      <td>yes</td>\n",
              "    </tr>\n",
              "    <tr>\n",
              "      <th>4</th>\n",
              "      <td>54</td>\n",
              "      <td>admin.</td>\n",
              "      <td>married</td>\n",
              "      <td>tertiary</td>\n",
              "      <td>no</td>\n",
              "      <td>184</td>\n",
              "      <td>no</td>\n",
              "      <td>no</td>\n",
              "      <td>unknown</td>\n",
              "      <td>5</td>\n",
              "      <td>may</td>\n",
              "      <td>673</td>\n",
              "      <td>2</td>\n",
              "      <td>-1</td>\n",
              "      <td>0</td>\n",
              "      <td>unknown</td>\n",
              "      <td>yes</td>\n",
              "    </tr>\n",
              "    <tr>\n",
              "      <th>5</th>\n",
              "      <td>42</td>\n",
              "      <td>management</td>\n",
              "      <td>single</td>\n",
              "      <td>tertiary</td>\n",
              "      <td>no</td>\n",
              "      <td>0</td>\n",
              "      <td>yes</td>\n",
              "      <td>yes</td>\n",
              "      <td>unknown</td>\n",
              "      <td>5</td>\n",
              "      <td>may</td>\n",
              "      <td>562</td>\n",
              "      <td>2</td>\n",
              "      <td>-1</td>\n",
              "      <td>0</td>\n",
              "      <td>unknown</td>\n",
              "      <td>yes</td>\n",
              "    </tr>\n",
              "    <tr>\n",
              "      <th>6</th>\n",
              "      <td>56</td>\n",
              "      <td>management</td>\n",
              "      <td>married</td>\n",
              "      <td>tertiary</td>\n",
              "      <td>no</td>\n",
              "      <td>830</td>\n",
              "      <td>yes</td>\n",
              "      <td>yes</td>\n",
              "      <td>unknown</td>\n",
              "      <td>6</td>\n",
              "      <td>may</td>\n",
              "      <td>1201</td>\n",
              "      <td>1</td>\n",
              "      <td>-1</td>\n",
              "      <td>0</td>\n",
              "      <td>unknown</td>\n",
              "      <td>yes</td>\n",
              "    </tr>\n",
              "    <tr>\n",
              "      <th>7</th>\n",
              "      <td>60</td>\n",
              "      <td>retired</td>\n",
              "      <td>divorced</td>\n",
              "      <td>secondary</td>\n",
              "      <td>no</td>\n",
              "      <td>545</td>\n",
              "      <td>yes</td>\n",
              "      <td>no</td>\n",
              "      <td>unknown</td>\n",
              "      <td>6</td>\n",
              "      <td>may</td>\n",
              "      <td>1030</td>\n",
              "      <td>1</td>\n",
              "      <td>-1</td>\n",
              "      <td>0</td>\n",
              "      <td>unknown</td>\n",
              "      <td>yes</td>\n",
              "    </tr>\n",
              "    <tr>\n",
              "      <th>8</th>\n",
              "      <td>37</td>\n",
              "      <td>technician</td>\n",
              "      <td>married</td>\n",
              "      <td>secondary</td>\n",
              "      <td>no</td>\n",
              "      <td>1</td>\n",
              "      <td>yes</td>\n",
              "      <td>no</td>\n",
              "      <td>unknown</td>\n",
              "      <td>6</td>\n",
              "      <td>may</td>\n",
              "      <td>608</td>\n",
              "      <td>1</td>\n",
              "      <td>-1</td>\n",
              "      <td>0</td>\n",
              "      <td>unknown</td>\n",
              "      <td>yes</td>\n",
              "    </tr>\n",
              "    <tr>\n",
              "      <th>9</th>\n",
              "      <td>28</td>\n",
              "      <td>services</td>\n",
              "      <td>single</td>\n",
              "      <td>secondary</td>\n",
              "      <td>no</td>\n",
              "      <td>5090</td>\n",
              "      <td>yes</td>\n",
              "      <td>no</td>\n",
              "      <td>unknown</td>\n",
              "      <td>6</td>\n",
              "      <td>may</td>\n",
              "      <td>1297</td>\n",
              "      <td>3</td>\n",
              "      <td>-1</td>\n",
              "      <td>0</td>\n",
              "      <td>unknown</td>\n",
              "      <td>yes</td>\n",
              "    </tr>\n",
              "  </tbody>\n",
              "</table>\n",
              "</div>\n",
              "    <div class=\"colab-df-buttons\">\n",
              "\n",
              "  <div class=\"colab-df-container\">\n",
              "    <button class=\"colab-df-convert\" onclick=\"convertToInteractive('df-b49af537-5c36-4771-bfbd-363374266396')\"\n",
              "            title=\"Convert this dataframe to an interactive table.\"\n",
              "            style=\"display:none;\">\n",
              "\n",
              "  <svg xmlns=\"http://www.w3.org/2000/svg\" height=\"24px\" viewBox=\"0 -960 960 960\">\n",
              "    <path d=\"M120-120v-720h720v720H120Zm60-500h600v-160H180v160Zm220 220h160v-160H400v160Zm0 220h160v-160H400v160ZM180-400h160v-160H180v160Zm440 0h160v-160H620v160ZM180-180h160v-160H180v160Zm440 0h160v-160H620v160Z\"/>\n",
              "  </svg>\n",
              "    </button>\n",
              "\n",
              "  <style>\n",
              "    .colab-df-container {\n",
              "      display:flex;\n",
              "      gap: 12px;\n",
              "    }\n",
              "\n",
              "    .colab-df-convert {\n",
              "      background-color: #E8F0FE;\n",
              "      border: none;\n",
              "      border-radius: 50%;\n",
              "      cursor: pointer;\n",
              "      display: none;\n",
              "      fill: #1967D2;\n",
              "      height: 32px;\n",
              "      padding: 0 0 0 0;\n",
              "      width: 32px;\n",
              "    }\n",
              "\n",
              "    .colab-df-convert:hover {\n",
              "      background-color: #E2EBFA;\n",
              "      box-shadow: 0px 1px 2px rgba(60, 64, 67, 0.3), 0px 1px 3px 1px rgba(60, 64, 67, 0.15);\n",
              "      fill: #174EA6;\n",
              "    }\n",
              "\n",
              "    .colab-df-buttons div {\n",
              "      margin-bottom: 4px;\n",
              "    }\n",
              "\n",
              "    [theme=dark] .colab-df-convert {\n",
              "      background-color: #3B4455;\n",
              "      fill: #D2E3FC;\n",
              "    }\n",
              "\n",
              "    [theme=dark] .colab-df-convert:hover {\n",
              "      background-color: #434B5C;\n",
              "      box-shadow: 0px 1px 3px 1px rgba(0, 0, 0, 0.15);\n",
              "      filter: drop-shadow(0px 1px 2px rgba(0, 0, 0, 0.3));\n",
              "      fill: #FFFFFF;\n",
              "    }\n",
              "  </style>\n",
              "\n",
              "    <script>\n",
              "      const buttonEl =\n",
              "        document.querySelector('#df-b49af537-5c36-4771-bfbd-363374266396 button.colab-df-convert');\n",
              "      buttonEl.style.display =\n",
              "        google.colab.kernel.accessAllowed ? 'block' : 'none';\n",
              "\n",
              "      async function convertToInteractive(key) {\n",
              "        const element = document.querySelector('#df-b49af537-5c36-4771-bfbd-363374266396');\n",
              "        const dataTable =\n",
              "          await google.colab.kernel.invokeFunction('convertToInteractive',\n",
              "                                                    [key], {});\n",
              "        if (!dataTable) return;\n",
              "\n",
              "        const docLinkHtml = 'Like what you see? Visit the ' +\n",
              "          '<a target=\"_blank\" href=https://colab.research.google.com/notebooks/data_table.ipynb>data table notebook</a>'\n",
              "          + ' to learn more about interactive tables.';\n",
              "        element.innerHTML = '';\n",
              "        dataTable['output_type'] = 'display_data';\n",
              "        await google.colab.output.renderOutput(dataTable, element);\n",
              "        const docLink = document.createElement('div');\n",
              "        docLink.innerHTML = docLinkHtml;\n",
              "        element.appendChild(docLink);\n",
              "      }\n",
              "    </script>\n",
              "  </div>\n",
              "\n",
              "\n",
              "<div id=\"df-cf110b32-f056-42cc-bdd1-655ca4899275\">\n",
              "  <button class=\"colab-df-quickchart\" onclick=\"quickchart('df-cf110b32-f056-42cc-bdd1-655ca4899275')\"\n",
              "            title=\"Suggest charts\"\n",
              "            style=\"display:none;\">\n",
              "\n",
              "<svg xmlns=\"http://www.w3.org/2000/svg\" height=\"24px\"viewBox=\"0 0 24 24\"\n",
              "     width=\"24px\">\n",
              "    <g>\n",
              "        <path d=\"M19 3H5c-1.1 0-2 .9-2 2v14c0 1.1.9 2 2 2h14c1.1 0 2-.9 2-2V5c0-1.1-.9-2-2-2zM9 17H7v-7h2v7zm4 0h-2V7h2v10zm4 0h-2v-4h2v4z\"/>\n",
              "    </g>\n",
              "</svg>\n",
              "  </button>\n",
              "\n",
              "<style>\n",
              "  .colab-df-quickchart {\n",
              "      --bg-color: #E8F0FE;\n",
              "      --fill-color: #1967D2;\n",
              "      --hover-bg-color: #E2EBFA;\n",
              "      --hover-fill-color: #174EA6;\n",
              "      --disabled-fill-color: #AAA;\n",
              "      --disabled-bg-color: #DDD;\n",
              "  }\n",
              "\n",
              "  [theme=dark] .colab-df-quickchart {\n",
              "      --bg-color: #3B4455;\n",
              "      --fill-color: #D2E3FC;\n",
              "      --hover-bg-color: #434B5C;\n",
              "      --hover-fill-color: #FFFFFF;\n",
              "      --disabled-bg-color: #3B4455;\n",
              "      --disabled-fill-color: #666;\n",
              "  }\n",
              "\n",
              "  .colab-df-quickchart {\n",
              "    background-color: var(--bg-color);\n",
              "    border: none;\n",
              "    border-radius: 50%;\n",
              "    cursor: pointer;\n",
              "    display: none;\n",
              "    fill: var(--fill-color);\n",
              "    height: 32px;\n",
              "    padding: 0;\n",
              "    width: 32px;\n",
              "  }\n",
              "\n",
              "  .colab-df-quickchart:hover {\n",
              "    background-color: var(--hover-bg-color);\n",
              "    box-shadow: 0 1px 2px rgba(60, 64, 67, 0.3), 0 1px 3px 1px rgba(60, 64, 67, 0.15);\n",
              "    fill: var(--button-hover-fill-color);\n",
              "  }\n",
              "\n",
              "  .colab-df-quickchart-complete:disabled,\n",
              "  .colab-df-quickchart-complete:disabled:hover {\n",
              "    background-color: var(--disabled-bg-color);\n",
              "    fill: var(--disabled-fill-color);\n",
              "    box-shadow: none;\n",
              "  }\n",
              "\n",
              "  .colab-df-spinner {\n",
              "    border: 2px solid var(--fill-color);\n",
              "    border-color: transparent;\n",
              "    border-bottom-color: var(--fill-color);\n",
              "    animation:\n",
              "      spin 1s steps(1) infinite;\n",
              "  }\n",
              "\n",
              "  @keyframes spin {\n",
              "    0% {\n",
              "      border-color: transparent;\n",
              "      border-bottom-color: var(--fill-color);\n",
              "      border-left-color: var(--fill-color);\n",
              "    }\n",
              "    20% {\n",
              "      border-color: transparent;\n",
              "      border-left-color: var(--fill-color);\n",
              "      border-top-color: var(--fill-color);\n",
              "    }\n",
              "    30% {\n",
              "      border-color: transparent;\n",
              "      border-left-color: var(--fill-color);\n",
              "      border-top-color: var(--fill-color);\n",
              "      border-right-color: var(--fill-color);\n",
              "    }\n",
              "    40% {\n",
              "      border-color: transparent;\n",
              "      border-right-color: var(--fill-color);\n",
              "      border-top-color: var(--fill-color);\n",
              "    }\n",
              "    60% {\n",
              "      border-color: transparent;\n",
              "      border-right-color: var(--fill-color);\n",
              "    }\n",
              "    80% {\n",
              "      border-color: transparent;\n",
              "      border-right-color: var(--fill-color);\n",
              "      border-bottom-color: var(--fill-color);\n",
              "    }\n",
              "    90% {\n",
              "      border-color: transparent;\n",
              "      border-bottom-color: var(--fill-color);\n",
              "    }\n",
              "  }\n",
              "</style>\n",
              "\n",
              "  <script>\n",
              "    async function quickchart(key) {\n",
              "      const quickchartButtonEl =\n",
              "        document.querySelector('#' + key + ' button');\n",
              "      quickchartButtonEl.disabled = true;  // To prevent multiple clicks.\n",
              "      quickchartButtonEl.classList.add('colab-df-spinner');\n",
              "      try {\n",
              "        const charts = await google.colab.kernel.invokeFunction(\n",
              "            'suggestCharts', [key], {});\n",
              "      } catch (error) {\n",
              "        console.error('Error during call to suggestCharts:', error);\n",
              "      }\n",
              "      quickchartButtonEl.classList.remove('colab-df-spinner');\n",
              "      quickchartButtonEl.classList.add('colab-df-quickchart-complete');\n",
              "    }\n",
              "    (() => {\n",
              "      let quickchartButtonEl =\n",
              "        document.querySelector('#df-cf110b32-f056-42cc-bdd1-655ca4899275 button');\n",
              "      quickchartButtonEl.style.display =\n",
              "        google.colab.kernel.accessAllowed ? 'block' : 'none';\n",
              "    })();\n",
              "  </script>\n",
              "</div>\n",
              "\n",
              "    </div>\n",
              "  </div>\n"
            ]
          },
          "metadata": {},
          "execution_count": 9
        }
      ],
      "source": [
        "#Accessing 10 first rows in our dataframe\n",
        "pd.DataFrame(df_bnk.take(10), columns=df_bnk.columns)"
      ]
    },
    {
      "cell_type": "code",
      "execution_count": 10,
      "metadata": {
        "id": "Kc4xhDpgYcL-",
        "colab": {
          "base_uri": "https://localhost:8080/",
          "height": 226
        },
        "outputId": "83c61e84-cd13-44b5-bd75-566cec3c9c78"
      },
      "outputs": [
        {
          "output_type": "execute_result",
          "data": {
            "text/plain": [
              "  summary                 age             balance                 day  \\\n",
              "0   count               11162               11162               11162   \n",
              "1    mean  41.231947679627304  1528.5385235620856  15.658036194230425   \n",
              "2  stddev  11.913369192215526  3225.4133259461505   8.420739541006458   \n",
              "3     min                  18               -6847                   1   \n",
              "4     max                  95               81204                  31   \n",
              "\n",
              "             duration            campaign               pdays  \\\n",
              "0               11162               11162               11162   \n",
              "1  1528.5385235620856   2.508421429851281   51.33040673714388   \n",
              "2  3225.4133259461505  2.7220771816614855  108.75828197197711   \n",
              "3               -6847                   1                  -1   \n",
              "4               81204                  63                 854   \n",
              "\n",
              "             previous  \n",
              "0               11162  \n",
              "1  1528.5385235620856  \n",
              "2  3225.4133259461505  \n",
              "3               -6847  \n",
              "4               81204  "
            ],
            "text/html": [
              "\n",
              "  <div id=\"df-4490e66b-29a5-4944-b151-3e32cf7fe539\" class=\"colab-df-container\">\n",
              "    <div>\n",
              "<style scoped>\n",
              "    .dataframe tbody tr th:only-of-type {\n",
              "        vertical-align: middle;\n",
              "    }\n",
              "\n",
              "    .dataframe tbody tr th {\n",
              "        vertical-align: top;\n",
              "    }\n",
              "\n",
              "    .dataframe thead th {\n",
              "        text-align: right;\n",
              "    }\n",
              "</style>\n",
              "<table border=\"1\" class=\"dataframe\">\n",
              "  <thead>\n",
              "    <tr style=\"text-align: right;\">\n",
              "      <th></th>\n",
              "      <th>summary</th>\n",
              "      <th>age</th>\n",
              "      <th>balance</th>\n",
              "      <th>day</th>\n",
              "      <th>duration</th>\n",
              "      <th>campaign</th>\n",
              "      <th>pdays</th>\n",
              "      <th>previous</th>\n",
              "    </tr>\n",
              "  </thead>\n",
              "  <tbody>\n",
              "    <tr>\n",
              "      <th>0</th>\n",
              "      <td>count</td>\n",
              "      <td>11162</td>\n",
              "      <td>11162</td>\n",
              "      <td>11162</td>\n",
              "      <td>11162</td>\n",
              "      <td>11162</td>\n",
              "      <td>11162</td>\n",
              "      <td>11162</td>\n",
              "    </tr>\n",
              "    <tr>\n",
              "      <th>1</th>\n",
              "      <td>mean</td>\n",
              "      <td>41.231947679627304</td>\n",
              "      <td>1528.5385235620856</td>\n",
              "      <td>15.658036194230425</td>\n",
              "      <td>1528.5385235620856</td>\n",
              "      <td>2.508421429851281</td>\n",
              "      <td>51.33040673714388</td>\n",
              "      <td>1528.5385235620856</td>\n",
              "    </tr>\n",
              "    <tr>\n",
              "      <th>2</th>\n",
              "      <td>stddev</td>\n",
              "      <td>11.913369192215526</td>\n",
              "      <td>3225.4133259461505</td>\n",
              "      <td>8.420739541006458</td>\n",
              "      <td>3225.4133259461505</td>\n",
              "      <td>2.7220771816614855</td>\n",
              "      <td>108.75828197197711</td>\n",
              "      <td>3225.4133259461505</td>\n",
              "    </tr>\n",
              "    <tr>\n",
              "      <th>3</th>\n",
              "      <td>min</td>\n",
              "      <td>18</td>\n",
              "      <td>-6847</td>\n",
              "      <td>1</td>\n",
              "      <td>-6847</td>\n",
              "      <td>1</td>\n",
              "      <td>-1</td>\n",
              "      <td>-6847</td>\n",
              "    </tr>\n",
              "    <tr>\n",
              "      <th>4</th>\n",
              "      <td>max</td>\n",
              "      <td>95</td>\n",
              "      <td>81204</td>\n",
              "      <td>31</td>\n",
              "      <td>81204</td>\n",
              "      <td>63</td>\n",
              "      <td>854</td>\n",
              "      <td>81204</td>\n",
              "    </tr>\n",
              "  </tbody>\n",
              "</table>\n",
              "</div>\n",
              "    <div class=\"colab-df-buttons\">\n",
              "\n",
              "  <div class=\"colab-df-container\">\n",
              "    <button class=\"colab-df-convert\" onclick=\"convertToInteractive('df-4490e66b-29a5-4944-b151-3e32cf7fe539')\"\n",
              "            title=\"Convert this dataframe to an interactive table.\"\n",
              "            style=\"display:none;\">\n",
              "\n",
              "  <svg xmlns=\"http://www.w3.org/2000/svg\" height=\"24px\" viewBox=\"0 -960 960 960\">\n",
              "    <path d=\"M120-120v-720h720v720H120Zm60-500h600v-160H180v160Zm220 220h160v-160H400v160Zm0 220h160v-160H400v160ZM180-400h160v-160H180v160Zm440 0h160v-160H620v160ZM180-180h160v-160H180v160Zm440 0h160v-160H620v160Z\"/>\n",
              "  </svg>\n",
              "    </button>\n",
              "\n",
              "  <style>\n",
              "    .colab-df-container {\n",
              "      display:flex;\n",
              "      gap: 12px;\n",
              "    }\n",
              "\n",
              "    .colab-df-convert {\n",
              "      background-color: #E8F0FE;\n",
              "      border: none;\n",
              "      border-radius: 50%;\n",
              "      cursor: pointer;\n",
              "      display: none;\n",
              "      fill: #1967D2;\n",
              "      height: 32px;\n",
              "      padding: 0 0 0 0;\n",
              "      width: 32px;\n",
              "    }\n",
              "\n",
              "    .colab-df-convert:hover {\n",
              "      background-color: #E2EBFA;\n",
              "      box-shadow: 0px 1px 2px rgba(60, 64, 67, 0.3), 0px 1px 3px 1px rgba(60, 64, 67, 0.15);\n",
              "      fill: #174EA6;\n",
              "    }\n",
              "\n",
              "    .colab-df-buttons div {\n",
              "      margin-bottom: 4px;\n",
              "    }\n",
              "\n",
              "    [theme=dark] .colab-df-convert {\n",
              "      background-color: #3B4455;\n",
              "      fill: #D2E3FC;\n",
              "    }\n",
              "\n",
              "    [theme=dark] .colab-df-convert:hover {\n",
              "      background-color: #434B5C;\n",
              "      box-shadow: 0px 1px 3px 1px rgba(0, 0, 0, 0.15);\n",
              "      filter: drop-shadow(0px 1px 2px rgba(0, 0, 0, 0.3));\n",
              "      fill: #FFFFFF;\n",
              "    }\n",
              "  </style>\n",
              "\n",
              "    <script>\n",
              "      const buttonEl =\n",
              "        document.querySelector('#df-4490e66b-29a5-4944-b151-3e32cf7fe539 button.colab-df-convert');\n",
              "      buttonEl.style.display =\n",
              "        google.colab.kernel.accessAllowed ? 'block' : 'none';\n",
              "\n",
              "      async function convertToInteractive(key) {\n",
              "        const element = document.querySelector('#df-4490e66b-29a5-4944-b151-3e32cf7fe539');\n",
              "        const dataTable =\n",
              "          await google.colab.kernel.invokeFunction('convertToInteractive',\n",
              "                                                    [key], {});\n",
              "        if (!dataTable) return;\n",
              "\n",
              "        const docLinkHtml = 'Like what you see? Visit the ' +\n",
              "          '<a target=\"_blank\" href=https://colab.research.google.com/notebooks/data_table.ipynb>data table notebook</a>'\n",
              "          + ' to learn more about interactive tables.';\n",
              "        element.innerHTML = '';\n",
              "        dataTable['output_type'] = 'display_data';\n",
              "        await google.colab.output.renderOutput(dataTable, element);\n",
              "        const docLink = document.createElement('div');\n",
              "        docLink.innerHTML = docLinkHtml;\n",
              "        element.appendChild(docLink);\n",
              "      }\n",
              "    </script>\n",
              "  </div>\n",
              "\n",
              "\n",
              "<div id=\"df-f734fab4-1a8d-42c2-9116-03fc83da739d\">\n",
              "  <button class=\"colab-df-quickchart\" onclick=\"quickchart('df-f734fab4-1a8d-42c2-9116-03fc83da739d')\"\n",
              "            title=\"Suggest charts\"\n",
              "            style=\"display:none;\">\n",
              "\n",
              "<svg xmlns=\"http://www.w3.org/2000/svg\" height=\"24px\"viewBox=\"0 0 24 24\"\n",
              "     width=\"24px\">\n",
              "    <g>\n",
              "        <path d=\"M19 3H5c-1.1 0-2 .9-2 2v14c0 1.1.9 2 2 2h14c1.1 0 2-.9 2-2V5c0-1.1-.9-2-2-2zM9 17H7v-7h2v7zm4 0h-2V7h2v10zm4 0h-2v-4h2v4z\"/>\n",
              "    </g>\n",
              "</svg>\n",
              "  </button>\n",
              "\n",
              "<style>\n",
              "  .colab-df-quickchart {\n",
              "      --bg-color: #E8F0FE;\n",
              "      --fill-color: #1967D2;\n",
              "      --hover-bg-color: #E2EBFA;\n",
              "      --hover-fill-color: #174EA6;\n",
              "      --disabled-fill-color: #AAA;\n",
              "      --disabled-bg-color: #DDD;\n",
              "  }\n",
              "\n",
              "  [theme=dark] .colab-df-quickchart {\n",
              "      --bg-color: #3B4455;\n",
              "      --fill-color: #D2E3FC;\n",
              "      --hover-bg-color: #434B5C;\n",
              "      --hover-fill-color: #FFFFFF;\n",
              "      --disabled-bg-color: #3B4455;\n",
              "      --disabled-fill-color: #666;\n",
              "  }\n",
              "\n",
              "  .colab-df-quickchart {\n",
              "    background-color: var(--bg-color);\n",
              "    border: none;\n",
              "    border-radius: 50%;\n",
              "    cursor: pointer;\n",
              "    display: none;\n",
              "    fill: var(--fill-color);\n",
              "    height: 32px;\n",
              "    padding: 0;\n",
              "    width: 32px;\n",
              "  }\n",
              "\n",
              "  .colab-df-quickchart:hover {\n",
              "    background-color: var(--hover-bg-color);\n",
              "    box-shadow: 0 1px 2px rgba(60, 64, 67, 0.3), 0 1px 3px 1px rgba(60, 64, 67, 0.15);\n",
              "    fill: var(--button-hover-fill-color);\n",
              "  }\n",
              "\n",
              "  .colab-df-quickchart-complete:disabled,\n",
              "  .colab-df-quickchart-complete:disabled:hover {\n",
              "    background-color: var(--disabled-bg-color);\n",
              "    fill: var(--disabled-fill-color);\n",
              "    box-shadow: none;\n",
              "  }\n",
              "\n",
              "  .colab-df-spinner {\n",
              "    border: 2px solid var(--fill-color);\n",
              "    border-color: transparent;\n",
              "    border-bottom-color: var(--fill-color);\n",
              "    animation:\n",
              "      spin 1s steps(1) infinite;\n",
              "  }\n",
              "\n",
              "  @keyframes spin {\n",
              "    0% {\n",
              "      border-color: transparent;\n",
              "      border-bottom-color: var(--fill-color);\n",
              "      border-left-color: var(--fill-color);\n",
              "    }\n",
              "    20% {\n",
              "      border-color: transparent;\n",
              "      border-left-color: var(--fill-color);\n",
              "      border-top-color: var(--fill-color);\n",
              "    }\n",
              "    30% {\n",
              "      border-color: transparent;\n",
              "      border-left-color: var(--fill-color);\n",
              "      border-top-color: var(--fill-color);\n",
              "      border-right-color: var(--fill-color);\n",
              "    }\n",
              "    40% {\n",
              "      border-color: transparent;\n",
              "      border-right-color: var(--fill-color);\n",
              "      border-top-color: var(--fill-color);\n",
              "    }\n",
              "    60% {\n",
              "      border-color: transparent;\n",
              "      border-right-color: var(--fill-color);\n",
              "    }\n",
              "    80% {\n",
              "      border-color: transparent;\n",
              "      border-right-color: var(--fill-color);\n",
              "      border-bottom-color: var(--fill-color);\n",
              "    }\n",
              "    90% {\n",
              "      border-color: transparent;\n",
              "      border-bottom-color: var(--fill-color);\n",
              "    }\n",
              "  }\n",
              "</style>\n",
              "\n",
              "  <script>\n",
              "    async function quickchart(key) {\n",
              "      const quickchartButtonEl =\n",
              "        document.querySelector('#' + key + ' button');\n",
              "      quickchartButtonEl.disabled = true;  // To prevent multiple clicks.\n",
              "      quickchartButtonEl.classList.add('colab-df-spinner');\n",
              "      try {\n",
              "        const charts = await google.colab.kernel.invokeFunction(\n",
              "            'suggestCharts', [key], {});\n",
              "      } catch (error) {\n",
              "        console.error('Error during call to suggestCharts:', error);\n",
              "      }\n",
              "      quickchartButtonEl.classList.remove('colab-df-spinner');\n",
              "      quickchartButtonEl.classList.add('colab-df-quickchart-complete');\n",
              "    }\n",
              "    (() => {\n",
              "      let quickchartButtonEl =\n",
              "        document.querySelector('#df-f734fab4-1a8d-42c2-9116-03fc83da739d button');\n",
              "      quickchartButtonEl.style.display =\n",
              "        google.colab.kernel.accessAllowed ? 'block' : 'none';\n",
              "    })();\n",
              "  </script>\n",
              "</div>\n",
              "\n",
              "    </div>\n",
              "  </div>\n"
            ]
          },
          "metadata": {},
          "execution_count": 10
        }
      ],
      "source": [
        "# Converting the long type to integer\n",
        "df_bnk = df_bnk.withColumn(\"age\",df_bnk.age.cast('int'))\n",
        "df_bnk = df_bnk.withColumn(\"balance\",df_bnk.balance.cast('int'))\n",
        "df_bnk = df_bnk.withColumn(\"day\",df_bnk.day.cast('int'))\n",
        "df_bnk = df_bnk.withColumn(\"duration\",df_bnk.balance.cast('int'))\n",
        "df_bnk = df_bnk.withColumn(\"campaign\",df_bnk.campaign.cast('int'))\n",
        "df_bnk = df_bnk.withColumn(\"pdays\",df_bnk.pdays.cast('int'))\n",
        "df_bnk = df_bnk.withColumn(\"previous\",df_bnk.balance.cast('int'))\n",
        "\n",
        "numeric_features = [t[0] for t in df_bnk.dtypes if t[1] == 'int']\n",
        "df_bnk.select(numeric_features).describe().toPandas()"
      ]
    },
    {
      "cell_type": "code",
      "execution_count": 11,
      "metadata": {
        "id": "twVMbgoWgBqj",
        "colab": {
          "base_uri": "https://localhost:8080/",
          "height": 542
        },
        "outputId": "f4dfea9b-997f-43b4-ca34-53e988328459"
      },
      "outputs": [
        {
          "output_type": "display_data",
          "data": {
            "text/html": [
              "<html>\n",
              "<head><meta charset=\"utf-8\" /></head>\n",
              "<body>\n",
              "    <div>            <script src=\"https://cdnjs.cloudflare.com/ajax/libs/mathjax/2.7.5/MathJax.js?config=TeX-AMS-MML_SVG\"></script><script type=\"text/javascript\">if (window.MathJax && window.MathJax.Hub && window.MathJax.Hub.Config) {window.MathJax.Hub.Config({SVG: {font: \"STIX-Web\"}});}</script>                <script type=\"text/javascript\">window.PlotlyConfig = {MathJaxConfig: 'local'};</script>\n",
              "        <script charset=\"utf-8\" src=\"https://cdn.plot.ly/plotly-2.24.1.min.js\"></script>                <div id=\"9c7838f9-10d3-4e2a-ba83-c0f9a1606240\" class=\"plotly-graph-div\" style=\"height:525px; width:100%;\"></div>            <script type=\"text/javascript\">                                    window.PLOTLYENV=window.PLOTLYENV || {};                                    if (document.getElementById(\"9c7838f9-10d3-4e2a-ba83-c0f9a1606240\")) {                    Plotly.newPlot(                        \"9c7838f9-10d3-4e2a-ba83-c0f9a1606240\",                        [{\"dimensions\":[{\"axis\":{\"matches\":true},\"label\":\"age\",\"values\":[59,56,41,55,54,42,56,60,37,28,38,30,29,46,31,35,32,49,41,49,28,43,43,43,37,35,31,43,31,28,32,60,26,40,33,32,35,33,38,23,60,48,45,36,52,35,43,52,53,48,41,39,59,41,48,40,48,60,40,57,51,41,41,52,59,44,49,40,41,44,60,29,41,41,42,36,39,31,26,31,29,37,33,24,50,27,54,30,34,37,41,47,31,31,43,37,30,41,36,35,29,35,31,35,34,31,44,36,35,41,31,34,32,36,30,37,36,31,27,34,30,32,37,32,33,35,35,30,45,45,33,44,40,31,30,44,34,37,28,32,37,34,38,28,31,59,24,26,59,30,37,30,25,44,29,26,26,27,25,28,23,34,28,51,35,35,56,45,60,56,27,30,45,29,38,30,44,36,38,36,37,35,38,40,42,46,35,34,32,50,35,36,53,46,26,45,31,29,53,27,39,36,41,36,32,35,36,35,30,42,42,32,29,44,32,31,40,43,27,37,23,25,26,47,35,32,45,30,29,38,23,27,27,29,30,36,35,36,59,47,58,37,46,43,27,38,53,47,56,41,29,50,45,35,26,26,37,30,38,37,53,29,35,28,55,49,50,43,58,38,48,59,58,36,42,41,42,39,57,52,59,56,49,35,36,40,55,58,39,47,40,35,48,48,24,49,36,52,42,36,36,48,51,51,46,37,36,47,40,38,40,39,60,39,51,27,41,42,41,33,46,31,41,41,55,53,55,39,40,59,42,41,27,25,43,44,26,52,54,56,57,29,47,57,40,46,43,45,24,40,38,36,27,26,43,25,27,30,28,27,32,41,37,27,29,33,36,28,55,51,39,42,33,36,45,37,46,32,28,45,41,59,47,31,31,33,52,26,25,25,28,33,45,36,26,38,56,26,26,25,26,40,37,43,41,49,29,39,38,26,32,33,31,49,27,30,35,26,45,34,28,25,30,30,47,57,38,54,25,30,26,31,29,49,60,60,29,55,44,47,35,35,38,34,50,43,44,51,31,39,59,25,58,30,34,51,60,51,37,30,46,29,27,28,34,29,27,26,36,44,39,30,31,56,29,43,32,30,40,42,27,35,35,32,39,31,26,42,27,33,51,33,30,52,42,31,27,44,40,46,32,56,33,33,32,41,31,30,34,43,28,32,31,35,31,25,56,47,39,51,54,58,42,56,55,26,40,26,35,34,41,44,33,36,38,35,41,41,28,26,39,25,37,25,46,25,28,33,32,32,47,50,27,45,51,36,51,33,59,38,40,51,41,38,31,28,41,33,25,45,31,28,49,25,28,54,28,27,49,53,26,37,34,51,39,35,51,30,42,54,51,57,30,37,39,35,48,31,35,48,53,27,55,40,40,38,54,54,50,48,41,51,42,58,47,58,41,50,46,44,36,58,44,49,55,52,60,41,36,41,50,44,54,35,59,42,27,59,43,39,33,36,35,50,55,51,48,55,30,53,40,44,49,40,58,49,38,51,36,55,43,60,57,41,50,53,59,59,52,58,59,49,33,55,42,52,38,55,49,56,46,57,61,45,39,46,43,34,35,36,45,47,42,40,40,32,33,32,46,50,51,30,39,47,40,50,60,32,57,41,50,46,31,36,45,33,47,35,38,33,44,31,31,49,52,31,35,31,36,39,46,48,36,30,33,57,33,35,53,41,32,41,35,48,34,47,46,60,39,57,36,30,33,30,36,49,49,40,49,38,31,34,39,40,47,37,44,55,40,54,35,32,36,37,37,50,58,52,31,40,34,53,43,30,34,48,33,37,57,55,34,44,35,34,49,30,32,56,50,32,45,52,60,47,32,55,36,46,55,30,54,31,46,61,58,38,49,43,52,33,33,53,40,44,42,33,53,60,33,37,45,34,56,57,32,50,30,56,55,34,52,32,31,44,33,53,46,46,59,51,57,43,48,33,59,58,32,44,47,34,51,60,46,41,34,31,37,59,55,33,30,36,44,36,33,36,53,47,39,35,32,46,30,36,47,52,43,44,30,32,42,33,45,45,28,32,28,44,51,56,40,49,50,58,37,27,47,39,43,34,35,58,35,42,43,34,35,38,39,58,60,56,31,37,59,49,30,31,40,43,48,34,28,34,47,59,32,31,27,35,32,57,58,30,37,44,57,34,54,55,59,53,37,45,49,31,31,35,37,48,39,34,49,41,46,54,38,39,46,58,32,30,51,30,35,30,30,43,47,51,32,53,33,40,42,46,32,38,32,30,35,36,43,42,40,32,32,41,34,40,32,32,36,45,47,35,36,33,30,32,45,47,46,39,30,45,43,53,43,54,30,30,36,33,38,37,32,59,59,46,32,52,45,52,31,31,39,35,33,50,36,34,46,47,39,31,41,59,39,48,50,31,30,31,30,34,53,34,57,41,40,37,31,58,39,47,44,45,41,33,30,30,42,49,59,31,43,38,30,35,43,34,52,46,46,37,42,23,53,26,49,34,28,46,26,31,51,47,53,29,32,26,40,33,49,60,41,36,29,42,33,31,31,26,40,45,55,29,47,50,44,56,39,59,43,36,29,38,41,58,61,36,30,43,39,48,26,51,37,29,57,25,68,34,38,54,32,41,48,59,39,31,30,40,28,52,32,34,31,57,31,29,75,32,31,41,22,31,69,30,49,29,43,28,56,39,33,38,30,29,69,44,35,31,26,26,34,42,54,53,54,48,40,28,34,34,32,31,31,66,37,33,50,33,56,26,59,32,22,34,39,28,31,33,66,26,30,28,29,49,34,47,42,43,61,35,40,31,33,69,30,41,31,22,37,48,85,72,46,26,37,53,33,90,54,67,42,71,44,47,44,37,37,28,21,32,51,26,74,65,47,38,71,29,61,57,37,68,29,51,41,24,24,59,85,51,39,44,26,48,37,71,62,26,43,30,50,25,25,31,28,66,41,46,42,28,39,42,35,55,37,29,49,44,54,28,30,47,34,37,25,29,62,58,46,56,33,27,60,32,83,35,31,30,29,36,57,21,44,23,34,32,37,35,47,61,30,70,52,28,57,24,32,65,44,32,33,53,31,58,30,47,60,36,37,43,37,31,31,30,30,32,35,59,33,37,31,26,53,34,46,76,46,83,23,34,24,41,28,34,77,36,58,46,59,19,23,27,73,41,30,26,38,46,27,63,34,32,33,47,48,58,50,26,39,55,41,54,33,42,50,40,37,44,30,26,47,46,25,56,36,35,54,48,32,60,67,32,26,33,21,30,27,30,36,27,29,38,23,38,30,41,33,35,29,68,20,30,32,28,45,29,31,39,42,35,34,26,29,44,34,33,34,33,22,32,36,44,65,61,41,24,77,62,30,29,29,65,43,70,32,46,33,57,62,32,39,76,36,27,38,56,51,39,35,32,51,37,52,35,47,31,49,30,35,44,42,29,42,43,36,36,32,54,50,32,28,40,34,52,35,32,60,34,30,39,40,38,35,37,29,36,34,33,29,33,41,74,53,38,41,52,40,32,28,28,35,46,50,44,29,61,70,44,59,45,39,36,78,28,50,73,34,28,42,54,27,73,33,51,32,33,26,32,41,39,24,37,35,26,29,63,95,65,59,35,74,56,26,30,29,78,45,29,39,45,45,36,41,38,33,30,65,75,65,53,40,31,25,37,32,45,35,74,37,59,76,25,27,39,24,28,51,66,28,30,58,32,31,71,37,56,65,72,51,35,34,29,30,39,45,28,52,59,38,47,52,38,29,36,58,31,59,47,36,21,23,47,29,25,37,33,59,58,44,48,34,42,54,42,42,44,37,29,47,24,34,30,46,34,59,35,33,35,37,35,38,33,42,33,53,53,31,26,30,24,28,26,35,28,30,32,52,38,34,29,30,31,24,25,47,33,34,36,50,34,54,47,31,36,35,25,46,49,47,35,30,31,55,25,26,85,29,39,33,33,58,61,50,54,33,36,31,24,29,40,29,30,45,37,28,33,33,45,25,41,38,47,49,42,33,36,60,33,33,33,32,36,45,35,38,30,31,32,44,39,45,32,39,30,63,56,26,37,29,24,35,43,39,59,50,44,35,30,58,37,39,31,33,41,44,46,30,35,27,39,32,37,31,30,34,31,27,36,32,49,29,29,28,60,33,35,31,40,29,35,32,26,42,33,36,35,30,59,44,50,51,51,60,29,43,31,26,23,49,42,39,45,45,39,45,39,23,57,32,29,42,47,36,57,36,53,56,33,59,47,42,38,40,41,43,24,40,40,34,36,38,39,25,39,41,36,34,34,38,40,31,37,58,48,35,34,51,39,39,36,47,35,33,47,38,46,42,47,37,31,46,36,40,39,45,59,34,40,50,36,35,36,35,47,47,38,33,38,39,43,33,34,28,34,42,33,39,32,34,32,48,31,33,48,33,30,35,51,38,39,27,50,34,38,29,40,32,38,36,28,49,26,44,49,31,55,32,35,35,31,28,39,48,32,41,34,32,34,36,29,54,29,35,36,37,37,31,33,59,30,53,26,30,35,34,33,59,36,34,39,42,60,56,30,26,35,22,26,28,35,35,55,32,28,31,23,26,46,34,60,28,29,39,54,34,27,28,39,60,26,32,40,25,48,37,39,40,31,42,51,28,32,36,36,38,36,40,37,51,34,56,35,34,39,29,33,40,22,32,33,29,29,24,31,27,32,30,27,55,28,29,55,25,36,27,25,32,33,38,45,30,32,26,25,33,32,34,29,28,38,35,28,29,20,45,37,32,59,37,59,27,39,43,39,26,39,43,27,32,29,42,53,36,27,43,60,29,26,26,28,28,28,40,24,56,34,28,37,32,43,36,35,29,27,32,33,24,58,43,26,31,25,58,48,60,25,26,25,26,32,25,21,41,30,47,37,34,28,24,26,35,54,44,56,25,25,50,55,57,48,25,49,25,38,45,33,45,26,49,25,53,43,49,54,47,34,54,43,23,48,30,38,34,52,27,40,47,26,37,34,26,44,29,40,43,52,38,33,50,53,42,49,27,32,31,29,49,46,57,28,37,38,49,35,29,52,34,60,32,27,55,29,42,33,29,39,31,60,25,45,29,55,26,30,54,39,26,57,39,25,43,32,43,50,35,37,42,27,27,29,29,26,39,41,29,33,32,30,38,55,25,38,35,31,25,31,27,34,40,27,28,28,35,58,44,57,25,21,49,54,59,28,37,30,35,31,41,30,28,31,53,22,36,33,31,49,51,34,35,32,36,31,25,25,60,40,50,32,60,32,52,59,56,47,43,25,31,27,26,37,27,49,26,28,33,31,32,30,34,58,34,26,49,57,83,61,64,37,68,71,54,37,22,44,37,72,69,41,44,32,79,33,45,40,42,30,28,58,39,31,45,56,46,56,27,30,26,35,52,54,41,24,28,62,52,23,82,63,32,31,37,40,66,37,38,27,58,49,31,31,38,79,71,52,55,46,28,22,49,20,19,34,73,27,59,25,44,28,25,28,52,57,49,33,47,68,40,46,29,55,30,49,48,21,45,43,47,27,20,37,61,57,40,53,65,67,66,67,57,38,56,46,69,32,72,41,72,33,37,34,44,42,58,34,55,71,23,60,18,54,59,32,61,31,42,42,42,70,57,60,53,48,30,39,42,26,46,40,39,58,42,31,21,35,50,36,75,20,57,41,59,36,18,34,55,33,43,34,35,43,74,45,38,32,29,31,50,44,23,56,76,28,34,56,45,36,57,49,49,37,46,26,47,36,37,62,26,45,63,25,60,44,33,39,46,42,56,82,77,36,35,50,62,26,55,22,30,34,31,55,49,67,43,25,59,44,42,29,32,30,38,22,25,34,27,35,45,42,20,60,47,25,65,50,22,43,53,71,28,59,29,51,48,37,37,64,69,36,43,63,70,60,86,72,60,43,57,28,36,66,33,36,29,62,34,29,30,32,39,55,36,27,45,55,52,49,30,39,48,36,27,51,48,70,63,34,46,31,32,40,30,55,57,59,26,73,30,64,36,55,63,52,34,36,31,47,50,70,18,33,24,25,26,32,25,58,42,30,76,79,70,30,60,51,71,31,32,34,28,45,53,38,56,42,47,73,46,73,28,46,74,71,41,73,47,49,40,57,50,34,56,32,50,54,26,40,29,52,38,46,26,25,70,83,43,45,37,71,27,47,42,77,61,57,34,40,84,26,37,47,37,28,54,54,61,30,60,44,33,25,54,24,36,58,33,27,60,56,25,21,73,67,51,48,35,61,35,36,83,50,66,58,30,54,26,43,40,57,75,77,31,22,50,27,73,37,44,40,61,61,47,47,76,30,39,72,77,36,65,54,46,28,61,53,27,55,33,87,57,33,51,76,19,33,55,31,92,30,68,41,29,27,78,82,29,76,38,60,33,43,61,43,57,33,77,35,59,76,73,81,41,57,28,38,52,22,53,60,56,38,44,69,36,75,65,64,30,57,31,36,64,54,26,51,72,30,60,30,66,50,47,80,61,47,30,21,62,26,36,87,61,70,60,41,22,60,54,35,59,29,48,37,36,52,67,36,64,29,27,76,34,54,67,24,53,33,24,32,60,64,35,24,42,40,33,71,52,47,49,26,40,32,33,35,53,20,44,21,36,31,42,33,29,30,32,54,82,47,48,77,38,27,43,33,27,76,81,71,39,18,58,44,67,31,61,36,56,24,33,34,58,64,27,63,23,37,43,35,33,75,40,52,55,71,78,35,52,31,31,38,28,72,29,46,53,58,22,28,31,26,60,29,36,68,48,53,39,28,72,29,26,49,43,28,44,73,39,29,31,30,50,42,37,49,59,80,86,69,79,36,49,69,66,32,47,58,64,72,79,30,36,53,34,29,29,81,57,72,34,57,66,27,50,75,50,32,59,68,31,64,30,60,35,72,30,52,33,84,43,39,25,38,44,20,32,23,35,61,46,70,25,57,55,33,73,34,31,25,30,28,21,87,22,28,31,60,41,24,54,35,70,62,59,48,45,36,33,32,60,39,37,85,79,64,42,47,66,61,27,63,36,38,92,77,30,81,42,48,52,38,61,20,39,44,73,36,48,52,30,36,80,33,56,54,34,66,52,60,28,56,36,45,60,33,77,66,45,30,56,64,30,33,72,44,37,52,37,34,78,45,68,53,39,55,32,76,35,55,41,35,80,38,48,25,36,29,58,46,23,67,30,22,45,40,35,33,60,24,18,65,27,35,39,53,23,34,36,52,36,61,58,48,34,58,39,44,54,27,77,30,61,76,28,35,59,42,35,71,60,34,57,75,64,36,29,34,26,41,47,52,32,21,54,29,32,38,48,46,32,49,37,37,23,58,45,30,23,34,27,28,61,27,34,52,28,35,66,52,26,38,59,47,22,82,60,53,39,27,35,80,47,72,45,37,29,40,32,20,48,60,70,78,52,61,27,63,59,22,66,74,52,71,33,56,30,73,28,27,38,28,37,47,60,42,27,25,90,29,29,63,32,32,42,26,73,26,60,25,64,68,39,40,37,36,33,83,31,64,59,33,35,69,31,73,35,28,34,33,36,44,19,28,51,52,61,39,37,80,61,72,36,74,35,82,71,38,38,53,29,64,35,35,46,25,46,59,35,22,31,43,35,60,54,29,30,28,43,37,62,57,33,47,39,30,28,57,23,56,44,80,47,27,26,50,84,86,46,45,60,47,53,54,19,24,39,53,29,30,32,33,33,57,27,55,36,26,31,25,49,30,32,36,38,45,36,23,38,44,35,75,26,59,30,36,39,24,22,36,22,34,22,57,30,55,38,39,38,24,30,29,25,52,62,40,76,31,42,43,73,41,77,46,35,26,45,29,30,26,63,37,26,54,30,61,69,76,30,64,55,55,29,41,63,45,32,41,37,19,61,40,30,54,49,45,48,60,34,29,77,64,80,26,33,41,28,74,29,72,18,46,37,37,32,51,77,35,53,46,78,34,54,33,23,34,32,54,40,63,37,48,28,35,29,68,53,37,58,37,37,34,50,56,57,29,75,24,46,27,52,38,33,53,64,84,62,41,29,53,30,37,78,47,61,46,31,21,71,52,25,60,30,29,52,59,38,33,31,40,28,66,32,67,39,46,54,47,45,63,60,29,33,48,26,55,36,33,28,28,31,28,49,27,28,65,30,38,36,63,63,28,80,39,31,39,30,67,29,36,24,30,21,27,56,66,71,26,62,32,68,37,27,45,64,38,66,30,39,24,49,34,46,32,52,25,57,64,33,36,59,25,43,37,49,42,27,29,37,47,38,48,55,39,49,68,45,67,60,31,58,41,23,35,33,32,48,43,32,74,32,63,28,31,26,31,39,28,30,24,32,46,60,37,48,52,29,71,47,70,28,31,80,29,23,34,69,19,35,38,32,50,27,53,35,43,30,57,31,65,25,33,79,24,27,36,26,51,70,23,41,53,86,27,34,68,35,28,66,30,60,46,68,63,29,35,64,22,19,31,48,33,34,46,60,36,32,45,44,57,29,31,54,49,35,24,43,34,27,54,38,34,93,36,33,35,41,36,30,41,29,82,37,46,44,61,33,23,45,61,40,82,27,26,27,53,54,64,57,31,61,35,77,36,32,61,69,69,34,45,64,35,22,34,34,55,53,63,37,29,29,38,62,34,56,48,42,68,43,62,68,38,63,48,45,59,35,32,93,33,48,38,29,38,41,57,53,56,33,41,34,29,34,21,37,33,45,61,22,37,45,35,28,31,62,47,57,60,25,40,33,53,30,36,56,38,29,61,62,24,65,70,60,30,51,36,42,58,43,77,34,35,39,35,41,25,51,48,26,55,49,29,67,42,35,37,35,61,60,33,27,24,57,63,61,52,34,28,60,32,34,31,28,55,65,37,35,33,75,48,33,38,25,41,25,27,49,43,52,48,29,43,65,72,26,37,37,28,61,32,51,38,34,60,24,36,46,80,37,39,62,84,24,24,28,31,33,33,64,48,28,28,69,28,24,52,37,25,58,62,41,28,75,21,40,35,49,39,63,38,72,31,49,29,39,78,61,60,58,67,20,28,41,31,37,81,46,46,44,23,40,27,60,55,43,26,25,31,54,29,36,59,37,28,35,32,49,50,55,81,24,38,61,67,28,29,31,71,33,47,39,26,22,34,32,48,32,58,48,28,36,67,30,27,31,27,33,36,62,29,26,59,51,27,60,42,47,43,22,34,39,27,49,42,64,44,64,29,52,52,54,37,48,28,77,63,34,29,38,47,63,30,74,31,33,25,78,26,47,56,54,46,47,24,70,63,22,38,44,52,35,29,41,62,62,38,36,34,60,32,29,32,75,29,68,25,36,38,53,34,23,73,25,51,72,42,59,32,36,34,28,54,27,42,31,41,37,31,33,27,44,22,25,30,46,32,57,41,62,28,77,47,40,41,28,51,47,37,29,24,27,23,32,40,32,57,28,35,35,24,36,66,45,28,45,31,45,34,39,24,33,54,26,30,37,32,39,27,54,54,71,41,29,60,60,36,34,27,34,36,32,55,34,25,51,33,35,55,61,34,55,23,69,37,49,41,39,30,32,61,33,32,45,59,48,18,27,32,50,30,23,40,27,35,53,59,37,24,42,27,29,30,22,39,35,61,33,42,30,51,25,44,34,28,61,21,53,46,52,56,36,30,41,33,28,54,50,58,33,36,51,35,35,34,45,24,45,42,30,60,40,25,48,28,55,47,32,55,27,42,47,36,64,34,72,27,54,19,33,36,26,42,24,28,58,59,46,49,45,32,46,29,30,31,31,33,49,30,29,44,34,62,58,60,62,53,32,39,58,38,56,52,45,28,29,29,60,31,31,57,25,27,24,39,27,24,56,33,38,34,45,35,52,38,23,38,36,33,43,41,46,60,40,33,35,36,28,60,47,35,53,39,46,34,58,34,33,42,32,47,35,77,62,62,38,37,38,31,38,31,34,33,38,28,67,31,49,53,31,60,30,38,49,40,34,35,33,34,28,27,22,27,34,62,36,47,32,33,27,35,47,57,26,46,58,43,49,34,28,33,25,26,32,29,30,23,41,66,62,28,33,77,54,50,31,45,30,40,67,39,20,31,31,33,45,45,31,33,41,31,50,56,28,35,30,64,32,29,29,51,40,45,36,31,43,42,46,34,52,47,40,26,45,55,42,40,43,26,31,31,29,44,35,36,30,48,33,36,46,35,46,32,46,54,36,29,58,35,30,31,35,36,34,28,23,46,33,25,43,38,62,33,53,38,32,24,26,55,47,58,30,39,30,34,34,56,27,46,32,27,36,46,46,49,39,33,48,38,60,33,64,22,34,36,72,37,78,31,20,60,36,51,26,48,49,20,77,42,31,56,32,33,33,54,28,41,51,43,36,49,47,30,31,39,40,48,30,41,33,25,49,32,64,28,37,25,53,62,34,26,39,45,19,33,43,35,52,28,35,50,37,36,61,24,35,32,45,43,39,35,23,34,47,21,37,53,46,26,51,58,51,33,46,34,40,40,46,59,34,49,28,56,28,33,37,38,25,74,42,29,60,41,51,49,41,31,25,32,73,31,32,27,60,34,43,31,42,27,57,30,45,49,31,41,57,57,58,54,36,53,34,27,41,62,27,37,22,27,30,28,27,42,36,27,58,55,52,42,46,32,52,57,40,30,30,39,28,34,30,24,59,38,47,52,35,61,46,55,42,26,58,46,39,29,21,57,31,49,56,30,34,35,55,44,36,63,37,58,37,26,44,37,53,37,40,40,31,36,36,52,39,47,49,32,36,27,71,32,29,64,24,21,42,47,53,33,62,33,58,52,37,37,34,79,54,28,33,21,46,38,32,34,49,31,32,38,27,78,60,36,75,30,30,50,37,60,26,49,40,46,38,74,35,50,54,35,36,30,36,41,30,39,34,32,35,50,28,44,32,30,59,35,30,42,63,35,43,27,29,54,80,57,33,65,59,30,28,29,31,31,49,43,40,39,71,38,30,45,67,58,45,34,27,51,38,28,25,37,38,37,34,37,76,48,49,62,33,19,25,31,38,31,24,24,26,73,29,49,42,68,60,53,62,33,36,46,37,53,34,24,36,34,48,43,32,46,32,45,29,25,20,45,42,29,23,37,35,61,31,41,34,32,32,34,35,44,32,34,50,32,23,32,60,44,30,37,35,36,39,25,33,28,31,56,41,68,61,37,28,46,53,32,33,57,41,24,45,49,30,26,57,39,40,52,35,46,49,22,36,38,40,24,78,25,63,31,41,50,27,27,50,44,26,46,36,35,68,50,36,34,30,22,59,60,32,46,23,22,59,26,35,53,39,32,41,37,35,42,27,57,41,37,44,32,34,42,54,48,73,33,42,57,29,47,51,34,25,50,47,40,79,30,54,53,33,60,35,46,52,50,47,73,35,26,46,42,29,30,37,28,32,53,41,40,53,64,32,48,35,43,25,43,29,61,64,27,38,36,61,49,33,25,33,51,32,32,72,34,38,35,38,43,31,30,22,46,52,35,71,30,25,34,51,25,48,42,55,38,26,27,75,32,39,46,40,36,54,42,42,37,25,29,32,64,55,56,28,52,36,25,66,31,43,59,35,48,38,27,25,56,54,36,31,62,31,66,32,40,43,51,34,47,36,27,52,44,26,32,34,35,32,43,50,40,29,32,50,65,59,44,33,33,57,38,49,45,25,22,32,36,32,45,35,23,50,31,61,42,39,37,30,55,30,57,31,37,34,31,52,48,73,54,38,39,44,29,51,31,33,39,30,39,25,57,35,27,27,28,41,46,38,35,24,24,28,28,53,45,33,51,32,65,32,67,53,41,30,37,27,77,32,25,32,43,30,59,61,32,37,51,55,38,47,59,51,25,67,58,52,54,27,41,72,24,36,39,55,35,32,29,59,33,30,30,37,39,40,29,24,31,62,33,67,44,79,30,38,31,38,36,30,34,27,32,37,56,28,49,23,56,54,59,53,51,31,62,38,25,43,45,78,30,69,48,31,57,45,48,34,37,32,35,31,54,52,29,34,37,66,33,60,55,34,52,29,43,57,32,67,45,47,31,52,41,35,48,53,59,26,30,56,41,52,35,41,39,51,46,43,31,56,35,58,33,36,49,47,61,45,53,31,35,55,50,53,45,45,32,33,51,27,37,45,40,41,35,62,42,38,36,59,46,42,27,44,32,32,43,38,40,44,49,37,40,54,38,45,49,46,39,56,37,39,53,38,25,35,47,40,31,50,40,55,31,59,52,55,49,31,55,38,52,57,65,53,34,41,44,49,39,54,22,31,53,59,59,56,52,57,41,39,35,53,35,25,34,38,42,28,35,34,32,38,32,41,41,26,60,51,24,37,44,74,50,31,31,25,39,30,60,48,30,43,44,29,46,28,34,42,59,27,36,34,30,50,50,45,40,49,54,31,35,34,48,51,47,45,33,33,27,47,54,37,43,49,43,27,44,37,50,50,52,26,35,47,55,26,37,56,33,36,32,30,39,28,36,39,48,34,50,26,35,44,47,62,55,26,88,28,41,25,40,35,65,40,43,29,48,35,30,32,30,30,24,29,44,42,45,57,36,49,30,48,32,35,40,32,37,37,43,48,36,33,33,36,65,50,34,35,32,34,34,33,45,35,53,39,38,35,52,30,37,33,52,29,28,37,33,32,25,37,34,40,40,38,39,37,35,33,38,37,29,42,45,42,33,35,30,31,45,44,31,30,54,35,36,55,45,30,57,59,47,34,46,56,24,40,50,31,37,45,45,36,57,39,47,44,39,40,48,56,50,29,33,57,54,64,61,36,50,30,40,40,30,55,59,37,53,56,33,49,47,34,33,31,44,50,39,41,33,40,42,37,56,49,35,41,52,33,40,44,39,39,28,45,63,32,28,36,34,45,30,59,54,47,41,35,38,36,39,48,42,24,57,35,32,26,27,47,32,48,43,30,28,32,26,38,30,33,37,47,36,48,47,34,28,54,33,41,41,42,32,47,36,34,36,50,53,49,39,47,57,30,54,35,47,38,40,51,51,57,41,31,59,26,41,39,25,33,35,49,31,40,32,42,33,48,28,43,30,41,55,55,54,55,57,27,28,51,27,40,56,35,47,49,35,50,55,56,35,42,34,40,33,33,59,51,47,48,31,39,52,28,56,47,77,39,31,39,32,59,42,50,44,47,51,34,36,32,28,34,40,49,30,56,28,31,28,53,38,54,36,60,40,50,28,33,53,38,34,41,64,45,38,57,34,36,30,32,42,35,42,50,38,38,55,60,33,30,30,51,37,37,45,37,48,42,49,36,54,52,30,37,31,26,51,34,26,32,38,52,44,31,38,32,41,48,29,41,49,40,27,45,48,31,45,43,31,37,38,29,28,55,27,43,29,52,33,27,27,31,31,45,34,48,47,49,55,51,37,33,33,29,57,60,51,45,45,39,25,47,34,40,48,39,38,32,27,47,40,41,40,39,45,31,27,56,39,52,58,48,33,38,42,36,35,45,51,43,45,30,40,56,48,32,47,30,37,52,49,53,53,34,40,39,33,41,31,45,23,51,34,36,42,33,46,37,33,30,53,46,35,36,46,31,52,48,45,36,53,35,44,38,44,51,32,59,31,52,26,40,35,54,36,45,29,49,52,52,47,33,30,52,54,59,35,29,33,32,50,54,49,39,34,31,46,59,32,39,54,33,59,28,48,39,41,33,37,30,36,53,26,59,44,55,26,41,28,40,47,39,38,37,36,53,47,28,32,25,39,60,39,31,45,36,44,33,31,38,50,40,33,42,42,33,40,52,49,30,26,40,30,55,48,28,54,36,34,39,66,42,55,85,63,37,24,34,28,58,49,31,56,43,32,55,55,31,49,41,56,50,37,35,52,33,42,33,35,28,41,44,26,40,37,33,36,28,37,32,49,36,39,34,32,26,46,78,47,80,25,50,36,42,54,43,29,36,59,47,36,56,55,38,39,35,54,32,30,51,39,46,33,34,33,55,49,37,29,28,21,44,30,46,33,40,42,44,32,34,55,35,47,29,47,39,40,42,31,31,82,44,32,40,26,30,45,32,56,58,28,43,34,40,31,28,45,33,42,32,41,32,37,57,56,37,34,46,40,32,28,46,44,55,75,41,30,33,43,49,32,26,55,46,31,34,37,29,24,46,41,52,27,44,39,52,77,35,49,37,46,43,35,29,52,55,33,40,39,61,63,44,52,58,38,51,29,42,56,55,43,27,54,25,33,46,26,30,39,58,49,49,43,60,57,38,56,45,45,44,40,38,55,40,35,32,31,49,55,51,30,37,36,51,29,32,36,32,56,46,39,57,53,33,43,40,44,59,59,28,26,59,78,33,38,35,30,31,35,45,40,50,29,41,44,29,49,30,37,52,30,40,33,34,33,35,54,32,32,44,53,53,40,29,36,40,58,34,60,23,59,42,50,31,31,28,56,23,30,54,35,29,48,43,40,38,30,60,31,28,31,48,36,41,35,51,35,51,56,59,27,48,24,56,34,35,57,30,40,48,35,46,30,37,30,46,43,40,34,43,31,37,49,38,27,35,47,56,26,29,53,38,33,30,36,37,60,48,32,31,54,31,31,29,23,51,32,48,32,44,35,46,31,31,36,35,35,36,52,27,47,43,41,18,45,41,34,46,38,23,73,41,43,51,45,47,35,38,31,49,29,39,41,34,39,78,33,59,52,35,43,43,36,36,45,47,38,45,33,38,36,38,34,32,49,37,47,28,29,30,34,39,26,38,47,61,35,34,34,56,47,36,43,51,40,38,34,47,57,35,45,55,54,39,58,31,35,45,44,57,41,42,49,52,57,29,34,36,39,53,40,38,34,40,39,51,33,59,30,61,24,36,34,47,40,46,32,39,35,37,45,38,52,28,35,45,33,42,23,49,52,27,34,31,45,32,51,56,44,41,54,31,25,50,41,33,49,34,60,45,40,50,27,53,31,24,68,27,46,23,76,48,60,46,36,30,33,36,44,36,44,70,48,52,34,35,54,47,38,41,28,58,59,32,55,38,40,45,42,53,32,55,54,46,39,36,44,28,36,43,25,31,60,29,46,31,31,45,60,50,34,33,57,38,42,54,46,59,38,49,49,30,52,38,44,39,38,36,32,57,45,43,42,58,53,30,40,35,34,35,28,39,51,29,44,32,28,53,81,33,37,37,35,30,43,45,34,40,60,54,39,44,32,34,44,30,47,74,27,34,52,32,42,31,31,31,57,40,23,43,45,58,38,48,47,49,28,31,38,43,52,43,29,45,59,48,30,23,38,52,44,34,32,41,31,40,52,32,26,29,31,48,27,30,28,35,47,35,31,53,26,35,29,39,31,48,36,27,49,34,28,49,35,53,58,37,27,30,35,32,53,34,38,34,40,48,30,31,37,32,40,41,52,29,49,43,42,37,57,25,30,31,49,47,57,26,40,34,41,53,26,28,54,42,29,49,32,29,60,51,40,44,47,32,43,59,24,26,37,27,32,44,34,39,30,44,22,28,41,30,36,39,38,31,29,42,27,55,28,47,49,38,53,31,57,36,38,30,36,29,32,48,53,35,48,31,30,28,42,31,36,43,28,34,36,28,34,53,52,44,58,47,40,39,33,23,31,39,42,46,22,50,50,34,40,39,51,45,34,30,57,42,51,38,60,38,37,34,39,55,48,42,29,33,35,28,26,40,42,49,32,33,30,20,51,38,53,34,30,36,36,39,33,42,30,23,37,77,33,33,40,58,29,43,34,38,38,40,59,44,60,37,50,50,35,39,29,34,31,51,46,27,61,34,30,58,30,50,30,43,35,36,46,46,29,48,50,53,38,27,36,48,59,21,56,57,41,36,45,40,30,75,35,58,29,54,28,33,56,50,37,49,54,40,33,48,43,35,55,33,41,57,50,63,33,47,36,23,33,36,47,39,44,60,42,32,33,37,33,59,42,59,31,50,29,36,33,38,33,36,36,44,29,44,55,38,39,45,36,36,59,41,29,50,51,29,40,36,49,45,40,31,32,44,27,25,56,59,31,49,50,42,37,36,53,51,42,47,40,25,36,80,60,51,59,80,47,36,31,33,45,33,51,51,48,34,28,33,36,40,34,31,49,35,38,32,33,39,30,53,24,52,27,36,29,47,43,48,57,25,43,50,54,38,41,35,33,51,29,34,51,58,50,38,57,49,42,33,34,36,60,37,41,36,56,34,33,29,43,29,36,33,39,26,41,36,31,34,28,47,41,39,53,45,30,39,30,32,66,26,30,42,44,38,31,34,42,34,31,30,31,47,52,31,51,48,47,55,58,74,30,40,50,36,26,30,34,53,42,33,35,33,41,40,32,54,31,35,47,48,50,33,40,60,68,54,30,42,57,28,55,42,49,41,31,33,55,34,38,46,49,44,57,44,42,37,42,33,31,34,26,42,41,35,26,42,36,60,51,32,46,31,42,45,31,41,28,41,36,41,40,40,58,32,30,43,33,30,37,40,39,39,26,35,59,31,36,26,36,59,42,35,59,44,34,36,43,45,29,29,40,31,29,37,35,35,39,28,31,34,31,51,53,34,42,33,29,25,42,46,52,60,25,55,37,49,42,32,43,26,41,30,42,34,20,45,58,51,55,31,42,48,62,40,37,39,34,52,35,56,37,35,31,42,27,33,31,53,56,80,63,37,43,62,25,51,39,47,39,32,30,34,41,44,43,30,46,36,56,44,37,36,24,49,69,47,29,31,42,30,26,37,28,36,46,58,46,47,50,47,26,42,34,46,51,52,38,44,52,32,35,36,37,26,32,46,50,43,55,35,45,48,31,46,50,53,36,50,40,39,38,32,31,41,41,58,36,54,32,54,46,31,34,46,45,30,38,31,30,43,26,32,33,40,47,34,39,49,41,45,45,54,34,44,56,60,56,60,57,29,39,33,61,58,27,37,34,35,35,49,34,34,48,55,47,52,30,54,40,43,53,25,51,45,42,35,37,43,42,58,43,29,39,59,36,44,34,49,26,51,37,33,36,34,45,38,40,54,34,51,46,52,38,26,39,54,44,52,43,45,38,59,40,34,41,36,40,39,34,31,32,53,28,38,50,36,23,51,51,35,32,60,34,58,58,34,38,34,31,46,36,35,42,28,39,39,39,43,69,43,36,38,38,37,37,31,31,32,42,46,35,31,60,55,45,33,48,36,37,37,54,40,44,46,37,57,43,33,38,31,44,28,31,42,41,20,29,33,36,42,57,35,33,37,55,28,38,38,60,55,48,30,31,25,37,26,45,76,32,52,35,54,33,44,34,38,33,32,36,77,26,33,45,55,55,35,28,55,37,35,33,35,30,35,49,26,26,31,38,54,50,37,29,35,36,57,72,27,48,30,27,57,38,47,57,43,43,32,37,49,32,40,43,46,49,37,40,56,30,40,29,37,38,28,40,58,41,55,40,40,27,52,31,30,59,47,57,43,38,27,46,42,51,42,42,38,43,34,28,43,55,32,49,48,30,43,42,30,31,33,46,38,53,45,56,33,28,39,38,32,52,29,29,33,46,36,35,39,56,42,44,50,46,50,48,39,26,32,36,56,30,39,33,43,32,27,46,42,43,59,44,31,26,51,24,26,54,31,33,42,33,40,46,33,56,38,35,32,51,33,31,31,49,43,40,27,33,47,59,52,35,32,49,54,30,33,50,40,38,34,33,41,30,45,28,35,31,41,32,34,26,29,49,30,44,42,35,39,34,58,35,32,31,41,39,39,38,46,54,34,40,40,30,37,34,66,30,59,56,25,36,33,30,29,52,54,28,58,23,49,47,73,44,29,48,35,41,40,57,43,31,51,52,31,26,36,43,32,26,25,34,30,35,42,53,52,35,29,43,81,35,36,76,44,38,37,41,49,53,34,30,43,36,60,45,49,39,57,49,39,37,45,36,58,48,52,32,51,31,30,34,53,32,52,50,30,34,51,34,26,51,31,29,29,46,35,44,34,27,28,59,38,34,44,35,45,34,57,76,30,48,43,34,30,33,38,52,34,40,36,56,29,34,31,36,30,36,25,32,31,49,37,26,41,47,57,50,36,42,30,43,49,35,32,36,42,34,33,55,46,34,50,30,53,48,55,35,48,45,31,55,41,33,40,51,31,26,39,30,28,48,56,45,38,28,51,32,31,34,46,36,39,42,32,35,50,55,51,43,46,31,38,40,53,41,46,48,31,29,37,37,56,60,46,31,51,38,39,30,35,31,27,42,67,32,49,56,34,50,27,56,44,45,45,37,26,32,25,48,29,46,34,46,31,39,29,38,40,39,49,34,30,57,34,21,35,39,42,25,27,33,51,32,53,29,33,33,32,31,45,57,47,52,56,51,40,30,39,42,25,60,37,48,32,33,51,43,31,36,58,33,31,28,29,34,31,31,37,32,42,34,74,60,32,47,45,50,39,60,47,40,26,43,30,34,35,21,52,31,42,31,58,51,38,32,31,36,33,47,52,42,39,31,52,40,29,49,57,35,26,35,31,57,32,87,44,41,36,56,35,46,32,41,34,48,31,41,36,31,37,48,31,42,50,47,43,59,35,24,49,47,57,29,50,32,23,41,48,29,42,38,31,38,50,36,52,50,38,30,46,54,46,49,36,58,29,41,32,33,31,44,51,38,38,27,41,32,45,54,36,33,40,37,48,36,46,29,41,44,40,33,60,48,37,39,28,44,37,58,50,38,31,33,35,53,58,26,34,50,42,46,45,46,31,44,36,50,33,33,55,40,30,36,34,46,55,56,34,42,48,51,45,35,63,35,25,26,29,26,26,23,51,51,43,81,42,41,35,32,51,33,38,48,50,39,30,39,35,41,41,35,43,27,32,39,37,40,33,29,50,39,32,49,37,57,44,36,55,40,40,44,41,65,31,48,55,34,36,33,46,52,33,29,36,37,53,28,19,41,33,28,40,78,29,36,59,34,82,36,48,36,25,40,33,30,27,34,28,40,47,59,30,39,44,46,32,35,35,38,27,32,37,59,32,31,55,26,30,34,83,46,48,47,31,32,32,39,54,55,28,48,44,47,43,53,42,39,37,58,31,40,38,46,31,32,46,25,28,40,31,39,36,37,48,34,24,33,54,56,41,46,27,32,40,38,36,33,31,34,34,45,52,37,30,35,31,47,32,32,39,31,31,44,40,77,34,48,31,31,32,42,35,57,56,34,52,31,42,46,32,47,46,41,42,31,47,60,35,46,40,48,52,50,34,34,44,44,28,28,29,29,55,31,31,32,31,47,34,53,29,50,49,32,42,37,36,33,36,30,57,37,25,70,41,26,53,55,23,45,34,35,30,36,48,67,35,38,44,54,42,36,26,35,33,58,21,34,38,41,36,38,25,34,34,45,30,42,50,33,35,59,38,33,45,37,35,41,33,30,49,39,44,38,27,45,40,53,32,34,29,34,40,44,36,39,58,37,31,46,26,37,39,36,29,47,47,44,24,30,55,41,57,34,31,56,53,33,67,53,41,46,58,39,30,37,45,50,30,29,32,37,26,51,38,72,42,57,22,46,32,42,37,27,30,34,56,54,57,56,41,32,34,30,42,40,36,42,34,30,35,44,46,38,32,34,53,38,54,32,33,46,49,37,40,35,26,27,39,31,53,50,36,46,36,38,44,56,37,51,41,55,38,21,40,39,30,28,58,50,32,44,47,45,48,60,45,31,30,52,31,53,47,42,57,35,47,37,55,58,33,29,41,53,41,42,52,42,33,44,53,35,47,59,31,40,55,41,46,35,46,31,49,37,41,42,34,55,49,59,26,43,35,43,51,29,42,73,39,39,44,30,32,57,55,24,41,39,52,28,56,33,41,32,50,28,36,36,53,40,34,35,55,49,57,44,57,36,53,25,26,33,33,29,34,46,25,57,50,48,32,45,32,34,56,49,54,44,35,31,34,38,56,49,44,33,33,29,34,57,34,55,47,48,36,34,43,55,58,62,32,35,33,54,41,58,34,58,30,40,35,37,32,33,48,46,35,32,30,46,27,40,60,28,27,31,28,27,36,41,30,52,35,37,37,48,38,44,43,35,40,42,51,46,40,51,24,31,41,34,31,31,52,38,31,34,22,60,28,31,32,77,70,29,34,38,45,40,34,30,56,50,53,48,53,27,46,54,36,31,58,48,29,57,37,53,58,33,38,28,28,37,27,36,53,26,59,31,59,40,27,32,42,43,53,30,53,53,57,33,38,33,42,32,42,41,35,48,24,59,45,39,46,38,30,52,42,46,33,52,49,59,58,26,41,41,39,27,47,52,37,38,42,41,46,40,41,60,59,59,28,45,31,31,46,51,37,40,31,38,39,29,65,26,44,27,35,36,36,24,33,53,45,37,60,30,37,34,28,44,34,70,38,32,39,38,36,32,34,49,45,24,47,36,25,30,29,27,57,38,43,35,38,71,36,40,50,31,33,57,32,52,30,40,50,32,36,60,48,72,46,45,50,29,40,49,42,43,36,37,59,75,53,53,57,30,44,51,30,42,48,40,36,40,47,39,41,42,50,58,70,29,56,32,39,33,47,39,34,36,40,34,54,36,34,50,48,35,33,42,31,54,55,30,30,59,50,59,27,25,37,36,56,52,36,30,31,55,28,44,28,25,39,32,42,31,38,30,50,50,47,29,34,54,43,47,55,35,32,49,39,32,49,32,47,42,52,31,52,38,53,40,31,53,46,49,34,63,41,55,29,47,37,38,29,41,53,40,56,34,28,41,32,51,33,34,26,31,39,50,33,44,38,33,32,33,55,27,39,21,57,29,45,46,47,44,43,44,52,33,27,43,29,43,34,30,56,46,42,51,30,41,57,36,47,37,33,49,34,54,39,58,36,46,31,31,50,40,47,26,29,38,57,47,56,37,66,49,31,30,42,55,33,33,43,32,42,53,42,37,31,57,33,57,30,31,33,33,53,38,60,36,27,32,45,28,57,37,47,35,32,41,35,26,47,36,46,30,44,47,49,55,56,28,34,55,27,38,43,55,30,48,30,58,39,35,41,32,48,76,43,46,59,29,31,36,46,37,48,31,39,39,39,55,54,32,37,36,60,25,50,59,58,49,47,38,32,40,50,35,47,27,48,40,35,39,34,36,56,30,51,41,35,53,25,34,29,33,43,47,35,49,41,49,44,32,27,53,55,60,27,58,42,31,30,32,56,57,57,39,37,32,41,49,36,58,58,33,31,46,42,46,47,42,53,31,39,57,29,32,38,34,35,55,42,32,50,56,36,49,48,32,35,48,40,55,50,55,26,34,45,44,34,39,31,27,41,45,28,39,31,31,31,35,32,49,42,31,35,31,45,24,49,36,28,54,27,34,40,32,41,38,35,31,47,41,29,33,89,54,72,29,41,39,41,31,32,52,41,45,29,32,35,54,41,42,59,58,32,56,50,45,59,47,54,40,37,29,36,33,32,53,33,36,43,45,52,48,40,31,34,54,40,55,33,50,59,40,45,32,50,58,38,57,31,69,26,30,49,36,37,55,36,31,30,36,50,53,39,31,49,35,45,30,47,37,35,41,35,60,58,28,57,35,54,31,32,56,35,33,50,46,35,49,56,33,37,30,34,29,32,29,50,58,30,52,39,43,51,38,30,52,40,37,30,51,27,35,47,29,52,43,31,54,59,51,32,42,46,30,42,39,31,35,34,42,57,38,29,46,48,33,59,23,37,40,44,37,28,39,57,38,60,38,26,32,35,30,37,36,34,28,37,31,34,28,38,80,59,54,29,39,30,41,48,26,55,36,31,35,30,26,32,43,48,49,34,27,31,35,40,39,19,40,25,38,62,27,40,56,33,52,33,38,27,54,35,41,28,55,56,33,42,34,35,46,31,48,38,47,48,57,30,39,31,44,38,58,42,33,55,34,30,35,35,56,27,39,36,35,34,28,37,57,34,38,48,35,40,48,54,49,38,44,44,60,55,27,33,32,51,44,49,42,35,32,39,54,35,41,35,41,36,51,59,44,49,37,60,40,27,34,41,39,34,38,56,42,47,32,37,25,29,48,39,31,28,32,35,51,32,30,54,41,35,44,58,43,52,60,32,41,54,30,36,27,32,34,43,43,31,37,51,52,57,32,47,31,27,31,36,44,34,32,52,60,30,48,39,59,42,77,29,49,57,37,35,63,37,37,52,60,36,48,47,56,45,53,56,59,34,45,32,60,54,41,44,40,40,29,28,35,33,33,50,56,37,53,27,46,36,37,28,40,48,46,39,37,26,35,37,32,31,36,36,38,45,58,34,51,38,73,57,45,34,48,39,35,58,36,43,34,52,36,32,23,57,43,33,45,31,41,47,39,47,57,52,45,42,32,31,25,30,33,29,55,51,68,29,35,38,39,47,22,44,38,56,56,54,39,36,42,51,32,31,23,21,45,51,36,56,41,57,55,34,32,41,32,53,43,27,48,33,41,33,25,38,43,56,28,52,32,33,31,54,36,40,32,27,42,30,43,44,46,36,44,30,34,20,31,34,27,47,56,45,35,32,44,38,32,58,35,40,36,52,35,38,43,43,35,40,49,35,42,29,26,44,29,36,30,52,55,30,29,27,58,33,48,39,55,40,33,56,42,43,41,58,29,38,49,55,53,56,31,29,48,43,29,39,53,48,34,52,30,45,54,44,35,34,22,65,49,38,28,33,34,26,37,40,28,31,42,34,34,53,55,51,58,35,35,31,32,59,50,37,30,41,43,34,42,33,26,32,41,49,51,43,45,42,37,59,31,22,30,52,50,34,30,56,31,51,33,47,46,44,51,39,41,33,31,60,34,58,36,42,44,31,51,59,33,47,43,44,29,30,43,53,46,41,44,38,43,41,44,31,59,30,35,57,53,35,49,41,40,57,38,49,38,26,34,58,30,52,30,52,34,33,34,23,37,59,42,50,41,34,57,52,61,31,27,48,27,37,28,34,42,39,30,35,43,33,24,39,27,50,30,52,30,35,36,39,43,43,46,33,56,60,48,31,36,24,27,36,29,42,44,42,39,45,36,34,43,32,38,29,28,33,43,42,33,32,42,42,29,27,38,45,32,33,48,53,23,41,41,50,28,54,38,27,54,28,32,39,29,46,37,30,41,39,38,55,29,36,60,43,45,36,53,41,51,34,29,35,40,26,32,31,39,30,40,32,46,41,35,40,58,48,37,59,33,36,40,53,32,32,43,30,31,35,39,57,33,35,53,50,46,35,56,54,56,43,40,38,43,46,29,33,49,53,54,33,39,38,49,33,59,35,40,31,35,42,55,33,31,30,30,37,30,47,41,44,59,29,51,32,36,30,34,42,37,42,31,34,32,46,32,37,39,37,32,41,50,57,37,56,37,32,30,27,36,34,53,58,31,38,32,31,59,41,33,52,36,37,39,36,30,32,47,38,51,27,58,56,40,47,23,46,57,40,30,58,36,37,51,30,39,33,60,29,31,52,30,47,46,31,29,34,44,60,51,31,33,53,45,51,30,58,26,37,47,28,28,43,43,57,34,36,32,46,36,33,48,58,56,53,41,35,31,51,40,40,44,37,49,56,25,29,35,41,38,61,36,52,31,33,49,45,71,34,33,28,52,54,51,59,25,35,49,33,30,46,43,28,41,60,49,30,45,47,29,59,27,37,25,39,35,77,58,38,50,27,46,51,58,42,27,34,31,39,42,44,51,50,32,45,29,53,29,57,41,58,52,44,34,44,56,36,45,57,49,37,44,40,28,39,40,33,37,36,39,26,48,51,35,40,40,37,43,48,46,34,52,57,36,33,30,34,35,34,32,30,33,31,33,48,38,53,36,37,36,39,50,49,41,32,30,46,25,27,28,47,39,28,45,30,48,60,48,38,31,52,28,51,32,52,23,51,49,37,32,32,56,49,49,53,32,60,40,41,55,33,49,26,56,27,55,55,26,34,38,88,38,44,43,48,35,49,33,77,56,33,44,40,55,31,42,45,38,32,35,70,41,27,56,59,31,59,32,37,59,51,42,38,35,42,43,31,56,43,39,52,32,37,35,39,44,41,26,50,33,26,31,56,40,27,41,78,60,46,25,30,37,45,31,35,47,55,28,37,34,45,35,32,26,47,33,42,31,30,40,52,48,36,36,47,31,60,49,41,67,35,34,49,33,37,29,53,36,54,55,38,50,50,35,35,51,34,28,57,38,41,38,54,52,35,40,33,35,41,33,25,34,28,41,29,38,39,58,36,46,36,59,36,34,29,39,32,29,53,29,44,28,37,45,39,34,32,40,30,55,50,45,54,37,40,39,59,40,48,73,28,50,35,45,51,47,54,54,35,74,32,56,57,33,44,30,48,38,26,24,28,55,40,39,43,32,35,53,44,42,59,32,47,30,38,40,34,33,27,39,38,55,59,37,38,20,51,48,36,30,45,31,40,58,35,42,48,52,30,43,43,30,46,43,36,42,41,50,25,36,59,50,45,49,54,33,67,31,59,28,58,30,53,51,47,30,38,53,59,57,36,42,56,38,47,30,42,34,29,49,59,30,37,27,24,55,60,30,34,36,44,38,60,58,30,39,44,32,32,47,37,86,38,31,49,53,55,30,41,31,39,43,45,42,35,43,54,43,33,31,42,34,36,51,50,32,37,50,52,30,38,50,32,24,36,42,50,41,34,29,47,44,49,39,31,36,44,29,33,40,33,54,32,57,46,30,35,36,37,41,38,34,45,53,42,55,57,58,48,33,43,29,26,56,54,33,36,46,40,50,55,41,26,35,53,31,59,42,45,58,33,47,31,40,28,42,53,33,28,50,30,37,39,29,32,38,55,38,47,57,32,37,30,39,45,25,53,39,35,58,27,39,41,56,54,46,35,41,36,37,28,49,41,60,30,48,35,28,42,32,40,53,55,41,33,58,32,36,31,33,45,40,29,53,53,35,33,38,31,48,25,35,55,31,43,31,56,34,55,25,57,47,46,41,26,42,37,34,49,32,38,37,32,43,39,34,38,40,34,34,46,31,42,45,54,45,36,28,50,39,33,30,32,27,34,47,39,30,31,38,54,34,26,41,31,31,33,35,58,38,35,38,55,31,28,40,33,33,31,25,41,34,37,41,52,54,33,60,25,33,37,50,40,60,42,40,27,44,34,34,38,31,57,31,31,56,46,31,40,54,26,51,30,54,32,54,45,31,35,42,37,43,30,49,37,54,45,39,50,30,49,31,42,40,35,30,40,39,46,55,32,37,58,36,31,49,32,30,55,32,52,38,60,60,30,44,32,46,34,40,34,43,52,35,34,33,39,32,43,34]},{\"axis\":{\"matches\":true},\"label\":\"balance\",\"values\":[2343,45,1270,2476,184,0,830,545,1,5090,100,309,199,460,703,3837,611,-8,55,168,785,2067,388,-192,381,40,22,3,307,759,-1,65,82,10,390,311,414,5,119,4,1262,1949,-395,1165,2240,300,3285,3923,1443,24,1618,517,1521,2823,1405,1535,1596,1542,3652,-1,7180,5291,1384,-191,320,146,341,-9,-306,4580,313,10576,-233,2453,1364,281,94,144,246,92,163,49,-416,409,363,3706,4393,863,695,792,1020,863,97,754,1040,122,880,501,4438,0,271,102,2,4170,85,431,982,408,4822,1250,216,1207,791,849,239,1211,599,825,2183,4499,1289,4665,3326,783,0,994,1354,239,-311,149,1464,5773,278,2910,541,1262,-538,125,0,620,316,2287,198,460,1145,-22,685,901,351,0,274,-213,97,51,314,6840,668,54,1242,292,665,1058,949,606,0,404,249,3354,0,589,12956,873,594,-20,4692,486,1593,7606,226,366,16,565,19,1082,1713,14481,5724,1451,-34,3674,698,4136,2656,2904,1004,410,0,0,62,416,2763,2984,143,0,696,152,-78,867,953,443,-1129,415,260,-411,1279,86,-754,0,178,278,425,168,-36,126,-87,6281,644,377,-271,5839,492,99,-713,32,543,403,437,1772,-88,0,853,240,849,318,703,61,104,1996,1238,879,425,416,844,860,639,710,1508,223,619,319,480,213,68,2788,7561,-46,1595,1046,1382,217,183,1321,25,4844,5345,812,105,-190,625,293,1033,1210,64,164,1766,1248,0,826,2630,3727,406,2999,1000,503,-203,361,274,3687,323,981,638,3229,1610,33,536,0,3057,2892,0,3316,106,2303,3301,426,9,-97,11008,4930,707,4,126,671,219,3622,1580,1319,2152,2843,0,1115,625,246,61,-191,519,522,-46,2269,386,0,9103,908,1694,-92,188,0,740,655,867,1009,6360,4145,-27,-122,149,52,335,526,-7,-413,-241,75,0,158,84,114,0,-127,49,216,506,213,170,776,879,1633,926,2559,909,-176,1085,1265,-239,726,296,-627,-468,551,0,101,517,37,854,30,81,0,663,102,370,189,111,665,214,0,1583,0,0,687,327,-119,794,-191,409,3,9,155,1330,-29,3133,-33,-170,1243,1598,5,367,658,1722,-315,2483,0,45,46,482,3728,1099,2222,983,204,1074,3466,-203,2436,976,146,156,189,163,242,1173,0,296,333,3864,2686,-109,65,597,-799,1775,0,-563,5,139,0,855,694,151,354,673,1265,597,-393,256,0,2870,184,1905,-36,-839,3465,119,36,113,118,251,-277,-189,4,1820,1904,201,0,178,3798,301,294,0,292,2998,2084,454,179,661,89,102,138,622,10,-251,104,173,-46,0,145,325,2311,158,1981,1423,2455,859,9004,970,486,127,409,664,223,-324,-30,1253,4758,30,81,0,328,145,465,751,-379,0,349,1110,2228,2166,-247,-123,44,131,476,1101,-168,-392,524,895,212,95,395,135,0,471,603,663,593,1224,2,720,990,1747,59,33,340,305,0,497,1371,1628,372,566,343,941,775,1759,1495,1444,470,1162,2,1628,1134,0,63,1221,5024,10685,1629,268,0,5613,513,362,3933,3899,473,1616,1817,129,1938,133,2263,1538,5,2625,1080,312,145,-190,2678,271,0,0,3161,-4,-701,-375,959,1091,-1,96,0,230,-156,114,-468,679,206,1,2518,378,391,-144,1240,1792,2284,264,0,-392,77,48,252,1954,755,755,341,1183,388,1919,1613,0,0,0,0,466,515,2313,-8,1634,100,5361,1257,3400,1377,2885,512,921,1000,202,169,3726,146,940,734,77,925,1836,660,1304,2956,146,36,1,2480,14282,0,311,560,3059,1423,874,706,7098,5389,1104,3070,0,4108,0,4291,6822,231,3176,-824,676,651,2657,801,405,82,179,1047,7138,165,37,823,1625,120,2957,2,1,1795,4,476,9,131,1120,2785,0,43,0,456,2018,0,354,719,828,2787,2551,2722,1880,2112,871,850,3243,1567,12,128,553,1694,408,1223,1858,520,271,4396,568,3665,244,568,42,309,-180,34646,59,4436,-242,10052,0,152,156,66,9827,6170,2383,635,16,362,191,455,3043,3334,8029,624,331,2929,1314,289,20,8163,1200,1732,0,576,493,682,0,3485,2944,1353,0,1541,548,254,4414,985,1241,3278,412,483,7135,61,1412,15,27,1196,19,432,988,1614,163,247,236,666,73,96,46,1501,-477,1694,196,462,1227,522,94,267,4570,25,0,1920,1575,234,3518,136,830,2054,-546,5188,1882,792,162,1035,746,17297,22,231,296,0,40,2396,2944,7084,569,0,1138,54,2637,2473,5603,225,-17,3490,769,-90,1785,-103,555,5303,1258,1679,1664,8749,-247,3444,5346,1144,2351,5514,123,429,5254,589,568,10250,3537,1947,1967,2329,12026,1757,107,1012,0,372,7506,314,860,0,3623,2470,1307,3237,5041,6619,1331,1970,1026,249,12857,2807,5060,2271,1,676,160,899,1230,0,700,0,67,127,2089,3585,4152,816,5447,275,1540,751,380,1504,1783,2269,5115,781,-188,761,19,4508,66,2266,4646,1494,1050,0,0,2171,3234,11887,0,5037,386,8781,538,5561,859,0,-617,1429,4189,580,2615,587,149,3,807,3354,1249,190,550,12737,0,1207,347,3713,3352,254,4654,-386,3043,1547,945,6402,1295,6993,4420,141,11462,6843,501,5806,20138,1315,0,7,3929,7,699,421,4333,300,7773,1794,2032,3401,1110,3068,983,2396,6888,2087,121,3469,5461,7119,-35,314,18508,5639,2918,12519,4069,4254,219,0,2263,2589,1982,7049,1968,7195,4117,3950,495,8629,455,4536,1777,3527,372,92,72,1533,4148,96,2245,834,4119,-525,39,0,2766,3300,36,22520,7724,111,2640,3436,0,3636,3288,2633,580,149,4329,1097,1275,1003,1004,814,808,859,4465,0,622,1709,394,1125,-462,550,540,941,1361,-452,518,-71,3234,98,196,936,300,217,163,110,1646,2040,-308,2325,86,1088,0,0,2103,2,51,96,1027,1308,840,5701,6016,630,432,-247,52,623,0,100,4089,1669,169,483,250,0,902,2156,2360,201,-92,514,-114,1331,732,1308,0,-970,1246,73,406,4391,168,1441,3881,678,141,-94,897,1214,324,2666,10613,697,953,198,1110,130,315,4383,313,273,840,309,2707,1109,101,725,309,541,0,1624,0,318,1908,676,1076,1228,0,13,12857,0,6101,158,346,697,616,1140,3444,1879,0,0,1493,313,1815,700,206,255,270,4987,673,320,0,292,757,40,1257,1693,5060,373,369,2346,1599,1066,2603,381,1314,5689,12114,0,2232,11862,127,2152,3552,1,1872,1341,7702,4657,397,0,348,2442,1543,805,2265,312,196,620,1714,2416,335,755,2850,1135,197,720,5355,445,5359,1443,4047,23878,167,1047,7613,117,2266,558,2509,1808,1130,653,2021,313,983,5561,8345,1231,3730,924,2489,995,280,3434,576,1363,581,1376,52,0,549,92,2881,250,602,730,523,293,215,0,42,316,4562,10180,0,281,250,0,404,506,1097,3698,883,2539,2326,811,256,682,483,1506,575,409,1316,671,2351,997,4808,6422,31,171,2681,-61,8929,715,1058,-34,258,0,71,5810,3473,238,1740,3407,1045,132,1000,115,180,201,8089,8866,2,259,1107,1730,447,2786,10185,978,-130,3049,11385,46,4126,212,1250,25,1277,390,9601,565,1384,-522,9676,134,2143,831,2308,1468,311,274,172,507,393,-39,1474,471,3161,1612,4099,68,414,5005,1756,1613,3123,4736,127,11891,4979,754,1207,712,297,3676,817,283,82,2847,1822,16,377,4415,303,12039,1443,1781,3415,318,423,2544,2614,1268,536,1293,1377,2580,314,206,3286,803,719,898,332,695,1819,2544,759,229,96,110,1406,0,2103,1599,925,-3,84,1367,703,0,2646,572,107,765,-253,0,2,6,0,448,4659,1528,330,731,25,587,2557,275,1129,2149,855,491,180,133,649,1411,11174,439,6158,3498,1801,937,26,-53,2337,1762,3469,545,3480,183,2416,424,0,294,1598,268,214,240,2511,4596,1273,3994,469,932,844,471,63,-779,293,294,13546,329,69,-3058,224,165,397,3154,1180,-487,879,806,674,0,323,921,5303,0,4004,386,284,-242,1086,2840,43,3229,341,0,-19,243,2575,105,0,-443,1524,1925,240,387,13,3203,606,0,527,309,4333,253,6807,83,819,1968,136,1995,285,621,597,0,1750,10086,3466,2193,2282,1973,10925,704,9480,3391,1134,6281,123,8556,0,2,1108,212,5110,17,942,0,882,81,276,2991,90,3754,395,676,8,0,2069,506,8,670,0,1939,1780,0,955,732,2022,4099,4917,2883,1374,398,3027,2974,1081,383,3913,3287,3629,132,726,149,640,7707,53,15,242,377,94,363,1970,1167,193,0,78,1291,1425,3382,5583,1230,96,224,0,1730,697,943,1458,95,2308,5701,1529,292,7468,1559,1693,757,201,1070,1330,314,677,2845,-32,398,0,1337,493,1750,4401,193,5106,994,1101,129,6060,55,1624,341,2016,255,4684,1052,1808,3511,518,227,270,4733,6657,613,5462,674,364,181,474,219,86,1170,18,197,938,1228,2156,2408,35,393,618,1608,699,5802,2749,1162,776,1619,139,2816,507,98,2753,0,498,700,4152,927,2252,0,0,728,354,382,36252,158,734,305,10252,3141,236,5437,133,640,253,5060,902,335,1,1451,1636,3221,316,2044,557,489,1138,188,1998,520,6368,2666,4182,3271,163,1515,803,400,2454,533,2352,9367,237,444,9407,387,2971,2643,261,514,5872,-368,188,61,2160,658,0,196,94,326,-395,9328,-522,1286,710,3,0,141,53,415,0,1979,0,7506,752,99,266,27,524,5990,3935,991,59,1598,0,802,2465,114,1461,475,4,1618,-271,2166,4031,5024,-1944,3025,2090,0,1429,0,311,66,2146,356,62,-106,608,291,-184,2345,4,6005,333,3041,4,603,0,830,962,185,-9,891,148,1374,-556,1612,0,-109,580,4500,-192,-438,-701,1400,5293,785,373,763,1236,-811,7279,479,199,1808,2,-106,670,-361,159,151,518,5073,607,-308,367,855,1240,663,895,804,-407,802,912,355,3,0,1836,1425,963,145,634,87,-522,319,0,478,-276,4227,2785,1401,0,1852,462,800,221,1089,451,496,1080,1064,297,3,76,398,83,879,210,-276,863,228,1396,-19,2253,0,265,-54,3821,0,-7,830,0,4406,437,54,-454,1006,2999,85,17924,8180,2431,341,4963,8781,-504,1738,214,684,580,273,811,0,1354,-254,-449,7863,336,1049,6089,-42,953,315,5845,378,765,5795,315,916,124,207,422,125,2,7066,146,496,-40,140,77,22,-51,26,154,534,1265,-466,38,703,685,780,-67,1085,29,560,22,6567,2139,582,194,353,341,-172,-639,864,134,50,507,480,-22,878,2574,2734,241,129,41,3387,148,249,5774,0,1841,2120,297,89,827,205,3743,117,-493,62,2040,344,230,1277,104,706,174,239,513,7290,5909,-195,3917,352,615,0,217,1015,409,1119,12198,235,170,-357,2145,-454,-887,292,139,2684,-1,1387,-522,-242,719,0,497,76,397,3723,1625,106,1543,2239,1977,0,2145,116,620,307,7702,3733,3993,428,5310,2509,255,616,733,439,590,567,689,386,0,957,312,167,13094,5086,707,466,152,1612,911,27,6,253,705,109,23878,3399,79,243,138,1317,2714,17964,846,326,100,304,39,312,906,524,1081,983,2232,1967,1406,157,0,2509,1368,3076,7818,4118,760,277,253,602,473,1167,343,1808,1199,70,1723,1323,2552,2613,0,938,284,1059,1684,534,293,262,0,2367,31,3842,3343,804,1011,-528,1840,1451,2351,1623,597,611,313,1954,307,7968,2160,1005,1988,1117,3370,109,1376,523,15161,653,64,1165,7019,1568,3109,4987,189,2467,5887,1354,23,0,978,294,409,261,27624,3846,2913,2240,5,150,882,366,1189,204,637,2383,1231,3340,200,48,2786,5313,201,389,3917,889,481,810,52,108,684,2071,339,572,1779,132,22086,0,205,317,4945,419,1130,1662,1871,1190,563,6,594,617,538,303,985,897,171,1633,1085,1980,1933,1841,42,794,905,8295,0,874,4321,0,745,924,216,1159,3290,582,380,682,92,66,252,6574,2094,294,1177,8866,3407,5205,3630,12,544,10346,1612,718,3547,914,1306,259,-1206,372,3518,505,1776,20585,1595,1000,138,561,170,502,379,14533,689,2567,443,2074,2374,1347,7443,10583,425,997,5966,2061,0,2887,1464,1315,466,2383,1649,132,482,203,88,2881,668,73,1309,2763,2959,930,12956,0,19,625,5511,1137,1329,1044,302,330,2857,68,1524,1633,0,507,643,2785,137,870,8603,18016,51,1032,981,431,203,3737,7005,111,565,889,202,307,0,429,4388,2557,3122,922,3796,185,151,829,103,79,1609,2489,989,58,323,5474,219,1240,1228,1660,914,1699,1167,19317,1646,242,382,2383,2666,1718,1147,216,153,1791,86,6791,292,1291,175,0,0,0,4717,701,3,405,168,4297,10532,4693,9064,6983,2,1536,1612,1211,96,0,1534,3403,687,7050,538,2600,0,1034,108,10185,3444,1815,52587,10884,201,190,94,1311,589,1853,4401,201,533,3840,994,96,1600,100,260,1013,413,181,123,353,2794,3850,2970,6991,2223,27696,116,2987,608,48,113,498,2643,1337,618,451,0,11,1165,2465,41,35,3169,14,431,616,3324,113,13014,9367,2067,376,842,1235,1,1276,44,255,926,1506,444,557,535,2671,896,528,209,226,1974,942,336,-306,4623,276,0,1189,431,2218,1495,828,12972,948,48,0,537,1938,9131,443,132,3411,1,10905,976,2531,1270,5359,10596,691,347,9962,11862,1756,4068,5310,215,106,0,469,2326,3370,144,733,-309,5584,61,1047,265,117,5473,106,127,380,0,255,2145,91,1853,11262,0,1129,108,1696,854,223,40,2048,3689,539,590,780,1464,1311,7,636,24277,1872,490,118,4119,1504,2087,5689,201,119,17964,1113,1596,2635,568,2626,4752,528,2552,3343,995,7968,0,2587,6468,4744,1231,3443,2568,1644,1354,602,1795,0,268,52,924,3033,6574,0,108,409,726,1871,1094,2915,480,1227,1205,161,802,723,6538,147,0,1416,14220,12569,555,158,261,786,27,0,2815,3082,1233,739,640,1843,322,7331,1765,1236,6046,934,1013,596,4775,3109,388,262,654,1855,810,1664,362,1293,874,10943,4539,2817,1646,808,44,425,2367,10252,1000,4380,20585,2601,238,0,3371,10583,16,1451,0,132,189,288,1027,6784,1464,8295,2917,158,1588,282,5437,1185,895,1857,4596,565,1781,3415,12039,12,139,2488,7111,361,2109,1093,2646,6,670,592,1965,313,40,4198,536,1311,766,2557,79,1318,3771,0,6138,129,469,893,519,4017,643,2338,0,6481,820,1784,1411,7529,206,1388,1807,480,571,3994,1693,80,267,2581,1134,309,6807,6746,375,658,371,2693,329,79,0,6281,775,411,2144,431,123,3792,4807,8603,2178,2991,4174,10925,2411,14646,86,11115,6900,5878,1780,183,3648,4112,542,243,942,254,0,0,992,23,732,4629,0,70,5063,4572,129,4984,1004,4787,914,2326,81,203,3951,240,338,0,0,944,5,697,1948,3654,551,997,477,3663,853,8278,7458,44,1193,230,8729,2384,3401,881,1522,4243,473,5462,4412,10332,0,238,62,2398,704,506,2352,938,1720,1492,1778,0,942,556,10541,1536,235,935,10861,2331,1228,125,2816,0,22867,1311,94,0,3371,943,9366,6746,1076,0,1624,801,1070,123,3623,533,994,386,1026,2424,1331,2206,0,4693,1230,3417,1767,5291,3403,133,4745,3324,5220,2600,260,608,462,14,1146,181,3114,376,9367,382,920,129,169,679,535,3115,1234,197,3186,3160,195,6027,764,583,0,5715,1204,4922,234,9421,4198,3576,1925,1129,265,38,1982,3399,691,330,318,644,4,1165,4708,2820,1147,980,2983,339,1940,1445,294,5887,11891,78,733,5028,481,314,684,1681,10250,254,0,307,957,155,614,426,8304,4721,395,3588,2540,883,4402,256,43,3856,3025,2326,925,1961,2037,459,572,452,5313,1533,1337,2986,1230,538,5108,1341,320,131,2074,1443,3338,661,7105,3735,538,4657,5,230,1808,81204,3518,25,2551,11303,2724,755,718,870,978,544,461,2795,139,1044,1633,6513,1388,15,2544,2007,2166,4579,2488,2190,254,1579,330,938,5372,3176,496,0,482,180,4198,817,5021,991,133,366,979,2939,4803,1255,8556,588,994,820,203,86,2855,474,203,7005,775,4112,255,243,942,1180,992,70,4629,829,0,2776,279,129,157,659,2493,3949,997,1699,1181,0,0,1948,306,18967,261,694,202,4831,264,278,7802,3629,547,4468,1989,2645,4060,303,2600,1818,728,955,265,123,4807,205,2812,6571,2758,2037,0,2223,1085,602,1646,415,2354,318,1730,448,994,19,1625,1144,897,704,1996,216,1206,1855,62,1536,824,235,108,2331,390,-32,172,10541,480,2374,479,94,417,2557,589,201,2885,2155,902,1791,2206,5291,638,4448,5267,3324,61,0,116,413,353,1712,523,1454,9367,291,846,341,113,13014,632,27696,3715,4675,3271,123,10185,1026,905,775,926,349,484,1830,2987,197,431,169,226,2424,1234,271,-69,1562,52587,535,2159,195,154,681,2326,961,2532,455,2013,1568,1215,121,1,597,763,326,1380,0,368,438,483,7620,805,0,302,215,5473,106,2346,3219,2227,6610,195,973,7766,948,2149,1413,117,0,71,1938,5359,519,-46,1075,91,598,1027,235,2,4945,311,154,712,7585,2489,2896,354,2667,144,760,1050,5296,12980,509,1644,451,53,334,6771,52,2240,4761,1570,588,957,224,2161,426,147,508,294,1825,158,0,4721,282,108,187,3764,1416,2801,494,1978,155,4608,951,495,1843,262,0,3561,465,76,1796,874,2140,295,304,624,303,273,3342,1227,283,3384,2367,5958,3735,2693,655,1681,866,774,2678,3371,10583,4176,334,393,916,832,3287,488,1947,558,235,288,6036,3,0,81204,5236,2466,1348,7929,70,459,2102,394,4126,224,9001,560,102,1088,562,718,230,-67,3848,579,1646,1229,129,197,3779,2016,436,413,116,62,107,497,2557,2646,3771,1066,1,232,1177,603,736,129,-115,104,589,3472,2845,7529,309,0,1672,1711,1295,2046,455,722,371,997,206,820,410,1216,11115,796,5037,1780,429,2779,222,0,1445,655,77,115,2722,1438,140,915,1058,0,4984,697,4787,962,1320,2955,0,12067,3006,388,0,565,329,4243,72,4328,395,0,205,1730,5,1965,19,7802,2352,155,401,79,1646,437,935,2929,2304,348,640,88,2283,473,0,397,62,3634,273,3417,133,1624,386,2530,2838,1026,2206,260,0,2987,1230,2335,8000,-27,1146,1004,197,169,393,29,920,3608,870,9367,1374,6027,1,349,39,583,1276,2364,53,1612,639,3114,1,1070,195,3144,3236,3208,1568,1191,706,2616,215,3230,726,3713,0,265,70,388,1727,205,2881,846,2266,742,2149,344,1430,265,38,3538,973,1831,641,1047,8103,523,0,515,8304,1368,272,-46,168,515,223,228,644,330,952,1165,0,2823,1490,48,187,8304,276,147,323,799,2540,322,495,358,2371,53,861,602,4041,275,12,1742,46,2027,3221,1720,2033,3189,2946,1230,572,1435,403,1071,3301,1723,705,955,303,3287,109,224,538,5397,1957,774,1188,1167,2611,3145,825,122,334,623,86,976,393,293,476,2724,2391,11,54,3109,3126,488,978,718,3255,1544,0,4071,29080,12569,2896,196,1027,463,3511,224,198,0,674,623,558,259,432,159,657,1808,392,6651,2795,1414,2666,668,502,1809,267,2473,372,484,1767,491,558,337,654,2427,386,251,1044,2907,828,1857,1962,2787,1123,643,62,2007,3463,482,1298,5329,6181,1255,132,2733,4189,724,205,154,232,979,5021,2469,180,658,2918,588,423,302,414,817,183,806,9299,478,1057,762,31472,1090,3738,1277,756,1636,300,321,1295,839,1974,2855,5475,536,1279,775,203,146,4124,14968,1451,3026,431,985,243,1707,5511,8,10861,373,1807,2776,1058,0,1381,204,267,311,306,752,1574,1181,1761,4629,154,4112,11650,6138,264,2144,482,0,4831,12067,1227,1232,275,369,240,2398,2785,62,1377,163,1199,569,0,1989,46,372,2812,2952,569,2812,1199,3904,156,205,1625,415,1812,775,180,46,4017,437,318,1646,470,3591,2037,2979,1092,661,2196,417,2077,2283,1536,446,5,216,565,476,-32,1348,228,1859,2306,2038,824,348,1515,1514,94,2325,417,3450,2543,464,1853,272,1925,2331,324,116,1779,346,353,27696,2155,413,2590,320,1454,1382,2427,2498,1003,2007,926,632,2206,1830,814,5275,2129,2717,341,2885,523,4256,484,535,431,1269,0,211,4012,625,1584,315,200,589,-205,-46,8304,308,1113,992,272,1413,1819,1623,630,2975,7968,154,5169,228,4945,1708,0,1584,1707,952,1978,1105,52,6771,890,56,1644,151,0,2240,957,689,2161,1527,8304,698,494,2801,4761,834,139,12,877,2066,555,48,235,1595,5741,426,187,166,1416,1189,486,0,2557,3138,1720,1765,1506,3585,262,1093,76,4680,1477,3561,3340,1071,247,112,527,2580,975,2986,2048,2785,127,0,4951,488,1154,624,4343,2367,283,6403,802,3735,2693,0,1027,3902,243,0,1055,60,5397,217,6551,303,2093,1167,2376,0,949,393,2678,11,4416,390,1934,3511,1696,1278,1011,2939,3466,372,549,1102,973,491,3337,368,326,12264,203,502,346,4328,279,131,2646,6,1579,2007,1,469,643,514,1289,3676,0,104,159,728,107,1946,1519,5112,1090,4833,1925,335,371,5475,203,50,11862,820,791,1279,455,536,1693,1495,985,935,410,51,679,1780,222,1210,1693,876,3308,0,822,0,3904,2488,88,121,0,0,464,79,2557,272,2543,1224,320,4256,1168,703,136,3810,765,1146,358,1511,557,583,557,113,2850,505,825,5715,-215,2239,376,15485,2918,67,1664,192,1519,0,0,4708,3283,1211,347,423,3982,2506,697,456,324,5768,1517,0,482,638,2524,4539,2039,128,4787,1147,1978,51,-122,294,922,51,694,607,2155,159,7050,1055,8165,376,3701,644,3623,360,284,1893,69,1355,1506,1393,487,655,1788,0,41,215,1187,0,1213,653,3426,238,1690,0,27,681,18188,1006,1352,2340,366,-374,1231,1347,1778,2201,0,2557,0,1320,0,0,22125,6188,1077,45248,3291,562,1046,87,10281,429,3648,863,3,2648,0,0,655,854,858,567,399,257,3735,57,1235,257,401,3290,297,33,1179,471,938,1636,1243,0,1679,2022,2033,869,3611,3624,2488,2228,4,2557,1390,1228,1265,6046,816,0,118,1165,99,1697,866,0,5301,7918,1,160,414,406,0,655,514,11766,0,2892,762,2037,255,1536,0,2,1435,1219,2971,440,3301,2321,213,0,108,920,1031,294,527,1030,2503,1547,1,1167,523,-207,3283,1147,1170,4642,2666,792,127,0,0,121,618,2495,569,473,474,0,1796,520,118,3342,3239,23,40,226,939,-20,940,5,0,447,126,4718,843,656,91,0,2984,870,7608,5115,247,154,1731,3634,19,1129,0,12264,478,2081,965,332,1163,1960,294,188,254,1377,523,600,387,849,1317,273,0,2538,133,146,11115,486,159,1201,2590,800,0,385,238,238,1812,413,152,1031,3143,613,168,2144,1331,2611,925,985,367,302,47,1946,2266,992,3544,76,6013,19,232,993,535,127,1528,324,1639,0,-370,11862,323,3940,8897,2002,668,2946,4216,0,23076,7459,5,4147,0,131,231,720,598,1819,587,1495,442,271,29340,1014,2366,26965,1411,617,4736,2540,403,423,131,4041,273,101,0,2544,1699,2689,3160,388,393,69,2658,-366,466,64,580,3317,955,7441,377,994,1766,-236,774,659,149,1405,290,595,4613,0,2204,576,3840,1358,5169,0,533,1788,1070,80,3254,1309,0,1534,535,368,415,3434,35,2948,2473,1133,306,-382,1224,5359,2166,925,495,2374,1925,279,842,6748,-242,3917,1711,298,335,2240,1478,390,1234,3704,890,3663,119,167,1022,305,172,3047,616,453,526,169,1347,378,2889,57,0,1293,2085,315,1627,1853,1429,3951,780,674,218,763,4151,2787,26,153,362,1184,6840,3145,660,1311,215,3324,0,747,448,1246,271,1271,962,3054,0,346,3550,1379,1093,295,129,636,4101,3352,334,341,8491,227,125,3608,2536,4688,0,1113,1857,2892,6,1076,-930,1382,2048,608,-274,132,344,2230,5679,885,3764,4017,368,569,272,167,1388,7895,2160,1587,1723,691,243,3696,71,0,3765,977,15161,0,776,1994,616,3512,6529,0,2129,874,496,1539,348,1287,12356,5763,-267,443,934,4859,1843,1289,19,8332,5517,949,-157,254,136,285,874,1641,1088,1138,13107,2557,142,733,-405,11008,246,0,536,1506,716,354,1757,7554,854,1230,1303,93,-291,69,771,-675,973,377,480,552,3733,-158,136,4590,283,0,419,462,4,363,7560,1297,40,436,403,5637,916,1942,385,-1042,3696,3384,556,315,2812,324,-519,188,267,21,2038,11115,194,169,0,2981,67,360,3376,4718,387,4266,396,2085,62,-268,1697,341,109,0,4158,156,390,36,0,50,102,57,973,3,1245,828,0,167,66,687,2688,625,1742,1729,889,224,768,1809,423,335,182,4401,607,1084,0,687,659,1435,8828,69,79,990,2290,679,-172,548,565,228,0,228,454,514,2885,567,2235,5267,29,291,4889,502,3608,3556,-41,3944,202,1175,974,3141,4079,0,3357,2587,434,1291,315,394,5561,3528,437,3119,264,3285,1396,510,-101,634,4210,0,84,278,849,1612,204,1854,4661,1579,1561,1468,2887,224,1760,3735,19,61,95,5,360,1730,0,7968,7005,3020,605,376,891,704,4348,2353,8000,2781,541,3576,2725,2354,775,622,4,5,3943,802,2351,1807,2,2297,779,108,459,110,13711,3415,2376,181,448,714,3608,5310,2144,2281,2679,1495,1304,78,437,7433,6112,155,9883,495,294,8990,3173,53,640,217,804,1374,3,502,61,153,8,780,630,2161,32685,3384,5310,383,772,2976,2729,520,205,2378,48,461,116,272,799,0,1534,4457,189,1880,0,11835,839,952,-197,1657,1947,30,2027,1332,72,153,70,36,-198,5,2326,67,598,1527,1623,253,1445,256,1181,1646,-309,670,2196,947,71,521,5115,-17,556,229,325,5112,11821,650,8648,168,2486,396,1791,168,3308,4721,18111,1146,237,618,1085,1028,114,0,631,660,2421,794,2138,2965,222,6997,665,285,473,2226,245,1133,294,451,19268,1461,465,0,654,79,4216,66,0,5539,2599,2187,2120,339,8229,346,158,7103,4855,3696,-357,8304,48,384,751,3546,73,71,974,306,3463,3676,459,286,-11,273,2665,3290,8535,1276,2736,10287,1624,0,446,395,315,484,0,507,2987,801,0,572,2,34,1075,508,926,10861,24,611,1857,329,2635,225,1604,4657,1406,6728,611,1805,-399,208,10884,3472,556,7192,13460,2988,102,1868,-578,241,162,5320,366,1504,262,191,73,358,483,5047,5862,0,2843,351,372,27696,133,3,15459,2551,571,7803,0,24,2104,3158,10,147,12857,4389,474,2326,3644,1988,1595,331,4623,12018,154,190,3904,882,53,6542,687,3064,9228,800,3505,5958,667,36,1059,915,1547,3050,7050,2,14144,705,1758,476,348,5969,3195,2013,121,82,935,3754,104,4751,1529,102,1796,935,365,222,0,1015,107,82,877,2557,1673,2467,980,183,387,459,1227,302,175,182,-367,876,201,796,0,1559,70,2734,3528,469,3311,152,1047,484,1587,4461,3551,495,3792,489,159,985,369,257,2779,638,833,9314,4745,2693,160,1697,0,-770,20806,3136,1430,6831,664,49,604,931,699,212,362,2667,-754,517,258,3140,658,255,5350,9756,3646,368,1,1435,122,2027,496,83,467,0,471,5715,-389,364,25,3450,2374,5514,455,739,336,436,536,0,0,1181,265,2573,-537,1128,2780,405,706,2661,2734,196,533,6728,1227,5,197,13,284,33,2333,1705,2039,381,3738,4401,553,-725,67,330,5943,25,316,4389,0,1389,398,247,0,131,604,0,238,673,7944,3696,347,-199,337,5091,970,258,614,1929,2362,8121,608,3723,117,363,130,2225,-105,7687,222,736,84,196,2123,-482,700,1388,222,592,0,411,-104,475,181,653,0,0,942,13,200,660,1309,-364,-616,2596,5802,568,296,561,2894,2344,1345,171,1838,549,1097,1148,3818,934,-637,65,24,907,100,686,3,4692,-197,4335,664,307,5,-67,3754,1139,250,3695,1025,328,0,6203,1904,347,1289,129,178,81,599,190,0,563,105,3518,248,961,640,1144,0,4381,1134,570,0,357,593,229,0,1157,234,322,113,2139,2251,0,2756,7132,2047,0,1151,5244,1,203,2162,337,0,2,1365,2366,-803,873,-76,2990,538,6388,840,1847,40,30,860,123,667,601,616,259,307,-29,849,47,2194,3413,1299,622,1901,166,1717,-160,89,493,2644,596,0,606,-346,550,237,415,-125,1984,121,266,1723,1049,21,341,233,247,3117,242,24,7007,1851,573,1178,748,-407,4695,2500,86,968,192,93,0,0,-491,1517,0,775,276,5781,0,901,431,911,96,0,-288,2923,16,744,551,322,199,0,0,633,203,583,2749,769,1924,1064,1099,2971,2657,21,0,0,9447,433,375,2399,148,224,147,744,-94,9,1218,1106,0,167,0,324,127,230,344,105,634,317,2234,223,230,0,313,289,0,3676,-184,3954,2951,78,1526,0,233,67,38,1948,5296,612,4872,131,4943,-257,331,105,1160,4930,471,35,1750,5275,728,0,263,601,6429,1076,-57,2,514,-375,28,404,3430,99,2669,202,715,674,312,1463,789,7,473,3150,12223,1541,142,3,1207,351,777,997,15,2819,126,953,10,-577,1159,1350,88,-245,161,41,450,782,-666,-151,55,-666,87,4629,2176,3431,208,0,240,1388,5807,17,0,1743,1008,151,3196,1411,630,0,561,0,281,40,0,1032,-207,235,0,367,505,804,-301,-813,79,50,1205,365,-1415,223,1897,22867,949,1165,1655,260,0,-880,107,1624,1257,355,579,1403,-176,-513,586,1840,720,97,13,140,521,364,416,3304,1880,982,0,173,911,0,549,704,476,3738,634,1134,-128,7102,186,1918,0,250,31,631,62,479,1121,138,0,239,866,1466,3570,440,714,674,127,588,-413,882,877,337,192,3350,99,806,6739,228,-232,556,761,207,221,865,0,1851,-272,367,0,230,0,1954,379,-341,179,13,839,192,576,643,342,1329,219,141,402,8023,1131,1925,0,103,1395,621,1161,24,2,295,-208,258,119,967,-90,0,0,392,23,2486,81,1563,1602,2144,273,455,1038,-384,307,93,127,-150,20718,-218,5222,484,75,1480,1111,639,29,6374,363,-94,92,222,249,1450,2290,0,1026,3953,1426,53,160,171,3237,192,0,385,2591,39,44,5432,349,20,381,4025,167,278,263,4968,581,682,779,2139,5888,0,3431,188,3214,873,-32,1958,76,1013,2731,93,173,384,491,728,411,265,-3,586,-196,700,-67,1600,508,486,243,203,1944,882,2924,20,1417,340,4062,133,0,8876,423,58,5,175,1349,6596,1741,25,0,4374,16,574,615,0,395,678,25,626,165,746,376,-55,0,21,3003,92,511,6904,795,0,166,157,0,0,174,1536,1114,816,1202,600,6,2655,499,0,197,289,5336,434,691,-250,3696,2595,1077,501,21,797,1659,97,2,384,63,1327,284,3395,2038,15,1187,3047,11650,1387,0,1387,446,275,1655,196,0,1327,0,206,523,0,444,1401,205,3957,9645,620,1541,-37,-601,197,-276,824,636,19,641,2983,0,252,119,171,0,-249,455,10,529,1859,613,751,0,1471,7503,68,530,1319,479,360,2163,136,-196,4087,1354,2,2337,514,6212,424,499,8,1305,300,976,2700,-497,2424,-2049,2081,189,0,327,426,1291,3473,434,105,975,-479,62,0,0,1202,2854,9,203,0,2467,3850,47,1895,522,-918,-193,48,0,201,598,1506,26,1582,559,0,-411,36,512,786,3658,-227,423,947,324,0,1694,2894,2693,644,185,1583,2399,1322,194,1221,-302,256,0,1335,682,0,3834,5312,4095,0,-1386,525,2,0,1500,378,552,-84,-240,501,5345,1559,0,0,1989,598,94,3473,349,3876,1934,2,9,11,60,882,499,198,2093,74,1220,1342,6134,3680,605,104,683,48,15,6714,623,234,599,9916,3160,0,2306,2550,701,3244,402,6014,-81,898,863,235,12,298,3463,13338,391,569,54,875,631,3434,1610,505,11528,102,-581,0,7298,0,909,337,829,301,147,282,1294,0,995,532,785,3028,1022,0,792,490,417,2071,1187,280,1236,910,-994,1333,850,3773,460,3140,1028,4264,3932,-1,1682,814,819,1265,514,1764,275,592,1143,546,1164,1381,0,659,192,-12,186,2246,124,2087,1298,101,46,262,0,17924,167,967,0,1547,388,1,0,80,4168,0,781,804,993,34,0,520,567,7177,3629,2199,223,185,5809,210,-199,897,0,7378,593,1224,3031,708,542,1141,-42,-556,482,1501,1850,2266,3283,300,1,178,187,229,42,-367,8,256,2410,2976,-426,39,1428,2030,-1636,108,2094,47,618,162,-671,136,6958,953,821,131,1272,-306,3201,1114,4168,0,0,3309,1377,150,553,458,565,0,2278,210,15578,236,1704,1693,372,1147,3166,1074,23,1431,814,142,810,1604,0,488,4110,1746,-208,152,0,399,318,9072,3071,177,10786,0,879,1887,3331,3,7668,55,0,2998,524,106,85,249,10,523,1321,-194,4517,964,923,2677,873,-1050,361,1466,782,3576,3,-112,759,195,15,-1053,488,287,578,1509,3794,4324,793,943,0,19447,565,1541,1079,0,1310,98,5,0,9216,2551,0,154,-150,427,664,0,680,4,196,290,221,180,-139,79,236,1120,-2282,2200,-461,385,2291,54,2850,1235,360,1352,905,138,0,221,-254,1510,1757,0,934,0,1217,-57,82,438,729,0,374,-341,-367,592,457,4819,-85,467,-309,21522,467,870,-93,75,292,0,263,134,91,0,229,892,197,-213,-321,604,606,1518,192,0,289,535,33,243,0,1279,1327,297,740,278,553,406,5,2071,0,932,-119,381,1309,542,30,0,-15,318,1405,5271,-51,3914,4976,16,1595,306,215,0,2628,1778,1423,659,-31,-204,1462,723,3954,33,4151,0,219,2728,76,4388,-210,2427,45,-74,2173,8422,120,1320,245,9569,0,2770,1221,298,967,0,0,1368,751,2597,-35,629,1330,277,1018,11,0,905,15474,54,-246,0,1951,65,368,51,3492,21,8403,978,165,350,385,2058,-11,505,-547,562,4222,105,0,66,0,13578,11222,1737,59,54,2282,299,396,184,475,-496,117,713,45,1496,0,886,4592,-38,431,-292,2571,191,1689,8494,159,7,35,1007,106,0,0,216,746,764,193,368,205,96,8016,221,157,4830,1039,71,1214,0,0,116,100,91,-398,2820,223,2278,-782,8919,104,3387,0,449,4787,1240,191,2185,0,2857,3782,83,6,88,294,84,84,602,0,-470,-37,2145,937,2059,3598,1206,1273,46,534,-300,4,386,-396,0,14930,-600,3733,465,994,758,256,3461,124,355,1514,40,-320,566,388,577,17,260,0,1823,1463,3390,2769,215,12531,80,317,217,4874,275,738,1839,556,207,-461,789,1133,4253,255,582,743,570,786,295,2583,1285,287,658,246,3463,291,19,5700,0,-346,-456,5953,1693,350,-181,1735,157,67,-444,0,171,262,0,965,0,6392,194,2308,941,46,131,1844,281,109,268,298,-525,738,94,7702,857,-354,0,112,5735,1807,-30,216,127,1096,5193,6,339,0,625,3776,1239,93,304,1409,191,79,2263,10438,81,964,0,3839,586,600,1343,113,240,194,278,260,1013,0,2363,913,686,149,500,11766,137,0,335,16,0,9851,525,788,1016,292,999,2870,689,-100,1084,154,1653,2378,1515,1636,1516,127,2876,1384,228,2481,475,1401,425,244,-6847,0,386,332,1367,120,19,3,-98,303,-752,97,794,1880,732,5261,712,28,0,827,110,377,-344,261,104,610,4328,1371,193,258,56,136,1222,3672,2188,924,11431,140,27,-468,438,-43,1161,458,-441,2278,0,702,69,182,318,-181,261,244,880,2283,550,7752,6,4471,1969,219,76,60,8,19,20011,608,1068,-269,494,159,-754,157,2110,2603,992,593,327,6766,432,25,5299,291,517,97,1636,996,0,710,1049,556,629,186,0,1264,64,2497,-97,161,732,94,2404,21,2658,131,0,351,564,2240,46,132,71,0,267,841,51,7735,417,-14,2490,0,184,19343,947,90,10218,72,120,130,41,0,673,-131,2607,5,23,180,68,0,565,598,1609,1047,5641,557,1066,35,54,1806,39,0,930,0,2764,4492,2166,0,1575,201,318,1682,242,291,304,108,1303,292,89,788,573,1318,151,-37,522,2315,-718,4,-43,596,670,430,60,0,678,159,1345,483,2443,1258,389,0,2067,332,80,84,2702,37127,0,1813,1612,198,1106,2321,33,101,-59,486,136,193,5083,0,8,21,570,644,1104,6004,1503,896,177,665,380,151,179,4,116,0,-57,894,478,10,30,578,2360,-47,-805,782,1282,766,348,296,908,0,5276,658,1089,1042,544,134,73,13156,30,-66,1373,8564,81,5426,16,297,734,1514,153,3503,-849,1441,2487,927,598,345,197,220,9,5678,0,169,388,61,7100,219,-76,1432,879,0,1498,543,1797,2994,1690,1573,0,173,989,335,17,-74,8319,15341,52,-56,1670,370,466,2583,1177,311,842,2744,503,62,4841,253,842,378,637,-372,135,7,446,1328,252,125,1324,-244,657,2140,5571,103,2133,8876,22,3854,32,337,228,1125,1612,1310,-210,0,975,306,170,154,1972,994,380,54,512,1027,1770,13,438,162,-183,698,165,3499,378,855,32,0,0,2994,1238,1717,224,1048,592,396,268,0,5223,1611,780,399,1649,974,22,507,10787,-259,414,67,328,4,471,3038,2276,-848,2662,2597,550,357,1153,4912,194,0,565,649,-45,1310,2308,4,1297,1808,2080,5034,322,679,1742,154,140,377,3644,-50,453,45,46,2060,1316,-361,349,-68,-157,320,86,681,0,4567,40,706,420,0,65,-27,114,678,3105,281,1932,481,156,0,557,1467,428,994,769,108,19,199,448,473,726,0,536,2194,1406,44,-6,1631,4054,75,172,356,1508,49,544,-383,606,-410,469,2,241,0,322,2193,144,0,3428,10,1841,84,622,309,154,1949,2605,5163,557,119,0,356,1395,20,84,609,1856,608,0,1859,282,154,222,897,131,0,37,1704,314,399,300,382,1301,0,930,21,111,1199,1085,230,558,127,4844,826,30,2708,108,577,2764,2834,-324,4,559,271,5774,816,3,274,11265,70,405,22755,557,1554,89,444,4951,30,1,0,0,1093,1561,1861,333,342,388,1515,654,-467,398,0,12848,5205,-181,250,110,445,175,458,5127,928,105,18558,375,133,2278,443,23592,61,192,628,372,222,2469,459,254,563,-29,494,781,2793,1134,4568,0,1189,692,716,520,2133,0,70,872,2458,-30,409,60,667,620,-60,237,373,1221,0,999,67,-463,7934,816,2557,546,78,24450,765,91,703,589,0,1755,269,432,4382,109,52,922,1779,8,-271,0,14,215,307,265,323,800,392,406,104,1453,1168,766,1784,3,1412,-312,167,1239,776,-13,4519,5769,414,958,922,1585,910,3738,1387,-3,144,103,0,-547,9326,1281,267,0,512,3531,4358,222,22,37,591,12,131,228,1794,-34,416,1170,0,466,1463,6835,-397,5222,0,526,2422,430,20,-211,1337,4798,1077,9713,5547,2433,105,275,366,-315,-55,0,2993,3715,-8,1577,588,0,944,9,144,1222,0,668,568,0,-861,877,1107,757,30,287,3079,3238,1012,203,2880,486,1708,10635,1728,67,387,56,18,0,174,162,-16,113,2940,1954,182,247,-58,1685,410,-367,6835,2398,-312,2079,573,399,57,641,1575,-475,128,305,-80,198,1170,683,2312,28,-15,476,0,217,157,83,1871,11016,4023,-57,91,506,161,633,41,-375,-284,0,0,2413,134,127,-253,659,314,6362,33,392,454,23,2034,185,0,738,0,862,1256,371,2503,393,557,61,2991,557,173,80,3611,-482,2982,458,11,0,328,111,2223,37,-15,9051,284,183,109,934,93,811,753,538,1098,3086,2054,2501,209,972,3,326,3323,4121,13849,630,624,7503,0,2850,672,492,778,106,4929,0,545,1728,1401,1943,11,-170,239,272,113,-120,-388,51,1689,108,25290,1,-22,167,1796,677,593,316,855,3096,325,1023,991,876,1271,165,578,2595,8226,657,0,1875,254,1252,790,656,329,83,138,0,39,426,693,2854,787,102,855,1675,1996,473,1,1064,215,138,221,720,51,0,606,6551,-294,64,169,230,2485,209,71,137,2547,1800,6512,1476,534,1696,219,557,1277,-30,175,1595,723,297,310,1012,-103,621,548,182,484,1342,0,66,21,608,5345,461,5801,0,78,-1415,30,100,1371,62,1005,517,0,382,468,178,211,57,114,1222,1660,-9,0,30,0,369,1571,-187,0,-257,2459,1219,5784,162,1909,-195,4,350,87,777,3140,1510,756,1086,339,205,2717,138,1943,744,79,2400,419,414,27,2823,4692,1261,0,0,483,7369,804,2644,175,0,272,252,4053,2158,299,2731,50,36,220,5746,0,238,76,679,1390,418,2891,497,2933,948,0,0,687,-230,2575,7649,59,23495,365,97,5,739,-177,-454,1267,1639,900,-481,528,34,223,218,130,1156,314,1374,22,1129,130,-202,293,275,9224,515,760,2302,-389,133,1580,1020,298,13901,563,-27,2113,980,352,96,3842,3870,589,7426,1,6101,231,876,86,363,8298,0,93,596,168,29,6,-934,297,533,175,-292,2,39,396,-338,2050,510,477,4176,0,0,297,167,-353,1525,211,416,0,1001,75,7602,0,163,673,-154,3723,559,13774,403,1696,722,296,257,418,488,900,2945,-327,115,218,286,293,201,4331,388,483,502,306,-337,950,2410,-633,0,265,698,459,0,1307,8785,302,484,7,1539,3098,745,2050,2766,4641,1167,322,750,1559,0,0,46,0,1862,7831,21614,2137,3247,14,0,637,10655,94,997,2084,1734,805,317,369,100,-44,3296,-50,-411,922,1128,5423,1537,0,519,186,83,1365,1734,51,1567,96,8982,-209,-6,355,0,0,1310,2520,1629,573,1655,26,186,13658,23,87,49,3810,56,384,8,2671,3240,147,63,7863,946,237,0,245,315,1139,0,-102,3984,1988,125,505,834,494,947,262,141,-236,2555,298,1179,31,357,1129,861,16,895,504,2955,122,2204,111,1566,661,2485,3756,43,1529,84,311,408,1866,42,260,2994,0,1133,2305,143,4721,5366,71,1437,1093,817,196,205,0,1002,2916,4513,7,0,253,28,-65,376,1018,260,5539,758,262,236,396,1857,4722,935,4567,220,8,109,0,456,5553,137,299,162,1533,301,1697,441,898,945,0,1830,6138,442,0,1556,83,430,-336,528,111,1556,408,1067,277,257,0,2549,4612,433,680,3851,442,642,487,171,13711,187,101,343,315,205,106,477,2875,1000,-825,534,452,623,310,454,2306,-126,399,0,2109,0,-470,81,1104,457,0,941,-466,2600,3,90,2570,181,66653,556,110,9,0,5249,2499,276,3343,9994,613,925,393,339,1216,1818,2109,46,980,3060,46,274,805,3151,160,0,694,509,237,0,16,504,-274,0,0,2565,91,558,1032,351,231,3706,5,342,588,3165,0,464,837,34230,5435,102,641,334,149,179,61,375,2088,29,3839,2910,3770,141,0,65,-306,3740,0,131,23189,-1,6979,187,1203,6298,-243,181,661,270,1919,492,91,775,2669,2605,1277,568,2344,4321,1064,241,183,9214,513,14850,279,4,-298,522,0,8,432,-378,338,2878,62,1303,255,0,1125,1238,370,2417,4,444,28,2139,194,195,0,189,220,189,746,13054,0,23421,41,7408,101,384,2556,808,0,1158,334,296,1653,1283,2295,-42,55,365,772,334,1060,38,146,439,124,190,211,871,1513,871,1298,360,597,457,2457,2069,47,13,-71,27,-114,2645,1025,2044,10,0,644,4293,-238,-613,1573,1728,15,-160,312,33,80,445,4565,3262,559,4840,-302,73,4790,1078,284,493,100,1042,3665,-9,576,945,108,93,-97,3768,8,66,0,-637,0,26,4726,1782,3430,332,554,0,542,393,134,178,0,23,0,202,647,143,1928,1630,102,0,1790,0,1675,-745,-56,0,2396,223,5956,122,4888,183,0,-262,169,3364,15,126,1953,1385,261,178,1819,0,6337,214,0,1153,415,101,1490,779,2036,333,963,4709,1074,90,243,414,0,2196,1416,281,518,3,36,9301,883,21,3091,2791,217,1579,0,314,655,212,523,111,1166,582,513,75,1992,2910,66,599,89,796,571,215,1088,271,11494,2741,1694,383,298,155,694,179,356,0,179,244,46,246,7,1746,992,4312,103,506,461,268,-454,365,2,1667,2265,4622,0,188,0,592,-276,1254,652,192,148,1812,3478,264,71,1376,668,703,-25,48,2453,0,133,277,78,517,1,7944,3,623,290,8918,41,199,100,313,419,0,0,437,1357,1610,0,709,10086,0,-311,9324,7832,191,6637,0,172,1131,797,120,215,425,476,29,527,0,1093,70,39,296,1464,2226,1286,-738,3643,5260,3096,-312,286,89,-72,4305,1487,0,-78,3495,3317,1906,2996,446,1590,5214,134,8,3120,171,39,171,-140,728,1637,-143,802,795,265,2567,3402,1336,306,10984,526,563,0,0,3107,0,1146,5252,1195,488,1887,49,280,-461,633,3955,-233,1626,1103,223,-175,-3,0,3918,284,4577,876,3754,128,0,547,243,3571,130,-529,1636,12180,297,413,285,19,44,62,79,226,2388,98,48,255,2,643,13410,0,3443,2946,21,1212,2183,135,5903,271,303,7264,0,204,444,-27,287,800,4645,1481,1575,5691,294,154,3950,624,-504,111,1131,322,0,-89,3,1313,462,11,3163,2,3157,4348,-391,7816,5763,240,508,2,1654,860,154,281,427,467,91,1319,259,-488,60,405,177,-412,282,6181,373,-92,49,0,-283,1313,2452,517,350,1623,-435,333,3770,778,483,2170,541,205,2269,0,973,894,-12,0,5154,-32,999,24,0,771,1350,19,709,2040,303,-311,690,2551,-142,-448,99,18,37,3868,5041,260,67,157,1513,1044,113,245,505,92,3685,1636,0,349,3067,338,282,1190,73,384,-388,354,192,70,22,335,2775,592,1271,48,0,4869,737,83,1104,5,23,1137,181,8267,871,1824,4,421,561,1498,657,0,9192,7876,0,192,803,1694,5559,737,174,931,95,0,4367,68,1308,353,-40,0,-312,549,8837,1020,3540,663,2590,4982,6,118,-258,-221,2596,467,3100,722,797,476,558,162,1842,2348,11,2103,967,116,2805,1386,0,0,90,37,7,676,3817,144,230,0,1109,2925,397,865,816,396,0,241,243,233,43,290,101,1151,45,1410,1234,2767,5969,-272,1036,9324,1043,1473,183,86,0,2388,160,385,4,119,0,742,0,1724,0,503,68,5914,192,15,2157,3494,275,318,350,588,2008,35,2152,122,160,1934,0,613,574,0,341,158,1489,2911,1178,96,4157,-575,3419,1104,57,343,-326,0,3104,648,10041,-508,327,1150,1074,27,3720,92,7845,157,428,0,54,13,3230,1637,6981,1,631,7296,3014,920,735,1300,541,0,1257,4522,585,150,202,2137,2674,625,73,2656,3,0,95,106,477,1529,28,1743,924,457,0,736,0,787,-396,1573,0,524,1558,159,53,838,3144,737,4056,162,0,217,3324,2895,0,11254,-280,808,0,246,-972,750,2430,-179,1412,-1531,51,88,-209,799,4048,1310,573,6798,1214,75,387,2246,3,883,1503,-322,1301,950,2326,-78,2405,113,4564,387,1865,4105,258,19,3773,1808,1304,3702,163,-151,1602,1314,84,1906,291,223,207,518,241,-126,421,38,800,32,1477,160,4415,-397,590,778,19,0,-28,3119,122,0,4157,102,437,1,-354,1234,901,247,180,274,92,813,1170,-183,0,136,103,23,2242,137,1047,5731,2707,-329,158,219,2775,461,145,309,733,8417,1400,72,0,9710,1377,881,0,285,550,285,-360,0,72,930,717,67,6227,5252,561,1393,-330,3261,361,807,2305,-11,2223,29,1308,1337,17361,6,370,8,666,0,1336,17672,35,705,2087,4466,844,321,2781,34,29,2443,3975,256,696,63,316,-119,6570,418,0,8784,1970,204,643,304,1177,544,-498,0,209,665,310,2149,13818,526,-218,419,517,61,0,514,365,480,717,24780,1396,414,3100,0,1218,789,859,0,3868,232,1686,29184,144,194,7641,351,150,1532,1549,1057,839,880,4464,6,0,694,153,110,640,3060,2836,1127,11,982,222,627,5010,468,155,2478,668,35,3304,0,237,0,-54,0,240,759,992,1379,8564,0,119,450,746,2032,636,-938,2007,33,2887,1444,42,522,0,3884,472,2060,628,398,417,610,2585,321,0,4,29,892,0,1387,454,71,-35,2251,2460,34,1281,3021,141,500,1459,-244,1356,-289,1396,9,70,877,113,368,89,450,463,1397,310,270,65,865,7,145,327,429,1167,2995,974,784,316,0,211,342,628,0,769,2278,1351,49,1082,5691,916,325,0,2475,3717,288,1130,2715,23,0,-84,290,36,-488,-473,1272,0,-6,510,818,543,7867,1212,533,291,573,1279,280,574,658,2019,22815,887,303,326,453,0,4063,2403,123,270,424,1230,387,744,696,4594,1002,-173,1239,354,375,3,6116,4515,727,3846,1128,1173,27,328,0,-87,2830,4,0,80,2768,5,553,-102,2079,1,598,34,-19,292,144,1113,121,904,-498,0,67,3967,305,260,258,0,72,145,2564,7811,5744,673,602,9374,5016,508,156,0,12,7984,255,211,1854,-497,431,-314,552,465,544,-636,7780,274,1148,67,914,1293,111,937,605,1457,1617,29207,812,324,1327,482,134,347,1824,410,-38,581,3100,0,1138,0,304,313,1898,142,4696,135,574,1322,703,0,1,55,786,22,890,451,59,15,15341,-273,28,58,103,244,0,880,-141,447,62,148,79,9,578,-382,888,382,1390,-104,22,-36,130,77,1031,92,1063,0,282,1394,16,975,12276,313,1648,6,1127,1070,1040,50,62,-755,4707,925,0,867,-201,120,61,0,687,38,2806,-27,2498,390,-423,1587,288,822,-222,197,159,681,0,495,414,151,2572,320,304,1299,740,537,1581,708,178,671,3,981,1042,1021,1035,1114,98,24,486,727,-205,895,319,206,-414,-1489,0,249,927,515,1060,308,808,431,396,-89,-253,0,60,695,1141,791,1381,0,-28,412,310,1319,0,-314,511,-152,907,22,0,8044,1854,1794,2,2321,144,1,762,16,20,2070,308,1617,39,332,713,2885,968,4150,687,333,1821,-436,6929,126,2019,878,6791,0,110,28,443,236,2707,1753,1182,427,788,0,-509,-110,244,933,940,1631,-505,7336,-40,25,0,5,-92,497,2356,3,128,390,300,827,25,340,867,140,3,4920,3237,0,1096,869,1900,413,-588,0,2490,20928,560,0,826,115,107,320,-399,703,328,148,2298,64,4013,0,633,-1137,902,2850,313,923,8,945,2261,18,5828,6307,537,393,215,132,35,125,129,0,315,2567,883,1120,0,1117,773,390,1358,216,317,2369,125,6,15841,51,0,-79,1881,456,1873,0,445,2123,767,229,3783,140,6,859,261,50,-462,0,283,91,0,442,0,1182,316,316,402,8725,102,0,615,0,3060,990,1937,428,655,16,2044,20,29,-155,340,1776,23,863,7051,1049,174,137,783,116,2118,10269,141,13,0,1996,1129,561,539,-349,6971,497,362,4497,2496,2850,0,1199,66,3756,1170,944,50,171,122,1780,136,179,232,82,630,1202,867,6200,-422,426,107,-96,581,402,555,67,72,1942,373,84,394,925,0,6690,4178,20723,887,598,1,4314,2155,760,1248,5122,191,230,7010,1970,3935,437,2323,2213,84,4545,200,206,2937,221,1521,102,519,660,500,1661,961,-273,7067,285,221,479,1595,65,640,490,1440,918,6507,4,2289,131,1852,-749,719,4613,664,291,24,823,1235,1195,21,363,0,0,136,846,0,505,3986,11862,145,2037,441,105,465,320,-762,316,903,123,273,1345,1027,1855,1315,59,2682,2682,3164,342,1742,-106,67,430,-234,0,-206,656,603,1102,117,-13,1993,5920,881,0,953,781,1530,2667,5310,1468,0,144,247,258,595,259,2408,1356,292,2384,307,292,3131,0,2258,1348,741,0,741,521,5315,1660,163,1163,122,1,493,0,715,558,16992,179,198,152,2805,6332,2420,580,259,-451,261,323,0,235,526,4366,0,833,-13,405,3517,699,943,794,503,-700,644,335,719,-195,972,5050,232,2406,324,168,374,658,-1,280,0,0,2064,128,0,863,50,187,-614,841,206,984,201,585,8514,728,80,1246,818,1815,0,210,71,1869,1040,920,668,36,-972,382,-170,5172,1,922,3016,0,1101,3578,0,0,-190,185,156,503,485,392,625,468,280,181,1401,1349,5737,1187,5231,3185,3228,80,2800,10,331,223,0,35,299,240,3534,223,-194,1545,440,2538,337,-492,53,91,316,3196,2697,3,244,410,159,6432,-701,24,296,1,1965,501,3558,177,204,46,2047,810,1914,56831,386,469,69,-124,600,3842,-720,1127,423,-59,0,1489,0,1451,452,283,16,973,1257,-1701,567,-1,3310,115,321,71,759,23,3297,578,4279,234,1137,8669,488,1077,4790,256,974,231,196,2002,218,1011,2761,92,10005,1168,168,1710,207,18,306,8,-250,449,1654,714,1498,695,-15,14,-287,0,-978,0,20,700,-58,841,951,-63,641,195,11,120,450,8379,206,1544,2990,866,1744,-382,214,147,81,202,1314,-60,0,-331,1504,2363,773,941,2116,-971,5,454,53,2578,854,16397,687,1894,0,1150,136,7313,-239,182,1590,-565,930,1091,640,767,480,1363,446,167,0,4196,725,1716,-45,410,-97,12159,395,969,86,395,0,0,829,-15,135,1585,-910,8806,43,136,1195,11219,2003,494,419,-82,64,14522,3455,1076,-261,309,655,102,213,202,0,22,179,4769,-6,19358,5563,6641,747,49,287,437,1313,597,418,-41,449,3572,2428,177,80,1048,3874,5381,17,4040,427,385,266,1411,7747,2129,318,105,2603,443,-116,285,5092,719,0,2095,-390,108,1134,228,1,0,1453,28,1388,0,0,15,22,983,2879,-553,596,1402,223,46,0,1636,96,-295,1,60,84,4287,1,192,1172,105,4708,-1,802,22,3301,2227,2,445,241,429,11,50,2195,1270,2394,3536,-4,-1965,5879,469,502,777,1588,376,848,-393,4660,176,3335,-167,1591,2064,1310,1221,-26,337,2440,0,25947,1734,4,1032,8,3137,-522,21,455,4,1412,141,6619,0,0,202,2552,276,0,86,507,602,1492,0,2117,71,843,229,176,13,169,58,179,50,11854,1022,692,1937,26,0,900,260,-634,30,1694,167,4299,135,40,479,1945,1062,0,2406,337,413,362,284,-66,922,93,693,307,427,5024,463,4130,190,2682,144,1938,90,10465,917,1744,1198,371,575,123,145,312,893,105,0,186,-114,228,0,279,241,2328,728,4380,0,5432,222,3832,715,6215,2085,1398,463,-337,1182,94,5916,4556,373,170,146,1384,595,4903,4037,1746,18,1724,1735,0,367,105,537,0,653,487,1434,1683,530,-287,271,1945,57,5632,750,3992,11,383,598,3178,505,73,1436,264,1720,-25,634,648,0,314,2,2677,855,411,4874,397,61,177,985,767,496,459,1340,1187,4023,184,688,2064,862,137,51439,893,607,5521,1966,363,-49,1533,250,407,3549,0,1017,2652,2442,0,0,665,-1139,3396,542,1957,304,353,13107,1138,0,199,383,0,1844,42,1788,680,517,3,17,-328,1513,603,307,22,0,283,5215,847,5827,0,-759,267,2503,3630,218,1146,167,447,10378,-2712,191,17,2235,292,433,364,30,335,1287,128,133,-888,280,719,1261,1903,202,390,103,362,907,199,4943,6659,730,664,442,7162,61,2579,1583,224,851,2880,1597,0,771,30,346,184,580,913,1967,2929,103,661,19,258,361,1898,0,3579,1265,940,854,1464,3748,6839,-235,12,61,0,6269,142,24,1267,2346,133,16786,400,2033,1938,0,-164,1241,0,214,399,1388,805,1716,2228,1515,44,683,-473,4482,911,3771,1119,-6,-663,686,112,83,418,3840,7628,-10,3,1433,0,756,313,4996,74,431,522,0,1296,435,2128,-383,1019,1780,431,8097,0,138,292,606,0,26,322,336,36935,0,928,2,2220,1125,503,2920,4319,0,1080,36,803,8,833,3410,605,13342,586,559,4910,4527,-221,242,20,797,321,313,136,0,0,54,0,373,577,0,1296,2642,3237,1191,2278,-165,178,209,3560,490,3499,995,1128,163,103,70,191,1601,287,199,177,832,493,13578,-50,292,0,0,294,-558,-311,688,-548,94,299,6217,494,594,0,157,183,22867,1884,0,446,114,217,1783,208,1311,2813,783,243,5704,2895,377,2,153,-165,2764,6699,7,2590,14,2672,881,4793,370,6836,859,1940,1033,532,-321,383,865,1352,-722,1144,794,2061,36,734,99,879,0,4128,0,275,6525,9317,350,699,906,97,115,36,1076,-56,1504,482,208,441,-2,8278,407,197,348,101,294,3730,3885,4582,403,145,834,664,299,29,124,124,0,20,31868,599,248,0,879,34,2548,3,1395,-196,205,1442,393,-185,1158,1165,10721,1270,16,930,0,0,-175,328,0,2556,4969,726,-1451,221,3090,257,139,3168,260,4574,109,140,-45,6507,1291,-10,0,-20,309,250,370,183,8590,1011,1355,1609,75,12,3540,8486,20772,3297,9,-139,381,760,722,24,148,6691,0,787,4576,629,1193,-132,1438,-159,2235,10,805,-79,1664,0,690,616,200,8585,173,808,4822,966,141,531,1154,68,1499,2908,-238,1685,0,4344,0,1846,4,360,205,18777,218,312,15,0,112,9,-44,1023,3,77,0,137,-232,0,139,47,-58,34,590,435,441,212,621,162,4418,522,-547,0,726,435,530,106,590,2929,147,2000,143,193,658,-365,50,356,6718,21,3872,820,6102,516,0,199,584,1449,490,919,4243,6445,47,390,25,2257,677,0,209,2743,50,0,21,21,78,1034,6242,714,98,971,0,1097,0,25,604,434,784,95,616,631,67,555,184,382,-974,-516,0,5,428,0,54,1054,115,2171,350,594,276,-325,1594,2596,115,0,247,235,2593,2166,130,48,189,0,-134,23,0,1,3317,355,917,390,35,523,80,-72,1,733,29,0,0]},{\"axis\":{\"matches\":true},\"label\":\"day\",\"values\":[5,5,5,5,5,5,6,6,6,6,7,7,7,7,8,8,8,8,8,8,8,8,8,8,8,9,9,9,9,9,9,9,9,9,9,12,13,13,13,13,13,13,13,13,13,13,13,14,14,14,14,14,14,14,14,14,14,14,14,14,14,14,15,15,15,15,15,15,15,15,15,15,15,15,15,16,16,16,16,16,16,16,16,16,16,16,16,16,16,16,19,19,19,19,19,19,19,19,20,20,20,20,20,20,20,20,20,20,20,20,21,21,21,21,21,21,21,21,21,21,21,21,21,21,21,23,23,23,23,23,23,23,23,23,26,26,26,26,26,26,26,26,26,26,26,26,26,26,27,27,27,27,27,27,28,28,28,28,28,28,28,28,28,28,29,29,29,29,29,29,29,29,29,29,29,29,29,30,30,30,30,30,30,30,30,30,30,30,30,30,30,30,30,30,30,30,30,30,30,30,2,2,2,2,2,2,2,2,2,2,2,2,2,2,3,3,3,3,3,3,3,3,3,3,3,3,4,4,4,4,4,4,4,4,4,4,4,5,5,5,5,5,5,5,5,5,5,5,5,5,5,5,5,5,6,6,6,6,6,6,6,6,6,6,6,9,9,9,9,9,9,9,9,9,11,11,11,11,11,11,11,11,11,11,11,11,12,12,12,12,12,12,12,12,12,16,16,16,16,16,16,16,16,16,16,16,16,17,17,17,17,17,17,18,18,18,18,18,18,18,18,18,18,19,19,19,19,19,19,19,19,19,19,19,20,20,20,20,20,20,20,20,20,20,20,20,20,20,20,20,20,20,23,23,23,24,26,26,26,27,27,1,1,1,3,3,4,4,7,7,7,7,7,7,7,7,7,7,7,7,7,7,7,7,8,8,8,8,8,8,8,8,8,8,8,8,8,8,8,8,9,9,9,9,9,9,9,9,9,9,9,9,9,9,9,9,10,10,10,10,10,10,10,10,10,10,10,10,10,10,10,10,10,11,11,11,11,11,11,11,11,14,14,14,14,14,14,14,14,14,15,15,15,15,15,15,15,15,15,15,15,15,15,16,16,16,16,16,16,16,16,16,16,16,16,16,16,16,16,16,16,16,17,17,17,17,17,17,17,17,17,17,17,17,17,17,17,17,18,18,18,18,18,18,18,18,18,18,18,18,18,18,18,18,18,21,21,21,21,21,21,21,21,21,21,21,21,21,21,21,21,22,22,22,22,22,22,22,22,22,22,22,22,23,23,23,23,23,23,23,23,23,23,23,23,23,23,23,23,23,24,24,24,24,24,24,24,24,24,24,24,24,24,24,24,25,25,25,25,25,25,25,25,25,25,25,25,25,25,25,25,25,25,25,25,25,28,28,28,28,28,28,28,28,28,28,28,28,28,29,29,29,29,29,29,29,29,30,30,30,30,30,30,30,30,30,30,30,30,30,30,30,30,30,30,30,30,30,30,30,30,31,31,31,31,31,31,31,31,31,31,31,31,31,31,31,4,4,4,4,4,5,5,5,5,5,5,5,5,5,5,5,5,5,5,5,5,5,5,5,5,6,6,6,6,6,6,6,6,6,6,6,6,6,6,6,6,6,6,6,6,6,7,7,7,7,7,7,7,7,7,7,7,7,7,7,8,8,8,8,8,8,8,8,8,8,8,8,8,8,8,11,11,11,11,11,11,11,11,11,11,11,11,11,11,11,12,12,12,12,12,12,12,12,12,12,12,12,12,12,12,12,12,12,12,12,12,12,13,13,13,13,13,13,13,13,13,13,13,13,13,13,13,13,13,13,13,13,14,14,14,14,14,14,14,14,14,14,14,14,18,18,18,18,18,18,18,18,18,18,18,18,18,18,18,19,19,19,19,19,19,20,20,20,20,20,20,20,20,20,20,21,21,21,21,21,21,21,21,21,22,22,22,22,22,22,22,22,22,22,25,25,25,25,25,25,25,25,25,25,25,26,26,26,27,27,27,27,27,27,27,27,27,27,28,28,28,28,28,29,29,17,17,17,17,19,20,20,20,21,21,21,21,22,22,22,22,23,23,23,24,24,24,26,27,27,27,28,28,28,29,29,30,30,30,30,30,31,31,31,4,4,5,5,5,6,6,8,9,10,10,11,11,12,12,13,13,13,14,14,14,14,14,14,17,17,17,17,17,17,17,17,17,17,17,18,18,18,18,18,18,18,18,18,18,18,18,18,18,18,18,18,18,19,19,19,19,19,19,19,19,19,19,19,19,19,19,19,19,19,19,19,19,19,19,19,20,20,20,20,20,20,20,20,20,20,20,20,20,20,20,20,20,20,20,20,20,20,20,20,20,20,20,20,20,20,20,20,20,20,20,20,20,20,20,20,20,20,20,21,21,21,21,21,21,21,21,21,21,21,21,21,21,21,21,21,21,21,21,21,21,21,21,21,21,21,21,21,21,21,21,21,21,21,21,21,21,21,21,21,21,21,21,21,21,21,21,27,22,28,28,28,28,28,28,28,28,29,29,29,29,29,29,29,29,30,30,30,30,30,30,30,30,30,2,2,2,2,2,2,2,2,2,2,2,2,2,2,2,2,2,2,2,2,2,2,2,2,2,3,3,3,3,3,3,3,3,3,3,3,3,3,3,3,4,4,4,4,4,4,4,4,4,4,4,4,4,4,4,4,4,4,4,4,4,4,4,4,4,4,5,5,5,5,5,5,5,5,5,5,5,5,5,5,5,5,5,6,6,6,6,6,6,6,6,6,6,6,6,6,9,9,9,9,9,9,9,9,9,9,10,10,10,10,10,10,10,10,11,11,11,11,11,12,12,12,12,13,13,13,13,13,13,13,13,13,16,16,16,16,16,16,16,16,17,17,17,17,17,17,17,17,17,17,17,17,17,18,18,18,18,18,18,18,18,18,18,19,19,26,26,26,26,26,26,27,27,27,27,27,27,27,27,27,27,27,27,2,2,2,2,2,2,2,3,3,3,3,3,3,3,3,3,3,3,3,4,5,5,5,5,5,5,5,6,6,6,6,6,9,9,9,10,10,10,10,10,10,10,10,11,11,11,11,11,11,12,12,12,12,12,13,13,16,17,17,17,17,17,17,18,18,18,18,18,19,19,23,23,24,24,24,24,25,25,25,25,26,26,27,27,27,27,27,27,27,30,30,30,31,31,1,1,1,1,1,2,2,2,2,2,2,3,3,3,3,3,6,6,6,6,6,6,6,7,7,7,7,7,8,8,8,8,8,8,8,8,8,8,8,8,8,8,8,8,8,8,8,8,8,9,9,9,9,9,9,9,9,9,9,13,13,13,13,13,13,13,13,13,13,14,14,14,14,14,14,14,14,14,14,14,14,14,14,14,14,14,15,15,15,15,15,15,15,15,15,15,15,15,15,15,15,16,16,16,16,16,16,16,16,16,16,16,16,16,16,16,16,16,16,16,16,16,16,16,16,16,16,17,17,17,17,17,17,17,17,17,17,17,17,17,17,17,17,17,17,17,17,17,17,17,20,20,20,20,20,20,20,20,20,20,20,20,20,20,20,20,20,20,20,20,20,20,20,20,20,20,20,20,20,20,20,20,20,20,20,20,21,21,21,21,21,21,21,21,21,21,21,21,21,21,21,21,21,21,21,22,22,22,22,22,22,22,22,22,22,22,22,22,22,22,23,23,23,23,23,23,23,23,23,23,23,23,23,23,24,24,24,24,27,27,27,27,27,27,29,29,29,29,30,30,30,30,30,30,30,30,30,30,30,30,30,30,30,30,30,30,30,30,30,30,30,30,30,30,30,30,30,30,30,30,30,30,30,30,30,30,30,30,30,30,30,30,30,30,30,30,30,30,30,30,30,30,30,30,30,30,30,30,30,30,30,30,30,30,30,30,30,30,30,30,30,30,30,30,30,30,30,30,30,30,30,30,30,30,30,30,30,30,30,30,30,30,30,30,30,30,30,30,30,30,30,30,30,30,30,30,30,4,4,4,4,4,4,4,4,4,4,4,4,4,4,4,4,4,4,4,4,4,4,4,4,4,4,4,4,4,4,4,4,4,4,4,4,4,4,4,4,4,4,5,5,5,5,5,5,5,5,5,5,5,5,5,5,6,6,6,6,6,6,6,6,6,6,6,6,6,6,6,6,6,6,6,6,6,6,7,7,7,7,7,7,7,7,7,7,7,7,7,7,7,7,7,7,7,7,7,7,7,7,7,8,8,8,8,8,8,8,8,8,8,8,8,8,8,8,8,8,11,11,11,11,11,11,11,11,11,11,11,11,11,12,12,12,12,12,12,12,12,12,12,12,12,12,12,12,12,12,12,12,12,12,12,12,12,12,12,12,12,12,12,12,12,13,13,13,13,13,13,13,13,13,13,13,13,13,13,13,13,13,13,13,13,13,13,13,13,13,13,13,13,13,13,13,13,13,13,13,13,13,13,13,13,13,14,14,14,14,14,14,14,14,14,14,14,14,14,14,14,14,14,14,14,14,14,14,14,14,14,14,14,14,14,14,14,14,14,14,14,14,14,14,14,15,15,15,15,15,15,15,15,15,15,15,15,15,15,15,15,15,15,15,15,15,15,15,15,15,15,15,15,15,15,15,15,15,15,15,15,15,15,15,15,15,15,15,15,15,15,15,15,15,15,15,15,15,15,15,18,18,18,18,18,18,18,18,18,18,18,18,18,18,18,18,18,18,18,18,18,18,18,18,18,18,18,18,18,18,18,18,18,18,18,18,18,18,18,18,18,18,22,22,22,22,22,22,22,22,22,22,22,22,22,22,22,22,22,22,22,22,25,25,25,25,25,25,25,25,25,25,25,25,25,25,25,25,25,25,25,25,25,25,26,26,26,26,26,26,26,26,26,26,26,26,26,26,26,26,27,27,27,27,27,27,27,27,27,27,27,27,27,27,28,1,1,1,1,1,1,1,1,1,1,1,1,1,1,1,1,1,1,1,1,1,1,1,1,1,1,1,1,1,2,2,2,2,2,2,2,2,2,2,2,2,2,2,2,2,2,2,2,2,2,2,2,2,2,2,2,2,2,2,3,3,3,3,3,3,3,3,3,3,3,3,3,3,3,3,3,3,3,3,3,3,3,3,3,3,3,4,4,4,4,4,4,4,4,4,4,4,4,4,4,4,4,4,4,4,4,4,4,4,4,4,4,5,5,5,5,5,5,5,5,5,5,5,5,5,5,5,5,5,5,5,5,5,5,5,5,5,8,8,8,8,8,9,9,9,9,12,12,15,15,15,15,15,15,15,15,15,15,15,15,15,15,15,15,15,15,16,16,16,16,18,18,18,18,18,19,22,22,22,22,22,22,30,30,30,30,1,1,1,2,2,2,2,2,2,2,2,2,2,2,2,2,2,2,2,3,3,3,3,3,3,3,3,3,3,3,6,6,6,7,7,7,7,7,7,7,7,7,7,7,7,8,8,8,8,8,8,8,8,8,8,8,9,10,10,14,15,20,24,28,28,4,4,4,4,4,4,4,4,4,4,5,5,5,5,5,5,5,5,5,5,5,5,5,6,6,6,6,6,6,7,7,7,7,7,7,7,7,7,7,7,7,7,7,7,7,7,7,7,7,7,10,10,10,10,10,10,11,11,11,11,11,11,11,11,11,11,11,11,11,11,11,11,11,12,12,12,12,12,12,12,12,12,12,12,12,12,12,12,12,12,12,12,13,13,13,13,13,13,13,13,13,13,13,13,13,13,13,13,13,13,13,14,14,14,14,14,14,14,14,14,14,14,14,14,14,14,14,17,17,17,17,17,17,17,17,17,18,18,18,18,18,18,18,18,19,19,19,19,19,19,19,19,19,19,20,20,20,20,20,20,21,21,21,21,21,21,21,21,21,21,21,21,24,24,24,25,25,25,25,25,25,26,26,26,26,26,26,26,27,27,27,27,27,27,27,28,28,28,28,28,28,28,28,31,31,31,31,31,31,1,1,1,1,1,2,2,2,2,3,3,3,3,4,4,4,4,4,4,4,7,7,7,7,7,7,7,7,8,8,8,8,8,8,8,8,8,8,8,8,8,9,9,9,9,9,9,9,9,9,9,9,10,10,11,11,11,11,11,11,11,11,11,11,14,14,14,15,15,15,15,15,15,15,15,15,15,15,16,16,16,16,17,18,18,18,22,22,22,22,22,23,24,25,25,28,28,29,30,30,1,1,1,1,1,2,2,6,6,6,6,7,7,7,8,8,8,8,9,12,12,12,12,12,13,13,13,13,13,13,13,13,14,14,15,15,15,15,15,15,16,16,16,16,16,16,16,16,16,16,16,16,19,19,19,19,19,20,20,20,20,20,20,20,20,21,21,21,21,21,21,21,21,21,21,22,22,22,22,22,22,22,22,22,22,22,22,22,22,23,23,23,23,23,23,23,23,23,23,23,23,26,27,27,27,27,27,27,27,27,27,27,27,27,27,27,28,28,28,28,28,29,29,29,29,29,29,29,29,29,29,29,29,29,29,29,29,29,29,30,30,30,30,30,30,30,30,30,30,2,2,2,2,3,3,3,3,3,3,3,3,3,3,4,6,6,6,9,9,9,9,9,9,9,9,10,10,10,10,10,10,11,11,11,11,11,11,11,11,11,11,12,12,12,12,12,12,12,12,12,12,12,12,12,12,12,12,12,13,13,13,13,13,13,13,13,13,13,13,13,13,16,16,16,16,16,16,16,16,16,16,16,16,17,17,17,17,17,17,17,25,25,25,25,25,25,25,27,30,30,2,2,2,2,3,3,3,3,3,3,3,4,4,4,4,4,4,4,4,7,7,7,7,7,9,9,9,9,9,9,9,9,9,10,10,10,10,10,10,10,10,11,14,14,15,15,15,16,16,16,16,17,17,17,18,18,18,21,21,21,21,21,21,22,22,22,22,23,24,28,28,28,28,28,28,28,29,29,29,29,29,30,8,11,11,11,11,11,12,12,12,12,12,12,12,13,13,13,13,13,13,13,14,14,14,14,14,14,14,14,14,15,15,15,15,18,18,18,18,18,25,25,25,25,25,26,26,27,27,27,27,27,27,27,27,27,27,28,28,28,28,28,28,28,28,28,28,28,28,28,29,29,29,29,29,1,1,1,2,2,2,3,3,3,3,3,3,3,3,3,3,3,3,3,3,4,4,4,4,4,4,4,4,4,4,4,5,5,5,5,8,8,8,8,8,8,8,8,9,9,9,9,9,9,9,9,9,9,9,9,10,10,10,10,10,10,10,10,11,11,11,11,11,11,11,11,11,11,11,11,11,11,11,11,11,11,12,12,12,12,12,12,12,12,12,12,12,12,12,15,15,15,15,15,15,15,15,15,15,15,15,15,15,15,15,18,18,18,18,18,18,18,19,19,19,19,19,19,22,22,22,23,23,23,23,23,23,23,23,23,24,24,24,24,24,24,24,25,25,25,25,25,25,26,26,26,26,26,26,2,2,2,2,2,2,2,2,2,3,3,3,3,4,4,4,4,4,4,5,5,5,5,5,5,5,5,5,8,8,8,8,8,8,9,9,9,9,9,9,9,9,9,9,9,9,9,10,10,10,11,12,12,12,12,15,15,15,15,16,16,16,16,16,17,18,18,18,18,18,18,22,22,22,22,22,22,23,23,23,25,25,25,25,26,26,26,29,29,30,30,30,31,31,31,31,1,1,1,1,1,1,1,5,5,5,5,5,5,5,5,5,6,6,6,6,6,8,12,12,12,12,13,13,13,13,13,13,13,13,14,14,14,15,15,15,15,15,15,15,15,16,16,19,19,19,20,20,20,20,20,21,21,21,21,21,22,23,23,23,23,23,23,23,23,26,26,26,26,26,26,26,27,27,27,27,27,27,28,28,28,28,28,28,29,29,29,29,29,29,29,30,30,30,30,30,30,4,4,4,4,4,4,4,4,5,5,5,5,5,5,5,5,6,6,6,7,7,7,7,7,10,12,12,12,12,12,13,13,13,13,13,13,13,13,13,13,13,13,13,13,14,14,14,14,14,14,14,14,14,14,17,17,17,17,18,18,18,18,18,19,19,19,20,20,21,21,21,21,24,24,24,24,25,25,25,25,25,26,26,26,26,26,26,26,26,27,27,27,27,27,27,27,28,28,28,31,1,1,1,1,1,1,1,2,2,2,2,4,8,8,8,9,9,9,9,9,9,13,14,14,14,14,14,14,14,14,14,14,14,14,14,15,15,15,15,15,16,16,17,17,17,17,17,17,17,17,18,22,23,23,23,23,24,24,24,25,25,25,25,25,28,28,28,28,28,28,28,28,28,29,29,29,29,29,29,29,29,30,30,30,30,1,1,2,2,2,2,2,5,5,6,6,6,6,6,7,7,7,7,8,8,8,8,8,8,8,8,8,8,8,9,9,9,9,10,12,12,12,12,12,13,13,13,13,13,13,13,13,13,14,14,14,14,14,14,14,14,14,14,15,15,15,15,15,15,15,16,16,16,16,16,16,16,19,19,19,19,19,19,19,20,20,20,20,21,21,22,22,22,22,22,22,22,22,23,23,23,23,23,23,23,23,26,26,26,26,26,27,27,27,27,28,28,28,28,28,28,29,29,29,29,29,29,29,29,29,29,29,29,30,30,30,30,30,2,2,2,2,2,2,3,3,3,3,3,3,3,3,3,3,4,4,4,4,4,4,4,4,4,4,4,4,4,5,5,5,5,5,5,5,5,5,5,5,5,6,6,6,6,6,6,6,6,6,6,6,6,9,9,10,10,10,10,10,10,10,10,10,10,11,11,11,11,11,11,11,11,11,11,12,12,12,12,12,12,12,12,12,12,12,12,13,13,13,13,13,13,13,13,16,16,16,19,31,31,31,31,31,1,1,1,1,1,1,1,1,1,1,1,1,2,2,2,2,2,2,3,3,3,6,6,6,6,6,6,6,6,7,7,7,7,8,8,8,8,8,8,8,8,8,9,9,9,9,9,9,9,9,9,9,9,9,10,10,10,10,13,13,13,14,14,14,14,14,14,15,15,15,15,15,15,15,15,16,16,16,16,16,16,16,16,16,16,17,17,17,17,17,20,22,22,22,22,22,22,23,23,23,23,23,23,23,23,23,23,24,24,24,24,27,27,27,28,29,29,29,29,6,6,6,6,6,6,6,6,8,8,8,8,8,11,11,11,11,11,12,12,12,13,13,13,13,14,14,14,15,15,18,18,18,18,18,18,19,19,19,20,20,21,21,21,21,21,21,21,21,21,21,22,22,22,25,25,25,25,25,25,25,26,26,26,27,27,27,27,27,8,8,8,9,9,9,9,9,10,11,11,12,12,16,16,16,16,16,16,16,16,16,16,17,17,17,17,17,17,17,20,20,23,14,4,20,2,28,19,17,5,2,2,11,6,12,20,17,10,18,23,19,8,3,25,7,12,13,8,27,7,2,9,17,13,28,28,14,3,18,10,14,10,18,15,16,3,19,10,3,2,3,4,14,12,18,21,16,4,2,21,11,26,27,12,3,4,25,20,22,9,6,12,19,19,18,5,11,31,10,12,12,17,11,5,28,10,27,21,18,9,6,19,30,21,12,22,22,19,4,25,5,30,29,23,28,26,26,13,11,18,5,14,12,6,23,8,12,25,5,15,27,26,4,12,29,3,6,26,25,30,17,30,28,18,4,26,15,11,28,5,16,22,4,11,2,21,7,28,30,18,7,9,6,16,13,15,7,18,2,30,7,18,6,7,18,12,6,17,14,27,18,10,30,17,5,22,4,25,5,29,21,3,15,12,20,20,21,10,20,29,28,1,30,12,23,4,18,31,13,15,3,3,5,5,20,19,13,27,21,15,29,11,4,4,24,8,16,3,22,27,16,30,2,8,7,31,8,5,28,21,12,30,22,22,9,30,2,8,5,3,14,13,19,8,6,20,22,30,19,15,22,30,29,29,18,13,17,20,28,3,4,30,13,8,29,29,3,12,21,30,20,25,17,16,11,4,16,16,5,8,4,18,17,26,28,13,3,15,16,12,30,7,25,11,5,12,29,15,14,24,6,26,2,17,14,1,22,14,15,11,22,12,13,19,13,15,30,28,21,7,27,11,14,7,16,18,30,16,12,15,15,6,15,26,11,26,30,19,18,18,30,17,4,17,31,19,6,5,28,28,29,22,17,22,3,28,7,22,3,24,10,25,10,11,27,12,4,27,28,19,11,20,20,4,8,17,21,5,4,18,31,3,27,13,8,5,9,25,18,8,14,18,2,30,17,4,2,12,6,21,19,22,30,12,10,20,4,15,30,30,19,30,14,28,5,5,28,17,3,9,11,16,10,31,28,17,7,4,24,30,1,18,21,29,6,7,28,18,8,24,13,21,26,17,30,14,15,29,30,30,12,20,25,12,6,26,4,18,23,28,20,18,13,9,13,26,21,18,2,13,9,13,12,14,11,18,12,17,27,27,29,9,15,9,30,6,4,16,11,30,4,8,2,25,27,18,12,13,8,20,2,2,8,9,18,6,30,14,21,30,19,22,15,30,26,26,5,20,29,14,12,15,15,3,16,10,5,7,9,12,3,12,27,8,10,6,2,13,19,13,28,17,28,14,28,15,21,22,28,6,20,3,12,7,3,21,18,2,19,22,1,13,12,16,10,23,23,4,12,28,21,28,11,8,22,18,30,29,21,13,6,8,4,8,2,30,21,9,16,20,30,9,10,22,13,27,26,23,26,2,21,28,17,13,10,20,24,4,13,10,15,13,19,7,15,23,15,6,31,14,11,6,13,9,12,7,17,14,18,16,17,10,24,14,11,18,12,10,11,27,14,29,30,27,18,12,25,9,3,18,5,15,12,30,21,28,2,30,11,20,25,14,4,12,12,11,18,13,9,6,14,17,14,17,9,19,3,9,2,13,3,23,5,20,4,27,16,19,21,25,8,15,29,12,5,6,23,8,17,25,30,8,13,25,13,21,23,18,17,4,4,3,21,18,4,16,2,28,30,18,21,7,6,23,5,12,24,11,26,16,5,14,21,11,18,6,9,15,12,3,27,1,29,7,17,20,27,27,20,24,13,30,25,26,5,20,2,18,30,13,5,3,5,8,11,9,2,15,22,12,15,16,17,16,30,26,16,10,16,30,9,2,16,17,13,15,5,18,17,3,17,7,15,20,14,23,3,10,21,16,20,15,11,18,29,9,28,2,30,14,12,20,23,27,2,21,15,17,19,12,8,19,5,23,5,30,4,19,13,28,20,13,20,27,11,18,22,22,13,18,20,12,12,29,20,12,30,28,9,14,3,5,13,11,4,30,10,12,25,19,26,10,13,28,9,22,15,10,7,7,3,26,16,23,6,18,5,25,5,12,11,29,6,30,17,19,4,8,12,9,28,5,12,16,9,25,27,3,23,8,15,5,13,28,15,17,30,17,15,4,12,18,16,8,27,6,17,16,29,17,12,30,22,4,5,14,8,12,26,2,12,14,25,11,16,12,6,21,17,7,23,20,25,1,9,28,12,4,20,15,4,15,17,18,26,18,7,1,20,22,22,3,6,10,17,8,29,1,25,14,6,4,12,11,26,18,21,20,15,3,18,3,3,21,12,4,2,21,16,31,27,29,26,25,21,26,30,29,4,12,15,2,20,18,5,17,22,29,11,18,2,26,13,11,11,21,5,16,18,17,25,2,17,10,25,9,5,6,12,13,8,28,10,4,15,5,5,14,5,9,10,17,19,8,18,6,18,5,3,13,6,18,4,10,23,13,3,8,12,8,15,20,25,6,6,8,11,12,30,22,30,16,30,13,30,22,7,15,2,12,5,10,3,7,18,8,19,11,13,15,30,7,4,13,7,3,12,9,11,29,6,27,24,31,5,12,21,28,11,7,15,22,26,18,8,13,17,4,31,12,10,11,22,27,14,15,17,2,16,18,4,22,24,21,2,19,10,5,10,21,30,12,21,4,17,20,30,29,12,4,17,6,23,17,13,7,27,18,13,17,1,27,8,29,8,27,22,28,15,19,17,2,29,21,21,20,12,28,26,13,4,20,2,26,18,7,27,24,15,8,18,31,30,25,29,6,7,8,27,29,7,18,27,14,19,16,28,18,17,2,19,18,9,6,6,18,5,27,18,12,14,3,29,5,14,23,8,13,28,2,19,18,4,19,17,13,18,29,21,6,15,6,20,22,6,29,9,15,30,29,15,2,8,2,13,17,22,26,30,20,30,12,12,6,6,8,8,17,16,13,20,18,29,6,20,16,11,19,7,5,12,22,8,12,9,3,13,23,13,28,18,5,25,26,21,2,12,22,26,19,3,7,17,16,30,12,23,29,26,17,16,15,9,14,17,27,18,25,29,12,18,20,27,18,11,6,13,7,28,7,4,20,4,20,19,22,13,25,28,6,4,18,28,19,29,20,8,14,23,20,4,5,17,11,5,15,6,14,29,30,21,28,24,11,25,29,5,20,18,14,19,15,11,20,20,20,6,17,28,15,8,21,29,16,9,22,28,19,29,30,19,28,1,8,15,21,20,18,13,3,4,15,14,15,23,20,5,5,16,26,30,8,9,14,20,25,18,15,28,6,24,8,11,14,8,15,8,2,6,15,6,12,21,21,6,21,8,23,6,2,19,30,15,11,19,15,30,13,19,2,6,28,22,22,5,6,16,14,14,2,7,29,20,14,21,5,20,9,20,12,20,30,11,25,11,6,30,17,19,23,7,7,17,29,18,3,9,7,16,17,4,24,12,25,28,12,8,12,9,4,27,18,17,18,14,2,28,21,20,9,8,15,20,17,13,6,23,20,28,12,21,18,9,14,12,21,14,29,2,13,17,29,5,8,12,16,23,7,16,8,19,4,19,10,8,18,12,30,29,24,17,20,22,7,6,11,9,29,28,12,12,7,18,8,17,4,16,25,18,23,25,20,4,11,6,31,4,19,7,28,8,30,2,8,18,12,14,29,14,9,18,20,5,23,20,29,5,29,12,14,19,18,8,28,14,15,30,16,3,3,14,16,11,29,11,8,8,17,18,19,17,5,20,6,13,18,18,14,28,5,11,4,25,23,30,9,5,4,13,30,8,26,9,17,11,2,20,31,27,19,21,17,17,21,28,26,30,19,23,25,21,17,6,13,12,20,5,9,16,26,13,14,14,2,21,6,5,5,20,16,7,23,17,11,12,26,6,14,15,17,12,19,20,13,15,19,5,22,19,9,20,31,6,17,12,20,17,15,28,29,21,6,6,27,30,14,26,15,16,5,16,12,12,30,17,28,8,3,18,4,14,13,16,25,21,11,26,13,2,18,30,7,7,7,15,22,31,18,6,8,15,25,17,2,20,14,16,17,7,20,18,4,13,31,9,18,15,20,25,5,12,21,24,20,28,7,20,18,8,2,20,20,6,6,25,19,26,28,6,17,17,18,18,17,22,21,15,9,7,14,28,26,16,13,19,17,17,15,23,20,30,18,20,20,25,26,17,18,20,21,5,11,17,5,16,5,18,26,18,21,22,7,25,13,12,22,6,20,18,11,26,17,14,4,30,17,29,17,12,4,13,2,21,15,5,7,27,14,29,29,16,30,17,16,27,13,4,16,18,17,18,20,5,6,22,19,29,7,27,7,5,7,6,13,22,9,3,4,20,6,30,29,22,30,7,17,19,12,12,6,27,7,13,9,9,18,2,11,19,11,20,20,16,17,7,16,18,29,17,14,28,2,16,3,9,16,29,8,28,14,9,4,30,5,8,9,29,17,21,28,30,20,3,24,30,12,27,21,26,30,5,26,13,23,20,13,15,13,23,7,20,9,5,29,28,27,6,24,15,23,17,17,6,14,7,21,12,4,14,27,7,8,29,13,7,26,28,23,6,16,15,8,20,14,12,23,6,20,29,21,18,8,29,15,3,2,30,15,29,15,27,17,7,30,21,11,23,29,13,11,11,9,12,6,30,14,13,24,11,10,25,18,18,29,12,5,29,11,5,31,3,28,8,11,5,7,18,8,2,14,29,11,18,2,16,27,28,21,17,28,8,8,28,28,14,7,2,26,16,18,17,7,18,28,6,20,15,4,13,21,4,12,29,9,27,20,21,21,18,9,14,27,15,19,25,3,16,19,20,23,16,6,20,15,18,19,30,13,16,26,22,12,29,7,19,14,29,20,14,2,9,23,28,26,28,24,6,22,11,9,21,6,12,5,7,11,2,6,17,9,26,18,5,6,11,15,1,31,4,25,28,4,13,19,16,14,24,13,13,9,3,5,17,15,7,28,2,15,20,29,17,21,29,20,1,10,21,7,20,23,17,28,14,20,8,11,28,4,6,7,9,30,18,14,22,18,21,3,20,30,30,28,28,23,5,5,7,11,21,13,16,21,26,8,17,7,20,29,26,31,7,2,20,12,21,2,5,28,19,4,15,21,29,6,29,12,30,14,15,3,10,9,28,5,31,10,18,11,18,3,5,5,14,23,6,17,17,26,19,20,20,13,15,26,13,20,3,21,14,17,28,20,14,18,6,30,24,8,21,26,14,13,29,9,14,6,16,18,15,16,13,9,30,29,7,18,12,5,5,18,26,4,4,24,16,8,27,4,8,5,5,29,23,19,29,29,5,13,6,30,5,6,11,25,7,9,15,30,2,16,29,18,5,7,4,6,24,22,28,4,22,29,3,29,10,11,25,16,12,14,30,29,21,12,5,20,5,12,14,26,15,23,21,26,9,31,21,5,14,21,28,5,30,8,8,11,14,19,21,8,8,8,8,9,7,8,18,11,20,14,9,18,15,16,30,5,15,14,16,17,21,7,21,13,8,19,23,27,5,28,20,13,20,29,23,28,26,18,14,13,30,13,9,9,27,26,2,21,21,30,5,11,25,6,13,30,29,28,29,11,28,22,6,13,12,6,13,18,18,3,31,25,13,5,4,21,13,18,23,17,30,3,29,31,3,9,17,14,26,6,11,10,2,19,20,6,13,18,18,5,13,12,19,28,18,14,18,20,18,4,25,16,21,5,16,19,19,27,15,29,8,30,6,7,6,17,26,11,6,16,20,2,29,28,21,19,4,11,23,18,21,20,5,28,7,3,27,8,12,2,28,23,8,20,13,16,20,13,20,20,19,20,13,17,25,15,6,14,18,23,18,23,4,29,5,13,28,8,29,12,25,4,19,30,14,14,28,28,27,8,14,16,23,20,5,26,9,17,17,11,19,16,9,8,9,19,20,13,5,4,16,11,11,11,3,15,21,16,26,25,2,5,1,8,7,2,18,19,2,31,3,14,30,23,16,15,11,9,4,28,18,20,19,7,20,7,15,23,13,20,18,12,18,21,11,18,8,15,13,15,8,13,23,30,29,8,14,27,18,10,3,22,20,23,17,17,12,25,6,26,15,10,21,17,10,31,6,23,8,6,30,20,18,5,16,28,15,21,27,7,14,9,3,18,28,20,11,28,27,9,23,16,25,6,29,11,25,7,22,4,17,5,9,20,13,29,18,12,6,20,29,16,3,12,15,26,8,18,20,16,4,5,19,28,8,13,20,18,15,29,8,26,21,5,15,5,9,14,3,20,29,29,29,20,30,28,14,29,21,26,28,31,18,6,5,15,28,4,5,26,23,26,5,15,29,27,11,4,15,21,16,19,28,4,21,8,11,9,19,20,3,31,8,20,16,8,19,6,14,8,26,9,15,9,13,23,14,18,7,3,21,30,7,19,6,18,4,9,7,9,7,28,8,26,16,14,13,26,30,20,30,18,17,21,29,26,12,13,21,5,24,18,31,20,20,17,24,1,19,18,7,2,16,4,12,28,5,12,16,3,12,6,14,21,7,12,20,26,14,19,30,18,25,18,6,20,7,18,9,20,22,19,12,24,11,28,17,26,17,17,15,19,15,22,30,3,18,27,8,11,27,27,3,9,12,27,28,23,18,20,9,18,29,8,28,7,15,8,19,5,8,20,27,8,13,12,7,9,18,14,5,4,16,30,18,21,7,5,17,3,6,20,23,5,14,6,5,5,5,7,6,27,18,30,18,18,16,23,26,20,14,25,30,5,20,20,11,29,9,18,24,4,15,17,6,28,28,29,2,19,9,6,25,15,20,13,19,17,11,23,25,3,20,6,8,1,5,22,21,29,20,15,26,18,24,23,30,15,8,12,5,12,1,9,12,18,19,18,5,29,20,5,19,18,22,21,23,22,18,19,18,23,13,21,10,6,4,5,30,21,15,24,8,23,11,5,28,7,4,25,15,14,20,12,8,13,28,24,8,14,13,12,22,23,30,6,17,4,27,17,6,14,8,29,14,20,23,28,6,7,30,12,21,27,28,28,16,4,27,7,30,3,4,14,8,6,17,5,9,7,31,9,14,4,20,6,29,4,26,12,26,28,30,16,18,25,16,7,7,30,17,5,11,7,3,14,8,16,19,15,31,27,17,7,25,20,31,30,9,5,5,15,22,15,13,22,5,22,12,11,20,12,14,3,18,17,27,30,9,26,23,14,29,11,2,25,24,19,29,25,29,20,29,14,2,30,11,16,23,5,11,26,15,28,14,18,14,7,14,17,20,13,12,21,8,28,15,27,7,3,13,21,30,2,14,7,4,25,30,6,27,19,29,23,19,13,14,29,4,7,21,28,5,15,31,4,25,18,4,21,29,17,6,8,15,28,4,29,3,30,16,13,14,1,6,19,19,8,9,12,11,5,20,19,9,5,6,17,20,6,17,15,20,9,9,27,20,3,29,30,12,31,4,16,20,20,20,12,14,13,25,18,9,5,5,20,8,10,18,22,20,18,4,4,11,4,19,17,17,30,28,8,8,16,14,28,19,19,29,9,4,25,9,19,3,21,20,11,16,11,18,2,19,14,5,6,25,19,24,6,20,3,12,30,21,5,26,12,6,3,12,31,11,16,22,23,29,16,2,20,8,6,18,30,20,6,3,19,20,24,20,14,3,5,7,9,18,7,31,12,20,16,8,27,9,6,14,5,11,18,12,28,12,19,28,28,28,17,16,21,4,23,30,20,18,27,19,6,30,13,15,8,11,28,11,13,13,4,13,20,9,6,14,5,29,17,25,29,28,21,20,18,8,21,5,19,17,19,12,3,29,5,17,5,4,20,31,20,11,25,5,18,29,20,3,31,8,8,19,16,20,12,20,19,6,11,30,5,12,12,28,28,12,27,20,8,12,4,12,5,14,11,7,6,17,9,7,31,3,20,25,9,18,6,12,25,26,16,12,20,12,28,9,18,29,15,12,30,21,29,20,19,13,30,18,17,26,12,27,23,25,6,23,20,5,29,16,20,18,17,20,6,10,2,7,19,7,6,21,4,28,6,27,29,26,7,20,30,22,20,20,17,8,20,23,30,7,5,9,16,18,21,18,30,31,24,12,16,12,18,5,28,22,7,4,3,10,7,29,9,31,6,19,13,17,14,19,11,14,24,8,13,12,18,18,15,2,29,30,11,21,17,29,17,29,25,19,13,9,20,18,18,5,7,11,29,9,4,31,7,20,20,29,19,20,17,31,7,2,26,5,6,20,6,24,5,16,5,31,5,20,31,5,16,15,18,4,7,16,2,28,15,20,17,5,12,7,6,15,4,6,7,19,18,18,28,29,16,28,17,11,14,18,2,21,5,29,19,8,14,29,8,28,20,20,5,5,28,17,25,11,21,1,28,23,26,21,20,8,22,7,8,15,7,13,18,6,29,23,15,24,15,16,15,27,21,3,4,14,2,19,9,15,30,18,19,20,19,12,20,31,21,23,10,15,14,19,22,28,20,20,19,28,13,21,3,7,15,15,9,15,8,18,4,17,20,29,22,8,8,15,14,21,28,30,8,9,6,3,30,27,27,16,23,19,15,19,28,29,20,28,9,9,29,20,5,5,27,22,29,3,21,29,27,29,30,17,16,5,20,28,20,7,4,18,23,30,18,28,11,6,12,27,13,27,18,7,21,25,19,4,13,28,29,18,16,11,12,31,31,26,8,12,29,29,14,11,24,4,20,5,13,20,3,11,22,14,26,20,26,20,1,8,6,14,17,28,9,3,22,5,18,22,17,30,7,11,12,9,21,17,7,26,14,19,15,28,20,11,9,20,20,21,25,6,20,16,26,28,18,4,4,12,29,20,12,14,29,29,6,13,14,4,31,23,19,16,3,8,21,14,20,22,17,15,24,18,4,21,19,30,18,11,29,5,3,17,1,19,14,8,9,4,7,19,7,19,19,14,29,14,20,9,25,10,9,21,2,11,5,19,21,22,19,26,21,21,30,28,4,15,23,4,13,29,12,17,20,26,12,14,13,26,26,16,19,9,2,21,20,11,3,18,18,6,27,20,4,4,2,4,19,30,15,12,29,1,12,19,26,27,4,3,30,28,21,2,21,18,21,7,18,3,30,14,27,12,28,13,8,21,20,29,17,12,3,29,18,1,19,17,31,31,18,13,27,16,28,6,12,19,28,5,4,20,7,6,4,18,14,20,11,12,8,30,15,12,13,6,28,13,12,14,14,14,17,24,15,30,19,29,30,15,11,14,21,13,19,30,8,29,30,20,21,7,16,20,13,29,21,18,13,29,9,21,15,19,17,12,26,6,4,31,19,4,8,18,13,14,16,25,29,12,17,16,27,18,10,19,13,28,23,8,30,12,7,3,30,22,9,15,18,26,28,31,20,19,29,6,7,27,28,2,13,27,5,4,20,8,17,29,11,31,12,25,4,4,7,6,16,16,27,23,29,17,31,9,5,19,29,28,21,30,15,18,7,20,20,14,18,15,11,6,20,8,15,2,6,15,15,30,19,16,7,22,4,27,11,18,4,1,18,29,5,28,23,6,14,7,17,12,5,16,18,14,21,25,30,3,21,8,7,16,8,18,5,12,30,21,22,6,27,2,11,17,2,19,4,9,14,13,19,26,27,25,4,27,20,21,31,6,8,29,14,17,4,19,6,18,15,22,18,29,18,2,9,4,20,29,20,22,4,11,5,21,21,18,4,2,14,30,6,14,15,12,7,14,14,6,23,5,19,13,14,15,16,13,21,22,3,15,13,13,18,17,14,13,29,31,13,5,18,7,12,16,17,28,22,8,19,6,12,5,24,18,13,28,18,5,20,16,9,16,7,15,30,6,12,16,27,2,11,19,14,15,28,20,20,5,13,18,28,9,20,2,13,6,8,3,17,15,19,19,28,25,9,22,8,17,3,19,31,28,22,14,15,14,14,29,15,6,6,17,19,13,7,3,2,17,18,9,14,2,13,28,18,2,8,3,13,5,20,12,19,21,19,5,29,31,15,13,15,19,16,7,28,4,27,14,19,18,5,24,19,13,16,5,5,26,15,12,18,3,29,18,21,7,6,27,20,13,31,13,6,4,6,18,13,15,31,13,28,30,9,8,18,3,31,13,16,26,8,10,18,31,17,8,9,27,23,7,8,6,14,12,30,18,27,13,16,4,18,8,14,6,30,27,19,17,14,3,18,29,8,17,16,9,29,23,27,8,21,21,20,5,6,28,5,21,24,11,14,6,19,30,4,9,28,29,19,10,28,19,6,12,28,19,25,7,14,15,17,6,21,21,15,28,29,5,19,3,18,20,20,31,7,28,29,5,28,12,20,13,5,18,22,8,23,27,28,19,31,4,7,15,9,8,27,10,29,15,13,27,30,14,17,9,8,12,18,16,31,19,12,6,11,8,11,4,5,23,9,18,16,20,14,15,30,5,29,31,22,17,8,19,6,1,8,19,21,26,29,18,11,6,12,21,23,11,30,16,10,19,15,6,16,3,14,19,11,31,29,15,21,2,28,12,5,4,14,25,21,6,21,6,29,25,15,11,19,29,29,21,12,29,22,17,18,18,15,24,20,12,5,19,12,18,27,22,31,17,30,3,21,1,20,6,2,28,12,30,14,29,29,12,20,19,11,26,19,21,14,27,20,17,23,18,18,22,17,18,16,28,8,25,17,20,13,16,17,27,3,18,5,22,29,14,28,3,17,25,4,9,23,26,5,17,8,14,20,27,6,15,30,17,28,17,21,6,13,18,6,21,28,18,18,20,29,24,6,11,9,7,7,13,17,12,29,28,21,16,13,8,22,31,23,9,9,2,16,28,21,22,15,4,28,17,14,3,12,13,20,19,6,28,25,7,18,17,18,26,21,16,23,28,27,22,20,18,17,15,4,8,2,19,13,15,29,4,9,2,6,26,6,5,18,24,19,5,28,10,9,21,30,8,30,27,14,12,3,2,20,11,5,29,16,28,5,5,10,3,22,6,28,17,15,20,14,19,14,21,9,14,18,17,30,6,14,21,13,19,18,3,5,28,3,7,6,5,15,2,20,20,21,5,19,31,28,30,20,17,28,12,15,31,28,6,3,30,7,15,19,21,24,5,2,29,25,18,7,29,13,30,5,19,8,18,2,5,8,8,19,30,28,8,13,15,20,12,21,18,8,1,21,27,3,14,29,17,11,5,29,5,6,7,31,12,31,14,4,20,6,26,2,29,14,30,17,2,9,18,29,5,24,17,31,31,20,11,11,28,15,15,16,17,11,6,6,10,1,14,19,6,2,15,20,9,6,22,18,7,15,30,25,16,9,18,18,16,24,8,26,22,20,19,21,11,23,18,20,8,5,23,13,20,18,26,2,21,11,23,23,18,12,21,22,20,11,7,26,18,7,29,21,22,13,4,30,5,2,6,28,15,8,28,10,20,8,21,16,5,15,18,14,30,27,13,7,14,20,7,21,14,15,9,5,3,20,6,27,21,22,24,3,28,23,21,7,21,14,9,5,6,27,5,12,22,19,20,18,22,11,18,13,9,27,20,30,19,1,17,29,20,12,28,31,18,11,18,2,18,14,17,21,13,14,21,17,14,17,12,19,13,14,14,27,20,1,30,21,26,27,14,6,24,14,20,30,6,30,6,22,7,29,6,18,12,4,25,2,29,19,15,26,16,21,19,8,6,20,4,23,4,21,18,30,11,8,20,6,20,14,17,21,7,29,7,18,4,20,28,28,11,11,26,18,28,30,5,14,28,27,27,2,25,28,20,17,30,5,7,20,29,7,19,11,14,21,20,19,26,8,30,7,29,11,4,17,29,7,15,14,14,15,28,18,19,11,30,24,9,29,14,5,6,9,13,17,8,21,2,13,16,12,14,15,20,6,27,25,8,18,5,14,18,20,18,3,30,28,21,6,12,30,1,14,23,17,15,19,21,11,28,20,20,20,6,23,2,31,6,11,20,28,2,26,5,20,19,10,19,20,30,23,6,23,14,13,18,29,23,27,26,17,29,27,9,8,12,21,6,3,29,27,13,7,13,11,20,6,5,22,22,15,21,17,6,19,30,18,27,26,17,13,20,20,19,19,2,7,19,27,13,6,12,14,19,30,19,8,5,20,2,5,20,29,13,31,20,4,28,6,21,16,18,6,30,21,8,19,21,9,17,2,21,5,13,15,26,18,28,12,27,30,4,9,19,20,28,13,11,28,15,8,16,21,23,12,30,23,27,4,3,11,14,13,21,15,14,25,9,27,21,20,17,14,20,21,20,7,28,4,7,31,5,17,10,11,21,8,8,16,3,15,9,18,28,9,31,2,28,11,22,28,10,13,20,10,2,17,22,20,20,16,19,15,23,5,19,16,20,20,19,4,13,18,5,6,13,2,23,20,19,7,22,28,5,28,21,20,15,6,14,13,20,14,5,29,27,16,12,5,24,8,4,17,5,6,19,14,7,7,20,6,9,7,8,24,4,26,5,21,10,28,28,11,9,4,21,8,6,29,7,29,8,18,20,27,17,15,19,15,9,20,14,11,5,26,19,23,30,20,29,30,28,28,30,26,2,14,31,11,7,12,29,9,22,26,11,18,2,26,14,7,28,8,28,30,6,6,11,28,8,26,19,22,18,20,22,23,4,2,30,6,16,7,28,18,9,7,23,19,29,29,12,17,3,31,12,28,20,17,4,3,14,12,12,5,10,20,27,13,20,29,20,2,6,21,17,30,29,14,13,21,21,14,5,11,21,17,15,3,3,5,4,12,20,18,4,9,2,11,27,8,5,14,16,4,3,14,13,11,29,10,4,16,29,21,7,6,23,14,19,30,28,13,18,23,14,22,20,18,26,10,20,12,27,29,26,19,9,31,7,4,5,8,6,7,11,13,29,8,9,5,27,21,18,28,30,7,19,14,26,8,21,6,20,5,20,6,2,14,9,19,15,21,20,17,11,18,26,3,15,31,11,10,6,18,17,18,18,9,7,18,18,6,11,20,22,11,30,15,17,8,5,3,5,14,6,8,3,17,5,2,28,8,13,4,29,30,14,29,18,19,15,12,26,6,12,5,20,30,22,18,22,20,11,30,30,28,4,20,21,20,20,7,8,20,23,9,11,8,27,11,18,29,1,3,1,5,21,3,21,14,3,5,29,5,29,5,6,15,7,20,26,6,24,7,11,6,29,27,21,3,25,29,2,2,19,28,2,28,28,15,24,6,19,24,23,17,1,11,17,25,1,6,2,8,12,5,30,29,28,9,19,30,23,7,20,15,30,9,3,19,31,29,28,5,15,13,8,4,9,15,28,14,5,21,21,17,30,3,20,18,19,28,9,27,20,26,18,16,9,5,28,14,3,29,3,12,31,17,16,22,7,19,15,20,12,20,27,15,16,19,2,15,29,20,5,17,14,7,19,22,11,23,19,13,30,27,2,28,13,2,11,2,23,29,29,13,26,14,11,29,28,20,16,16,15,20,15,17,29,22,9,5,26,22,26,14,17,3,26,20,26,6,14,7,6,20,20,15,15,28,22,5,30,12,17,17,31,13,4,13,16,12,26,29,21,18,14,30,9,29,6,21,8,4,9,9,2,28,13,5,2,16,21,6,29,2,17,13,19,8,19,26,8,11,8,15,19,11,21,6,13,13,6,17,19,4,28,4,5,9,20,11,4,21,19,21,7,31,16,11,2,30,26,9,7,6,1,17,18,15,12,2,4,15,19,1,15,10,5,8,11,28,14,5,17,26,31,23,26,26,7,8,1,28,22,7,28,6,11,28,22,8,8,20,28,5,20,29,26,7,13,15,9,20,16,29,14,4,7,15,6,3,11,16,20,12,20,29,25,3,6,15,20,24,13,7,5,8,28,5,19,2,15,22,27,12,14,12,20,29,30,19,21,5,18,7,26,17,17,21,7,26,17,17,4,8,13,28,8,18,18,19,16,18,30,15,4,17,6,18,2,28,15,18,15,30,11,9,30,21,13,9,19,31,20,12,7,20,3,20,2,15,20,21,2,22,14,6,8,28,21,19,21,4,18,25,17,2,7,31,28,21,14,19,10,26,4,22,8,15,30,7,14,29,6,19,30,30,31,28,21,4,17,24,9,20,20,18,21,12,27,14,25,17,22,11,6,11,7,13,5,20,4,16,11,17,29,5,11,13,26,2,5,28,23,28,18,18,29,20,17,29,29,3,6,28,5,4,28,20,22,5,29,6,16,6,15,2,28,30,2,30,20,28,15,12,25,6,2,18,16,21,19,13,23,19,13,17,9,31,29,10,20,24,12,28,20,7,27,14,18,21,15,7,15,9,20,23,30,8,17,7,13,19,14,2,29,31,31,3,11,23,22,6,21,2,21,30,5,16,18,8,20,14,1,17,14,6,12,17,28,7,15,28,19,29,15,5,18,18,24,8,9,4,19,23,17,20,29,8,6,11,14,20,2,8,5,31,20,3,6,7,11,30,23,20,21,18,28,25,18,4,7,2,17,8,9,7,20,3,2,2,4,26,6,2,2,12,5,11,13,22,27,18,19,4,20,23,20,28,11,26,15,22,21,26,15,22,14,26,21,8,14,24,9,6,21,8,29,20,2,11,22,7,29,11,27,11,20,20,26,5,7,22,30,16,20,17,9,15,2,9,29,4,30,3,15,11,3,16,12,22,20,12,14,22,8,2,11,11,6,28,28,30,20,11,8,2,22,18,25,8,16,27,13,18,21,13,18,4,19,13,7,19,25,18,7,29,15,7,18,27,20,9,19,27,31,19,24,6,10,11,28,28,24,12,18,13,14,30,22,21,11,5,19,2,20,17,16,31,26,30,14,2,15,20,19,17,2,5,16,20,28,11,6,5,18,2,29,8,21,18,13,5,5,1,20,21,8,16,11,18,21,18,11,30,17,28,13,15,5,17,29,30,2,18,19,24,11,10,27,18,11,2,3,15,5,19,30,30,14,6,15,6,14,28,19,22,19,16,28,29,14,28,18,16,29,18,13,28,31,9,7,5,19,25,7,20,12,7,19,20,21,20,14,20,20,16,19,31,13,14,14,6,9,17,1,13,14,12,26,2,8,20,23,5,7,11,11,21,17,18,6,11,16,21,21,9,6,18,5,17,26,5,21,8,20,27,11,15,14,9,16,6,11,16,30,7,17,18,20,18,28,19,3,14,23,14,10,25,30,17,10,9,13,21,15,4,15,29,17,29,15,11,13,9,11,19,2,5,29,26,28,18,19,22,17,29,20,28,16,21,13,29,28,15,5,29,19,21,25,6,28,7,20,18,26,7,14,7,16,27,8,27,2,14,19,6,9,14,13,19,12,6,9,20,20,9,27,13,20,31,9,19,11,20,6,15,29,9,13,24,14,28,2,19,20,27,29,5,30,12,7,17,3,15,12,23,18,19,2,4,2,21,29,4,13,3,6,12,30,20,7,28,17,29,3,7,19,14,11,10,15,20,18,11,18,17,16,12,12,29,7,14,7,19,13,16,28,11,5,7,7,17,9,28,13,3,18,18,29,16,21,28,27,21,7,28,6,6,16,30,2,21,5,22,22,15,12,6,3,30,26,14,15,25,7,15,29,19,29,5,16,12,30,1,16,18,6,4,30,22,8,11,16,20,21,20,13,28,24,30,8,2,18,13,21,15,7,17,27,7,24,4,18,26,28,15,14,21,19,8,6,16,13,13,6,27,5,17,17,19,5,2,14,25,18,21,25,29,20,20,29,7,4,18,27,19,15,7,31,25,25,18,27,23,21,30,12,28,2,21,27,31,19,5,28,20,14,31,16,7,3,13,5,12,30,5,13,13,21,15,2,21,19,25,16,7,3,14,3,4,2,5,28,12,30,9,17,6,29,8,22,7,7,22,18,7,28,7,17,30,12,30,28,18,5,28,6,9,19,13,7,6,18,13,15,18,19,21,8,13,21,12,9,24,4,12,21,17,18,6,8,15,28,27,28,6,17,21,15,12,4,21,8,19,21,20,15,9,8,21,7,20,16,19,8,9]},{\"axis\":{\"matches\":true},\"label\":\"duration\",\"values\":[2343,45,1270,2476,184,0,830,545,1,5090,100,309,199,460,703,3837,611,-8,55,168,785,2067,388,-192,381,40,22,3,307,759,-1,65,82,10,390,311,414,5,119,4,1262,1949,-395,1165,2240,300,3285,3923,1443,24,1618,517,1521,2823,1405,1535,1596,1542,3652,-1,7180,5291,1384,-191,320,146,341,-9,-306,4580,313,10576,-233,2453,1364,281,94,144,246,92,163,49,-416,409,363,3706,4393,863,695,792,1020,863,97,754,1040,122,880,501,4438,0,271,102,2,4170,85,431,982,408,4822,1250,216,1207,791,849,239,1211,599,825,2183,4499,1289,4665,3326,783,0,994,1354,239,-311,149,1464,5773,278,2910,541,1262,-538,125,0,620,316,2287,198,460,1145,-22,685,901,351,0,274,-213,97,51,314,6840,668,54,1242,292,665,1058,949,606,0,404,249,3354,0,589,12956,873,594,-20,4692,486,1593,7606,226,366,16,565,19,1082,1713,14481,5724,1451,-34,3674,698,4136,2656,2904,1004,410,0,0,62,416,2763,2984,143,0,696,152,-78,867,953,443,-1129,415,260,-411,1279,86,-754,0,178,278,425,168,-36,126,-87,6281,644,377,-271,5839,492,99,-713,32,543,403,437,1772,-88,0,853,240,849,318,703,61,104,1996,1238,879,425,416,844,860,639,710,1508,223,619,319,480,213,68,2788,7561,-46,1595,1046,1382,217,183,1321,25,4844,5345,812,105,-190,625,293,1033,1210,64,164,1766,1248,0,826,2630,3727,406,2999,1000,503,-203,361,274,3687,323,981,638,3229,1610,33,536,0,3057,2892,0,3316,106,2303,3301,426,9,-97,11008,4930,707,4,126,671,219,3622,1580,1319,2152,2843,0,1115,625,246,61,-191,519,522,-46,2269,386,0,9103,908,1694,-92,188,0,740,655,867,1009,6360,4145,-27,-122,149,52,335,526,-7,-413,-241,75,0,158,84,114,0,-127,49,216,506,213,170,776,879,1633,926,2559,909,-176,1085,1265,-239,726,296,-627,-468,551,0,101,517,37,854,30,81,0,663,102,370,189,111,665,214,0,1583,0,0,687,327,-119,794,-191,409,3,9,155,1330,-29,3133,-33,-170,1243,1598,5,367,658,1722,-315,2483,0,45,46,482,3728,1099,2222,983,204,1074,3466,-203,2436,976,146,156,189,163,242,1173,0,296,333,3864,2686,-109,65,597,-799,1775,0,-563,5,139,0,855,694,151,354,673,1265,597,-393,256,0,2870,184,1905,-36,-839,3465,119,36,113,118,251,-277,-189,4,1820,1904,201,0,178,3798,301,294,0,292,2998,2084,454,179,661,89,102,138,622,10,-251,104,173,-46,0,145,325,2311,158,1981,1423,2455,859,9004,970,486,127,409,664,223,-324,-30,1253,4758,30,81,0,328,145,465,751,-379,0,349,1110,2228,2166,-247,-123,44,131,476,1101,-168,-392,524,895,212,95,395,135,0,471,603,663,593,1224,2,720,990,1747,59,33,340,305,0,497,1371,1628,372,566,343,941,775,1759,1495,1444,470,1162,2,1628,1134,0,63,1221,5024,10685,1629,268,0,5613,513,362,3933,3899,473,1616,1817,129,1938,133,2263,1538,5,2625,1080,312,145,-190,2678,271,0,0,3161,-4,-701,-375,959,1091,-1,96,0,230,-156,114,-468,679,206,1,2518,378,391,-144,1240,1792,2284,264,0,-392,77,48,252,1954,755,755,341,1183,388,1919,1613,0,0,0,0,466,515,2313,-8,1634,100,5361,1257,3400,1377,2885,512,921,1000,202,169,3726,146,940,734,77,925,1836,660,1304,2956,146,36,1,2480,14282,0,311,560,3059,1423,874,706,7098,5389,1104,3070,0,4108,0,4291,6822,231,3176,-824,676,651,2657,801,405,82,179,1047,7138,165,37,823,1625,120,2957,2,1,1795,4,476,9,131,1120,2785,0,43,0,456,2018,0,354,719,828,2787,2551,2722,1880,2112,871,850,3243,1567,12,128,553,1694,408,1223,1858,520,271,4396,568,3665,244,568,42,309,-180,34646,59,4436,-242,10052,0,152,156,66,9827,6170,2383,635,16,362,191,455,3043,3334,8029,624,331,2929,1314,289,20,8163,1200,1732,0,576,493,682,0,3485,2944,1353,0,1541,548,254,4414,985,1241,3278,412,483,7135,61,1412,15,27,1196,19,432,988,1614,163,247,236,666,73,96,46,1501,-477,1694,196,462,1227,522,94,267,4570,25,0,1920,1575,234,3518,136,830,2054,-546,5188,1882,792,162,1035,746,17297,22,231,296,0,40,2396,2944,7084,569,0,1138,54,2637,2473,5603,225,-17,3490,769,-90,1785,-103,555,5303,1258,1679,1664,8749,-247,3444,5346,1144,2351,5514,123,429,5254,589,568,10250,3537,1947,1967,2329,12026,1757,107,1012,0,372,7506,314,860,0,3623,2470,1307,3237,5041,6619,1331,1970,1026,249,12857,2807,5060,2271,1,676,160,899,1230,0,700,0,67,127,2089,3585,4152,816,5447,275,1540,751,380,1504,1783,2269,5115,781,-188,761,19,4508,66,2266,4646,1494,1050,0,0,2171,3234,11887,0,5037,386,8781,538,5561,859,0,-617,1429,4189,580,2615,587,149,3,807,3354,1249,190,550,12737,0,1207,347,3713,3352,254,4654,-386,3043,1547,945,6402,1295,6993,4420,141,11462,6843,501,5806,20138,1315,0,7,3929,7,699,421,4333,300,7773,1794,2032,3401,1110,3068,983,2396,6888,2087,121,3469,5461,7119,-35,314,18508,5639,2918,12519,4069,4254,219,0,2263,2589,1982,7049,1968,7195,4117,3950,495,8629,455,4536,1777,3527,372,92,72,1533,4148,96,2245,834,4119,-525,39,0,2766,3300,36,22520,7724,111,2640,3436,0,3636,3288,2633,580,149,4329,1097,1275,1003,1004,814,808,859,4465,0,622,1709,394,1125,-462,550,540,941,1361,-452,518,-71,3234,98,196,936,300,217,163,110,1646,2040,-308,2325,86,1088,0,0,2103,2,51,96,1027,1308,840,5701,6016,630,432,-247,52,623,0,100,4089,1669,169,483,250,0,902,2156,2360,201,-92,514,-114,1331,732,1308,0,-970,1246,73,406,4391,168,1441,3881,678,141,-94,897,1214,324,2666,10613,697,953,198,1110,130,315,4383,313,273,840,309,2707,1109,101,725,309,541,0,1624,0,318,1908,676,1076,1228,0,13,12857,0,6101,158,346,697,616,1140,3444,1879,0,0,1493,313,1815,700,206,255,270,4987,673,320,0,292,757,40,1257,1693,5060,373,369,2346,1599,1066,2603,381,1314,5689,12114,0,2232,11862,127,2152,3552,1,1872,1341,7702,4657,397,0,348,2442,1543,805,2265,312,196,620,1714,2416,335,755,2850,1135,197,720,5355,445,5359,1443,4047,23878,167,1047,7613,117,2266,558,2509,1808,1130,653,2021,313,983,5561,8345,1231,3730,924,2489,995,280,3434,576,1363,581,1376,52,0,549,92,2881,250,602,730,523,293,215,0,42,316,4562,10180,0,281,250,0,404,506,1097,3698,883,2539,2326,811,256,682,483,1506,575,409,1316,671,2351,997,4808,6422,31,171,2681,-61,8929,715,1058,-34,258,0,71,5810,3473,238,1740,3407,1045,132,1000,115,180,201,8089,8866,2,259,1107,1730,447,2786,10185,978,-130,3049,11385,46,4126,212,1250,25,1277,390,9601,565,1384,-522,9676,134,2143,831,2308,1468,311,274,172,507,393,-39,1474,471,3161,1612,4099,68,414,5005,1756,1613,3123,4736,127,11891,4979,754,1207,712,297,3676,817,283,82,2847,1822,16,377,4415,303,12039,1443,1781,3415,318,423,2544,2614,1268,536,1293,1377,2580,314,206,3286,803,719,898,332,695,1819,2544,759,229,96,110,1406,0,2103,1599,925,-3,84,1367,703,0,2646,572,107,765,-253,0,2,6,0,448,4659,1528,330,731,25,587,2557,275,1129,2149,855,491,180,133,649,1411,11174,439,6158,3498,1801,937,26,-53,2337,1762,3469,545,3480,183,2416,424,0,294,1598,268,214,240,2511,4596,1273,3994,469,932,844,471,63,-779,293,294,13546,329,69,-3058,224,165,397,3154,1180,-487,879,806,674,0,323,921,5303,0,4004,386,284,-242,1086,2840,43,3229,341,0,-19,243,2575,105,0,-443,1524,1925,240,387,13,3203,606,0,527,309,4333,253,6807,83,819,1968,136,1995,285,621,597,0,1750,10086,3466,2193,2282,1973,10925,704,9480,3391,1134,6281,123,8556,0,2,1108,212,5110,17,942,0,882,81,276,2991,90,3754,395,676,8,0,2069,506,8,670,0,1939,1780,0,955,732,2022,4099,4917,2883,1374,398,3027,2974,1081,383,3913,3287,3629,132,726,149,640,7707,53,15,242,377,94,363,1970,1167,193,0,78,1291,1425,3382,5583,1230,96,224,0,1730,697,943,1458,95,2308,5701,1529,292,7468,1559,1693,757,201,1070,1330,314,677,2845,-32,398,0,1337,493,1750,4401,193,5106,994,1101,129,6060,55,1624,341,2016,255,4684,1052,1808,3511,518,227,270,4733,6657,613,5462,674,364,181,474,219,86,1170,18,197,938,1228,2156,2408,35,393,618,1608,699,5802,2749,1162,776,1619,139,2816,507,98,2753,0,498,700,4152,927,2252,0,0,728,354,382,36252,158,734,305,10252,3141,236,5437,133,640,253,5060,902,335,1,1451,1636,3221,316,2044,557,489,1138,188,1998,520,6368,2666,4182,3271,163,1515,803,400,2454,533,2352,9367,237,444,9407,387,2971,2643,261,514,5872,-368,188,61,2160,658,0,196,94,326,-395,9328,-522,1286,710,3,0,141,53,415,0,1979,0,7506,752,99,266,27,524,5990,3935,991,59,1598,0,802,2465,114,1461,475,4,1618,-271,2166,4031,5024,-1944,3025,2090,0,1429,0,311,66,2146,356,62,-106,608,291,-184,2345,4,6005,333,3041,4,603,0,830,962,185,-9,891,148,1374,-556,1612,0,-109,580,4500,-192,-438,-701,1400,5293,785,373,763,1236,-811,7279,479,199,1808,2,-106,670,-361,159,151,518,5073,607,-308,367,855,1240,663,895,804,-407,802,912,355,3,0,1836,1425,963,145,634,87,-522,319,0,478,-276,4227,2785,1401,0,1852,462,800,221,1089,451,496,1080,1064,297,3,76,398,83,879,210,-276,863,228,1396,-19,2253,0,265,-54,3821,0,-7,830,0,4406,437,54,-454,1006,2999,85,17924,8180,2431,341,4963,8781,-504,1738,214,684,580,273,811,0,1354,-254,-449,7863,336,1049,6089,-42,953,315,5845,378,765,5795,315,916,124,207,422,125,2,7066,146,496,-40,140,77,22,-51,26,154,534,1265,-466,38,703,685,780,-67,1085,29,560,22,6567,2139,582,194,353,341,-172,-639,864,134,50,507,480,-22,878,2574,2734,241,129,41,3387,148,249,5774,0,1841,2120,297,89,827,205,3743,117,-493,62,2040,344,230,1277,104,706,174,239,513,7290,5909,-195,3917,352,615,0,217,1015,409,1119,12198,235,170,-357,2145,-454,-887,292,139,2684,-1,1387,-522,-242,719,0,497,76,397,3723,1625,106,1543,2239,1977,0,2145,116,620,307,7702,3733,3993,428,5310,2509,255,616,733,439,590,567,689,386,0,957,312,167,13094,5086,707,466,152,1612,911,27,6,253,705,109,23878,3399,79,243,138,1317,2714,17964,846,326,100,304,39,312,906,524,1081,983,2232,1967,1406,157,0,2509,1368,3076,7818,4118,760,277,253,602,473,1167,343,1808,1199,70,1723,1323,2552,2613,0,938,284,1059,1684,534,293,262,0,2367,31,3842,3343,804,1011,-528,1840,1451,2351,1623,597,611,313,1954,307,7968,2160,1005,1988,1117,3370,109,1376,523,15161,653,64,1165,7019,1568,3109,4987,189,2467,5887,1354,23,0,978,294,409,261,27624,3846,2913,2240,5,150,882,366,1189,204,637,2383,1231,3340,200,48,2786,5313,201,389,3917,889,481,810,52,108,684,2071,339,572,1779,132,22086,0,205,317,4945,419,1130,1662,1871,1190,563,6,594,617,538,303,985,897,171,1633,1085,1980,1933,1841,42,794,905,8295,0,874,4321,0,745,924,216,1159,3290,582,380,682,92,66,252,6574,2094,294,1177,8866,3407,5205,3630,12,544,10346,1612,718,3547,914,1306,259,-1206,372,3518,505,1776,20585,1595,1000,138,561,170,502,379,14533,689,2567,443,2074,2374,1347,7443,10583,425,997,5966,2061,0,2887,1464,1315,466,2383,1649,132,482,203,88,2881,668,73,1309,2763,2959,930,12956,0,19,625,5511,1137,1329,1044,302,330,2857,68,1524,1633,0,507,643,2785,137,870,8603,18016,51,1032,981,431,203,3737,7005,111,565,889,202,307,0,429,4388,2557,3122,922,3796,185,151,829,103,79,1609,2489,989,58,323,5474,219,1240,1228,1660,914,1699,1167,19317,1646,242,382,2383,2666,1718,1147,216,153,1791,86,6791,292,1291,175,0,0,0,4717,701,3,405,168,4297,10532,4693,9064,6983,2,1536,1612,1211,96,0,1534,3403,687,7050,538,2600,0,1034,108,10185,3444,1815,52587,10884,201,190,94,1311,589,1853,4401,201,533,3840,994,96,1600,100,260,1013,413,181,123,353,2794,3850,2970,6991,2223,27696,116,2987,608,48,113,498,2643,1337,618,451,0,11,1165,2465,41,35,3169,14,431,616,3324,113,13014,9367,2067,376,842,1235,1,1276,44,255,926,1506,444,557,535,2671,896,528,209,226,1974,942,336,-306,4623,276,0,1189,431,2218,1495,828,12972,948,48,0,537,1938,9131,443,132,3411,1,10905,976,2531,1270,5359,10596,691,347,9962,11862,1756,4068,5310,215,106,0,469,2326,3370,144,733,-309,5584,61,1047,265,117,5473,106,127,380,0,255,2145,91,1853,11262,0,1129,108,1696,854,223,40,2048,3689,539,590,780,1464,1311,7,636,24277,1872,490,118,4119,1504,2087,5689,201,119,17964,1113,1596,2635,568,2626,4752,528,2552,3343,995,7968,0,2587,6468,4744,1231,3443,2568,1644,1354,602,1795,0,268,52,924,3033,6574,0,108,409,726,1871,1094,2915,480,1227,1205,161,802,723,6538,147,0,1416,14220,12569,555,158,261,786,27,0,2815,3082,1233,739,640,1843,322,7331,1765,1236,6046,934,1013,596,4775,3109,388,262,654,1855,810,1664,362,1293,874,10943,4539,2817,1646,808,44,425,2367,10252,1000,4380,20585,2601,238,0,3371,10583,16,1451,0,132,189,288,1027,6784,1464,8295,2917,158,1588,282,5437,1185,895,1857,4596,565,1781,3415,12039,12,139,2488,7111,361,2109,1093,2646,6,670,592,1965,313,40,4198,536,1311,766,2557,79,1318,3771,0,6138,129,469,893,519,4017,643,2338,0,6481,820,1784,1411,7529,206,1388,1807,480,571,3994,1693,80,267,2581,1134,309,6807,6746,375,658,371,2693,329,79,0,6281,775,411,2144,431,123,3792,4807,8603,2178,2991,4174,10925,2411,14646,86,11115,6900,5878,1780,183,3648,4112,542,243,942,254,0,0,992,23,732,4629,0,70,5063,4572,129,4984,1004,4787,914,2326,81,203,3951,240,338,0,0,944,5,697,1948,3654,551,997,477,3663,853,8278,7458,44,1193,230,8729,2384,3401,881,1522,4243,473,5462,4412,10332,0,238,62,2398,704,506,2352,938,1720,1492,1778,0,942,556,10541,1536,235,935,10861,2331,1228,125,2816,0,22867,1311,94,0,3371,943,9366,6746,1076,0,1624,801,1070,123,3623,533,994,386,1026,2424,1331,2206,0,4693,1230,3417,1767,5291,3403,133,4745,3324,5220,2600,260,608,462,14,1146,181,3114,376,9367,382,920,129,169,679,535,3115,1234,197,3186,3160,195,6027,764,583,0,5715,1204,4922,234,9421,4198,3576,1925,1129,265,38,1982,3399,691,330,318,644,4,1165,4708,2820,1147,980,2983,339,1940,1445,294,5887,11891,78,733,5028,481,314,684,1681,10250,254,0,307,957,155,614,426,8304,4721,395,3588,2540,883,4402,256,43,3856,3025,2326,925,1961,2037,459,572,452,5313,1533,1337,2986,1230,538,5108,1341,320,131,2074,1443,3338,661,7105,3735,538,4657,5,230,1808,81204,3518,25,2551,11303,2724,755,718,870,978,544,461,2795,139,1044,1633,6513,1388,15,2544,2007,2166,4579,2488,2190,254,1579,330,938,5372,3176,496,0,482,180,4198,817,5021,991,133,366,979,2939,4803,1255,8556,588,994,820,203,86,2855,474,203,7005,775,4112,255,243,942,1180,992,70,4629,829,0,2776,279,129,157,659,2493,3949,997,1699,1181,0,0,1948,306,18967,261,694,202,4831,264,278,7802,3629,547,4468,1989,2645,4060,303,2600,1818,728,955,265,123,4807,205,2812,6571,2758,2037,0,2223,1085,602,1646,415,2354,318,1730,448,994,19,1625,1144,897,704,1996,216,1206,1855,62,1536,824,235,108,2331,390,-32,172,10541,480,2374,479,94,417,2557,589,201,2885,2155,902,1791,2206,5291,638,4448,5267,3324,61,0,116,413,353,1712,523,1454,9367,291,846,341,113,13014,632,27696,3715,4675,3271,123,10185,1026,905,775,926,349,484,1830,2987,197,431,169,226,2424,1234,271,-69,1562,52587,535,2159,195,154,681,2326,961,2532,455,2013,1568,1215,121,1,597,763,326,1380,0,368,438,483,7620,805,0,302,215,5473,106,2346,3219,2227,6610,195,973,7766,948,2149,1413,117,0,71,1938,5359,519,-46,1075,91,598,1027,235,2,4945,311,154,712,7585,2489,2896,354,2667,144,760,1050,5296,12980,509,1644,451,53,334,6771,52,2240,4761,1570,588,957,224,2161,426,147,508,294,1825,158,0,4721,282,108,187,3764,1416,2801,494,1978,155,4608,951,495,1843,262,0,3561,465,76,1796,874,2140,295,304,624,303,273,3342,1227,283,3384,2367,5958,3735,2693,655,1681,866,774,2678,3371,10583,4176,334,393,916,832,3287,488,1947,558,235,288,6036,3,0,81204,5236,2466,1348,7929,70,459,2102,394,4126,224,9001,560,102,1088,562,718,230,-67,3848,579,1646,1229,129,197,3779,2016,436,413,116,62,107,497,2557,2646,3771,1066,1,232,1177,603,736,129,-115,104,589,3472,2845,7529,309,0,1672,1711,1295,2046,455,722,371,997,206,820,410,1216,11115,796,5037,1780,429,2779,222,0,1445,655,77,115,2722,1438,140,915,1058,0,4984,697,4787,962,1320,2955,0,12067,3006,388,0,565,329,4243,72,4328,395,0,205,1730,5,1965,19,7802,2352,155,401,79,1646,437,935,2929,2304,348,640,88,2283,473,0,397,62,3634,273,3417,133,1624,386,2530,2838,1026,2206,260,0,2987,1230,2335,8000,-27,1146,1004,197,169,393,29,920,3608,870,9367,1374,6027,1,349,39,583,1276,2364,53,1612,639,3114,1,1070,195,3144,3236,3208,1568,1191,706,2616,215,3230,726,3713,0,265,70,388,1727,205,2881,846,2266,742,2149,344,1430,265,38,3538,973,1831,641,1047,8103,523,0,515,8304,1368,272,-46,168,515,223,228,644,330,952,1165,0,2823,1490,48,187,8304,276,147,323,799,2540,322,495,358,2371,53,861,602,4041,275,12,1742,46,2027,3221,1720,2033,3189,2946,1230,572,1435,403,1071,3301,1723,705,955,303,3287,109,224,538,5397,1957,774,1188,1167,2611,3145,825,122,334,623,86,976,393,293,476,2724,2391,11,54,3109,3126,488,978,718,3255,1544,0,4071,29080,12569,2896,196,1027,463,3511,224,198,0,674,623,558,259,432,159,657,1808,392,6651,2795,1414,2666,668,502,1809,267,2473,372,484,1767,491,558,337,654,2427,386,251,1044,2907,828,1857,1962,2787,1123,643,62,2007,3463,482,1298,5329,6181,1255,132,2733,4189,724,205,154,232,979,5021,2469,180,658,2918,588,423,302,414,817,183,806,9299,478,1057,762,31472,1090,3738,1277,756,1636,300,321,1295,839,1974,2855,5475,536,1279,775,203,146,4124,14968,1451,3026,431,985,243,1707,5511,8,10861,373,1807,2776,1058,0,1381,204,267,311,306,752,1574,1181,1761,4629,154,4112,11650,6138,264,2144,482,0,4831,12067,1227,1232,275,369,240,2398,2785,62,1377,163,1199,569,0,1989,46,372,2812,2952,569,2812,1199,3904,156,205,1625,415,1812,775,180,46,4017,437,318,1646,470,3591,2037,2979,1092,661,2196,417,2077,2283,1536,446,5,216,565,476,-32,1348,228,1859,2306,2038,824,348,1515,1514,94,2325,417,3450,2543,464,1853,272,1925,2331,324,116,1779,346,353,27696,2155,413,2590,320,1454,1382,2427,2498,1003,2007,926,632,2206,1830,814,5275,2129,2717,341,2885,523,4256,484,535,431,1269,0,211,4012,625,1584,315,200,589,-205,-46,8304,308,1113,992,272,1413,1819,1623,630,2975,7968,154,5169,228,4945,1708,0,1584,1707,952,1978,1105,52,6771,890,56,1644,151,0,2240,957,689,2161,1527,8304,698,494,2801,4761,834,139,12,877,2066,555,48,235,1595,5741,426,187,166,1416,1189,486,0,2557,3138,1720,1765,1506,3585,262,1093,76,4680,1477,3561,3340,1071,247,112,527,2580,975,2986,2048,2785,127,0,4951,488,1154,624,4343,2367,283,6403,802,3735,2693,0,1027,3902,243,0,1055,60,5397,217,6551,303,2093,1167,2376,0,949,393,2678,11,4416,390,1934,3511,1696,1278,1011,2939,3466,372,549,1102,973,491,3337,368,326,12264,203,502,346,4328,279,131,2646,6,1579,2007,1,469,643,514,1289,3676,0,104,159,728,107,1946,1519,5112,1090,4833,1925,335,371,5475,203,50,11862,820,791,1279,455,536,1693,1495,985,935,410,51,679,1780,222,1210,1693,876,3308,0,822,0,3904,2488,88,121,0,0,464,79,2557,272,2543,1224,320,4256,1168,703,136,3810,765,1146,358,1511,557,583,557,113,2850,505,825,5715,-215,2239,376,15485,2918,67,1664,192,1519,0,0,4708,3283,1211,347,423,3982,2506,697,456,324,5768,1517,0,482,638,2524,4539,2039,128,4787,1147,1978,51,-122,294,922,51,694,607,2155,159,7050,1055,8165,376,3701,644,3623,360,284,1893,69,1355,1506,1393,487,655,1788,0,41,215,1187,0,1213,653,3426,238,1690,0,27,681,18188,1006,1352,2340,366,-374,1231,1347,1778,2201,0,2557,0,1320,0,0,22125,6188,1077,45248,3291,562,1046,87,10281,429,3648,863,3,2648,0,0,655,854,858,567,399,257,3735,57,1235,257,401,3290,297,33,1179,471,938,1636,1243,0,1679,2022,2033,869,3611,3624,2488,2228,4,2557,1390,1228,1265,6046,816,0,118,1165,99,1697,866,0,5301,7918,1,160,414,406,0,655,514,11766,0,2892,762,2037,255,1536,0,2,1435,1219,2971,440,3301,2321,213,0,108,920,1031,294,527,1030,2503,1547,1,1167,523,-207,3283,1147,1170,4642,2666,792,127,0,0,121,618,2495,569,473,474,0,1796,520,118,3342,3239,23,40,226,939,-20,940,5,0,447,126,4718,843,656,91,0,2984,870,7608,5115,247,154,1731,3634,19,1129,0,12264,478,2081,965,332,1163,1960,294,188,254,1377,523,600,387,849,1317,273,0,2538,133,146,11115,486,159,1201,2590,800,0,385,238,238,1812,413,152,1031,3143,613,168,2144,1331,2611,925,985,367,302,47,1946,2266,992,3544,76,6013,19,232,993,535,127,1528,324,1639,0,-370,11862,323,3940,8897,2002,668,2946,4216,0,23076,7459,5,4147,0,131,231,720,598,1819,587,1495,442,271,29340,1014,2366,26965,1411,617,4736,2540,403,423,131,4041,273,101,0,2544,1699,2689,3160,388,393,69,2658,-366,466,64,580,3317,955,7441,377,994,1766,-236,774,659,149,1405,290,595,4613,0,2204,576,3840,1358,5169,0,533,1788,1070,80,3254,1309,0,1534,535,368,415,3434,35,2948,2473,1133,306,-382,1224,5359,2166,925,495,2374,1925,279,842,6748,-242,3917,1711,298,335,2240,1478,390,1234,3704,890,3663,119,167,1022,305,172,3047,616,453,526,169,1347,378,2889,57,0,1293,2085,315,1627,1853,1429,3951,780,674,218,763,4151,2787,26,153,362,1184,6840,3145,660,1311,215,3324,0,747,448,1246,271,1271,962,3054,0,346,3550,1379,1093,295,129,636,4101,3352,334,341,8491,227,125,3608,2536,4688,0,1113,1857,2892,6,1076,-930,1382,2048,608,-274,132,344,2230,5679,885,3764,4017,368,569,272,167,1388,7895,2160,1587,1723,691,243,3696,71,0,3765,977,15161,0,776,1994,616,3512,6529,0,2129,874,496,1539,348,1287,12356,5763,-267,443,934,4859,1843,1289,19,8332,5517,949,-157,254,136,285,874,1641,1088,1138,13107,2557,142,733,-405,11008,246,0,536,1506,716,354,1757,7554,854,1230,1303,93,-291,69,771,-675,973,377,480,552,3733,-158,136,4590,283,0,419,462,4,363,7560,1297,40,436,403,5637,916,1942,385,-1042,3696,3384,556,315,2812,324,-519,188,267,21,2038,11115,194,169,0,2981,67,360,3376,4718,387,4266,396,2085,62,-268,1697,341,109,0,4158,156,390,36,0,50,102,57,973,3,1245,828,0,167,66,687,2688,625,1742,1729,889,224,768,1809,423,335,182,4401,607,1084,0,687,659,1435,8828,69,79,990,2290,679,-172,548,565,228,0,228,454,514,2885,567,2235,5267,29,291,4889,502,3608,3556,-41,3944,202,1175,974,3141,4079,0,3357,2587,434,1291,315,394,5561,3528,437,3119,264,3285,1396,510,-101,634,4210,0,84,278,849,1612,204,1854,4661,1579,1561,1468,2887,224,1760,3735,19,61,95,5,360,1730,0,7968,7005,3020,605,376,891,704,4348,2353,8000,2781,541,3576,2725,2354,775,622,4,5,3943,802,2351,1807,2,2297,779,108,459,110,13711,3415,2376,181,448,714,3608,5310,2144,2281,2679,1495,1304,78,437,7433,6112,155,9883,495,294,8990,3173,53,640,217,804,1374,3,502,61,153,8,780,630,2161,32685,3384,5310,383,772,2976,2729,520,205,2378,48,461,116,272,799,0,1534,4457,189,1880,0,11835,839,952,-197,1657,1947,30,2027,1332,72,153,70,36,-198,5,2326,67,598,1527,1623,253,1445,256,1181,1646,-309,670,2196,947,71,521,5115,-17,556,229,325,5112,11821,650,8648,168,2486,396,1791,168,3308,4721,18111,1146,237,618,1085,1028,114,0,631,660,2421,794,2138,2965,222,6997,665,285,473,2226,245,1133,294,451,19268,1461,465,0,654,79,4216,66,0,5539,2599,2187,2120,339,8229,346,158,7103,4855,3696,-357,8304,48,384,751,3546,73,71,974,306,3463,3676,459,286,-11,273,2665,3290,8535,1276,2736,10287,1624,0,446,395,315,484,0,507,2987,801,0,572,2,34,1075,508,926,10861,24,611,1857,329,2635,225,1604,4657,1406,6728,611,1805,-399,208,10884,3472,556,7192,13460,2988,102,1868,-578,241,162,5320,366,1504,262,191,73,358,483,5047,5862,0,2843,351,372,27696,133,3,15459,2551,571,7803,0,24,2104,3158,10,147,12857,4389,474,2326,3644,1988,1595,331,4623,12018,154,190,3904,882,53,6542,687,3064,9228,800,3505,5958,667,36,1059,915,1547,3050,7050,2,14144,705,1758,476,348,5969,3195,2013,121,82,935,3754,104,4751,1529,102,1796,935,365,222,0,1015,107,82,877,2557,1673,2467,980,183,387,459,1227,302,175,182,-367,876,201,796,0,1559,70,2734,3528,469,3311,152,1047,484,1587,4461,3551,495,3792,489,159,985,369,257,2779,638,833,9314,4745,2693,160,1697,0,-770,20806,3136,1430,6831,664,49,604,931,699,212,362,2667,-754,517,258,3140,658,255,5350,9756,3646,368,1,1435,122,2027,496,83,467,0,471,5715,-389,364,25,3450,2374,5514,455,739,336,436,536,0,0,1181,265,2573,-537,1128,2780,405,706,2661,2734,196,533,6728,1227,5,197,13,284,33,2333,1705,2039,381,3738,4401,553,-725,67,330,5943,25,316,4389,0,1389,398,247,0,131,604,0,238,673,7944,3696,347,-199,337,5091,970,258,614,1929,2362,8121,608,3723,117,363,130,2225,-105,7687,222,736,84,196,2123,-482,700,1388,222,592,0,411,-104,475,181,653,0,0,942,13,200,660,1309,-364,-616,2596,5802,568,296,561,2894,2344,1345,171,1838,549,1097,1148,3818,934,-637,65,24,907,100,686,3,4692,-197,4335,664,307,5,-67,3754,1139,250,3695,1025,328,0,6203,1904,347,1289,129,178,81,599,190,0,563,105,3518,248,961,640,1144,0,4381,1134,570,0,357,593,229,0,1157,234,322,113,2139,2251,0,2756,7132,2047,0,1151,5244,1,203,2162,337,0,2,1365,2366,-803,873,-76,2990,538,6388,840,1847,40,30,860,123,667,601,616,259,307,-29,849,47,2194,3413,1299,622,1901,166,1717,-160,89,493,2644,596,0,606,-346,550,237,415,-125,1984,121,266,1723,1049,21,341,233,247,3117,242,24,7007,1851,573,1178,748,-407,4695,2500,86,968,192,93,0,0,-491,1517,0,775,276,5781,0,901,431,911,96,0,-288,2923,16,744,551,322,199,0,0,633,203,583,2749,769,1924,1064,1099,2971,2657,21,0,0,9447,433,375,2399,148,224,147,744,-94,9,1218,1106,0,167,0,324,127,230,344,105,634,317,2234,223,230,0,313,289,0,3676,-184,3954,2951,78,1526,0,233,67,38,1948,5296,612,4872,131,4943,-257,331,105,1160,4930,471,35,1750,5275,728,0,263,601,6429,1076,-57,2,514,-375,28,404,3430,99,2669,202,715,674,312,1463,789,7,473,3150,12223,1541,142,3,1207,351,777,997,15,2819,126,953,10,-577,1159,1350,88,-245,161,41,450,782,-666,-151,55,-666,87,4629,2176,3431,208,0,240,1388,5807,17,0,1743,1008,151,3196,1411,630,0,561,0,281,40,0,1032,-207,235,0,367,505,804,-301,-813,79,50,1205,365,-1415,223,1897,22867,949,1165,1655,260,0,-880,107,1624,1257,355,579,1403,-176,-513,586,1840,720,97,13,140,521,364,416,3304,1880,982,0,173,911,0,549,704,476,3738,634,1134,-128,7102,186,1918,0,250,31,631,62,479,1121,138,0,239,866,1466,3570,440,714,674,127,588,-413,882,877,337,192,3350,99,806,6739,228,-232,556,761,207,221,865,0,1851,-272,367,0,230,0,1954,379,-341,179,13,839,192,576,643,342,1329,219,141,402,8023,1131,1925,0,103,1395,621,1161,24,2,295,-208,258,119,967,-90,0,0,392,23,2486,81,1563,1602,2144,273,455,1038,-384,307,93,127,-150,20718,-218,5222,484,75,1480,1111,639,29,6374,363,-94,92,222,249,1450,2290,0,1026,3953,1426,53,160,171,3237,192,0,385,2591,39,44,5432,349,20,381,4025,167,278,263,4968,581,682,779,2139,5888,0,3431,188,3214,873,-32,1958,76,1013,2731,93,173,384,491,728,411,265,-3,586,-196,700,-67,1600,508,486,243,203,1944,882,2924,20,1417,340,4062,133,0,8876,423,58,5,175,1349,6596,1741,25,0,4374,16,574,615,0,395,678,25,626,165,746,376,-55,0,21,3003,92,511,6904,795,0,166,157,0,0,174,1536,1114,816,1202,600,6,2655,499,0,197,289,5336,434,691,-250,3696,2595,1077,501,21,797,1659,97,2,384,63,1327,284,3395,2038,15,1187,3047,11650,1387,0,1387,446,275,1655,196,0,1327,0,206,523,0,444,1401,205,3957,9645,620,1541,-37,-601,197,-276,824,636,19,641,2983,0,252,119,171,0,-249,455,10,529,1859,613,751,0,1471,7503,68,530,1319,479,360,2163,136,-196,4087,1354,2,2337,514,6212,424,499,8,1305,300,976,2700,-497,2424,-2049,2081,189,0,327,426,1291,3473,434,105,975,-479,62,0,0,1202,2854,9,203,0,2467,3850,47,1895,522,-918,-193,48,0,201,598,1506,26,1582,559,0,-411,36,512,786,3658,-227,423,947,324,0,1694,2894,2693,644,185,1583,2399,1322,194,1221,-302,256,0,1335,682,0,3834,5312,4095,0,-1386,525,2,0,1500,378,552,-84,-240,501,5345,1559,0,0,1989,598,94,3473,349,3876,1934,2,9,11,60,882,499,198,2093,74,1220,1342,6134,3680,605,104,683,48,15,6714,623,234,599,9916,3160,0,2306,2550,701,3244,402,6014,-81,898,863,235,12,298,3463,13338,391,569,54,875,631,3434,1610,505,11528,102,-581,0,7298,0,909,337,829,301,147,282,1294,0,995,532,785,3028,1022,0,792,490,417,2071,1187,280,1236,910,-994,1333,850,3773,460,3140,1028,4264,3932,-1,1682,814,819,1265,514,1764,275,592,1143,546,1164,1381,0,659,192,-12,186,2246,124,2087,1298,101,46,262,0,17924,167,967,0,1547,388,1,0,80,4168,0,781,804,993,34,0,520,567,7177,3629,2199,223,185,5809,210,-199,897,0,7378,593,1224,3031,708,542,1141,-42,-556,482,1501,1850,2266,3283,300,1,178,187,229,42,-367,8,256,2410,2976,-426,39,1428,2030,-1636,108,2094,47,618,162,-671,136,6958,953,821,131,1272,-306,3201,1114,4168,0,0,3309,1377,150,553,458,565,0,2278,210,15578,236,1704,1693,372,1147,3166,1074,23,1431,814,142,810,1604,0,488,4110,1746,-208,152,0,399,318,9072,3071,177,10786,0,879,1887,3331,3,7668,55,0,2998,524,106,85,249,10,523,1321,-194,4517,964,923,2677,873,-1050,361,1466,782,3576,3,-112,759,195,15,-1053,488,287,578,1509,3794,4324,793,943,0,19447,565,1541,1079,0,1310,98,5,0,9216,2551,0,154,-150,427,664,0,680,4,196,290,221,180,-139,79,236,1120,-2282,2200,-461,385,2291,54,2850,1235,360,1352,905,138,0,221,-254,1510,1757,0,934,0,1217,-57,82,438,729,0,374,-341,-367,592,457,4819,-85,467,-309,21522,467,870,-93,75,292,0,263,134,91,0,229,892,197,-213,-321,604,606,1518,192,0,289,535,33,243,0,1279,1327,297,740,278,553,406,5,2071,0,932,-119,381,1309,542,30,0,-15,318,1405,5271,-51,3914,4976,16,1595,306,215,0,2628,1778,1423,659,-31,-204,1462,723,3954,33,4151,0,219,2728,76,4388,-210,2427,45,-74,2173,8422,120,1320,245,9569,0,2770,1221,298,967,0,0,1368,751,2597,-35,629,1330,277,1018,11,0,905,15474,54,-246,0,1951,65,368,51,3492,21,8403,978,165,350,385,2058,-11,505,-547,562,4222,105,0,66,0,13578,11222,1737,59,54,2282,299,396,184,475,-496,117,713,45,1496,0,886,4592,-38,431,-292,2571,191,1689,8494,159,7,35,1007,106,0,0,216,746,764,193,368,205,96,8016,221,157,4830,1039,71,1214,0,0,116,100,91,-398,2820,223,2278,-782,8919,104,3387,0,449,4787,1240,191,2185,0,2857,3782,83,6,88,294,84,84,602,0,-470,-37,2145,937,2059,3598,1206,1273,46,534,-300,4,386,-396,0,14930,-600,3733,465,994,758,256,3461,124,355,1514,40,-320,566,388,577,17,260,0,1823,1463,3390,2769,215,12531,80,317,217,4874,275,738,1839,556,207,-461,789,1133,4253,255,582,743,570,786,295,2583,1285,287,658,246,3463,291,19,5700,0,-346,-456,5953,1693,350,-181,1735,157,67,-444,0,171,262,0,965,0,6392,194,2308,941,46,131,1844,281,109,268,298,-525,738,94,7702,857,-354,0,112,5735,1807,-30,216,127,1096,5193,6,339,0,625,3776,1239,93,304,1409,191,79,2263,10438,81,964,0,3839,586,600,1343,113,240,194,278,260,1013,0,2363,913,686,149,500,11766,137,0,335,16,0,9851,525,788,1016,292,999,2870,689,-100,1084,154,1653,2378,1515,1636,1516,127,2876,1384,228,2481,475,1401,425,244,-6847,0,386,332,1367,120,19,3,-98,303,-752,97,794,1880,732,5261,712,28,0,827,110,377,-344,261,104,610,4328,1371,193,258,56,136,1222,3672,2188,924,11431,140,27,-468,438,-43,1161,458,-441,2278,0,702,69,182,318,-181,261,244,880,2283,550,7752,6,4471,1969,219,76,60,8,19,20011,608,1068,-269,494,159,-754,157,2110,2603,992,593,327,6766,432,25,5299,291,517,97,1636,996,0,710,1049,556,629,186,0,1264,64,2497,-97,161,732,94,2404,21,2658,131,0,351,564,2240,46,132,71,0,267,841,51,7735,417,-14,2490,0,184,19343,947,90,10218,72,120,130,41,0,673,-131,2607,5,23,180,68,0,565,598,1609,1047,5641,557,1066,35,54,1806,39,0,930,0,2764,4492,2166,0,1575,201,318,1682,242,291,304,108,1303,292,89,788,573,1318,151,-37,522,2315,-718,4,-43,596,670,430,60,0,678,159,1345,483,2443,1258,389,0,2067,332,80,84,2702,37127,0,1813,1612,198,1106,2321,33,101,-59,486,136,193,5083,0,8,21,570,644,1104,6004,1503,896,177,665,380,151,179,4,116,0,-57,894,478,10,30,578,2360,-47,-805,782,1282,766,348,296,908,0,5276,658,1089,1042,544,134,73,13156,30,-66,1373,8564,81,5426,16,297,734,1514,153,3503,-849,1441,2487,927,598,345,197,220,9,5678,0,169,388,61,7100,219,-76,1432,879,0,1498,543,1797,2994,1690,1573,0,173,989,335,17,-74,8319,15341,52,-56,1670,370,466,2583,1177,311,842,2744,503,62,4841,253,842,378,637,-372,135,7,446,1328,252,125,1324,-244,657,2140,5571,103,2133,8876,22,3854,32,337,228,1125,1612,1310,-210,0,975,306,170,154,1972,994,380,54,512,1027,1770,13,438,162,-183,698,165,3499,378,855,32,0,0,2994,1238,1717,224,1048,592,396,268,0,5223,1611,780,399,1649,974,22,507,10787,-259,414,67,328,4,471,3038,2276,-848,2662,2597,550,357,1153,4912,194,0,565,649,-45,1310,2308,4,1297,1808,2080,5034,322,679,1742,154,140,377,3644,-50,453,45,46,2060,1316,-361,349,-68,-157,320,86,681,0,4567,40,706,420,0,65,-27,114,678,3105,281,1932,481,156,0,557,1467,428,994,769,108,19,199,448,473,726,0,536,2194,1406,44,-6,1631,4054,75,172,356,1508,49,544,-383,606,-410,469,2,241,0,322,2193,144,0,3428,10,1841,84,622,309,154,1949,2605,5163,557,119,0,356,1395,20,84,609,1856,608,0,1859,282,154,222,897,131,0,37,1704,314,399,300,382,1301,0,930,21,111,1199,1085,230,558,127,4844,826,30,2708,108,577,2764,2834,-324,4,559,271,5774,816,3,274,11265,70,405,22755,557,1554,89,444,4951,30,1,0,0,1093,1561,1861,333,342,388,1515,654,-467,398,0,12848,5205,-181,250,110,445,175,458,5127,928,105,18558,375,133,2278,443,23592,61,192,628,372,222,2469,459,254,563,-29,494,781,2793,1134,4568,0,1189,692,716,520,2133,0,70,872,2458,-30,409,60,667,620,-60,237,373,1221,0,999,67,-463,7934,816,2557,546,78,24450,765,91,703,589,0,1755,269,432,4382,109,52,922,1779,8,-271,0,14,215,307,265,323,800,392,406,104,1453,1168,766,1784,3,1412,-312,167,1239,776,-13,4519,5769,414,958,922,1585,910,3738,1387,-3,144,103,0,-547,9326,1281,267,0,512,3531,4358,222,22,37,591,12,131,228,1794,-34,416,1170,0,466,1463,6835,-397,5222,0,526,2422,430,20,-211,1337,4798,1077,9713,5547,2433,105,275,366,-315,-55,0,2993,3715,-8,1577,588,0,944,9,144,1222,0,668,568,0,-861,877,1107,757,30,287,3079,3238,1012,203,2880,486,1708,10635,1728,67,387,56,18,0,174,162,-16,113,2940,1954,182,247,-58,1685,410,-367,6835,2398,-312,2079,573,399,57,641,1575,-475,128,305,-80,198,1170,683,2312,28,-15,476,0,217,157,83,1871,11016,4023,-57,91,506,161,633,41,-375,-284,0,0,2413,134,127,-253,659,314,6362,33,392,454,23,2034,185,0,738,0,862,1256,371,2503,393,557,61,2991,557,173,80,3611,-482,2982,458,11,0,328,111,2223,37,-15,9051,284,183,109,934,93,811,753,538,1098,3086,2054,2501,209,972,3,326,3323,4121,13849,630,624,7503,0,2850,672,492,778,106,4929,0,545,1728,1401,1943,11,-170,239,272,113,-120,-388,51,1689,108,25290,1,-22,167,1796,677,593,316,855,3096,325,1023,991,876,1271,165,578,2595,8226,657,0,1875,254,1252,790,656,329,83,138,0,39,426,693,2854,787,102,855,1675,1996,473,1,1064,215,138,221,720,51,0,606,6551,-294,64,169,230,2485,209,71,137,2547,1800,6512,1476,534,1696,219,557,1277,-30,175,1595,723,297,310,1012,-103,621,548,182,484,1342,0,66,21,608,5345,461,5801,0,78,-1415,30,100,1371,62,1005,517,0,382,468,178,211,57,114,1222,1660,-9,0,30,0,369,1571,-187,0,-257,2459,1219,5784,162,1909,-195,4,350,87,777,3140,1510,756,1086,339,205,2717,138,1943,744,79,2400,419,414,27,2823,4692,1261,0,0,483,7369,804,2644,175,0,272,252,4053,2158,299,2731,50,36,220,5746,0,238,76,679,1390,418,2891,497,2933,948,0,0,687,-230,2575,7649,59,23495,365,97,5,739,-177,-454,1267,1639,900,-481,528,34,223,218,130,1156,314,1374,22,1129,130,-202,293,275,9224,515,760,2302,-389,133,1580,1020,298,13901,563,-27,2113,980,352,96,3842,3870,589,7426,1,6101,231,876,86,363,8298,0,93,596,168,29,6,-934,297,533,175,-292,2,39,396,-338,2050,510,477,4176,0,0,297,167,-353,1525,211,416,0,1001,75,7602,0,163,673,-154,3723,559,13774,403,1696,722,296,257,418,488,900,2945,-327,115,218,286,293,201,4331,388,483,502,306,-337,950,2410,-633,0,265,698,459,0,1307,8785,302,484,7,1539,3098,745,2050,2766,4641,1167,322,750,1559,0,0,46,0,1862,7831,21614,2137,3247,14,0,637,10655,94,997,2084,1734,805,317,369,100,-44,3296,-50,-411,922,1128,5423,1537,0,519,186,83,1365,1734,51,1567,96,8982,-209,-6,355,0,0,1310,2520,1629,573,1655,26,186,13658,23,87,49,3810,56,384,8,2671,3240,147,63,7863,946,237,0,245,315,1139,0,-102,3984,1988,125,505,834,494,947,262,141,-236,2555,298,1179,31,357,1129,861,16,895,504,2955,122,2204,111,1566,661,2485,3756,43,1529,84,311,408,1866,42,260,2994,0,1133,2305,143,4721,5366,71,1437,1093,817,196,205,0,1002,2916,4513,7,0,253,28,-65,376,1018,260,5539,758,262,236,396,1857,4722,935,4567,220,8,109,0,456,5553,137,299,162,1533,301,1697,441,898,945,0,1830,6138,442,0,1556,83,430,-336,528,111,1556,408,1067,277,257,0,2549,4612,433,680,3851,442,642,487,171,13711,187,101,343,315,205,106,477,2875,1000,-825,534,452,623,310,454,2306,-126,399,0,2109,0,-470,81,1104,457,0,941,-466,2600,3,90,2570,181,66653,556,110,9,0,5249,2499,276,3343,9994,613,925,393,339,1216,1818,2109,46,980,3060,46,274,805,3151,160,0,694,509,237,0,16,504,-274,0,0,2565,91,558,1032,351,231,3706,5,342,588,3165,0,464,837,34230,5435,102,641,334,149,179,61,375,2088,29,3839,2910,3770,141,0,65,-306,3740,0,131,23189,-1,6979,187,1203,6298,-243,181,661,270,1919,492,91,775,2669,2605,1277,568,2344,4321,1064,241,183,9214,513,14850,279,4,-298,522,0,8,432,-378,338,2878,62,1303,255,0,1125,1238,370,2417,4,444,28,2139,194,195,0,189,220,189,746,13054,0,23421,41,7408,101,384,2556,808,0,1158,334,296,1653,1283,2295,-42,55,365,772,334,1060,38,146,439,124,190,211,871,1513,871,1298,360,597,457,2457,2069,47,13,-71,27,-114,2645,1025,2044,10,0,644,4293,-238,-613,1573,1728,15,-160,312,33,80,445,4565,3262,559,4840,-302,73,4790,1078,284,493,100,1042,3665,-9,576,945,108,93,-97,3768,8,66,0,-637,0,26,4726,1782,3430,332,554,0,542,393,134,178,0,23,0,202,647,143,1928,1630,102,0,1790,0,1675,-745,-56,0,2396,223,5956,122,4888,183,0,-262,169,3364,15,126,1953,1385,261,178,1819,0,6337,214,0,1153,415,101,1490,779,2036,333,963,4709,1074,90,243,414,0,2196,1416,281,518,3,36,9301,883,21,3091,2791,217,1579,0,314,655,212,523,111,1166,582,513,75,1992,2910,66,599,89,796,571,215,1088,271,11494,2741,1694,383,298,155,694,179,356,0,179,244,46,246,7,1746,992,4312,103,506,461,268,-454,365,2,1667,2265,4622,0,188,0,592,-276,1254,652,192,148,1812,3478,264,71,1376,668,703,-25,48,2453,0,133,277,78,517,1,7944,3,623,290,8918,41,199,100,313,419,0,0,437,1357,1610,0,709,10086,0,-311,9324,7832,191,6637,0,172,1131,797,120,215,425,476,29,527,0,1093,70,39,296,1464,2226,1286,-738,3643,5260,3096,-312,286,89,-72,4305,1487,0,-78,3495,3317,1906,2996,446,1590,5214,134,8,3120,171,39,171,-140,728,1637,-143,802,795,265,2567,3402,1336,306,10984,526,563,0,0,3107,0,1146,5252,1195,488,1887,49,280,-461,633,3955,-233,1626,1103,223,-175,-3,0,3918,284,4577,876,3754,128,0,547,243,3571,130,-529,1636,12180,297,413,285,19,44,62,79,226,2388,98,48,255,2,643,13410,0,3443,2946,21,1212,2183,135,5903,271,303,7264,0,204,444,-27,287,800,4645,1481,1575,5691,294,154,3950,624,-504,111,1131,322,0,-89,3,1313,462,11,3163,2,3157,4348,-391,7816,5763,240,508,2,1654,860,154,281,427,467,91,1319,259,-488,60,405,177,-412,282,6181,373,-92,49,0,-283,1313,2452,517,350,1623,-435,333,3770,778,483,2170,541,205,2269,0,973,894,-12,0,5154,-32,999,24,0,771,1350,19,709,2040,303,-311,690,2551,-142,-448,99,18,37,3868,5041,260,67,157,1513,1044,113,245,505,92,3685,1636,0,349,3067,338,282,1190,73,384,-388,354,192,70,22,335,2775,592,1271,48,0,4869,737,83,1104,5,23,1137,181,8267,871,1824,4,421,561,1498,657,0,9192,7876,0,192,803,1694,5559,737,174,931,95,0,4367,68,1308,353,-40,0,-312,549,8837,1020,3540,663,2590,4982,6,118,-258,-221,2596,467,3100,722,797,476,558,162,1842,2348,11,2103,967,116,2805,1386,0,0,90,37,7,676,3817,144,230,0,1109,2925,397,865,816,396,0,241,243,233,43,290,101,1151,45,1410,1234,2767,5969,-272,1036,9324,1043,1473,183,86,0,2388,160,385,4,119,0,742,0,1724,0,503,68,5914,192,15,2157,3494,275,318,350,588,2008,35,2152,122,160,1934,0,613,574,0,341,158,1489,2911,1178,96,4157,-575,3419,1104,57,343,-326,0,3104,648,10041,-508,327,1150,1074,27,3720,92,7845,157,428,0,54,13,3230,1637,6981,1,631,7296,3014,920,735,1300,541,0,1257,4522,585,150,202,2137,2674,625,73,2656,3,0,95,106,477,1529,28,1743,924,457,0,736,0,787,-396,1573,0,524,1558,159,53,838,3144,737,4056,162,0,217,3324,2895,0,11254,-280,808,0,246,-972,750,2430,-179,1412,-1531,51,88,-209,799,4048,1310,573,6798,1214,75,387,2246,3,883,1503,-322,1301,950,2326,-78,2405,113,4564,387,1865,4105,258,19,3773,1808,1304,3702,163,-151,1602,1314,84,1906,291,223,207,518,241,-126,421,38,800,32,1477,160,4415,-397,590,778,19,0,-28,3119,122,0,4157,102,437,1,-354,1234,901,247,180,274,92,813,1170,-183,0,136,103,23,2242,137,1047,5731,2707,-329,158,219,2775,461,145,309,733,8417,1400,72,0,9710,1377,881,0,285,550,285,-360,0,72,930,717,67,6227,5252,561,1393,-330,3261,361,807,2305,-11,2223,29,1308,1337,17361,6,370,8,666,0,1336,17672,35,705,2087,4466,844,321,2781,34,29,2443,3975,256,696,63,316,-119,6570,418,0,8784,1970,204,643,304,1177,544,-498,0,209,665,310,2149,13818,526,-218,419,517,61,0,514,365,480,717,24780,1396,414,3100,0,1218,789,859,0,3868,232,1686,29184,144,194,7641,351,150,1532,1549,1057,839,880,4464,6,0,694,153,110,640,3060,2836,1127,11,982,222,627,5010,468,155,2478,668,35,3304,0,237,0,-54,0,240,759,992,1379,8564,0,119,450,746,2032,636,-938,2007,33,2887,1444,42,522,0,3884,472,2060,628,398,417,610,2585,321,0,4,29,892,0,1387,454,71,-35,2251,2460,34,1281,3021,141,500,1459,-244,1356,-289,1396,9,70,877,113,368,89,450,463,1397,310,270,65,865,7,145,327,429,1167,2995,974,784,316,0,211,342,628,0,769,2278,1351,49,1082,5691,916,325,0,2475,3717,288,1130,2715,23,0,-84,290,36,-488,-473,1272,0,-6,510,818,543,7867,1212,533,291,573,1279,280,574,658,2019,22815,887,303,326,453,0,4063,2403,123,270,424,1230,387,744,696,4594,1002,-173,1239,354,375,3,6116,4515,727,3846,1128,1173,27,328,0,-87,2830,4,0,80,2768,5,553,-102,2079,1,598,34,-19,292,144,1113,121,904,-498,0,67,3967,305,260,258,0,72,145,2564,7811,5744,673,602,9374,5016,508,156,0,12,7984,255,211,1854,-497,431,-314,552,465,544,-636,7780,274,1148,67,914,1293,111,937,605,1457,1617,29207,812,324,1327,482,134,347,1824,410,-38,581,3100,0,1138,0,304,313,1898,142,4696,135,574,1322,703,0,1,55,786,22,890,451,59,15,15341,-273,28,58,103,244,0,880,-141,447,62,148,79,9,578,-382,888,382,1390,-104,22,-36,130,77,1031,92,1063,0,282,1394,16,975,12276,313,1648,6,1127,1070,1040,50,62,-755,4707,925,0,867,-201,120,61,0,687,38,2806,-27,2498,390,-423,1587,288,822,-222,197,159,681,0,495,414,151,2572,320,304,1299,740,537,1581,708,178,671,3,981,1042,1021,1035,1114,98,24,486,727,-205,895,319,206,-414,-1489,0,249,927,515,1060,308,808,431,396,-89,-253,0,60,695,1141,791,1381,0,-28,412,310,1319,0,-314,511,-152,907,22,0,8044,1854,1794,2,2321,144,1,762,16,20,2070,308,1617,39,332,713,2885,968,4150,687,333,1821,-436,6929,126,2019,878,6791,0,110,28,443,236,2707,1753,1182,427,788,0,-509,-110,244,933,940,1631,-505,7336,-40,25,0,5,-92,497,2356,3,128,390,300,827,25,340,867,140,3,4920,3237,0,1096,869,1900,413,-588,0,2490,20928,560,0,826,115,107,320,-399,703,328,148,2298,64,4013,0,633,-1137,902,2850,313,923,8,945,2261,18,5828,6307,537,393,215,132,35,125,129,0,315,2567,883,1120,0,1117,773,390,1358,216,317,2369,125,6,15841,51,0,-79,1881,456,1873,0,445,2123,767,229,3783,140,6,859,261,50,-462,0,283,91,0,442,0,1182,316,316,402,8725,102,0,615,0,3060,990,1937,428,655,16,2044,20,29,-155,340,1776,23,863,7051,1049,174,137,783,116,2118,10269,141,13,0,1996,1129,561,539,-349,6971,497,362,4497,2496,2850,0,1199,66,3756,1170,944,50,171,122,1780,136,179,232,82,630,1202,867,6200,-422,426,107,-96,581,402,555,67,72,1942,373,84,394,925,0,6690,4178,20723,887,598,1,4314,2155,760,1248,5122,191,230,7010,1970,3935,437,2323,2213,84,4545,200,206,2937,221,1521,102,519,660,500,1661,961,-273,7067,285,221,479,1595,65,640,490,1440,918,6507,4,2289,131,1852,-749,719,4613,664,291,24,823,1235,1195,21,363,0,0,136,846,0,505,3986,11862,145,2037,441,105,465,320,-762,316,903,123,273,1345,1027,1855,1315,59,2682,2682,3164,342,1742,-106,67,430,-234,0,-206,656,603,1102,117,-13,1993,5920,881,0,953,781,1530,2667,5310,1468,0,144,247,258,595,259,2408,1356,292,2384,307,292,3131,0,2258,1348,741,0,741,521,5315,1660,163,1163,122,1,493,0,715,558,16992,179,198,152,2805,6332,2420,580,259,-451,261,323,0,235,526,4366,0,833,-13,405,3517,699,943,794,503,-700,644,335,719,-195,972,5050,232,2406,324,168,374,658,-1,280,0,0,2064,128,0,863,50,187,-614,841,206,984,201,585,8514,728,80,1246,818,1815,0,210,71,1869,1040,920,668,36,-972,382,-170,5172,1,922,3016,0,1101,3578,0,0,-190,185,156,503,485,392,625,468,280,181,1401,1349,5737,1187,5231,3185,3228,80,2800,10,331,223,0,35,299,240,3534,223,-194,1545,440,2538,337,-492,53,91,316,3196,2697,3,244,410,159,6432,-701,24,296,1,1965,501,3558,177,204,46,2047,810,1914,56831,386,469,69,-124,600,3842,-720,1127,423,-59,0,1489,0,1451,452,283,16,973,1257,-1701,567,-1,3310,115,321,71,759,23,3297,578,4279,234,1137,8669,488,1077,4790,256,974,231,196,2002,218,1011,2761,92,10005,1168,168,1710,207,18,306,8,-250,449,1654,714,1498,695,-15,14,-287,0,-978,0,20,700,-58,841,951,-63,641,195,11,120,450,8379,206,1544,2990,866,1744,-382,214,147,81,202,1314,-60,0,-331,1504,2363,773,941,2116,-971,5,454,53,2578,854,16397,687,1894,0,1150,136,7313,-239,182,1590,-565,930,1091,640,767,480,1363,446,167,0,4196,725,1716,-45,410,-97,12159,395,969,86,395,0,0,829,-15,135,1585,-910,8806,43,136,1195,11219,2003,494,419,-82,64,14522,3455,1076,-261,309,655,102,213,202,0,22,179,4769,-6,19358,5563,6641,747,49,287,437,1313,597,418,-41,449,3572,2428,177,80,1048,3874,5381,17,4040,427,385,266,1411,7747,2129,318,105,2603,443,-116,285,5092,719,0,2095,-390,108,1134,228,1,0,1453,28,1388,0,0,15,22,983,2879,-553,596,1402,223,46,0,1636,96,-295,1,60,84,4287,1,192,1172,105,4708,-1,802,22,3301,2227,2,445,241,429,11,50,2195,1270,2394,3536,-4,-1965,5879,469,502,777,1588,376,848,-393,4660,176,3335,-167,1591,2064,1310,1221,-26,337,2440,0,25947,1734,4,1032,8,3137,-522,21,455,4,1412,141,6619,0,0,202,2552,276,0,86,507,602,1492,0,2117,71,843,229,176,13,169,58,179,50,11854,1022,692,1937,26,0,900,260,-634,30,1694,167,4299,135,40,479,1945,1062,0,2406,337,413,362,284,-66,922,93,693,307,427,5024,463,4130,190,2682,144,1938,90,10465,917,1744,1198,371,575,123,145,312,893,105,0,186,-114,228,0,279,241,2328,728,4380,0,5432,222,3832,715,6215,2085,1398,463,-337,1182,94,5916,4556,373,170,146,1384,595,4903,4037,1746,18,1724,1735,0,367,105,537,0,653,487,1434,1683,530,-287,271,1945,57,5632,750,3992,11,383,598,3178,505,73,1436,264,1720,-25,634,648,0,314,2,2677,855,411,4874,397,61,177,985,767,496,459,1340,1187,4023,184,688,2064,862,137,51439,893,607,5521,1966,363,-49,1533,250,407,3549,0,1017,2652,2442,0,0,665,-1139,3396,542,1957,304,353,13107,1138,0,199,383,0,1844,42,1788,680,517,3,17,-328,1513,603,307,22,0,283,5215,847,5827,0,-759,267,2503,3630,218,1146,167,447,10378,-2712,191,17,2235,292,433,364,30,335,1287,128,133,-888,280,719,1261,1903,202,390,103,362,907,199,4943,6659,730,664,442,7162,61,2579,1583,224,851,2880,1597,0,771,30,346,184,580,913,1967,2929,103,661,19,258,361,1898,0,3579,1265,940,854,1464,3748,6839,-235,12,61,0,6269,142,24,1267,2346,133,16786,400,2033,1938,0,-164,1241,0,214,399,1388,805,1716,2228,1515,44,683,-473,4482,911,3771,1119,-6,-663,686,112,83,418,3840,7628,-10,3,1433,0,756,313,4996,74,431,522,0,1296,435,2128,-383,1019,1780,431,8097,0,138,292,606,0,26,322,336,36935,0,928,2,2220,1125,503,2920,4319,0,1080,36,803,8,833,3410,605,13342,586,559,4910,4527,-221,242,20,797,321,313,136,0,0,54,0,373,577,0,1296,2642,3237,1191,2278,-165,178,209,3560,490,3499,995,1128,163,103,70,191,1601,287,199,177,832,493,13578,-50,292,0,0,294,-558,-311,688,-548,94,299,6217,494,594,0,157,183,22867,1884,0,446,114,217,1783,208,1311,2813,783,243,5704,2895,377,2,153,-165,2764,6699,7,2590,14,2672,881,4793,370,6836,859,1940,1033,532,-321,383,865,1352,-722,1144,794,2061,36,734,99,879,0,4128,0,275,6525,9317,350,699,906,97,115,36,1076,-56,1504,482,208,441,-2,8278,407,197,348,101,294,3730,3885,4582,403,145,834,664,299,29,124,124,0,20,31868,599,248,0,879,34,2548,3,1395,-196,205,1442,393,-185,1158,1165,10721,1270,16,930,0,0,-175,328,0,2556,4969,726,-1451,221,3090,257,139,3168,260,4574,109,140,-45,6507,1291,-10,0,-20,309,250,370,183,8590,1011,1355,1609,75,12,3540,8486,20772,3297,9,-139,381,760,722,24,148,6691,0,787,4576,629,1193,-132,1438,-159,2235,10,805,-79,1664,0,690,616,200,8585,173,808,4822,966,141,531,1154,68,1499,2908,-238,1685,0,4344,0,1846,4,360,205,18777,218,312,15,0,112,9,-44,1023,3,77,0,137,-232,0,139,47,-58,34,590,435,441,212,621,162,4418,522,-547,0,726,435,530,106,590,2929,147,2000,143,193,658,-365,50,356,6718,21,3872,820,6102,516,0,199,584,1449,490,919,4243,6445,47,390,25,2257,677,0,209,2743,50,0,21,21,78,1034,6242,714,98,971,0,1097,0,25,604,434,784,95,616,631,67,555,184,382,-974,-516,0,5,428,0,54,1054,115,2171,350,594,276,-325,1594,2596,115,0,247,235,2593,2166,130,48,189,0,-134,23,0,1,3317,355,917,390,35,523,80,-72,1,733,29,0,0]},{\"axis\":{\"matches\":true},\"label\":\"campaign\",\"values\":[1,1,1,1,2,2,1,1,1,3,1,2,4,2,2,1,3,1,2,1,2,1,2,2,2,4,3,3,1,1,1,2,1,2,2,2,4,1,4,2,1,2,1,4,1,2,2,3,1,1,1,1,2,1,2,1,1,1,2,2,1,3,4,1,1,1,2,2,1,2,2,2,2,1,6,1,1,1,3,1,1,2,2,1,1,1,3,5,4,4,1,2,1,4,3,2,6,5,1,1,2,1,2,1,4,1,3,2,2,2,1,1,2,2,1,1,2,2,1,1,2,2,1,3,3,8,2,1,1,3,3,6,3,2,2,11,1,2,2,3,2,4,2,6,4,3,3,2,5,1,3,1,1,2,2,2,3,2,2,1,1,2,1,9,1,1,2,1,1,2,3,3,2,2,2,3,3,1,3,2,1,1,2,2,2,1,10,15,2,3,3,3,2,2,2,4,12,12,5,2,2,1,2,1,1,1,1,3,2,5,5,4,14,4,3,2,3,7,2,3,1,1,2,2,7,4,1,15,1,2,1,2,2,1,6,1,1,1,2,1,2,1,2,2,3,1,1,2,1,2,15,5,3,4,5,2,2,11,4,3,2,3,1,2,3,10,1,1,1,6,1,3,3,3,3,4,4,8,1,1,1,1,1,2,2,2,2,1,5,6,2,6,2,7,3,2,11,4,1,1,2,1,3,3,2,6,4,1,1,3,2,3,3,1,2,2,1,1,1,2,1,4,3,4,1,3,2,1,4,1,3,3,1,7,2,1,7,1,1,1,2,1,3,1,2,3,2,3,10,5,2,4,2,3,2,2,3,3,2,6,2,9,2,2,3,1,1,3,4,2,2,3,1,3,2,2,5,1,1,1,1,1,3,2,4,1,1,1,1,3,1,1,1,5,2,1,3,2,4,2,1,1,1,1,1,1,3,1,5,5,1,4,5,6,2,3,1,4,1,1,2,7,1,5,4,1,1,1,3,1,3,1,3,2,2,2,2,2,2,2,2,3,3,2,3,4,2,4,3,7,3,2,4,3,4,1,1,3,5,3,4,5,5,5,1,4,1,1,1,1,6,1,2,1,1,11,2,9,2,2,2,5,2,1,2,2,2,1,1,2,2,7,3,1,2,5,5,4,3,2,1,1,1,2,1,3,1,2,1,3,7,4,4,2,2,2,1,2,3,1,1,4,10,1,8,2,2,3,11,3,5,6,1,1,1,2,2,1,5,7,4,8,11,1,1,1,1,1,2,9,3,2,2,1,2,6,4,6,4,2,4,2,1,24,2,1,1,2,1,8,2,2,2,9,6,2,2,2,2,5,1,1,1,4,8,13,1,8,8,3,3,17,4,4,9,4,7,8,3,3,2,3,4,3,7,4,2,3,4,2,2,2,2,2,1,13,3,6,29,2,2,2,2,2,2,2,5,4,4,2,4,2,3,8,4,2,4,3,8,4,3,3,6,17,5,2,4,6,13,4,2,4,4,5,5,4,1,1,1,1,2,3,2,2,1,1,1,1,3,1,3,1,2,2,3,2,2,2,2,3,2,4,4,2,3,2,2,2,2,4,2,2,4,6,2,4,2,4,1,4,7,3,2,4,2,2,3,9,2,2,1,3,1,1,3,5,2,4,4,4,2,2,2,4,2,1,3,1,3,7,4,3,4,6,2,4,7,4,2,4,1,5,3,5,3,1,2,2,2,2,3,2,4,4,2,2,8,6,4,5,3,4,1,3,1,3,4,10,2,2,2,9,2,5,6,2,4,6,7,4,4,4,6,8,1,1,2,6,2,4,4,2,2,2,14,4,2,4,3,3,4,3,4,6,4,4,8,5,4,8,7,8,7,6,2,14,8,6,3,3,1,2,2,5,4,6,5,6,2,6,2,2,4,4,6,4,2,10,1,3,4,2,2,2,2,2,2,6,11,1,3,7,4,6,6,6,5,7,3,10,5,11,6,2,13,6,4,6,6,8,12,9,3,3,17,4,6,4,1,2,2,1,1,1,1,1,1,1,1,1,1,1,1,1,1,1,1,1,1,1,1,1,1,1,1,1,1,1,1,1,1,1,1,1,1,1,1,1,1,1,1,1,1,1,1,1,1,1,1,1,1,1,1,1,1,1,1,1,1,1,1,1,1,1,1,1,1,1,2,1,2,2,2,2,1,2,1,1,2,1,1,1,1,3,1,1,2,2,2,2,1,1,4,1,1,1,1,1,3,2,1,1,2,1,1,1,1,1,1,2,4,2,3,2,2,3,1,1,1,1,1,1,1,1,1,1,1,1,1,2,5,4,1,4,1,1,2,1,3,2,1,1,1,1,2,2,2,1,2,3,1,1,2,3,2,3,4,2,2,3,1,1,1,1,9,1,1,1,1,2,1,1,1,1,1,1,5,1,3,1,1,4,3,1,2,1,1,2,2,1,1,1,3,9,3,2,4,4,4,2,3,6,2,2,2,2,5,1,1,1,1,1,1,2,2,3,2,1,1,1,1,1,1,2,2,1,1,1,2,1,5,2,2,2,1,1,1,1,1,1,1,1,1,1,1,1,1,1,1,1,3,1,1,2,3,2,2,2,2,1,1,1,1,1,1,1,2,1,1,1,1,2,4,2,3,1,2,2,1,1,2,2,3,1,2,1,4,1,4,1,1,1,2,2,2,2,3,4,2,2,3,1,1,1,1,2,1,1,2,3,3,4,2,2,10,8,4,2,1,1,1,2,1,2,1,2,2,8,6,3,3,2,1,1,1,1,1,21,3,4,1,1,1,1,1,1,2,6,1,2,2,3,4,1,4,1,2,1,1,1,1,3,2,3,5,1,2,5,1,2,2,3,2,1,2,2,1,1,1,2,1,1,1,1,1,4,4,1,1,10,1,1,2,3,3,2,4,5,3,1,1,1,1,2,1,1,1,5,1,1,2,2,2,1,1,1,1,4,4,1,1,5,3,2,2,1,1,1,3,1,1,1,1,2,13,2,6,3,2,2,1,1,2,5,1,1,1,1,2,4,1,2,2,1,1,1,1,1,1,1,2,4,1,1,3,1,4,2,1,1,2,1,2,4,2,1,1,1,2,2,2,2,1,1,1,1,3,1,1,1,2,3,3,1,2,8,2,2,1,2,1,1,1,3,2,2,2,2,2,3,2,3,1,1,2,2,2,3,3,1,2,1,1,1,1,1,2,6,2,1,1,1,2,3,4,1,4,1,2,1,1,1,1,3,1,1,1,1,1,1,5,2,2,4,3,3,2,2,4,2,1,4,2,1,1,1,3,2,5,2,3,1,2,2,2,1,1,2,2,3,1,3,1,1,1,2,1,1,1,2,1,1,1,1,1,3,2,2,2,1,2,2,1,3,2,1,1,3,1,2,5,2,3,4,2,1,2,2,1,1,1,1,1,4,1,3,2,1,1,1,5,2,2,2,1,1,2,1,1,1,1,1,3,1,1,3,2,1,1,1,3,1,1,1,5,1,2,2,3,2,2,1,2,3,3,5,1,1,4,1,4,1,2,1,1,1,1,2,1,1,1,1,1,1,1,1,1,1,1,2,2,3,1,1,2,5,3,4,3,2,1,4,17,3,1,1,1,1,4,2,2,2,3,5,1,2,2,1,1,1,1,1,1,1,1,1,4,2,2,3,1,2,3,5,5,1,3,1,1,4,4,4,1,1,4,2,1,1,5,3,1,1,1,1,8,3,2,2,1,1,1,1,1,1,1,1,1,1,1,1,1,1,1,1,1,1,1,1,1,1,1,1,1,1,1,1,1,1,1,1,1,1,1,1,2,2,2,1,1,1,1,1,1,1,1,1,1,1,1,2,3,2,1,1,3,1,1,2,1,1,1,1,1,1,1,1,2,1,1,1,3,1,1,1,1,2,1,1,1,2,1,2,1,2,2,1,2,2,1,1,1,1,1,3,1,1,2,3,2,3,2,1,1,2,1,2,1,1,2,2,1,1,1,1,1,1,3,1,3,4,1,11,2,3,1,4,3,3,5,3,4,3,2,3,3,6,4,3,3,4,7,2,3,5,6,8,4,5,4,6,3,1,1,1,1,1,2,1,2,1,1,3,2,3,1,1,1,1,1,1,1,1,1,2,2,2,1,1,2,3,1,3,2,4,2,2,1,1,2,1,2,1,1,1,4,1,1,1,2,2,1,2,2,2,2,3,3,3,3,2,3,2,1,1,2,3,2,1,3,1,1,2,1,2,2,2,3,1,1,1,1,2,1,1,2,3,1,2,2,7,3,2,1,1,1,1,4,1,1,3,1,1,1,1,2,1,1,1,1,1,1,2,7,2,3,1,3,6,2,3,5,2,3,3,3,2,1,1,1,1,1,1,1,1,1,1,1,3,1,1,3,1,2,1,2,1,1,1,2,1,3,2,1,1,3,5,2,2,2,2,3,3,2,2,2,1,1,1,1,5,1,2,5,1,1,1,1,1,1,3,1,1,1,1,1,2,1,1,1,4,2,2,1,3,2,2,3,2,3,2,4,4,4,3,2,3,4,2,1,1,1,2,1,1,1,1,5,1,1,1,1,1,1,2,5,5,2,2,4,5,1,1,3,2,1,1,3,1,1,1,1,5,1,3,3,2,3,5,4,5,4,4,4,3,4,4,4,7,4,2,2,3,2,1,1,1,4,1,1,1,1,1,2,1,1,1,1,1,1,1,1,1,1,1,1,1,2,5,2,2,2,2,6,2,2,3,3,5,3,2,1,1,1,1,1,1,1,1,1,2,1,2,1,1,2,2,2,2,2,1,1,1,1,1,2,1,1,2,7,1,1,4,1,1,2,2,2,1,1,2,2,2,1,1,1,1,1,1,1,2,1,1,1,2,3,2,1,1,3,2,1,1,1,3,2,3,1,2,1,1,3,2,9,3,1,1,1,1,1,1,2,1,1,1,1,1,1,2,2,2,1,1,1,1,1,2,1,1,1,2,1,1,2,1,1,1,1,1,1,1,1,1,1,1,2,1,2,1,1,1,2,1,1,1,2,2,2,1,3,2,1,3,2,4,2,4,1,2,1,1,1,4,1,1,1,2,1,2,2,3,1,1,2,1,1,1,2,2,1,3,2,2,1,1,1,1,1,1,1,2,1,1,1,1,2,2,1,2,1,4,2,1,2,3,3,1,1,1,1,1,1,1,1,1,1,1,2,1,1,2,3,2,3,1,2,2,2,2,7,2,3,3,6,3,4,2,4,2,7,6,7,2,2,1,6,1,1,1,2,1,2,1,1,1,1,1,2,1,1,2,2,2,3,4,3,2,2,6,5,3,1,1,1,1,1,1,1,1,1,2,3,2,2,2,1,1,1,1,1,1,1,1,1,2,2,2,1,1,2,2,1,1,1,1,6,2,2,1,2,3,2,4,1,1,1,1,2,2,1,1,1,2,1,1,1,1,1,2,2,1,1,1,2,1,3,2,2,4,2,2,2,5,2,5,1,1,1,1,1,1,1,1,1,2,4,2,2,1,1,1,1,1,1,2,2,1,2,1,2,1,1,2,1,2,1,2,1,1,1,1,2,1,2,1,1,1,1,1,1,1,2,1,1,3,1,1,1,1,1,3,1,2,2,1,1,1,1,1,2,2,1,1,1,1,2,1,2,1,1,1,2,2,1,2,1,2,4,1,1,3,1,2,3,2,1,2,2,5,3,1,2,2,1,1,2,2,2,3,1,2,2,1,3,3,2,2,1,2,1,3,1,1,1,4,2,1,3,3,2,3,3,1,1,1,1,1,2,1,1,1,1,1,1,1,1,1,1,1,1,2,1,2,1,1,3,1,1,1,1,1,1,1,1,1,4,3,1,1,1,2,1,1,2,3,1,1,2,2,2,1,1,1,2,6,2,3,1,1,1,1,1,1,4,2,3,1,3,2,1,2,3,1,1,1,1,2,8,3,2,3,1,1,1,2,1,1,1,1,2,2,2,3,1,1,1,1,3,2,1,1,1,3,1,4,3,1,1,1,1,1,1,1,1,1,1,1,2,1,1,1,1,2,2,3,5,1,1,1,1,1,1,1,1,2,2,3,3,3,1,1,1,1,2,2,2,4,2,4,2,5,1,1,1,2,2,2,1,2,1,1,1,3,1,1,1,1,5,2,2,1,1,1,1,1,1,1,1,1,2,3,1,1,2,1,1,1,1,1,2,2,1,1,1,3,1,1,1,1,2,1,2,3,1,3,1,1,1,2,2,2,1,1,2,2,3,1,2,5,1,3,2,3,1,1,1,1,2,1,1,2,1,1,1,2,2,1,1,2,2,1,2,1,1,1,1,2,1,2,3,1,1,2,2,1,1,1,1,2,2,2,5,1,3,3,1,1,1,1,4,3,2,1,2,3,1,1,1,1,4,1,2,1,2,2,1,1,1,1,1,1,1,1,2,1,1,3,2,2,1,1,1,1,3,1,2,1,1,1,1,2,3,2,1,3,2,2,1,2,1,2,1,1,2,1,1,1,1,2,1,3,2,2,1,1,2,3,1,1,1,1,1,1,4,1,2,1,1,5,2,2,1,1,1,1,1,1,2,1,2,1,2,2,3,1,2,1,3,1,1,2,3,2,1,1,1,3,3,1,1,1,1,1,1,1,1,1,7,2,2,2,4,1,1,2,1,1,1,1,1,2,1,1,2,2,1,1,1,1,1,5,1,1,1,2,5,2,1,1,2,2,1,4,1,1,1,2,1,1,1,1,1,2,5,1,1,1,1,2,1,1,1,1,1,1,2,2,2,3,5,3,2,10,5,2,3,2,3,7,1,1,2,2,1,1,2,3,5,1,2,1,1,1,1,4,3,1,3,1,2,3,1,1,2,2,2,2,3,4,1,7,3,1,1,2,2,2,2,1,3,3,1,2,3,1,2,1,3,2,1,1,1,1,3,3,2,2,1,1,1,1,2,1,1,2,2,2,2,2,2,1,1,3,3,2,3,7,1,1,1,1,1,2,2,2,3,2,2,3,2,1,1,1,1,1,1,1,1,1,4,1,1,1,1,1,1,4,1,3,1,1,3,1,4,4,2,2,1,1,1,1,2,1,1,2,3,1,1,11,1,5,2,1,1,1,2,2,1,1,2,1,1,1,1,3,2,1,2,1,3,2,3,1,6,2,1,1,1,1,1,1,1,2,2,2,2,2,3,1,1,6,2,1,1,1,1,1,2,4,2,2,2,2,2,1,1,2,3,2,2,2,2,1,1,1,1,8,3,1,1,2,1,2,1,1,1,2,1,1,1,2,2,1,1,2,2,3,1,5,1,2,4,3,4,2,6,1,1,1,3,1,4,1,1,1,3,4,3,1,1,1,2,1,1,1,1,2,4,1,3,1,1,1,1,1,1,1,1,1,2,1,1,2,1,1,2,1,1,1,2,2,3,1,1,1,1,2,3,1,3,1,1,3,1,1,1,1,1,2,4,2,3,1,1,2,1,2,2,1,1,2,3,1,1,1,4,1,1,1,1,2,2,1,4,1,1,2,2,1,1,1,1,1,3,1,2,2,2,1,3,2,1,2,1,1,1,3,3,1,1,2,7,1,1,1,1,3,1,1,1,1,2,2,4,2,3,2,1,1,1,1,1,2,1,1,1,1,3,1,1,2,3,2,1,1,2,1,1,1,1,1,1,2,3,2,1,4,1,1,3,4,1,1,1,7,1,1,1,2,3,2,1,4,1,3,1,1,1,1,1,1,2,5,1,1,8,1,1,2,1,1,1,2,2,4,3,2,1,5,6,1,1,1,3,1,3,1,2,2,1,6,4,1,1,1,1,9,2,2,2,1,1,2,1,1,1,2,1,2,1,3,2,1,2,1,1,2,2,1,1,2,3,3,1,1,1,1,3,1,1,1,1,1,1,1,1,2,1,2,1,1,1,1,1,4,4,1,1,2,3,2,3,2,4,6,1,2,3,1,1,3,1,1,1,1,1,2,1,1,1,1,1,1,3,3,2,3,8,1,4,2,1,5,4,1,1,2,1,1,1,3,2,2,1,1,2,2,3,3,4,1,1,1,2,1,2,4,1,1,1,4,1,1,3,3,1,2,2,2,1,3,1,1,2,2,3,3,1,5,1,1,1,1,2,3,5,1,1,1,2,1,2,1,1,1,1,1,1,2,2,2,1,5,1,1,1,1,1,4,1,2,1,1,2,2,2,2,1,5,1,3,6,3,1,1,1,2,2,1,2,1,1,1,2,1,3,4,1,1,6,1,1,2,2,3,4,3,1,1,1,1,2,6,1,1,1,1,1,2,1,2,1,2,2,5,2,1,3,3,2,1,2,2,1,1,3,1,1,3,1,2,2,2,1,1,1,2,1,1,2,2,3,3,1,4,7,1,1,1,3,3,1,1,1,1,2,1,1,1,1,1,3,2,1,1,2,2,1,1,1,2,2,3,5,1,1,1,2,2,2,2,1,1,1,1,3,2,3,1,2,2,11,7,4,2,2,2,2,1,1,2,1,1,2,4,1,2,2,3,3,2,4,4,1,1,2,1,2,2,4,2,1,1,2,2,2,5,2,2,1,3,5,3,2,3,3,4,1,1,2,1,1,1,1,3,2,5,1,2,3,3,1,2,2,1,1,1,2,1,4,2,2,4,2,1,1,1,2,1,1,1,1,1,2,1,1,1,1,1,3,3,2,1,2,1,2,1,1,1,2,2,3,2,1,1,1,2,2,1,3,4,1,1,1,1,1,1,1,1,1,1,2,1,1,1,1,1,2,1,1,2,1,2,2,1,1,1,1,3,1,1,3,2,3,1,1,1,4,1,6,3,3,3,3,3,3,11,1,5,2,3,1,2,1,1,1,1,1,1,1,2,1,2,2,1,3,1,2,1,1,1,2,3,1,2,1,3,1,1,1,1,1,1,3,3,1,1,2,1,1,2,3,3,2,1,1,1,1,4,1,1,1,1,3,2,1,5,2,1,2,3,9,3,2,1,1,1,1,1,3,1,1,1,2,3,3,2,1,2,3,1,3,1,1,5,2,2,4,3,1,1,2,1,1,1,2,1,1,1,2,1,1,2,1,1,2,1,2,1,2,2,1,1,6,2,1,2,1,3,1,1,1,1,1,1,1,2,1,2,1,1,2,2,2,1,1,1,3,1,4,1,3,1,1,1,1,1,1,1,2,3,1,1,1,1,1,3,1,1,7,4,1,3,1,1,1,1,1,2,2,2,3,4,1,2,1,1,1,1,1,5,2,1,1,4,3,1,1,1,1,1,2,2,1,3,1,2,1,1,1,3,1,1,1,1,1,1,1,1,1,1,1,4,1,1,1,1,2,3,5,5,6,4,1,1,3,3,17,1,3,1,1,1,1,4,5,1,1,3,6,1,1,3,1,1,1,1,3,1,1,1,1,1,5,1,2,2,1,2,5,3,2,3,2,1,1,1,1,1,1,1,6,3,1,2,3,4,1,1,1,5,4,1,1,1,1,2,2,4,1,1,2,17,3,1,2,3,1,2,1,1,1,2,3,2,1,1,1,2,1,3,1,3,3,1,1,1,1,3,5,2,1,3,1,4,2,2,3,2,2,4,1,4,2,3,1,1,1,1,2,2,1,4,2,1,8,1,1,2,1,6,1,1,5,1,3,2,6,2,2,1,1,2,1,1,2,2,1,2,1,1,1,1,2,1,2,4,1,3,2,4,2,1,2,1,4,1,1,5,2,1,1,1,1,4,1,1,2,1,4,1,2,2,2,2,1,1,1,2,14,2,2,1,2,1,1,5,1,5,2,1,2,1,5,2,3,3,6,1,1,1,1,1,3,2,1,1,1,1,13,1,1,4,1,2,1,4,8,3,1,1,2,2,3,10,1,8,6,1,2,2,2,3,15,3,3,1,2,1,2,2,1,1,1,3,1,3,1,1,1,1,1,1,2,1,3,2,1,1,2,1,2,3,1,2,3,5,1,1,2,1,4,1,1,2,3,1,1,2,1,1,2,1,2,2,3,2,1,2,1,2,2,2,5,2,3,4,1,1,4,1,1,2,1,3,2,1,1,2,2,2,2,2,3,3,1,2,2,1,5,3,1,2,1,2,2,1,2,2,1,1,4,2,7,3,6,3,1,2,7,1,11,2,2,2,2,3,1,1,2,2,3,1,1,1,1,2,2,1,1,4,2,2,1,2,2,3,1,2,1,4,12,1,1,6,4,3,1,1,1,1,2,4,1,1,2,2,2,4,1,1,4,2,3,1,1,2,2,1,1,1,2,1,2,1,1,1,1,1,2,2,1,9,1,8,1,3,2,6,2,4,1,1,1,6,1,1,1,1,1,1,1,1,2,1,1,2,3,3,1,3,2,1,1,2,2,7,4,2,1,2,1,1,2,1,1,6,1,20,1,4,3,1,1,1,2,1,1,2,2,16,3,4,6,2,2,2,1,2,2,1,1,1,3,1,1,1,4,2,2,3,3,1,2,1,2,3,1,2,4,1,3,3,1,1,1,1,2,3,1,1,1,2,4,1,1,1,1,3,2,2,3,6,2,2,3,1,1,1,3,2,6,2,1,2,4,3,2,1,1,1,1,1,2,1,3,1,4,1,2,2,1,6,1,1,4,1,1,2,1,1,1,1,3,2,1,1,3,2,2,1,2,2,2,1,1,1,2,8,3,1,2,1,1,2,1,5,1,1,2,2,1,1,4,3,3,3,1,2,1,2,2,2,3,1,1,6,1,1,9,1,1,9,1,1,1,1,1,1,9,1,2,1,2,1,1,5,1,1,1,2,1,6,2,1,16,3,1,2,2,1,2,1,4,1,6,11,1,1,1,10,2,3,1,1,1,2,1,2,1,1,2,2,1,1,4,3,1,4,2,2,1,1,1,2,1,1,1,1,2,6,2,1,1,4,1,1,1,1,2,1,1,1,1,3,3,10,2,4,3,1,2,3,1,1,2,1,2,2,1,10,1,1,1,4,1,1,1,3,1,1,7,2,2,1,2,2,1,1,1,1,1,4,3,1,3,3,1,1,2,1,2,1,2,1,2,3,1,2,9,3,3,1,2,5,1,1,2,1,2,1,3,1,3,1,1,4,1,1,1,1,3,2,1,1,1,3,1,1,1,1,2,2,32,2,2,6,2,1,4,2,1,7,2,3,5,2,1,2,1,2,1,5,2,2,1,3,2,1,1,1,1,2,1,1,2,2,2,2,4,5,2,1,3,1,1,2,1,3,2,11,3,3,1,1,2,1,1,2,1,4,2,1,1,7,2,1,1,2,2,1,3,1,3,1,1,2,3,1,2,2,1,1,1,1,2,3,3,4,1,2,1,3,1,2,3,4,3,2,1,1,3,2,2,4,9,1,1,2,2,2,1,2,5,1,2,1,2,3,1,2,1,2,1,1,4,1,1,1,1,1,2,1,2,1,2,3,1,1,2,2,2,1,1,1,2,1,1,3,1,1,1,2,1,2,2,3,7,2,1,3,1,3,1,3,1,2,2,2,1,1,2,2,1,1,11,3,4,1,2,1,2,3,2,2,1,7,3,2,1,1,2,2,2,4,1,4,2,1,1,9,2,2,4,1,2,7,1,2,1,4,4,1,2,4,1,2,1,2,1,1,1,1,1,3,2,1,1,3,1,1,1,1,2,1,1,2,2,3,4,1,2,3,2,1,4,2,2,1,1,1,1,3,2,5,1,1,1,1,1,6,2,2,3,1,1,1,2,1,4,1,1,1,2,1,1,2,5,1,1,2,4,2,2,2,1,2,3,1,2,1,1,2,1,1,1,2,1,2,2,5,2,1,1,2,5,2,2,3,2,1,4,1,2,4,2,2,1,1,1,2,2,1,6,3,1,2,1,1,1,1,1,2,1,2,1,3,1,1,2,3,2,1,2,7,1,1,2,1,5,3,1,1,4,5,3,3,3,3,1,1,2,1,1,1,1,3,1,1,1,4,2,2,1,1,1,1,2,2,1,1,1,2,1,1,3,1,5,2,1,1,2,1,1,4,7,2,5,2,1,1,4,19,3,11,2,4,3,2,1,2,4,1,1,2,4,3,3,4,2,2,1,3,4,2,3,3,1,1,6,3,2,2,7,1,6,1,6,8,2,1,2,4,2,2,1,1,8,2,3,1,1,7,1,3,7,2,1,3,1,1,1,1,2,1,1,2,1,2,1,1,3,1,2,1,2,2,1,1,1,2,13,1,2,2,3,2,1,2,1,3,1,6,1,1,1,9,1,2,2,5,1,2,4,2,1,1,1,1,2,1,2,3,3,1,4,4,2,4,2,2,1,3,1,5,3,7,1,1,2,4,1,3,7,2,1,2,1,8,2,3,1,1,2,4,4,1,2,1,1,1,2,6,1,1,3,1,1,10,1,2,1,1,2,3,1,2,1,2,10,1,5,10,1,1,1,3,2,1,1,1,2,1,6,6,5,2,1,1,7,2,2,3,1,3,1,2,6,2,2,1,1,2,2,2,2,2,2,2,3,3,1,1,1,2,1,1,1,1,1,5,2,1,1,1,2,4,6,1,2,2,2,2,5,3,1,2,1,1,1,1,2,1,3,1,2,5,4,4,4,2,7,1,3,1,2,1,3,1,1,2,2,2,1,3,1,1,4,2,1,5,5,2,2,2,2,6,3,5,2,1,2,2,1,4,1,1,1,2,1,2,2,1,2,2,3,1,1,3,1,1,3,1,1,1,5,4,2,4,1,7,2,2,2,2,1,2,2,2,4,1,2,5,1,1,4,5,9,3,4,2,1,13,2,4,2,1,8,5,1,2,2,1,1,1,4,25,1,2,1,2,2,1,3,1,1,6,1,2,2,3,17,3,1,2,2,8,1,8,3,3,4,1,1,2,3,1,3,7,2,1,4,2,3,1,1,10,1,1,2,4,2,9,2,1,1,5,1,7,1,3,1,1,2,2,7,1,2,1,4,4,4,5,2,2,1,3,6,1,2,2,3,1,2,1,2,1,4,1,5,2,2,1,1,1,2,1,2,3,4,2,2,2,1,1,2,1,1,3,7,1,1,1,3,2,1,1,6,10,4,11,2,1,1,1,1,2,3,1,1,1,1,2,1,2,1,3,1,1,4,2,1,4,1,15,2,1,2,1,4,7,2,2,1,1,2,16,1,1,1,1,1,1,1,1,1,3,3,1,1,4,1,7,1,1,2,2,2,4,3,1,3,1,1,3,10,2,5,4,1,1,2,1,1,3,1,8,2,2,4,1,4,5,1,1,2,2,2,4,1,1,1,5,2,8,3,6,2,1,3,1,1,3,2,1,2,3,1,2,2,1,1,2,1,3,4,3,1,1,3,3,2,1,1,3,3,2,2,1,3,1,4,2,3,1,6,1,2,6,2,1,1,3,1,2,2,1,1,1,1,5,2,4,1,1,3,1,2,5,1,4,6,3,4,3,3,2,2,1,1,1,2,1,1,5,4,1,4,8,2,1,4,2,3,4,3,4,1,3,3,3,10,3,1,2,2,1,3,1,1,1,1,1,1,1,2,1,2,3,10,7,1,4,2,4,6,3,1,3,2,1,3,2,1,2,2,5,2,2,2,1,2,2,4,2,1,4,3,3,1,1,3,1,2,2,1,4,1,2,3,1,2,1,1,4,1,1,1,2,1,5,2,4,2,1,4,2,7,1,1,8,1,3,1,2,5,2,1,1,1,5,1,2,24,2,2,1,2,1,1,3,2,1,2,3,5,1,5,2,14,5,1,2,2,3,1,2,4,2,4,1,3,2,2,5,3,1,1,3,2,1,2,1,2,2,2,1,1,2,1,4,2,2,1,3,1,2,2,2,2,1,10,1,1,2,2,1,2,1,2,1,13,3,2,2,2,1,3,6,2,5,1,4,2,2,4,4,2,1,1,3,1,1,1,1,1,1,1,2,2,1,3,4,1,1,1,2,1,2,1,2,1,5,3,7,2,1,1,2,2,3,2,1,2,1,5,1,1,5,1,1,2,2,3,12,14,2,1,6,2,3,1,2,3,3,1,6,8,1,1,2,2,1,4,3,8,1,1,3,2,1,3,3,2,4,1,2,1,2,1,9,1,2,4,1,10,2,1,1,1,1,4,5,1,3,3,3,3,2,6,1,3,1,12,3,7,1,1,1,1,1,1,2,1,1,1,1,1,1,1,2,1,6,2,6,1,12,2,11,1,1,2,1,2,1,1,2,2,4,3,2,1,1,1,2,1,7,1,3,2,1,2,1,1,2,1,1,1,1,3,2,2,1,8,4,1,3,4,1,8,1,1,7,4,2,4,2,1,1,3,3,5,8,2,1,1,3,2,1,4,3,1,8,7,3,2,1,1,2,1,3,1,2,1,4,5,1,1,1,3,1,1,3,2,5,2,1,1,4,1,3,1,1,7,1,2,3,2,2,1,2,2,2,2,4,1,1,1,7,2,2,3,1,1,1,2,3,2,1,6,1,2,3,3,1,3,3,2,2,2,5,2,2,4,1,4,2,3,1,1,2,6,1,2,2,3,2,1,3,3,1,1,2,1,4,1,3,2,4,1,1,2,2,1,3,1,22,2,2,2,2,6,3,2,4,3,3,4,2,2,5,2,2,1,1,1,1,2,2,2,1,3,2,2,5,1,2,2,2,1,2,1,1,1,3,2,3,1,4,2,1,2,4,2,2,2,2,1,1,1,3,4,2,3,3,1,3,3,1,3,4,3,1,2,2,1,1,7,1,1,2,4,2,8,1,3,1,8,2,3,1,1,1,1,3,2,1,2,1,5,2,4,3,11,2,2,3,4,2,2,1,1,2,1,1,2,1,2,2,2,2,1,2,1,1,5,3,2,2,2,7,4,4,6,2,1,1,2,2,2,4,2,2,3,1,1,2,13,5,3,3,1,1,1,4,2,2,4,2,5,1,3,3,2,1,1,2,4,2,3,1,2,5,10,1,1,2,1,3,1,2,7,1,2,2,1,6,1,2,6,2,2,12,2,2,2,2,1,1,1,5,2,1,4,9,3,1,1,1,1,1,5,1,1,3,24,2,1,2,2,2,3,1,2,2,1,3,1,1,1,3,1,1,8,1,5,6,3,5,3,2,3,1,8,1,1,1,3,2,2,3,1,1,1,2,3,1,5,3,6,4,1,1,3,7,1,1,5,1,1,2,2,1,2,1,1,4,2,1,1,1,2,1,2,1,4,1,1,2,1,1,2,1,7,7,1,2,5,4,1,5,1,1,1,2,1,3,2,1,4,5,3,2,1,1,1,2,4,2,3,1,2,1,5,1,13,4,3,9,6,3,1,1,1,2,1,8,4,14,3,1,3,2,5,1,7,2,2,6,2,1,1,1,3,2,1,5,1,1,1,4,2,2,11,2,4,2,2,1,19,1,2,3,1,15,12,2,1,1,1,1,1,1,3,1,2,2,3,3,1,1,19,1,2,2,3,2,2,2,4,1,5,8,1,5,9,3,2,1,1,1,4,1,1,13,1,3,2,2,3,2,1,1,2,2,4,1,2,3,6,2,2,7,6,1,2,1,4,8,1,1,2,2,1,1,1,3,5,1,2,5,1,4,3,1,2,4,2,4,2,2,3,2,2,1,1,1,1,1,1,1,2,1,1,2,21,2,1,4,2,1,2,5,9,1,1,2,2,1,1,2,4,2,1,2,1,1,3,43,2,1,1,10,1,11,1,2,2,1,1,19,5,2,2,1,7,3,2,2,1,1,1,1,13,9,1,1,1,1,1,4,2,2,2,1,9,1,1,2,1,2,3,3,1,1,1,8,3,1,3,2,2,2,2,1,2,8,1,5,2,4,7,1,7,2,1,2,1,2,1,2,2,1,1,1,2,1,6,1,1,4,1,6,2,1,6,12,3,1,3,1,1,2,6,2,25,1,7,1,2,2,4,1,4,6,2,1,2,2,2,2,1,1,3,1,1,4,1,2,4,4,2,2,1,1,2,1,1,1,1,2,1,1,1,1,4,6,8,1,1,2,2,12,1,1,1,2,2,1,1,1,1,1,1,1,1,11,18,2,3,1,2,1,4,2,1,2,3,1,2,2,1,5,2,2,2,2,4,3,1,4,5,5,1,1,5,3,9,3,2,5,1,1,1,1,6,1,1,3,1,7,4,1,2,2,2,7,1,4,7,41,2,2,2,1,1,2,1,3,3,1,3,1,1,4,3,2,2,1,3,5,1,1,9,8,2,1,1,1,1,2,1,4,2,1,2,2,1,2,2,3,1,1,5,2,2,3,3,2,2,1,1,6,3,3,5,3,2,2,1,1,3,2,4,3,3,4,2,2,3,2,13,2,6,1,12,1,4,5,1,3,1,9,1,1,1,3,1,2,1,3,2,1,1,2,1,11,1,32,6,4,43,1,1,1,5,4,3,1,1,1,2,2,2,2,2,1,4,6,2,2,2,1,5,2,1,1,1,1,1,9,1,1,3,1,3,1,1,1,3,4,3,5,5,5,3,2,2,1,8,2,2,1,1,8,1,1,3,1,2,1,9,2,4,1,1,9,2,22,1,1,1,6,3,16,3,1,10,4,1,2,17,1,1,1,1,2,1,2,1,2,2,2,1,2,7,1,4,1,2,1,2,4,6,4,3,3,1,3,2,2,3,1,2,1,1,2,1,1,5,1,1,2,1,2,1,2,2,4,7,1,3,2,1,2,1,4,11,3,5,4,2,8,1,8,4,2,4,1,10,1,4,2,1,2,3,1,1,1,1,2,3,6,2,2,3,3,2,2,1,4,1,1,1,2,4,1,1,1,4,3,1,2,3,9,2,1,1,10,2,3,4,13,3,2,2,2,2,10,2,2,2,10,3,2,2,1,2,1,2,3,1,4,4,1,2,1,1,3,1,3,1,2,1,2,1,1,6,5,2,1,5,2,1,1,1,8,4,6,7,4,4,1,2,10,1,1,2,1,4,1,1,1,3,1,1,1,4,2,2,4,1,3,6,2,3,3,6,2,2,4,1,2,2,2,6,2,2,15,1,3,1,1,4,2,2,2,1,2,2,3,4,4,2,8,1,1,1,1,1,1,3,1,1,1,1,3,1,4,4,4,1,3,2,2,1,2,1,1,4,2,2,1,11,2,1,4,2,1,4,3,3,4,2,13,4,1,1,1,3,3,2,1,2,3,1,3,2,20,3,1,9,3,2,4,1,16,2,3,1,1,3,13,2,1,2,4,1,1,1,16,2,3,2,2,3,1,2,2,2,1,1,2,5,5,1,3,2,1,3,1,1,3,2,5,2,63,2,1,2,2,1,3,9,2,17,3,1,2,2,10,2,2,3,1,5,5,1,1,2,2,2,2,2,5,4,12,3,1,2,2,1,1,3,2,1,1,1,1,2,1,12,9,3,2,2,2,1,5,2,6,1,5,2,1,3,4,4,2,2,5,1,1,1,1,2,2,3,5,3,1,3,3,3,1,2,2,2,1,3,5,2,1,12,1,3,1,8,6,1,1,2,1,2,2,6,2,1,1,1,1,6,3,1,3,7,1,1,1,2,1,27,5,4,3,3,5,1,1,2,1,1,5,2,30,1,1,2,1,1,1,14,8,8,1,1,3,2,2,2,2,4,1,3,3,1,1,2,6,6,10,1,7,1,3,1,5,5,4,2,4,2,1,2,1,9,1,2,2,1,1,2,2,2,1,2,3,2,1,4,1,2,2,1,6,6,4,8,7,1,5,4,1,2,1,4,1,1,6,1,2,1,1,4,1,1,1,1,5,2,1,9,5,6,1,1,6,4,8,2,2,3,2,2,2,2,1,2,5,2,1,4,1,1,2,2,1,3,8,2,3,2,2,2,3,13,1,1,1,12,1,3,1,15,2,2,3,2,1,1,1,1,2,1,5,3,2,3,6,18,2,1,4,13,2,2,1,1,4,4,6,1,1,1,2,5,15,1,6,4,5,4,2,3,2,2,4,1,2,1,1,1,1,2,3,4,2,1,2,2,2,1,1,2,4,1,1,1,2,1,9,2,2,1,2,1,1,1,1,1,1,1,2,4,1,10,1,2,2,2,4,1,2,9,1,3,1,2,4,1,12,2,6,4,4,1,1,1,20,1,3,9,3,1,3,3,1,2,3,4,2,2,2,13,1,1,3,2,1,3,1,3,6,2,1,1,4,1,2,1,1,3,1,1,4,1,2,1,2,1,2,3,3,2,3,1,10,1,1,1,2,9,2,5,2,6,2,1,6,2,1,3,2,1,2,1,5,4,1,2,2,5,2,2,2,2,2,3,3,2,5,1,1,5,2,2,4,3,1,4,2,3,3,1,1,1,2,1,2,1,1,8,4,1,1,1,3,1,1,1,1,1,4,3,4,2,3,3,10,1,1,1,2,2,2,2,1,1,4,4,2,1,17,4,2,1,3,1,8,3,3,4,1,1,1,2,2,2,3,1,1,1,1,2,1,6,2,8,2,11,3,2,6,2,1,3,2,4,1,4,1,3,1,1,1,1,1,5,1,1,1,13,1,2,2,2,2,2,6,1,1,7,2,1,1,6,1,2,1,2,2,2,11,15,1,2,2,2,2,3,2,1,2,1,1,3,5,1,1,1,1,2,4,4,1,1,2,5,1,1,3,3,7,1,3,14,1,18,1,1,1,3,1,1,2,4,8,1,3,1,3,2,2,3,2,6,4,1,1,1,1,1,3,3,4,1,6,14,1,1,1,2,2,3,3,1,1,1,2,1,3,5,1,5,3,2,8,2,2,1,4,1,3,1,6,5,1,2,3,2,1,2,1,2,5,5,5,8,7,2,2,8,1,1,2,1,1,5,1,1,2,1,2,1,2,1,1,7,4,2,1,2,2,1,2,11,1,1,2,1,2,1,16,1,4,1,1,10,1,10,4,2,5,2,4,3,1,2,6,3,3,3,1,2,1,7,1,1,20,4,2,2,1,5,3,2,3,1,1,2,2,2,2,4,2,3,2,1,6,8,7,1,2,2,8,2,1,2,1,2,3,5,7,5,2,1,2,1,2,21,2,2,1,3,8,6,1,1,6,1,1,6,2,1,21,6,1,2,1,26,3,1,2,1,1,5,1,1,2,2,1,2,2,3,2,7,1,1,5,4,1,1,24,1,1,1,1,5,4,5,4,2,4,2,24,6,6,2,2,4,2,2,4,13,4,2,2,5,5,1,3,1,1,1,2,2,4,2,1,4,1,3,3,4,3,6,3,1,2,1,1,3,2,2,1,4,1,1,3,3,1,2,1,1,4,2,2,3,4,1,1,2,2,4,1,3,2,1,1,1,4,1,2,1,12,2,2,2,1,4,1,2,25,5,1,1,3,4,5,5,2,3,4,2,4,1,2,3,10,2,5,4,1,1,3,4,3,2,3,1,2,1,3,4,3,1,3,1,2,2,2,2,4,3,4,2,8,2,5,2,1,1,1,2,1,2,7,2,2,3,4,3,8,4,4,29,1,12,1,1,2,4,2,1,10,9,1,2,1,23,3,1,6,1,3,2,1,1,4,2,8,2,2,1,1,4,1,2,3,1,2,2,3,8,18,3,2,12,2,1,3,2,2,4,1,3,1,2,1,2,3,1,1,2,5,2,2,1,3,5,2,4,3,2,1,4,2,3,2,4,1,5,10,1,3,2,1,1,3,2,1,5,2,1,2,6,2,2,4,1,2,1,1,1,1,2,2,3,1,2,1,1,1,1,3,2,3,2,5,2,2,1,1,3,1,4,4,4,1,4,2,8,2,1,2,3,8,2,2,1,4,10,1,2,2,1,1,5,2,1,1,1,1,2,8,1,2,2,2,3,2,8,2,1,2,4,6,1,2,2,4,2,1,1,1,2,1,1,1,1,8,1,1,1,2,1,1,1,1,2,1,1,1,2,1,2,4,2,2,2,2,1,1,1,2,8,1,19,2,1,1,1,3,1,1,1,3,1,4,7,1,3,3,4,2,6,1,3,1,1,1,2,1,2,2,2,7,2,1,4,1,2,1,2,9,1,1,1,2,2,3,2,3,2,2,2,1,1,3,4,6,2,2,1,3,4,1,1,1,1,4,1,1,3,5,2,2,3,2,1,1,2,1,3,1,1,6,2,2,1,10,1,3,3,2,1,1,1,5,11,1,3,3,1,2,1,2,4,1,1,2,3,2,1,1,1,1,3,2,1,6,1,1,2,1,1,2,4,1,3,9,2,4,2,1,4,1,1,1,3,1,6,5,4,2,4,1,5,2,1,2,1,1,4,1,1,1,2,3,2,4,2,6,4,2,1,1,9,2,1,1,9,5,2,9,2,3,1,2,2,2,2,2,2,2,2,1,3,1,8,2,4,2,1,1,1,1,1,2,6,2,1,3,3,4,2,9,4,6,1,2,7,2,1,2,2,3,1,4,2,5,1,1,1,4,2,1,1,2,1,1,1,2,7,1,2,17,3,2,2,6,2,4,3,1,1,3,2,2,2,2,2,1,2,2,1,3,8,2,1,2,1,5,1,4,1,2,1,5,1,1,3,1,1,1,2,5,1,1,1,6,2,1,1,1,3,4,2,1,5,1,2,1,1,1,9,3,1,2,1,6,4,1,1,4,10,1,1,1,9,3,1,1,2,1,4,3,12,3,1,1,3,1,4,3,1,1,2,2,2,2,1,18,1,2,7,14,3,4,3,4,8,18,2,1,2,2,1,1,1,7,1,1,2,4,5,2,1,3,2,2,7,13,2,2,1,2,2,1,5,1,17,1,2,2,1,3,8,1,2,1,2,4,1,3,1,2,1,4,2,1,2,3,2,2,1,1,1,2,1,3,1,1,6,3,2,2,2,3,1,2,1,1,1,6,9,6,2,1,6,1,13,15,4,3,4,2,2,3,12,2,2,2,1,2,5,6,1,3,8,1,1,28,2,1,1,10,1,1,3,7,2,3,1,2,1,26,4,1,5,4,1,2,2,2,2,23,2,1,2,26,1,6,2,3,1,3,1,2,2,3,5,2,3,2,4,2,2,3,2,2,1,1,4,2,1,2,3,2,5,1,1,1,5,2,2,1,1,2,1,2,1,4,1,2,3,3,8,3,1,2,2,2,1,1,1,2,2,1,2,3,1,1,3,1,2,2,1,1,2,1,1,5,4,2,1,1,1,1,2,2,1,2,2,1,2,1,2,3,2,1,1,2,4,2,4,1,1,5,3,8,2,1,1,1,4,1,1,4,2,1,4,3,3,2,12,2,1,3,23,2,4,1,8,1,1,1,2,1,5,1,1,1,1,4,2,1,4,3,3,2,2,2,1,1,1,2,4,2,4,1,6,1,2,1,12,4,2,1,4,1,5,7,1,1,3,3,1,18,11,1,1,9,3,1,6,3,2,2,1,1,9,2,4,2,1,4,2,8,1,5,2,1,1,1,2,2,2,1,17,5,8,3,2,3,1,5,1,3,1,3,1,1,1,4,1,2,1,1,4,1,2,2,2,2,1,1,4,4,10,5,1,2,1,2,1,2,5,8,1,2,8,1,3,3,4,6,1,2,3,2,1,2,4,1,4,3,4,2,2,1,3,3,2,2,3,2,4,1,1,1,3,4,1,7,2,3,2,1,1,1,5,2,3,1,1,4,2,1,1,1,8,1,5,1,4,2,1,2,3,2,1,1,2,2,1,2,6,2,3,3,2,1,2,1,1,1,1,2,2,2,3,6,11,5,1,3,1,1,2,1,1,2,2,4,3,1,1,3,3,1,3,1,1,3,1,1,2,5,3,2,1,1,1,2,1,1,1,2,1,13,2,6,2,2,12,2,5,11,4,1,21,5,1,1,2,2,2,3,3,1,1,1,5,2,3,3,1,3,1,1,2,6,2,1,1,2,2,3,2,2,1,3,1,3,1,1,1,1,2,11,1,2,2,33,7,1,11,1,2,1,2,1,4,3,2,1,1,1,6,2,2,1,2,2,4,2,3,2,1,8,3,1,2,2,2,1,3,1,1,1,8,4,3,3,1,2,2,3,1,1,3,3,2,2,2,2,18,1,1,2,2,1,3,1,5,1,2,1,1,2,2,1,1,5,2,1,8,1,4,1,10,1,1,9,5,1,13,1,1,1,2,8,2,4,1,2,3,1,2,1,4,3,5,3,2,8,2,3,2,1,1,4,1,2,11,1,1,2,2,3,1,4,2,1,3,2,5,1,4,7,2,3,13,5,1,1,2,4,2,2,4,1,3,1,3,2,1,2,1,5,3,3,1,1,8,2,1,10,1,2,4,4,2,9,5,8,1,4,1,1,1,2,2,1,1,6,6,3,2,2,2,9,5,2,13,3,6,1,1,2,1,1,5,4,3,1,3,1,3,4,2,1,6,3,10,2,1,1,1,1,3,4,2,9,3,1,1,1,1,1,3,6,1,5,1,2,1,1,2,1,1,5,1,3,1,4,1,1,2,6,2,1,3,9,2,3,1,1,1,2,5,3,2,5,1,1,1,2,2,3,2,3,1,3,1,3,1,1,12,3,8,1,2,3,2,1,2,2,3,1,2,1,1,2,1,3,5,1,5,4,6,3,3,1,1,1,1,3,6,1,1,2,2,2,9,2,1,6,3,2,2,3,1,1,2,1,2,3,1,1,5,4,1,2,1,1,1,1,1,2,6,1,1,2,2,1,2,1,1,4,2,3,2,5,1,6,1,1,3,3,2,1,2,2,6,1,3,7,1,2,3,2,2,1,1,3,4,4,2,1,1,1,2,3,2,1,1,4,4,1,1,1,1,3,1,1,2,2,2,3,1,1,6,1,2,1,1,3,1,2,3,2,1,2,1,1,3,1,9,2,2,1,1,2,1,1,22,1,2,1,2,1,2,2,1,8,4,6,1,1,1,1,4,6,2,2,2,2,3,1,2,6,2,2,1,2,2,2,1,2,3,2,2,2,1,4,10,2,2,2,1,1,4,1,1,1,2,5,6,1,2,1,3,3,1,1,4,7,2,2,2,1,7,1,2,4,1,4,2,5,1,1,2,1,1,1,1,3,11,1,1,4,2,3,1,2,2,3,1,3,3,5,1,1,2,3,5,1,6,2,6,3,5,1,3,4,4,1,3,2,1,4,2,1,2,1,1,2,2,1,4,6,2,1,3,1,11,4,1,2,1,1,3,1,1,3,2,1,1,4,2,2,1,1,1,4,1,1,2,1,1,1,2,2,2,1,2,3,5,2,2,2,1,3,1,1,3,2,7,8,2,2,4,2,1,1,1,1,1,2,1,1,3,5,1,1,2,2,2,1,3,2,3,31,2,7,2,1,1,14,6,5,2,1,1,2,2,1,2,2,2,4,2,1,8,14,2,1,1,1,6,2,1,5,3,1,6,1,4,5,3,2,1,2,2,3,2,2,3,1,3,2,6,1,1,4,1,3,2,11,3,3,21,1,2,6,2,1,1,1,1,8,1,5,1,1,5,2,3,1,2,7,21,1,8,2,1,2,1,1,1,1,2,12,1,6,1,1,4,5,1,2,4,6,1,2,3,1,2,1,8,1,1,4,3,4,1,1,4,2,3,1,1,1,1,4,2,1,1,5,2,7,2,3,1,5,4,1,8,2,2,2,3,2,1,2,4,6,1,5,2,1,2,1,1,4,4,1,3,1,9,2,4,4,4,2,1,2,3,3,1,1,3,9,2,1,1,2,3,2,2,4,2,4,1,1,4,1,6,1,1,1,2,22,1,4,1,4,6,2,1,1,1,1,2,1,2,3,3,1,1,2,1,2,1,1,7,1,7,1,1,1,13,13,1,4,1,4,2,2,2,1,1,4,1,1,2,1,1,1,1,2,1,1,7,2,4,1,6,2,15,3,2,7,1,6,7,2,7,1,2,2,1,6,1,2,1,2,2,1,1,4,1,8,1,1,3,3,6,2,1,1,1,7,1,4,14,5,1,2,4,1,1,2,1,1,4,5,1,3,4,2,2,16,1,4,2,2,9,7,3,2,4,1,6,5,1,5,2,2,8,2,6,1,1,1,1,1,1,3,4,2,5,1,1,2,1,2,1,1,1,2,1,2,1,1,4,4,2,1,2,3,1,3,1,2,3,2,2,4,3,1,1,1,1,1,1,1,1,1,5,3,5,1,2,1,1,2,2,2,1,5,1,1,2,2,1,1,1,5,7,1,7,1,2,1,1,1,4,3,1,7,1,3,2,3,1,1,2,3,1,1,2,8,1,2,4,1,2,3,2,1,2,4,7,1,1,2,1,6,1,3,5,1,2,4,1,1,1,2,2,1,2,16,1,6,2,1,3,1,1,1,2,3,2,1,2,2,2,1,1,2,11,2,1,1,1,1,1,2,6,2,2,2,1,7,1,1,1,1,1,21,2,1,3,1,1,3,2,1,1,5,1,1,2,1,1,1,1,1,1,1,1,8,4,2,4,1,2,1,4,1,3,1,1,6,3,4,1,1,2,1,2,2,3,1,2,1,5,1,1,5,2,7,3,1,4,2,12,4,1,8,2,1,6,2,2,2,1,2,2,1,14,1,3,2,1,1,1,4,1,1,2,1,1,2,3,2,2,5,1,3,3,1,3,30,6,3,1,1,2,1,4,5,3,1,1,2,2,5,1,4,1,1,3,2,1,9,1,2,6,2,1,1,3,3,1,7,4,3,1,2,2,3,2,15,9,1,3,2,2,2,3,2,1,1,1,2,2,2,5,3,1,3,8,2,2,6,1,4,1,7,30,1,1,2,1,1,8,1,1,3,2,3,4,6,1,2,2,9,1,1,3,1,1,5,1,1,2,2,30,5,2,3,1,6,1,3,2,2,3,3,1,3,1,1,1,7,3,1,4,1,3,1,1,3,1,4,1,2,2,1,2,20,2,2,1,2,6,5,1,2,1,1,3,2,2,4,1,6,2,2,3,5,2,3,1,2,2,1,1,1,1,1,2,3,5,2,2,1,1,1,7,2,2,4,3,2,2,8,2,1,3,2,6,3,6,2,1,3,1,1,4,3,2,3,4,10,2,1,6,3,5,2,3,1,2,6,2,1,6,1,2,4,12,1,2,6,4,3,2,3,1,5,2,1,8,1,1,3,2,2,1,1,1,2,1,1,1,2,2,1,1,2,1,5,2,2,4,2,1,3,3,2,2,4,2,6,1,4,2,3,2,1,2,5,1,2,1,2,2,1,1,1,2,1,1,2,6,7,17,2,1,2,1,1,2,4,1,2,3,1,3,1,1,2,5,1,4,2,2,1]},{\"axis\":{\"matches\":true},\"label\":\"pdays\",\"values\":[-1,-1,-1,-1,-1,-1,-1,-1,-1,-1,-1,-1,-1,-1,-1,-1,-1,-1,-1,-1,-1,-1,-1,-1,-1,-1,-1,-1,-1,-1,-1,-1,-1,-1,-1,-1,-1,-1,-1,-1,-1,-1,-1,-1,-1,-1,-1,-1,-1,-1,-1,-1,-1,-1,-1,-1,-1,-1,-1,-1,-1,-1,-1,-1,-1,-1,-1,-1,-1,-1,-1,-1,-1,-1,-1,-1,-1,-1,-1,-1,-1,-1,-1,-1,-1,-1,-1,-1,-1,-1,-1,-1,-1,-1,-1,-1,-1,-1,-1,-1,-1,-1,-1,-1,-1,-1,-1,-1,-1,-1,-1,-1,-1,-1,-1,-1,-1,-1,-1,-1,-1,-1,-1,-1,-1,-1,-1,-1,-1,-1,-1,-1,-1,-1,-1,-1,-1,-1,-1,-1,-1,-1,-1,-1,-1,-1,-1,-1,-1,-1,-1,-1,-1,-1,-1,-1,-1,-1,-1,-1,-1,-1,-1,-1,-1,-1,-1,-1,-1,-1,-1,-1,-1,-1,-1,-1,-1,-1,-1,-1,-1,-1,-1,-1,-1,-1,-1,-1,-1,-1,-1,-1,-1,-1,-1,-1,-1,-1,-1,-1,-1,-1,-1,-1,-1,-1,-1,-1,-1,-1,-1,-1,-1,-1,-1,-1,-1,-1,-1,-1,-1,-1,-1,-1,-1,-1,-1,-1,-1,-1,-1,-1,-1,-1,-1,-1,-1,-1,-1,-1,-1,-1,-1,-1,-1,-1,-1,-1,-1,-1,-1,-1,-1,-1,-1,-1,-1,-1,-1,-1,-1,-1,-1,-1,-1,-1,-1,-1,-1,-1,-1,-1,-1,-1,-1,-1,-1,-1,-1,-1,-1,-1,-1,-1,-1,-1,-1,-1,-1,-1,-1,-1,-1,-1,-1,-1,-1,-1,-1,-1,-1,-1,-1,-1,-1,-1,-1,-1,-1,-1,-1,-1,-1,-1,-1,-1,-1,-1,-1,-1,-1,-1,-1,-1,-1,-1,-1,-1,-1,-1,-1,-1,-1,-1,-1,-1,-1,-1,-1,-1,-1,-1,-1,-1,-1,-1,-1,-1,-1,-1,-1,-1,-1,-1,-1,-1,-1,-1,-1,-1,-1,-1,-1,-1,-1,-1,-1,-1,-1,-1,-1,-1,-1,-1,-1,-1,-1,-1,-1,-1,-1,-1,-1,-1,-1,-1,-1,-1,-1,-1,-1,-1,-1,-1,-1,-1,-1,-1,-1,-1,-1,-1,-1,-1,-1,-1,-1,-1,-1,-1,-1,-1,-1,-1,-1,-1,-1,-1,-1,-1,-1,-1,-1,-1,-1,-1,-1,-1,-1,-1,-1,-1,-1,-1,-1,-1,-1,-1,-1,-1,-1,-1,-1,-1,-1,-1,-1,-1,-1,-1,-1,-1,-1,-1,-1,-1,-1,-1,-1,-1,-1,-1,-1,-1,-1,-1,-1,-1,-1,-1,-1,-1,-1,-1,-1,-1,-1,-1,-1,-1,-1,-1,-1,-1,-1,-1,-1,-1,-1,-1,-1,-1,-1,-1,-1,-1,-1,-1,-1,-1,-1,-1,-1,-1,-1,-1,-1,-1,-1,-1,-1,-1,-1,-1,-1,-1,-1,-1,-1,-1,-1,-1,-1,-1,-1,-1,-1,-1,-1,-1,-1,-1,-1,-1,-1,-1,-1,-1,-1,-1,-1,-1,-1,-1,-1,-1,-1,-1,-1,-1,-1,-1,-1,-1,-1,-1,-1,-1,-1,-1,-1,-1,-1,-1,-1,-1,-1,-1,-1,-1,-1,-1,-1,-1,-1,-1,-1,-1,-1,-1,-1,-1,-1,-1,-1,-1,-1,-1,-1,-1,-1,-1,-1,-1,-1,-1,-1,-1,-1,-1,-1,-1,-1,-1,-1,-1,-1,-1,-1,-1,-1,-1,-1,-1,-1,-1,-1,-1,-1,-1,-1,-1,-1,-1,-1,-1,-1,-1,-1,-1,-1,-1,-1,-1,-1,-1,-1,-1,-1,-1,-1,-1,-1,-1,-1,-1,-1,-1,-1,-1,-1,-1,-1,-1,-1,-1,-1,-1,-1,-1,-1,-1,-1,-1,-1,-1,-1,-1,-1,-1,-1,-1,-1,-1,-1,-1,-1,-1,-1,-1,-1,-1,-1,-1,-1,-1,-1,-1,-1,-1,-1,-1,-1,-1,-1,-1,-1,-1,-1,-1,-1,-1,-1,-1,-1,-1,-1,-1,-1,-1,-1,-1,-1,-1,-1,-1,-1,-1,-1,-1,-1,-1,-1,-1,-1,-1,-1,-1,-1,-1,-1,-1,-1,-1,-1,-1,-1,-1,-1,-1,-1,-1,-1,-1,-1,-1,-1,-1,-1,-1,-1,-1,-1,-1,-1,-1,-1,-1,-1,-1,-1,-1,-1,-1,-1,-1,-1,-1,-1,-1,-1,-1,-1,-1,-1,-1,-1,-1,-1,-1,-1,-1,-1,-1,-1,-1,-1,-1,-1,-1,-1,-1,-1,-1,-1,-1,-1,-1,-1,-1,-1,-1,-1,-1,-1,-1,-1,-1,-1,-1,-1,-1,-1,-1,-1,-1,-1,-1,-1,-1,-1,-1,-1,-1,-1,-1,-1,-1,-1,-1,-1,-1,-1,-1,-1,-1,-1,-1,-1,-1,-1,-1,-1,-1,-1,-1,-1,-1,-1,-1,-1,-1,-1,-1,-1,-1,-1,-1,-1,-1,-1,-1,-1,-1,-1,-1,-1,-1,-1,-1,-1,-1,-1,-1,-1,-1,-1,-1,-1,-1,-1,-1,-1,-1,-1,-1,-1,-1,-1,-1,166,91,-1,-1,-1,-1,-1,-1,-1,147,-1,-1,-1,-1,-1,-1,-1,-1,-1,-1,-1,-1,-1,-1,-1,-1,-1,-1,-1,-1,-1,-1,-1,-1,-1,-1,-1,-1,-1,-1,-1,-1,-1,170,-1,-1,-1,-1,-1,-1,-1,-1,-1,-1,-1,-1,-1,-1,-1,-1,-1,150,171,126,-1,-1,-1,-1,-1,-1,-1,182,-1,-1,-1,-1,-1,-1,110,-1,-1,-1,-1,-1,-1,-1,-1,198,-1,-1,-1,-1,182,-1,-1,174,-1,175,-1,-1,-1,-1,-1,-1,27,-1,128,-1,-1,-1,-1,-1,-1,-1,-1,-1,-1,100,177,-1,-1,-1,167,-1,-1,-1,122,-1,-1,-1,-1,-1,-1,-1,183,195,133,-1,-1,-1,-1,-1,-1,-1,-1,178,-1,-1,-1,34,-1,-1,-1,10,-1,-1,-1,163,-1,-1,-1,-1,-1,184,-1,-1,154,-1,-1,-1,-1,-1,99,-1,-1,133,-1,-1,-1,-1,-1,-1,-1,-1,-1,93,-1,-1,-1,-1,-1,-1,-1,-1,-1,-1,-1,-1,-1,-1,-1,-1,-1,-1,-1,-1,-1,-1,-1,-1,-1,-1,-1,-1,-1,-1,-1,-1,-1,-1,-1,-1,2,-1,242,-1,-1,-1,-1,-1,272,-1,-1,-1,-1,-1,-1,-1,-1,-1,-1,-1,-1,76,-1,-1,-1,-1,174,-1,-1,-1,-1,-1,-1,195,160,-1,-1,-1,-1,90,-1,-1,196,-1,-1,-1,-1,-1,-1,-1,-1,246,238,203,-1,-1,-1,-1,-1,-1,-1,-1,-1,-1,-1,-1,-1,-1,-1,-1,-1,167,268,189,-1,-1,267,-1,-1,-1,-1,-1,-1,-1,-1,-1,92,-1,-1,-1,-1,-1,-1,-1,-1,-1,-1,9,-1,-1,-1,88,-1,-1,-1,-1,-1,-1,85,-1,-1,-1,-1,-1,93,-1,-1,-1,-1,-1,-1,-1,210,-1,-1,-1,-1,-1,-1,-1,85,-1,-1,-1,-1,-1,257,-1,-1,-1,-1,-1,-1,-1,-1,-1,-1,-1,-1,-1,-1,-1,-1,-1,-1,-1,-1,-1,-1,-1,-1,-1,-1,-1,-1,-1,-1,-1,-1,-1,-1,-1,-1,100,261,-1,-1,-1,-1,-1,-1,-1,-1,-1,270,-1,-1,-1,-1,-1,-1,-1,-1,-1,-1,-1,-1,-1,-1,-1,-1,-1,-1,-1,-1,-1,196,-1,-1,-1,106,-1,-1,-1,-1,-1,199,-1,-1,-1,112,-1,-1,-1,-1,-1,-1,-1,-1,-1,-1,-1,-1,-1,-1,-1,-1,-1,-1,-1,-1,-1,41,-1,-1,-1,-1,-1,294,-1,-1,-1,-1,-1,-1,-1,-1,-1,-1,-1,-1,-1,-1,-1,-1,-1,-1,231,-1,-1,-1,239,-1,-1,-1,-1,-1,-1,-1,-1,-1,-1,-1,-1,-1,-1,-1,-1,-1,-1,302,-1,-1,270,135,307,222,-1,-1,-1,138,-1,-1,-1,-1,-1,-1,-1,323,-1,-1,141,267,-1,-1,-1,-1,141,-1,-1,-1,320,-1,-1,-1,264,-1,-1,-1,316,316,-1,-1,-1,-1,-1,-1,315,256,-1,-1,-1,-1,-1,-1,-1,-1,146,-1,328,-1,74,-1,-1,-1,148,-1,-1,-1,-1,-1,-1,-1,-1,-1,-1,327,-1,341,-1,-1,-1,-1,-1,-1,-1,-1,-1,145,-1,-1,-1,-1,272,266,-1,147,234,-1,-1,-1,-1,345,-1,-1,-1,-1,-1,-1,-1,328,-1,-1,318,-1,345,-1,-1,325,274,-1,343,-1,-1,-1,260,-1,305,323,-1,344,-1,-1,-1,254,-1,180,-1,-1,-1,-1,-1,-1,-1,-1,-1,340,-1,-1,-1,-1,-1,-1,-1,-1,-1,-1,82,-1,-1,-1,-1,-1,-1,-1,-1,-1,-1,-1,-1,-1,-1,-1,-1,-1,-1,-1,-1,-1,-1,-1,-1,-1,-1,-1,-1,-1,-1,181,-1,-1,-1,-1,-1,-1,-1,-1,-1,183,-1,-1,-1,-1,278,-1,343,-1,-1,-1,-1,-1,-1,153,-1,-1,-1,-1,-1,-1,-1,-1,-1,-1,-1,-1,4,261,-1,-1,-1,-1,-1,-1,349,-1,334,-1,-1,-1,-1,-1,-1,176,87,269,-1,-1,86,-1,-1,-1,169,87,-1,83,-1,85,-1,-1,-1,87,87,-1,79,-1,-1,87,79,85,160,-1,-1,86,-1,-1,6,259,-1,-1,9,-1,13,-1,87,-1,161,350,87,84,-1,-1,80,-1,-1,-1,-1,-1,-1,80,-1,-1,86,-1,13,-1,-1,-1,-1,87,-1,-1,-1,-1,84,86,-1,-1,-1,-1,-1,87,-1,164,-1,-1,-1,-1,-1,-1,-1,-1,22,-1,80,164,-1,-1,84,-1,-1,9,-1,-1,-1,296,85,-1,-1,87,91,-1,-1,-1,83,90,76,175,-1,66,-1,263,-1,-1,334,83,333,-1,17,-1,89,-1,-1,-1,167,-1,-1,263,-1,-1,-1,-1,-1,-1,-1,164,-1,-1,90,-1,-1,78,-1,-1,-1,-1,341,-1,-1,-1,-1,286,337,334,-1,-1,364,-1,343,183,-1,-1,188,166,343,-1,-1,-1,-1,342,-1,363,344,-1,-1,-1,-1,170,-1,342,-1,337,-1,-1,267,-1,352,-1,337,169,295,-1,-1,353,356,-1,288,323,-1,170,344,-1,323,-1,-1,295,-1,-1,367,-1,-1,-1,-1,366,359,347,-1,-1,370,284,-1,-1,-1,-1,-1,171,-1,-1,300,-1,-1,-1,350,306,-1,-1,-1,-1,349,-1,370,-1,286,364,-1,306,300,-1,274,-1,361,-1,-1,328,-1,-1,-1,-1,-1,-1,287,-1,-1,-1,301,-1,-1,-1,-1,-1,-1,-1,-1,-1,-1,355,-1,301,-1,370,-1,-1,-1,371,-1,-1,-1,-1,-1,-1,-1,300,296,-1,-1,-1,292,-1,-1,-1,370,-1,-1,344,371,-1,-1,-1,359,174,360,-1,-1,300,177,-1,358,177,-1,363,175,-1,-1,356,-1,-1,-1,346,-1,-1,-1,346,-1,-1,-1,174,-1,346,-1,366,-1,-1,-1,-1,357,346,-1,368,-1,340,302,-1,-1,364,312,179,-1,-1,88,329,-1,-1,353,-1,-1,-1,298,371,372,-1,-1,347,-1,-1,-1,-1,-1,367,352,-1,-1,176,-1,-1,-1,352,-1,374,-1,359,-1,-1,175,375,-1,-1,312,-1,-1,334,-1,350,-1,266,-1,-1,-1,-1,360,-1,-1,-1,-1,-1,-1,-1,370,-1,347,-1,-1,-1,-1,-1,355,-1,355,-1,-1,291,-1,355,-1,-1,278,368,-1,298,-1,95,-1,109,-1,10,-1,-1,93,183,-1,94,-1,95,98,-1,-1,186,-1,92,101,187,321,-1,-1,-1,-1,40,-1,-1,96,-1,-1,-1,-1,-1,353,21,305,-1,-1,35,10,97,97,-1,-1,285,-1,287,96,-1,-1,-1,-1,-1,98,-1,-1,-1,-1,103,212,-1,-1,-1,97,41,-1,-1,-1,89,-1,-1,90,-1,-1,-1,95,-1,-1,-1,-1,293,-1,-1,-1,-1,-1,-1,-1,90,-1,81,38,-1,-1,-1,-1,-1,-1,28,-1,84,-1,-1,-1,96,-1,-1,-1,-1,-1,67,-1,-1,-1,92,60,120,-1,-1,-1,368,55,-1,113,-1,-1,293,-1,55,-1,71,-1,86,-1,-1,-1,195,-1,-1,-1,-1,-1,-1,-1,119,-1,96,-1,-1,-1,72,-1,119,-1,93,85,20,-1,94,-1,-1,-1,-1,-1,-1,-1,-1,122,-1,80,119,-1,98,-1,-1,391,119,-1,-1,97,-1,126,50,-1,87,-1,86,-1,-1,-1,94,-1,-1,-1,-1,-1,-1,-1,-1,98,-1,-1,-1,-1,-1,91,-1,-1,-1,-1,-1,-1,-1,83,85,-1,-1,-1,357,207,98,-1,-1,-1,-1,89,-1,-1,-1,-1,207,-1,105,90,-1,-1,-1,-1,-1,-1,-1,-1,-1,-1,314,92,211,-1,140,104,-1,109,-1,-1,-1,-1,-1,-1,-1,65,-1,-1,-1,-1,-1,-1,-1,395,342,-1,399,-1,147,49,-1,-1,-1,-1,-1,80,-1,-1,-1,-1,389,-1,-1,-1,-1,-1,-1,-1,-1,-1,386,-1,-1,-1,412,-1,-1,-1,62,229,385,-1,-1,156,-1,-1,-1,-1,-1,-1,-1,-1,-1,163,-1,-1,181,-1,96,-1,-1,-1,-1,-1,96,-1,92,96,-1,63,93,-1,64,-1,-1,-1,97,69,93,97,-1,-1,98,98,-1,-1,-1,-1,-1,-1,-1,394,-1,-1,-1,95,-1,-1,99,99,99,99,99,-1,-1,-1,99,-1,-1,70,185,102,-1,98,103,-1,90,-1,190,-1,-1,-1,99,-1,78,70,-1,461,116,461,-1,104,-1,-1,-1,100,-1,-1,-1,104,422,-1,-1,93,457,104,100,104,104,-1,-1,-1,94,-1,-1,105,430,-1,-1,105,192,105,-1,101,462,-1,-1,-1,101,-1,-1,106,403,-1,102,-1,-1,-1,-1,-1,106,270,191,267,457,459,-1,-1,-1,-1,397,-1,196,199,-1,197,173,84,-1,386,461,-1,84,-1,-1,271,-1,-1,-1,84,197,-1,-1,-1,87,-1,-1,90,183,91,-1,86,-1,80,-1,88,428,-1,109,184,94,88,-1,392,193,-1,-1,95,95,-1,-1,-1,-1,-1,-1,474,92,119,475,-1,-1,477,94,-1,130,-1,164,116,-1,93,98,98,283,101,474,97,157,476,98,-1,-1,98,386,-1,-1,100,94,94,99,93,-1,94,157,-1,93,-1,100,-1,97,98,-1,294,-1,95,94,-1,92,-1,-1,97,-1,96,-1,131,-1,95,-1,-1,-1,79,-1,100,-1,-1,-1,295,-1,132,98,-1,-1,95,-1,-1,100,-1,129,-1,95,95,-1,-1,-1,-1,92,-1,-1,105,99,106,-1,134,103,105,104,105,103,-1,-1,-1,-1,114,88,92,113,141,99,-1,100,-1,-1,-1,-1,98,119,121,-1,119,107,-1,119,115,94,119,-1,-1,-1,-1,58,114,-1,92,175,93,183,184,187,187,-1,-1,-1,-1,-1,-1,182,182,-1,99,-1,-1,-1,246,105,184,-1,183,135,185,183,60,119,-1,183,-1,57,-1,143,-1,-1,-1,-1,-1,187,-1,195,-1,-1,-1,183,187,-1,146,184,189,183,184,184,-1,-1,208,-1,-1,-1,335,-1,128,-1,149,184,107,184,183,-1,107,139,183,184,185,161,-1,-1,74,185,430,183,52,126,-1,180,-1,188,-1,267,75,515,-1,-1,-1,111,148,-1,56,-1,-1,-1,-1,272,194,-1,-1,-1,-1,188,-1,-1,-1,-1,80,269,78,-1,86,520,213,148,-1,-1,-1,-1,-1,-1,-1,270,-1,-1,-1,81,186,-1,-1,351,-1,182,-1,-1,70,183,-1,273,-1,162,192,84,80,-1,94,-1,91,91,-1,88,90,-1,96,92,91,190,190,-1,195,-1,-1,96,96,97,-1,91,91,378,93,93,92,92,279,92,99,-1,97,196,-1,-1,92,97,192,192,92,94,98,94,93,93,92,92,93,-1,92,92,92,95,200,94,-1,94,-1,-1,200,88,95,-1,94,-1,91,91,-1,-1,201,-1,-1,-1,183,97,91,184,-1,-1,188,103,188,-1,-1,190,184,171,97,120,-1,-1,182,-1,-1,-1,185,242,310,105,-1,189,116,-1,-1,385,183,190,-1,-1,-1,-1,-1,275,-1,-1,-1,156,185,190,188,-1,115,126,175,189,-1,-1,189,195,-1,196,-1,127,231,-1,197,182,-1,315,189,186,257,-1,294,-1,188,165,309,203,-1,-1,313,196,210,-1,216,-1,-1,197,176,209,200,-1,-1,91,192,192,343,83,-1,279,-1,-1,-1,92,-1,-1,91,194,-1,-1,-1,-1,-1,196,90,91,282,-1,-1,274,-1,347,-1,-1,-1,272,91,67,91,195,94,301,-1,88,202,96,95,-1,92,92,238,92,92,92,202,436,-1,-1,93,-1,93,-1,-1,91,83,433,98,-1,91,-1,-1,142,102,120,-1,-1,-1,-1,172,-1,-1,281,-1,93,301,82,92,174,48,366,-1,104,92,181,-1,-1,94,276,-1,97,150,184,176,181,181,178,297,176,64,-1,129,280,97,101,187,446,-1,185,92,558,92,183,92,104,182,183,92,182,92,-1,92,-1,92,183,92,156,92,180,190,91,91,188,-1,-1,90,174,92,183,184,183,-1,182,297,90,183,181,183,183,183,-1,184,182,-1,374,93,186,92,-1,182,185,616,187,-1,91,91,186,91,185,95,91,94,-1,-1,189,91,-1,63,-1,561,181,553,-1,555,94,262,192,-1,184,-1,189,-1,-1,189,187,-1,265,176,103,182,384,92,184,187,184,-1,-1,-1,-1,388,461,191,87,-1,186,171,102,192,191,133,89,-1,-1,288,152,203,390,-1,322,180,-1,198,86,-1,133,181,87,281,181,205,-1,-1,179,-1,394,91,-1,179,278,-1,286,-1,89,-1,181,90,181,-1,90,-1,181,326,90,154,182,-1,181,182,-1,478,-1,93,-1,339,182,185,181,195,-1,302,-1,91,181,155,-1,-1,276,-1,184,188,90,-1,187,181,-1,90,188,-1,106,-1,421,-1,178,178,-1,326,-1,90,342,337,92,-1,-1,223,181,181,350,184,94,-1,370,-1,-1,374,-1,626,-1,185,-1,-1,307,426,363,363,98,210,236,-1,-1,206,-1,-1,182,-1,348,595,179,-1,-1,181,-1,181,183,181,-1,378,-1,311,-1,246,181,182,-1,-1,181,-1,183,181,181,648,202,-1,254,-1,-1,182,304,185,-1,-1,521,182,182,185,182,369,186,334,192,143,202,-1,180,179,449,182,-1,-1,126,182,181,182,181,-1,-1,181,191,-1,-1,426,398,190,182,-1,189,183,-1,90,89,95,-1,88,92,182,53,-1,195,90,-1,99,89,-1,-1,55,90,98,-1,66,-1,88,88,53,181,181,182,181,-1,-1,-1,91,181,181,87,182,-1,90,-1,71,84,87,87,275,183,179,182,179,92,178,179,-1,88,258,181,182,-1,-1,89,-1,186,361,357,90,-1,202,-1,91,-1,386,185,89,133,378,353,-1,181,-1,-1,358,-1,328,205,89,-1,90,-1,135,555,183,-1,479,-1,-1,279,-1,-1,-1,-1,-1,292,237,91,140,-1,278,92,182,182,-1,183,181,371,-1,-1,92,64,-1,92,188,-1,116,96,94,384,384,-1,-1,130,-1,425,181,98,-1,92,376,224,285,-1,-1,181,183,296,-1,-1,227,52,-1,134,92,84,225,107,183,-1,385,91,-1,150,389,179,-1,318,94,144,186,94,94,-1,-1,182,186,586,-1,287,91,91,182,84,-1,450,296,-1,93,295,119,-1,-1,-1,-1,88,-1,424,-1,194,-1,386,776,251,460,433,-1,412,181,521,148,371,87,-1,-1,-1,-1,87,239,-1,683,-1,-1,158,529,-1,182,194,-1,91,181,377,412,-1,91,182,166,181,-1,-1,209,180,-1,-1,-1,415,184,181,91,181,182,-1,182,244,407,179,179,-1,-1,183,182,458,276,311,164,-1,-1,532,92,481,-1,-1,-1,412,92,-1,342,178,-1,-1,160,177,179,-1,445,-1,93,535,88,-1,180,784,389,-1,259,180,-1,181,91,182,181,-1,-1,148,181,491,-1,182,440,183,181,184,-1,90,178,184,267,183,182,92,134,430,455,342,277,180,392,272,446,-1,-1,180,470,181,180,-1,181,95,1,1,1,187,-1,92,180,92,182,13,435,1,96,92,182,92,-1,181,91,437,-1,183,-1,174,-1,92,178,-1,94,179,93,364,178,-1,88,-1,-1,182,181,-1,-1,728,181,127,181,181,414,518,181,286,-1,183,308,181,433,180,181,91,182,182,178,828,182,182,31,-1,-1,-1,178,181,91,179,-1,-1,182,-1,182,43,183,761,182,95,185,-1,-1,186,92,-1,-1,183,29,44,579,92,92,-1,183,-1,92,188,458,-1,388,-1,184,183,466,93,185,75,125,-1,504,96,-1,297,185,186,-1,-1,102,427,92,184,184,-1,183,184,91,-1,183,183,92,-1,-1,-1,92,749,365,92,191,254,200,185,93,-1,187,199,199,-1,216,398,91,187,-1,-1,75,246,183,-1,769,184,469,91,587,-1,-1,202,792,91,195,-1,-1,63,81,854,-1,183,-1,184,184,-1,-1,184,184,184,-1,-1,842,-1,603,-1,92,-1,-1,190,444,91,-1,193,280,-1,187,92,-1,232,-1,96,-1,-1,-1,99,-1,-1,-1,-1,134,91,690,140,231,182,266,95,-1,165,-1,427,182,183,92,92,182,182,93,213,92,95,94,185,-1,-1,-1,95,92,137,93,181,149,182,183,91,90,-1,238,181,-1,91,148,92,92,195,94,173,185,284,94,185,120,91,442,541,91,-1,91,92,96,38,186,91,92,96,91,390,57,92,93,374,92,92,-1,550,188,183,-1,187,-1,-1,-1,184,-1,-1,40,-1,-1,184,-1,90,-1,-1,196,199,-1,-1,-1,-1,-1,181,73,188,-1,-1,-1,-1,102,-1,-1,-1,-1,-1,-1,-1,-1,439,-1,414,-1,95,182,-1,-1,-1,184,87,119,-1,91,420,187,-1,-1,-1,-1,168,-1,-1,-1,-1,1,-1,95,-1,-1,-1,181,-1,-1,-1,101,-1,-1,189,297,88,-1,412,260,-1,-1,195,-1,-1,57,-1,-1,243,-1,-1,-1,190,2,91,-1,90,-1,-1,387,-1,-1,-1,-1,-1,-1,181,-1,350,-1,-1,-1,120,184,-1,-1,182,345,-1,121,-1,93,-1,93,291,-1,-1,-1,-1,183,-1,-1,-1,365,97,99,-1,-1,-1,169,-1,261,204,-1,-1,-1,182,503,105,-1,-1,-1,182,173,-1,-1,-1,-1,-1,370,-1,140,-1,124,242,-1,385,-1,273,-1,-1,-1,356,-1,-1,97,-1,92,64,-1,290,182,-1,-1,91,185,-1,-1,-1,-1,-1,-1,-1,191,-1,-1,-1,97,-1,-1,-1,-1,-1,-1,-1,184,262,186,-1,193,-1,-1,-1,-1,-1,-1,179,-1,-1,-1,92,-1,77,-1,-1,-1,-1,185,-1,-1,-1,-1,95,-1,-1,-1,-1,251,-1,183,-1,-1,-1,-1,-1,-1,-1,-1,-1,-1,-1,-1,-1,347,-1,170,-1,86,111,187,91,-1,-1,155,-1,277,-1,-1,-1,92,92,-1,183,-1,-1,-1,-1,194,-1,86,-1,-1,57,-1,-1,-1,-1,147,-1,-1,-1,-1,-1,-1,93,87,-1,184,-1,-1,-1,345,97,-1,97,-1,-1,-1,-1,195,166,35,269,-1,-1,-1,183,14,210,195,371,392,57,95,91,91,162,149,-1,102,-1,-1,92,-1,-1,-1,-1,-1,-1,-1,184,94,-1,-1,-1,221,-1,141,-1,-1,105,-1,-1,-1,-1,-1,90,-1,-1,-1,-1,-1,-1,-1,-1,196,-1,264,96,409,-1,35,782,91,-1,104,94,-1,-1,182,-1,-1,90,89,101,126,-1,-1,181,-1,-1,-1,98,182,-1,97,209,88,370,-1,-1,332,-1,-1,-1,177,385,-1,280,156,-1,-1,-1,-1,-1,-1,-1,-1,160,83,-1,87,-1,193,-1,-1,-1,-1,-1,-1,-1,-1,183,-1,91,-1,-1,-1,-1,-1,-1,127,-1,-1,-1,-1,209,561,-1,95,91,-1,-1,181,85,-1,330,-1,80,-1,192,-1,186,91,-1,-1,-1,264,-1,92,-1,-1,-1,92,-1,-1,-1,-1,182,187,-1,182,182,-1,-1,804,180,329,71,-1,-1,-1,-1,99,196,-1,-1,94,-1,-1,-1,98,-1,-1,178,-1,-1,-1,97,-1,-1,-1,-1,-1,-1,-1,197,-1,-1,-1,-1,183,56,-1,-1,551,-1,-1,-1,-1,-1,184,415,230,194,-1,-1,-1,294,267,-1,-1,-1,-1,-1,314,-1,-1,-1,-1,405,-1,-1,91,-1,-1,-1,239,-1,40,87,-1,182,-1,251,302,-1,-1,-1,182,-1,-1,370,-1,89,-1,143,-1,-1,-1,462,-1,-1,-1,-1,340,-1,-1,178,48,-1,160,-1,94,176,-1,-1,-1,200,-1,-1,-1,102,-1,92,-1,-1,187,-1,-1,-1,-1,-1,348,182,-1,-1,-1,-1,-1,196,-1,-1,-1,371,-1,337,258,-1,-1,-1,-1,345,-1,-1,-1,-1,57,-1,-1,-1,99,81,-1,95,285,-1,-1,92,-1,-1,-1,-1,-1,-1,-1,205,-1,-1,-1,-1,361,-1,-1,-1,-1,-1,-1,-1,-1,184,-1,-1,-1,182,-1,-1,197,-1,262,-1,104,-1,-1,189,-1,-1,-1,-1,-1,-1,-1,-1,-1,92,-1,-1,-1,-1,-1,-1,366,-1,-1,-1,-1,-1,321,-1,-1,-1,-1,181,186,-1,-1,92,-1,91,92,319,-1,135,-1,92,281,180,184,270,-1,-1,-1,87,141,107,260,389,-1,-1,504,-1,-1,-1,-1,-1,138,181,105,-1,-1,-1,-1,-1,293,-1,-1,-1,-1,-1,-1,-1,168,97,96,-1,-1,-1,-1,-1,-1,-1,-1,-1,-1,37,184,-1,-1,-1,182,-1,-1,208,-1,-1,-1,-1,-1,183,87,-1,-1,104,-1,-1,-1,175,-1,-1,-1,-1,287,-1,-1,-1,-1,181,95,-1,-1,-1,-1,-1,-1,-1,-1,-1,123,-1,91,-1,150,-1,-1,417,-1,368,-1,-1,182,-1,-1,-1,-1,91,-1,91,-1,182,-1,-1,181,-1,102,256,-1,-1,-1,95,-1,-1,176,196,-1,-1,182,-1,-1,92,-1,110,-1,335,-1,-1,-1,-1,-1,490,100,171,109,-1,63,-1,-1,-1,95,99,-1,-1,-1,-1,-1,-1,-1,-1,-1,92,-1,-1,-1,-1,-1,-1,-1,-1,-1,92,92,10,-1,181,-1,-1,191,-1,-1,-1,-1,-1,80,-1,-1,342,-1,-1,-1,105,126,50,-1,94,-1,188,98,-1,-1,148,-1,463,-1,-1,85,-1,-1,-1,114,-1,184,-1,-1,91,362,-1,91,145,74,150,-1,91,85,96,121,-1,-1,-1,-1,183,-1,-1,-1,-1,-1,103,-1,-1,-1,-1,106,-1,180,-1,-1,-1,-1,-1,-1,-1,-1,-1,1,89,-1,-1,-1,-1,-1,-1,-1,-1,-1,-1,-1,-1,87,85,-1,-1,-1,130,197,-1,192,-1,-1,-1,-1,93,-1,175,208,-1,-1,-1,-1,184,-1,-1,-1,-1,805,-1,182,-1,-1,-1,-1,-1,-1,544,-1,-1,-1,-1,92,-1,-1,-1,197,-1,-1,375,-1,-1,472,-1,183,-1,93,91,-1,276,-1,-1,-1,-1,-1,357,-1,-1,-1,-1,91,182,-1,280,-1,-1,-1,181,-1,365,-1,-1,98,-1,-1,87,-1,-1,33,391,-1,-1,-1,-1,-1,-1,181,104,194,-1,-1,-1,-1,-1,91,-1,-1,-1,495,-1,-1,-1,-1,-1,-1,-1,-1,98,-1,183,-1,95,286,87,253,-1,-1,-1,-1,-1,-1,-1,293,181,-1,123,351,183,183,182,36,-1,-1,-1,-1,182,-1,189,-1,-1,-1,290,-1,95,-1,-1,-1,-1,90,-1,341,-1,-1,-1,-1,-1,-1,-1,169,189,305,183,-1,-1,-1,181,-1,-1,-1,-1,-1,-1,180,-1,-1,-1,-1,-1,81,260,-1,-1,-1,299,-1,-1,-1,-1,-1,-1,-1,-1,-1,-1,-1,-1,-1,-1,-1,-1,-1,-1,-1,-1,-1,-1,-1,-1,-1,-1,-1,-1,-1,-1,301,-1,-1,84,119,-1,-1,-1,-1,-1,-1,-1,104,-1,-1,-1,-1,-1,-1,-1,-1,-1,208,-1,-1,-1,-1,-1,105,-1,-1,-1,-1,-1,-1,-1,-1,-1,-1,-1,98,-1,-1,353,-1,-1,28,-1,-1,-1,-1,-1,-1,-1,-1,-1,-1,168,-1,-1,126,-1,-1,-1,-1,-1,-1,-1,-1,103,-1,-1,-1,412,-1,-1,-1,-1,-1,-1,-1,-1,-1,-1,-1,-1,-1,-1,-1,-1,-1,-1,-1,188,-1,-1,-1,-1,-1,-1,-1,-1,-1,-1,-1,-1,324,-1,-1,-1,201,266,-1,-1,263,-1,-1,-1,-1,-1,-1,-1,-1,-1,-1,-1,87,-1,-1,-1,-1,-1,-1,14,-1,-1,-1,-1,-1,-1,-1,-1,164,198,-1,-1,-1,269,183,-1,352,-1,-1,-1,-1,-1,-1,-1,-1,-1,-1,-1,106,-1,-1,-1,-1,-1,-1,345,-1,-1,-1,-1,-1,-1,-1,-1,-1,-1,133,-1,235,-1,184,253,-1,225,-1,-1,-1,182,187,100,274,350,351,-1,-1,337,-1,-1,401,-1,-1,-1,-1,-1,-1,368,-1,-1,-1,-1,-1,-1,-1,-1,-1,-1,257,-1,-1,197,117,-1,109,-1,-1,-1,-1,-1,-1,-1,-1,-1,81,-1,368,-1,-1,-1,-1,-1,-1,175,-1,261,-1,94,-1,352,-1,-1,-1,-1,-1,-1,-1,-1,-1,-1,301,-1,-1,369,-1,190,179,-1,-1,-1,-1,168,-1,-1,-1,350,190,-1,-1,-1,-1,-1,-1,68,388,-1,-1,-1,-1,-1,91,-1,-1,-1,-1,360,-1,-1,189,-1,-1,-1,-1,-1,-1,-1,-1,-1,236,-1,-1,-1,-1,-1,-1,-1,-1,-1,-1,-1,-1,119,261,169,-1,-1,-1,-1,-1,328,-1,-1,-1,-1,440,-1,-1,175,-1,-1,-1,-1,-1,-1,138,-1,326,-1,-1,-1,-1,-1,-1,-1,365,-1,-1,-1,-1,-1,-1,-1,-1,-1,-1,-1,-1,-1,367,-1,-1,-1,-1,-1,172,-1,342,-1,-1,-1,-1,-1,-1,358,-1,-1,-1,-1,-1,-1,-1,-1,-1,-1,-1,-1,368,-1,269,-1,259,-1,-1,-1,-1,-1,-1,-1,-1,-1,-1,-1,274,-1,-1,-1,110,-1,-1,-1,-1,774,-1,111,-1,228,-1,-1,89,330,105,-1,93,-1,317,308,208,-1,-1,-1,-1,-1,-1,165,-1,-1,-1,-1,-1,-1,-1,-1,-1,-1,-1,-1,-1,-1,-1,-1,-1,-1,-1,-1,-1,177,-1,-1,-1,-1,-1,-1,-1,-1,-1,350,-1,-1,314,-1,-1,100,-1,-1,-1,-1,-1,-1,-1,-1,193,-1,-1,-1,149,175,150,344,-1,-1,-1,-1,87,-1,-1,-1,-1,-1,-1,-1,-1,-1,167,-1,-1,-1,-1,-1,-1,-1,-1,-1,-1,-1,93,-1,-1,-1,-1,-1,-1,-1,-1,360,-1,323,-1,-1,-1,-1,-1,-1,-1,-1,75,96,-1,-1,-1,-1,-1,-1,-1,-1,-1,-1,-1,-1,-1,-1,-1,-1,-1,83,-1,183,-1,-1,356,-1,92,-1,-1,-1,-1,-1,-1,-1,-1,-1,301,-1,-1,-1,196,-1,-1,-1,-1,-1,-1,-1,-1,255,-1,170,336,-1,-1,-1,-1,-1,-1,190,327,-1,-1,318,188,-1,-1,-1,370,-1,-1,-1,-1,-1,-1,-1,-1,-1,-1,-1,-1,101,-1,-1,-1,-1,334,-1,-1,-1,-1,-1,-1,-1,-1,-1,271,-1,-1,192,-1,-1,294,-1,-1,-1,-1,149,-1,302,-1,-1,-1,-1,-1,-1,-1,-1,-1,-1,-1,-1,-1,-1,-1,41,168,-1,-1,-1,-1,-1,-1,-1,-1,-1,-1,-1,-1,-1,233,-1,111,169,-1,-1,365,-1,-1,-1,-1,-1,-1,-1,-1,-1,-1,-1,-1,371,-1,-1,-1,-1,-1,-1,-1,-1,80,323,197,-1,-1,-1,-1,-1,-1,330,-1,-1,-1,312,-1,251,-1,-1,160,-1,-1,-1,486,-1,-1,-1,-1,-1,-1,-1,-1,327,-1,-1,-1,-1,-1,-1,-1,-1,-1,-1,-1,-1,-1,-1,133,-1,-1,-1,324,-1,-1,-1,-1,-1,93,-1,-1,-1,-1,-1,-1,-1,-1,-1,-1,-1,-1,-1,-1,-1,-1,350,-1,-1,-1,-1,-1,-1,-1,-1,347,-1,5,-1,-1,-1,-1,-1,323,-1,86,-1,-1,-1,-1,-1,353,-1,-1,-1,-1,-1,-1,370,-1,-1,-1,-1,-1,188,-1,-1,-1,-1,307,-1,-1,-1,-1,-1,-1,-1,363,-1,-1,-1,-1,-1,-1,-1,-1,-1,-1,-1,-1,-1,-1,-1,-1,-1,-1,-1,-1,-1,-1,-1,350,-1,-1,-1,93,-1,-1,351,-1,-1,99,-1,-1,-1,-1,-1,-1,185,-1,-1,-1,-1,-1,-1,-1,-1,-1,-1,-1,-1,-1,-1,344,-1,-1,-1,-1,-1,-1,-1,-1,-1,-1,-1,322,-1,-1,-1,119,-1,-1,-1,-1,-1,-1,-1,-1,-1,93,-1,-1,-1,-1,-1,-1,-1,350,-1,-1,-1,95,-1,-1,-1,-1,-1,-1,-1,-1,-1,-1,-1,-1,-1,-1,778,-1,-1,-1,-1,-1,-1,-1,186,-1,-1,-1,210,-1,-1,223,-1,-1,-1,-1,-1,102,100,-1,-1,-1,-1,-1,-1,-1,295,-1,-1,-1,-1,316,-1,-1,-1,-1,-1,-1,-1,-1,-1,-1,259,-1,-1,-1,-1,90,-1,-1,-1,-1,-1,-1,-1,-1,-1,-1,-1,-1,-1,-1,216,-1,-1,-1,202,308,-1,-1,-1,265,-1,-1,183,-1,-1,58,-1,-1,-1,-1,-1,-1,-1,-1,-1,130,-1,-1,-1,227,-1,-1,106,-1,-1,-1,-1,-1,-1,-1,-1,-1,-1,70,-1,-1,-1,771,-1,-1,-1,-1,-1,370,-1,-1,-1,-1,-1,-1,-1,-1,-1,-1,-1,-1,-1,-1,-1,-1,370,323,-1,-1,-1,-1,-1,-1,-1,-1,-1,-1,-1,-1,-1,-1,-1,-1,-1,-1,-1,-1,-1,-1,-1,-1,-1,-1,9,196,-1,-1,-1,-1,-1,-1,-1,-1,-1,-1,-1,195,-1,366,-1,-1,-1,-1,156,-1,-1,-1,-1,-1,-1,-1,-1,-1,-1,-1,-1,-1,-1,-1,-1,-1,94,369,-1,103,-1,-1,-1,-1,-1,-1,-1,-1,-1,-1,-1,-1,-1,-1,-1,70,344,-1,114,-1,-1,-1,-1,-1,-1,-1,-1,-1,-1,-1,-1,-1,177,-1,-1,-1,-1,-1,-1,-1,-1,-1,92,-1,-1,-1,-1,-1,361,-1,-1,-1,-1,-1,-1,-1,-1,-1,-1,-1,259,-1,-1,-1,-1,-1,-1,-1,171,-1,-1,-1,-1,321,-1,-1,251,-1,-1,-1,-1,-1,245,42,-1,-1,363,272,-1,209,-1,-1,-1,-1,-1,-1,-1,-1,-1,274,-1,213,-1,-1,-1,-1,-1,-1,-1,-1,-1,-1,189,-1,-1,-1,-1,-1,355,92,-1,-1,-1,-1,-1,-1,-1,-1,167,260,-1,-1,-1,-1,-1,-1,-1,-1,98,-1,-1,-1,-1,-1,205,-1,190,259,-1,-1,162,-1,-1,-1,-1,152,-1,-1,-1,-1,91,-1,-1,-1,-1,-1,-1,338,-1,-1,-1,-1,89,153,351,-1,-1,-1,-1,-1,131,167,-1,-1,-1,-1,-1,367,-1,-1,189,-1,-1,-1,-1,-1,-1,-1,-1,-1,-1,-1,-1,2,-1,-1,-1,-1,-1,-1,-1,-1,-1,-1,-1,105,-1,337,-1,-1,152,-1,-1,353,-1,-1,332,-1,-1,-1,535,-1,-1,-1,201,-1,-1,-1,-1,-1,258,-1,102,-1,-1,267,-1,-1,82,-1,-1,50,-1,-1,-1,354,-1,-1,-1,-1,-1,-1,-1,-1,-1,-1,-1,165,-1,-1,189,-1,-1,-1,-1,-1,-1,373,-1,-1,290,-1,-1,-1,245,-1,102,-1,-1,772,-1,-1,-1,-1,-1,-1,-1,-1,-1,307,-1,-1,-1,-1,-1,-1,521,-1,-1,-1,2,-1,-1,-1,-1,254,-1,-1,-1,-1,84,-1,-1,-1,-1,-1,-1,-1,-1,-1,-1,-1,-1,-1,-1,-1,-1,-1,59,-1,-1,-1,-1,-1,363,-1,-1,-1,-1,-1,-1,-1,-1,-1,-1,-1,-1,178,-1,-1,201,-1,-1,-1,300,-1,-1,356,-1,247,-1,-1,-1,-1,-1,-1,-1,-1,196,287,-1,-1,-1,-1,-1,-1,-1,-1,182,-1,-1,-1,-1,-1,-1,-1,-1,-1,-1,-1,-1,-1,-1,-1,-1,-1,-1,-1,-1,-1,-1,-1,-1,-1,176,306,-1,139,-1,-1,-1,230,-1,-1,-1,-1,183,-1,-1,-1,98,-1,372,-1,144,-1,-1,180,-1,6,179,-1,-1,-1,-1,-1,-1,-1,-1,-1,356,-1,-1,-1,-1,-1,-1,-1,-1,-1,-1,-1,331,-1,-1,-1,-1,299,-1,-1,-1,56,-1,-1,258,-1,-1,-1,170,-1,-1,-1,-1,-1,362,181,-1,-1,179,-1,-1,-1,-1,-1,61,-1,-1,-1,371,-1,-1,152,-1,172,-1,-1,-1,-1,-1,-1,-1,-1,-1,-1,-1,-1,-1,-1,171,-1,381,-1,-1,-1,-1,332,-1,96,344,-1,-1,-1,271,-1,-1,-1,91,-1,-1,-1,-1,181,-1,-1,-1,356,-1,-1,-1,-1,-1,-1,-1,-1,-1,460,304,-1,111,-1,-1,-1,-1,-1,-1,-1,-1,-1,331,-1,-1,-1,-1,-1,-1,-1,-1,-1,333,-1,-1,-1,113,-1,-1,-1,-1,-1,-1,-1,-1,-1,-1,-1,-1,-1,347,164,-1,-1,-1,-1,-1,181,-1,-1,-1,-1,-1,-1,-1,-1,-1,-1,334,-1,-1,-1,-1,-1,108,-1,-1,-1,-1,-1,15,-1,170,-1,-1,-1,-1,-1,-1,-1,-1,371,-1,-1,-1,-1,-1,-1,-1,-1,-1,126,-1,-1,-1,-1,-1,131,-1,-1,-1,-1,-1,-1,-1,-1,105,-1,-1,-1,-1,-1,-1,-1,-1,-1,-1,-1,356,-1,-1,-1,-1,-1,176,-1,-1,-1,-1,-1,-1,-1,-1,-1,-1,-1,-1,-1,-1,-1,344,-1,-1,-1,-1,175,-1,-1,-1,-1,-1,-1,355,-1,-1,337,-1,-1,-1,-1,91,-1,-1,-1,-1,-1,-1,-1,-1,-1,304,-1,-1,-1,-1,-1,-1,-1,-1,-1,95,-1,-1,-1,-1,-1,-1,-1,-1,-1,-1,-1,322,-1,-1,-1,-1,-1,124,-1,-1,-1,-1,371,-1,-1,332,-1,-1,98,-1,-1,-1,-1,8,-1,-1,-1,357,-1,-1,-1,-1,-1,-1,-1,-1,85,-1,-1,-1,-1,-1,-1,-1,371,-1,350,-1,-1,-1,-1,188,-1,-1,-1,-1,372,-1,-1,-1,-1,-1,-1,-1,-1,-1,-1,335,-1,-1,-1,-1,-1,-1,-1,-1,-1,-1,-1,-1,-1,-1,-1,-1,-1,-1,-1,-1,-1,-1,-1,-1,-1,-1,-1,-1,-1,-1,365,-1,-1,-1,-1,-1,-1,-1,-1,-1,-1,-1,-1,128,-1,-1,-1,190,-1,-1,-1,266,-1,-1,87,-1,-1,-1,-1,-1,-1,187,-1,-1,-1,-1,-1,-1,-1,188,-1,9,337,-1,-1,-1,-1,190,-1,-1,-1,-1,-1,-1,-1,-1,-1,204,-1,-1,-1,-1,-1,-1,-1,-1,-1,-1,-1,-1,-1,172,-1,-1,-1,-1,335,-1,-1,-1,-1,-1,343,-1,-1,-1,-1,-1,-1,-1,-1,-1,-1,182,-1,-1,-1,-1,-1,271,-1,-1,-1,-1,255,-1,-1,-1,-1,-1,-1,-1,-1,-1,-1,-1,-1,369,-1,-1,275,-1,-1,-1,-1,-1,-1,-1,-1,-1,-1,-1,-1,-1,-1,-1,-1,-1,-1,-1,-1,6,-1,-1,-1,-1,-1,-1,-1,-1,-1,-1,-1,-1,-1,-1,-1,-1,-1,-1,-1,-1,-1,-1,-1,-1,-1,-1,152,-1,-1,-1,324,269,-1,-1,-1,-1,-1,374,-1,-1,-1,-1,-1,-1,-1,266,-1,-1,327,-1,-1,-1,-1,-1,-1,-1,-1,-1,318,-1,-1,-1,177,-1,-1,-1,-1,-1,-1,-1,127,-1,-1,-1,-1,-1,-1,-1,183,-1,-1,-1,-1,-1,-1,-1,174,-1,-1,-1,368,-1,-1,-1,186,-1,-1,-1,-1,84,-1,-1,-1,-1,-1,-1,-1,-1,-1,-1,222,350,-1,-1,-1,-1,-1,-1,-1,-1,-1,-1,-1,-1,-1,-1,-1,-1,-1,-1,-1,277,-1,-1,-1,-1,-1,-1,-1,-1,2,-1,-1,-1,-1,-1,-1,-1,-1,-1,104,-1,-1,95,-1,-1,-1,-1,-1,-1,-1,-1,-1,-1,-1,187,-1,-1,-1,-1,-1,-1,-1,-1,-1,-1,-1,-1,168,-1,-1,-1,-1,-1,-1,-1,-1,-1,-1,-1,335,-1,241,-1,-1,346,-1,-1,197,-1,-1,-1,-1,-1,-1,-1,-1,-1,-1,-1,-1,-1,-1,-1,-1,-1,237,-1,-1,-1,-1,-1,-1,-1,336,-1,355,-1,-1,-1,-1,-1,-1,-1,-1,188,-1,-1,-1,-1,358,-1,-1,-1,-1,-1,-1,-1,-1,-1,-1,-1,-1,-1,-1,-1,-1,-1,-1,-1,-1,-1,77,-1,-1,-1,170,-1,-1,287,-1,-1,-1,-1,-1,-1,-1,-1,-1,-1,-1,-1,-1,-1,-1,-1,329,-1,-1,-1,-1,-1,-1,-1,-1,-1,-1,-1,-1,-1,-1,-1,-1,-1,297,-1,264,-1,-1,-1,-1,-1,-1,-1,-1,-1,-1,-1,-1,342,-1,-1,-1,369,-1,83,-1,-1,-1,-1,-1,-1,-1,-1,-1,-1,-1,-1,-1,-1,-1,-1,-1,-1,-1,-1,-1,-1,-1,-1,272,-1,-1,174,-1,-1,-1,-1,-1,-1,-1,365,-1,-1,-1,-1,-1,-1,-1,154,-1,-1,-1,332,-1,-1,-1,-1,-1,-1,-1,-1,-1,-1,350,-1,-1,-1,-1,-1,-1,-1,-1,-1,364,-1,-1,-1,-1,140,-1,-1,-1,-1,-1,-1,-1,175,-1,-1,-1,-1,-1,-1,339,-1,-1,-1,87,-1,-1,-1,-1,-1,-1,-1,-1,-1,179,-1,-1,186,-1,244,-1,-1,87,-1,-1,-1,-1,-1,-1,-1,-1,-1,-1,-1,-1,-1,-1,-1,-1,205,-1,-1,-1,-1,-1,305,-1,-1,-1,-1,-1,-1,-1,-1,-1,-1,-1,-1,-1,363,-1,-1,-1,-1,-1,-1,-1,-1,185,136,209,-1,-1,-1,-1,-1,-1,-1,-1,-1,-1,-1,-1,-1,-1,369,-1,-1,-1,-1,-1,-1,-1,-1,-1,-1,-1,-1,-1,-1,-1,-1,-1,-1,-1,-1,50,-1,-1,-1,-1,-1,-1,-1,-1,-1,-1,-1,-1,-1,-1,-1,-1,-1,-1,330,-1,-1,-1,-1,-1,-1,-1,-1,-1,-1,-1,-1,-1,-1,-1,-1,-1,-1,-1,-1,-1,-1,-1,367,-1,-1,-1,-1,-1,-1,-1,-1,-1,-1,-1,-1,-1,-1,-1,-1,258,-1,-1,-1,-1,-1,-1,-1,175,-1,-1,-1,-1,-1,-1,-1,-1,266,-1,329,-1,-1,-1,-1,331,-1,-1,-1,-1,-1,-1,184,-1,-1,-1,362,-1,-1,-1,-1,-1,167,-1,-1,-1,-1,-1,301,-1,-1,342,152,137,-1,212,-1,-1,-1,-1,-1,-1,-1,-1,-1,-1,264,-1,-1,-1,-1,-1,-1,-1,-1,-1,-1,238,159,-1,-1,-1,329,-1,-1,-1,-1,-1,-1,-1,-1,-1,136,-1,-1,-1,-1,-1,-1,167,-1,-1,-1,91,-1,-1,-1,-1,-1,-1,-1,357,-1,-1,351,-1,-1,-1,352,-1,-1,-1,-1,-1,-1,2,-1,430,175,-1,-1,-1,2,-1,-1,-1,-1,-1,-1,-1,-1,-1,-1,-1,-1,-1,-1,-1,-1,-1,160,-1,-1,-1,-1,-1,-1,-1,-1,-1,-1,278,-1,-1,-1,205,-1,-1,-1,-1,-1,-1,-1,-1,-1,-1,-1,-1,181,-1,-1,-1,-1,-1,-1,-1,-1,-1,-1,-1,-1,237,-1,-1,-1,-1,-1,-1,-1,-1,-1,-1,-1,-1,-1,-1,-1,-1,-1,-1,-1,358,-1,-1,-1,-1,-1,436,-1,-1,-1,-1,-1,-1,-1,-1,-1,-1,186,-1,-1,-1,-1,-1,-1,-1,-1,-1,-1,-1,-1,335,351,-1,274,-1,-1,-1,294,-1,-1,-1,-1,-1,130,-1,-1,-1,-1,-1,-1,350,-1,96,-1,253,-1,-1,300,-1,-1,-1,-1,-1,-1,-1,-1,-1,-1,-1,-1,-1,-1,-1,-1,-1,262,174,-1,-1,-1,-1,-1,-1,-1,-1,-1,-1,-1,-1,-1,-1,-1,-1,193,-1,259,-1,-1,1,-1,-1,134,-1,-1,-1,-1,-1,94,-1,-1,-1,-1,-1,-1,-1,-1,-1,-1,-1,-1,-1,-1,-1,-1,250,-1,-1,326,-1,346,-1,9,-1,337,-1,-1,-1,-1,-1,-1,135,-1,-1,-1,-1,-1,-1,-1,-1,-1,-1,-1,331,-1,-1,-1,-1,-1,-1,223,-1,-1,-1,-1,369,-1,-1,-1,357,-1,-1,-1,-1,94,-1,-1,-1,-1,-1,-1,-1,-1,-1,363,-1,-1,-1,-1,-1,139,328,166,-1,-1,-1,-1,-1,-1,-1,-1,-1,251,-1,-1,-1,-1,-1,-1,-1,-1,-1,-1,-1,-1,-1,-1,-1,-1,347,-1,-1,-1,-1,169,-1,-1,-1,-1,-1,173,92,-1,-1,-1,-1,-1,105,-1,-1,109,-1,-1,-1,169,-1,-1,113,-1,-1,-1,-1,-1,-1,345,-1,-1,-1,-1,-1,272,43,-1,-1,356,342,-1,-1,-1,-1,-1,-1,114,175,329,104,-1,-1,-1,-1,330,-1,99,-1,105,-1,-1,-1,-1,-1,-1,176,-1,-1,-1,-1,-1,-1,-1,-1,-1,-1,-1,-1,-1,42,-1,196,-1,-1,-1,-1,-1,-1,338,-1,344,-1,369,-1,96,-1,-1,-1,167,-1,78,-1,345,-1,-1,-1,-1,-1,-1,144,-1,-1,-1,-1,-1,227,-1,-1,-1,-1,-1,-1,-1,-1,-1,-1,-1,-1,-1,-1,-1,-1,-1,-1,-1,-1,-1,-1,-1,-1,-1,-1,-1,-1,-1,-1,-1,-1,-1,-1,-1,-1,-1,-1,-1,-1,-1,-1,-1,355,-1,-1,-1,-1,-1,-1,-1,-1,-1,183,-1,-1,-1,-1,340,-1,-1,-1,-1,-1,250,-1,-1,-1,-1,-1,-1,-1,327,-1,-1,-1,-1,-1,-1,-1,-1,355,-1,-1,-1,-1,-1,-1,-1,-1,212,-1,-1,-1,-1,-1,-1,-1,-1,-1,-1,-1,92,-1,345,-1,-1,-1,-1,-1,-1,-1,-1,-1,-1,270,364,263,123,-1,367,-1,-1,-1,183,148,-1,149,251,-1,-1,-1,-1,-1,-1,330,217,-1,-1,92,189,97,-1,-1,295,-1,-1,-1,-1,-1,-1,-1,-1,-1,-1,-1,195,-1,-1,-1,-1,365,-1,-1,21,-1,-1,-1,-1,-1,-1,-1,-1,86,-1,-1,-1,346,-1,-1,-1,-1,205,-1,185,-1,-1,-1,-1,-1,-1,-1,157,-1,-1,-1,-1,-1,-1,-1,-1,-1,350,336,-1,-1,-1,-1,-1,-1,-1,316,-1,-1,-1,-1,-1,-1,-1,-1,-1,-1,-1,340,12,-1,-1,-1,-1,-1,-1,-1,187,-1,343,-1,-1,-1,-1,-1,211,-1,-1,-1,-1,-1,-1,165,-1,-1,-1,-1,-1,280,-1,-1,-1,-1,-1,-1,-1,-1,-1,-1,-1,-1,-1,-1,-1,-1,-1,-1,-1,-1,-1,94,-1,-1,-1,370,-1,-1,357,183,94,-1,-1,-1,-1,300,-1,-1,-1,-1,-1,-1,-1,-1,-1,-1,-1,148,-1,-1,-1,272,-1,-1,-1,-1,-1,-1,-1,-1,-1,-1,-1,-1,-1,-1,-1,-1,-1,-1,-1,83,-1,-1,-1,-1,-1,-1,-1,-1,-1,-1,-1,-1,-1,-1,-1,-1,-1,-1,200,-1,-1,-1,-1,-1,92,-1,-1,-1,-1,-1,115,121,1,-1,-1,-1,-1,-1,-1,-1,-1,-1,-1,-1,182,-1,-1,-1,105,-1,-1,-1,-1,-1,-1,184,-1,-1,-1,-1,-1,-1,-1,-1,-1,267,-1,-1,-1,-1,-1,194,-1,-1,-1,-1,342,-1,-1,-1,-1,101,-1,-1,-1,-1,-1,-1,-1,-1,-1,189,-1,-1,-1,-1,-1,358,261,-1,-1,201,-1,-1,-1,350,-1,-1,-1,-1,-1,-1,-1,-1,-1,89,-1,-1,-1,-1,-1,-1,-1,266,-1,-1,113,-1,8,-1,-1,-1,-1,-1,336,-1,-1,-1,-1,-1,-1,-1,-1,-1,-1,-1,-1,-1,-1,-1,-1,-1,-1,287,-1,-1,138,-1,-1,88,-1,258,-1,-1,-1,-1,-1,-1,14,-1,-1,-1,-1,-1,-1,-1,-1,-1,-1,-1,-1,-1,-1,-1,-1,-1,-1,-1,-1,-1,-1,-1,-1,-1,-1,-1,-1,-1,-1,-1,-1,-1,-1,-1,-1,-1,-1,-1,-1,-1,-1,-1,-1,-1,-1,-1,238,-1,356,-1,-1,-1,-1,335,-1,-1,357,-1,-1,371,-1,-1,-1,346,342,-1,-1,-1,-1,-1,239,-1,-1,-1,-1,353,-1,95,-1,-1,-1,-1,-1,-1,-1,-1,-1,-1,370,-1,-1,309,-1,-1,-1,119,-1,-1,-1,-1,-1,-1,-1,-1,-1,-1,102,-1,-1,-1,-1,-1,-1,-1,-1,256,-1,-1,-1,-1,282,-1,-1,-1,103,113,-1,-1,-1,263,-1,-1,-1,-1,-1,-1,-1,-1,-1,-1,-1,-1,-1,-1,-1,-1,-1,-1,-1,308,-1,-1,-1,-1,-1,-1,-1,-1,-1,-1,-1,-1,-1,171,-1,213,189,-1,281,-1,-1,-1,-1,-1,-1,-1,230,-1,-1,-1,-1,-1,-1,-1,-1,-1,-1,-1,-1,342,-1,-1,129,-1,-1,-1,344,-1,-1,-1,117,-1,-1,-1,-1,-1,88,-1,-1,-1,-1,-1,-1,-1,-1,-1,-1,-1,826,-1,-1,-1,-1,-1,-1,-1,-1,-1,-1,-1,-1,96,-1,-1,-1,-1,-1,-1,-1,-1,-1,-1,-1,-1,-1,92,82,-1,89,-1,370,-1,-1,-1,-1,-1,-1,-1,175,-1,-1,-1,-1,-1,-1,-1,-1,-1,-1,259,-1,-1,-1,-1,-1,-1,-1,-1,-1,-1,-1,-1,169,-1,-1,-1,-1,-1,-1,-1,-1,-1,-1,357,-1,-1,-1,-1,-1,14,195,-1,-1,-1,172,-1,359,-1,161,-1,370,-1,105,-1,-1,-1,347,-1,594,-1,-1,-1,-1,-1,-1,-1,-1,-1,-1,-1,-1,-1,-1,-1,-1,-1,-1,-1,191,-1,364,-1,-1,-1,-1,-1,287,-1,227,-1,-1,-1,-1,-1,173,-1,-1,9,113,-1,-1,-1,-1,185,-1,-1,-1,-1,-1,-1,184,-1,197,176,-1,-1,-1,-1,-1,-1,355,-1,-1,-1,-1,-1,-1,94,-1,-1,-1,-1,-1,189,-1,-1,-1,-1,324,-1,-1,152,-1,-1,-1,-1,-1,-1,-1,196,-1,-1,-1,185,-1,-1,-1,-1,-1,-1,-1,-1,-1,-1,-1,-1,-1,-1,267,-1,-1,-1,-1,-1,-1,-1,-1,-1,-1,-1,-1,-1,-1,-1,-1,104,-1,-1,-1,-1,-1,-1,-1,-1,-1,-1,-1,343,-1,264,349,-1,-1,-1,-1,-1,-1,-1,-1,-1,-1,-1,-1,-1,-1,-1,93,-1,-1,-1,-1,-1,-1,245,-1,-1,-1,-1,-1,-1,-1,-1,-1,-1,-1,-1,342,-1,-1,-1,-1,-1,-1,-1,-1,-1,-1,175,-1,-1,-1,-1,-1,-1,-1,-1,-1,-1,-1,262,-1,-1,318,-1,-1,-1,-1,368,-1,-1,-1,348,347,-1,-1,-1,-1,-1,-1,-1,-1,-1,-1,-1,-1,-1,-1,333,342,173,-1,99,-1,-1,-1,-1,-1,-1,-1,-1,-1,-1,-1,-1,-1,-1,-1,-1,-1,-1,-1,-1,144,-1,229,-1,-1,-1,2,-1,-1,-1,-1,182,-1,-1,-1,-1,-1,-1,-1,195,-1,-1,-1,-1,-1,-1,-1,270,-1,-1,-1,243,394,-1,-1,349,171,-1,-1,-1,-1,116,303,-1,-1,-1,-1,-1,-1,352,-1,173,-1,149,-1,-1,-1,-1,-1,-1,319,-1,-1,-1,5,325,-1,-1,-1,-1,-1,-1,391,370,-1,-1,-1,-1,-1,-1,-1,288,-1,-1,-1,360,-1,-1,-1,-1,-1,-1,-1,-1,-1,-1,-1,-1,-1,-1,-1,-1,-1,-1,-1,-1,-1,-1,-1,-1,-1,-1,348,-1,-1,-1,-1,-1,-1,-1,-1,-1,-1,293,-1,-1,-1,-1,-1,-1,-1,-1,151,-1,-1,-1,-1,-1,177,-1,-1,-1,-1,-1,-1,-1,-1,-1,184,-1,-1,341,-1,-1,349,-1,-1,-1,-1,-1,-1,328,-1,-1,-1,-1,-1,144,-1,-1,170,-1,-1,-1,-1,-1,-1,-1,-1,-1,-1,-1,-1,-1,-1,-1,329,-1,-1,-1,-1,-1,-1,-1,348,-1,-1,-1,-1,-1,-1,-1,-1,-1,-1,-1,199,-1,-1,-1,-1,184,-1,-1,-1,404,-1,190,-1,154,-1,-1,-1,-1,-1,-1,179,-1,-1,-1,-1,209,-1,-1,-1,-1,-1,-1,-1,-1,-1,-1,-1,-1,196,-1,-1,-1,204,-1,264,134,121,275,-1,-1,-1,-1,-1,-1,-1,-1,-1,-1,91,-1,-1,101,-1,91,-1,-1,-1,234,-1,-1,-1,-1,-1,-1,-1,-1,-1,-1,-1,-1,-1,-1,-1,-1,-1,-1,347,351,-1,-1,-1,-1,-1,-1,-1,121,-1,-1,232,270,315,180,-1,-1,-1,-1,-1,-1,-1,-1,140,93,-1,-1,-1,-1,-1,-1,-1,-1,-1,-1,-1,-1,-1,-1,100,-1,-1,-1,182,-1,132,-1,-1,-1,-1,-1,353,343,-1,-1,-1,-1,-1,-1,-1,-1,-1,-1,-1,164,-1,-1,-1,-1,-1,-1,-1,-1,-1,-1,-1,-1,175,-1,-1,-1,-1,-1,-1,-1,-1,-1,-1,-1,-1,-1,-1,263,-1,326,-1,-1,365,-1,-1,-1,-1,352,-1,-1,-1,-1,-1,-1,-1,-1,-1,105,354,193,-1,-1,-1,-1,-1,-1,-1,-1,-1,-1,-1,-1,-1,-1,-1,-1,187,245,-1,-1,95,-1,-1,-1,-1,-1,-1,-1,-1,-1,-1,-1,-1,-1,-1,69,-1,370,-1,-1,-1,-1,345,-1,-1,-1,-1,95,-1,-1,-1,148,-1,-1,-1,119,-1,-1,-1,-1,-1,-1,-1,332,-1,-1,-1,-1,-1,-1,92,264,-1,-1,-1,122,-1,-1,-1,-1,-1,-1,-1,80,-1,-1,-1,-1,-1,-1,342,-1,91,-1,-1,-1,169,-1,-1,-1,-1,345,-1,150,-1,717,272,-1,-1,367,-1,350,-1,-1,-1,-1,271,-1,-1,175,-1,-1,-1,-1,-1,-1,-1,-1,-1,-1,-1,178,-1,-1,-1,-1,-1,-1,-1,-1,-1,-1,368,-1,-1,-1,-1,-1,-1,-1,-1,-1,-1,189,162,-1,-1,-1,-1,-1,322,-1,-1,-1,-1,-1,-1,-1,-1,-1,-1,107,-1,-1,-1,-1,182,117,-1,182,-1,-1,-1,-1,359,-1,-1,-1,270,-1,-1,-1,-1,-1,133,-1,-1,-1,271,174,-1,-1,-1,-1,-1,-1,-1,-1,-1,-1,-1,-1,-1,-1,-1,-1,-1,269,-1,-1,-1,-1,-1,-1,-1,-1,-1,-1,-1,148,-1,289,-1,-1,-1,-1,-1,-1,98,-1,-1,-1,-1,-1,-1,-1,-1,-1,116,-1,-1,-1,-1,-1,-1,-1,169,-1,-1,-1,-1,-1,-1,-1,277,-1,-1,-1,-1,-1,-1,-1,-1,28,-1,-1,-1,-1,-1,-1,-1,-1,-1,-1,-1,-1,-1,-1,-1,-1,-1,-1,-1,-1,-1,-1,-1,-1,-1,-1,-1,-1,-1,-1,-1,-1,-1,-1,171,-1,-1,-1,-1,-1,-1,-1,-1,-1,-1,-1,-1,-1,-1,187,199,-1,-1,-1,187,-1,-1,-1,301,-1,-1,92,-1,-1,-1,261,-1,-1,-1,-1,-1,-1,-1,-1,-1,-1,-1,-1,-1,-1,-1,-1,-1,-1,-1,-1,-1,-1,-1,-1,208,-1,-1,-1,185,-1,183,-1,-1,-1,-1,-1,-1,-1,-1,152,-1,361,-1,273,-1,-1,-1,-1,-1,-1,-1,-1,-1,-1,-1,-1,-1,-1,-1,187,-1,-1,-1,-1,179,-1,-1,-1,-1,-1,-1,113,-1,-1,-1,-1,-1,307,-1,-1,-1,252,-1,-1,-1,-1,-1,-1,365,-1,-1,-1,-1,181,-1,244,-1,-1,-1,-1,-1,-1,-1,-1,-1,-1,-1,63,-1,-1,-1,-1,-1,-1,-1,-1,-1,-1,-1,-1,-1,276,-1,353,-1,-1,-1,-1,-1,-1,-1,-1,-1,-1,-1,281,-1,-1,-1,-1,-1,199,-1,-1,-1,-1,-1,-1,-1,-1,651,-1,-1,-1,-1,-1,185,-1,-1,325,-1,-1,-1,-1,-1,-1,-1,-1,-1,-1,-1,-1,-1,-1,-1,-1,182,-1,-1,-1,-1,-1,-1,-1,-1,-1,293,-1,-1,-1,-1,-1,-1,-1,-1,-1,-1,-1,-1,214,-1,-1,-1,-1,89,-1,-1,-1,-1,-1,-1,-1,-1,-1,-1,-1,-1,-1,165,-1,-1,63,-1,-1,-1,-1,189,-1,-1,-1,-1,-1,-1,-1,-1,-1,-1,-1,205,-1,-1,-1,365,-1,-1,192,-1,-1,-1,-1,363,124,-1,-1,343,-1,-1,-1,-1,-1,-1,-1,-1,-1,-1,-1,-1,-1,-1,-1,-1,341,-1,187,267,-1,-1,-1,-1,-1,-1,-1,330,-1,-1,-1,-1,-1,-1,-1,-1,-1,-1,-1,-1,-1,-1,-1,-1,-1,-1,-1,-1,-1,-1,-1,-1,190,170,-1,-1,-1,-1,-1,351,-1,181,-1,-1,-1,351,343,-1,-1,-1,-1,-1,-1,24,-1,172,-1,-1,-1,-1,328,-1,-1,-1,-1,-1,-1,-1,-1,-1,-1,-1,-1,-1,-1,-1,62,-1,-1,-1,168,-1,-1,-1,-1,-1,-1,-1,-1,-1,-1,-1,-1,-1,-1,-1,-1,-1,-1,-1,-1,-1,-1,-1,-1,-1,188,-1,-1,188,-1,-1,-1,-1,-1,-1,-1,-1,-1,-1,-1,-1,-1,-1,-1,-1,-1,-1,362,-1,701,-1,-1,242,-1,-1,-1,358,-1,-1,-1,-1,-1,-1,-1,-1,-1,-1,-1,-1,181,-1,-1,-1,-1,339,-1,-1,-1,-1,-1,-1,-1,-1,-1,-1,128,-1,-1,256,-1,-1,-1,-1,357,-1,-1,-1,136,-1,-1,-1,-1,-1,196,-1,-1,-1,-1,-1,-1,334,-1,-1,252,-1,-1,168,-1,-1,-1,-1,-1,-1,170,-1,-1,-1,-1,-1,91,-1,391,-1,-1,-1,-1,-1,-1,-1,-1,222,294,-1,-1,98,-1,-1,-1,304,-1,-1,-1,-1,-1,-1,-1,-1,-1,-1,-1,-1,-1,-1,368,-1,-1,-1,-1,188,-1,-1,265,-1,-1,-1,-1,-1,-1,-1,-1,-1,-1,-1,-1,342,-1,235,-1,-1,-1,-1,364,-1,-1,125,-1,-1,259,364,-1,-1,-1,-1,-1,-1,-1,-1,-1,-1,-1,-1,178,-1,-1,-1,-1,-1,-1,148,-1,-1,-1,-1,-1,-1,-1,-1,-1,-1,-1,-1,-1,294,-1,-1,17,-1,87,-1,-1,-1,-1,-1,-1,-1,-1,-1,336,351,327,-1,-1,-1,-1,118,-1,-1,263,-1,-1,-1,-1,-1,-1,-1,-1,-1,-1,-1,349,-1,-1,-1,-1,-1,-1,-1,-1,-1,-1,-1,-1,-1,-1,130,-1,-1,-1,-1,-1,-1,-1,-1,-1,-1,-1,-1,-1,-1,173,-1,-1,-1,97,-1,-1,-1,-1,-1,-1,95,-1,-1,-1,-1,251,-1,365,82,-1,-1,-1,147,-1,-1,-1,-1,-1,338,-1,-1,-1,-1,-1,317,-1,-1,-1,-1,-1,-1,-1,-1,-1,-1,-1,-1,-1,-1,-1,-1,-1,-1,-1,-1,362,-1,-1,-1,-1,-1,-1,-1,260,-1,-1,-1,-1,-1,-1,-1,-1,-1,-1,-1,271,-1,-1,-1,-1,-1,-1,-1,-1,-1,172,-1,-1,-1,-1,172,-1]},{\"axis\":{\"matches\":true},\"label\":\"previous\",\"values\":[2343,45,1270,2476,184,0,830,545,1,5090,100,309,199,460,703,3837,611,-8,55,168,785,2067,388,-192,381,40,22,3,307,759,-1,65,82,10,390,311,414,5,119,4,1262,1949,-395,1165,2240,300,3285,3923,1443,24,1618,517,1521,2823,1405,1535,1596,1542,3652,-1,7180,5291,1384,-191,320,146,341,-9,-306,4580,313,10576,-233,2453,1364,281,94,144,246,92,163,49,-416,409,363,3706,4393,863,695,792,1020,863,97,754,1040,122,880,501,4438,0,271,102,2,4170,85,431,982,408,4822,1250,216,1207,791,849,239,1211,599,825,2183,4499,1289,4665,3326,783,0,994,1354,239,-311,149,1464,5773,278,2910,541,1262,-538,125,0,620,316,2287,198,460,1145,-22,685,901,351,0,274,-213,97,51,314,6840,668,54,1242,292,665,1058,949,606,0,404,249,3354,0,589,12956,873,594,-20,4692,486,1593,7606,226,366,16,565,19,1082,1713,14481,5724,1451,-34,3674,698,4136,2656,2904,1004,410,0,0,62,416,2763,2984,143,0,696,152,-78,867,953,443,-1129,415,260,-411,1279,86,-754,0,178,278,425,168,-36,126,-87,6281,644,377,-271,5839,492,99,-713,32,543,403,437,1772,-88,0,853,240,849,318,703,61,104,1996,1238,879,425,416,844,860,639,710,1508,223,619,319,480,213,68,2788,7561,-46,1595,1046,1382,217,183,1321,25,4844,5345,812,105,-190,625,293,1033,1210,64,164,1766,1248,0,826,2630,3727,406,2999,1000,503,-203,361,274,3687,323,981,638,3229,1610,33,536,0,3057,2892,0,3316,106,2303,3301,426,9,-97,11008,4930,707,4,126,671,219,3622,1580,1319,2152,2843,0,1115,625,246,61,-191,519,522,-46,2269,386,0,9103,908,1694,-92,188,0,740,655,867,1009,6360,4145,-27,-122,149,52,335,526,-7,-413,-241,75,0,158,84,114,0,-127,49,216,506,213,170,776,879,1633,926,2559,909,-176,1085,1265,-239,726,296,-627,-468,551,0,101,517,37,854,30,81,0,663,102,370,189,111,665,214,0,1583,0,0,687,327,-119,794,-191,409,3,9,155,1330,-29,3133,-33,-170,1243,1598,5,367,658,1722,-315,2483,0,45,46,482,3728,1099,2222,983,204,1074,3466,-203,2436,976,146,156,189,163,242,1173,0,296,333,3864,2686,-109,65,597,-799,1775,0,-563,5,139,0,855,694,151,354,673,1265,597,-393,256,0,2870,184,1905,-36,-839,3465,119,36,113,118,251,-277,-189,4,1820,1904,201,0,178,3798,301,294,0,292,2998,2084,454,179,661,89,102,138,622,10,-251,104,173,-46,0,145,325,2311,158,1981,1423,2455,859,9004,970,486,127,409,664,223,-324,-30,1253,4758,30,81,0,328,145,465,751,-379,0,349,1110,2228,2166,-247,-123,44,131,476,1101,-168,-392,524,895,212,95,395,135,0,471,603,663,593,1224,2,720,990,1747,59,33,340,305,0,497,1371,1628,372,566,343,941,775,1759,1495,1444,470,1162,2,1628,1134,0,63,1221,5024,10685,1629,268,0,5613,513,362,3933,3899,473,1616,1817,129,1938,133,2263,1538,5,2625,1080,312,145,-190,2678,271,0,0,3161,-4,-701,-375,959,1091,-1,96,0,230,-156,114,-468,679,206,1,2518,378,391,-144,1240,1792,2284,264,0,-392,77,48,252,1954,755,755,341,1183,388,1919,1613,0,0,0,0,466,515,2313,-8,1634,100,5361,1257,3400,1377,2885,512,921,1000,202,169,3726,146,940,734,77,925,1836,660,1304,2956,146,36,1,2480,14282,0,311,560,3059,1423,874,706,7098,5389,1104,3070,0,4108,0,4291,6822,231,3176,-824,676,651,2657,801,405,82,179,1047,7138,165,37,823,1625,120,2957,2,1,1795,4,476,9,131,1120,2785,0,43,0,456,2018,0,354,719,828,2787,2551,2722,1880,2112,871,850,3243,1567,12,128,553,1694,408,1223,1858,520,271,4396,568,3665,244,568,42,309,-180,34646,59,4436,-242,10052,0,152,156,66,9827,6170,2383,635,16,362,191,455,3043,3334,8029,624,331,2929,1314,289,20,8163,1200,1732,0,576,493,682,0,3485,2944,1353,0,1541,548,254,4414,985,1241,3278,412,483,7135,61,1412,15,27,1196,19,432,988,1614,163,247,236,666,73,96,46,1501,-477,1694,196,462,1227,522,94,267,4570,25,0,1920,1575,234,3518,136,830,2054,-546,5188,1882,792,162,1035,746,17297,22,231,296,0,40,2396,2944,7084,569,0,1138,54,2637,2473,5603,225,-17,3490,769,-90,1785,-103,555,5303,1258,1679,1664,8749,-247,3444,5346,1144,2351,5514,123,429,5254,589,568,10250,3537,1947,1967,2329,12026,1757,107,1012,0,372,7506,314,860,0,3623,2470,1307,3237,5041,6619,1331,1970,1026,249,12857,2807,5060,2271,1,676,160,899,1230,0,700,0,67,127,2089,3585,4152,816,5447,275,1540,751,380,1504,1783,2269,5115,781,-188,761,19,4508,66,2266,4646,1494,1050,0,0,2171,3234,11887,0,5037,386,8781,538,5561,859,0,-617,1429,4189,580,2615,587,149,3,807,3354,1249,190,550,12737,0,1207,347,3713,3352,254,4654,-386,3043,1547,945,6402,1295,6993,4420,141,11462,6843,501,5806,20138,1315,0,7,3929,7,699,421,4333,300,7773,1794,2032,3401,1110,3068,983,2396,6888,2087,121,3469,5461,7119,-35,314,18508,5639,2918,12519,4069,4254,219,0,2263,2589,1982,7049,1968,7195,4117,3950,495,8629,455,4536,1777,3527,372,92,72,1533,4148,96,2245,834,4119,-525,39,0,2766,3300,36,22520,7724,111,2640,3436,0,3636,3288,2633,580,149,4329,1097,1275,1003,1004,814,808,859,4465,0,622,1709,394,1125,-462,550,540,941,1361,-452,518,-71,3234,98,196,936,300,217,163,110,1646,2040,-308,2325,86,1088,0,0,2103,2,51,96,1027,1308,840,5701,6016,630,432,-247,52,623,0,100,4089,1669,169,483,250,0,902,2156,2360,201,-92,514,-114,1331,732,1308,0,-970,1246,73,406,4391,168,1441,3881,678,141,-94,897,1214,324,2666,10613,697,953,198,1110,130,315,4383,313,273,840,309,2707,1109,101,725,309,541,0,1624,0,318,1908,676,1076,1228,0,13,12857,0,6101,158,346,697,616,1140,3444,1879,0,0,1493,313,1815,700,206,255,270,4987,673,320,0,292,757,40,1257,1693,5060,373,369,2346,1599,1066,2603,381,1314,5689,12114,0,2232,11862,127,2152,3552,1,1872,1341,7702,4657,397,0,348,2442,1543,805,2265,312,196,620,1714,2416,335,755,2850,1135,197,720,5355,445,5359,1443,4047,23878,167,1047,7613,117,2266,558,2509,1808,1130,653,2021,313,983,5561,8345,1231,3730,924,2489,995,280,3434,576,1363,581,1376,52,0,549,92,2881,250,602,730,523,293,215,0,42,316,4562,10180,0,281,250,0,404,506,1097,3698,883,2539,2326,811,256,682,483,1506,575,409,1316,671,2351,997,4808,6422,31,171,2681,-61,8929,715,1058,-34,258,0,71,5810,3473,238,1740,3407,1045,132,1000,115,180,201,8089,8866,2,259,1107,1730,447,2786,10185,978,-130,3049,11385,46,4126,212,1250,25,1277,390,9601,565,1384,-522,9676,134,2143,831,2308,1468,311,274,172,507,393,-39,1474,471,3161,1612,4099,68,414,5005,1756,1613,3123,4736,127,11891,4979,754,1207,712,297,3676,817,283,82,2847,1822,16,377,4415,303,12039,1443,1781,3415,318,423,2544,2614,1268,536,1293,1377,2580,314,206,3286,803,719,898,332,695,1819,2544,759,229,96,110,1406,0,2103,1599,925,-3,84,1367,703,0,2646,572,107,765,-253,0,2,6,0,448,4659,1528,330,731,25,587,2557,275,1129,2149,855,491,180,133,649,1411,11174,439,6158,3498,1801,937,26,-53,2337,1762,3469,545,3480,183,2416,424,0,294,1598,268,214,240,2511,4596,1273,3994,469,932,844,471,63,-779,293,294,13546,329,69,-3058,224,165,397,3154,1180,-487,879,806,674,0,323,921,5303,0,4004,386,284,-242,1086,2840,43,3229,341,0,-19,243,2575,105,0,-443,1524,1925,240,387,13,3203,606,0,527,309,4333,253,6807,83,819,1968,136,1995,285,621,597,0,1750,10086,3466,2193,2282,1973,10925,704,9480,3391,1134,6281,123,8556,0,2,1108,212,5110,17,942,0,882,81,276,2991,90,3754,395,676,8,0,2069,506,8,670,0,1939,1780,0,955,732,2022,4099,4917,2883,1374,398,3027,2974,1081,383,3913,3287,3629,132,726,149,640,7707,53,15,242,377,94,363,1970,1167,193,0,78,1291,1425,3382,5583,1230,96,224,0,1730,697,943,1458,95,2308,5701,1529,292,7468,1559,1693,757,201,1070,1330,314,677,2845,-32,398,0,1337,493,1750,4401,193,5106,994,1101,129,6060,55,1624,341,2016,255,4684,1052,1808,3511,518,227,270,4733,6657,613,5462,674,364,181,474,219,86,1170,18,197,938,1228,2156,2408,35,393,618,1608,699,5802,2749,1162,776,1619,139,2816,507,98,2753,0,498,700,4152,927,2252,0,0,728,354,382,36252,158,734,305,10252,3141,236,5437,133,640,253,5060,902,335,1,1451,1636,3221,316,2044,557,489,1138,188,1998,520,6368,2666,4182,3271,163,1515,803,400,2454,533,2352,9367,237,444,9407,387,2971,2643,261,514,5872,-368,188,61,2160,658,0,196,94,326,-395,9328,-522,1286,710,3,0,141,53,415,0,1979,0,7506,752,99,266,27,524,5990,3935,991,59,1598,0,802,2465,114,1461,475,4,1618,-271,2166,4031,5024,-1944,3025,2090,0,1429,0,311,66,2146,356,62,-106,608,291,-184,2345,4,6005,333,3041,4,603,0,830,962,185,-9,891,148,1374,-556,1612,0,-109,580,4500,-192,-438,-701,1400,5293,785,373,763,1236,-811,7279,479,199,1808,2,-106,670,-361,159,151,518,5073,607,-308,367,855,1240,663,895,804,-407,802,912,355,3,0,1836,1425,963,145,634,87,-522,319,0,478,-276,4227,2785,1401,0,1852,462,800,221,1089,451,496,1080,1064,297,3,76,398,83,879,210,-276,863,228,1396,-19,2253,0,265,-54,3821,0,-7,830,0,4406,437,54,-454,1006,2999,85,17924,8180,2431,341,4963,8781,-504,1738,214,684,580,273,811,0,1354,-254,-449,7863,336,1049,6089,-42,953,315,5845,378,765,5795,315,916,124,207,422,125,2,7066,146,496,-40,140,77,22,-51,26,154,534,1265,-466,38,703,685,780,-67,1085,29,560,22,6567,2139,582,194,353,341,-172,-639,864,134,50,507,480,-22,878,2574,2734,241,129,41,3387,148,249,5774,0,1841,2120,297,89,827,205,3743,117,-493,62,2040,344,230,1277,104,706,174,239,513,7290,5909,-195,3917,352,615,0,217,1015,409,1119,12198,235,170,-357,2145,-454,-887,292,139,2684,-1,1387,-522,-242,719,0,497,76,397,3723,1625,106,1543,2239,1977,0,2145,116,620,307,7702,3733,3993,428,5310,2509,255,616,733,439,590,567,689,386,0,957,312,167,13094,5086,707,466,152,1612,911,27,6,253,705,109,23878,3399,79,243,138,1317,2714,17964,846,326,100,304,39,312,906,524,1081,983,2232,1967,1406,157,0,2509,1368,3076,7818,4118,760,277,253,602,473,1167,343,1808,1199,70,1723,1323,2552,2613,0,938,284,1059,1684,534,293,262,0,2367,31,3842,3343,804,1011,-528,1840,1451,2351,1623,597,611,313,1954,307,7968,2160,1005,1988,1117,3370,109,1376,523,15161,653,64,1165,7019,1568,3109,4987,189,2467,5887,1354,23,0,978,294,409,261,27624,3846,2913,2240,5,150,882,366,1189,204,637,2383,1231,3340,200,48,2786,5313,201,389,3917,889,481,810,52,108,684,2071,339,572,1779,132,22086,0,205,317,4945,419,1130,1662,1871,1190,563,6,594,617,538,303,985,897,171,1633,1085,1980,1933,1841,42,794,905,8295,0,874,4321,0,745,924,216,1159,3290,582,380,682,92,66,252,6574,2094,294,1177,8866,3407,5205,3630,12,544,10346,1612,718,3547,914,1306,259,-1206,372,3518,505,1776,20585,1595,1000,138,561,170,502,379,14533,689,2567,443,2074,2374,1347,7443,10583,425,997,5966,2061,0,2887,1464,1315,466,2383,1649,132,482,203,88,2881,668,73,1309,2763,2959,930,12956,0,19,625,5511,1137,1329,1044,302,330,2857,68,1524,1633,0,507,643,2785,137,870,8603,18016,51,1032,981,431,203,3737,7005,111,565,889,202,307,0,429,4388,2557,3122,922,3796,185,151,829,103,79,1609,2489,989,58,323,5474,219,1240,1228,1660,914,1699,1167,19317,1646,242,382,2383,2666,1718,1147,216,153,1791,86,6791,292,1291,175,0,0,0,4717,701,3,405,168,4297,10532,4693,9064,6983,2,1536,1612,1211,96,0,1534,3403,687,7050,538,2600,0,1034,108,10185,3444,1815,52587,10884,201,190,94,1311,589,1853,4401,201,533,3840,994,96,1600,100,260,1013,413,181,123,353,2794,3850,2970,6991,2223,27696,116,2987,608,48,113,498,2643,1337,618,451,0,11,1165,2465,41,35,3169,14,431,616,3324,113,13014,9367,2067,376,842,1235,1,1276,44,255,926,1506,444,557,535,2671,896,528,209,226,1974,942,336,-306,4623,276,0,1189,431,2218,1495,828,12972,948,48,0,537,1938,9131,443,132,3411,1,10905,976,2531,1270,5359,10596,691,347,9962,11862,1756,4068,5310,215,106,0,469,2326,3370,144,733,-309,5584,61,1047,265,117,5473,106,127,380,0,255,2145,91,1853,11262,0,1129,108,1696,854,223,40,2048,3689,539,590,780,1464,1311,7,636,24277,1872,490,118,4119,1504,2087,5689,201,119,17964,1113,1596,2635,568,2626,4752,528,2552,3343,995,7968,0,2587,6468,4744,1231,3443,2568,1644,1354,602,1795,0,268,52,924,3033,6574,0,108,409,726,1871,1094,2915,480,1227,1205,161,802,723,6538,147,0,1416,14220,12569,555,158,261,786,27,0,2815,3082,1233,739,640,1843,322,7331,1765,1236,6046,934,1013,596,4775,3109,388,262,654,1855,810,1664,362,1293,874,10943,4539,2817,1646,808,44,425,2367,10252,1000,4380,20585,2601,238,0,3371,10583,16,1451,0,132,189,288,1027,6784,1464,8295,2917,158,1588,282,5437,1185,895,1857,4596,565,1781,3415,12039,12,139,2488,7111,361,2109,1093,2646,6,670,592,1965,313,40,4198,536,1311,766,2557,79,1318,3771,0,6138,129,469,893,519,4017,643,2338,0,6481,820,1784,1411,7529,206,1388,1807,480,571,3994,1693,80,267,2581,1134,309,6807,6746,375,658,371,2693,329,79,0,6281,775,411,2144,431,123,3792,4807,8603,2178,2991,4174,10925,2411,14646,86,11115,6900,5878,1780,183,3648,4112,542,243,942,254,0,0,992,23,732,4629,0,70,5063,4572,129,4984,1004,4787,914,2326,81,203,3951,240,338,0,0,944,5,697,1948,3654,551,997,477,3663,853,8278,7458,44,1193,230,8729,2384,3401,881,1522,4243,473,5462,4412,10332,0,238,62,2398,704,506,2352,938,1720,1492,1778,0,942,556,10541,1536,235,935,10861,2331,1228,125,2816,0,22867,1311,94,0,3371,943,9366,6746,1076,0,1624,801,1070,123,3623,533,994,386,1026,2424,1331,2206,0,4693,1230,3417,1767,5291,3403,133,4745,3324,5220,2600,260,608,462,14,1146,181,3114,376,9367,382,920,129,169,679,535,3115,1234,197,3186,3160,195,6027,764,583,0,5715,1204,4922,234,9421,4198,3576,1925,1129,265,38,1982,3399,691,330,318,644,4,1165,4708,2820,1147,980,2983,339,1940,1445,294,5887,11891,78,733,5028,481,314,684,1681,10250,254,0,307,957,155,614,426,8304,4721,395,3588,2540,883,4402,256,43,3856,3025,2326,925,1961,2037,459,572,452,5313,1533,1337,2986,1230,538,5108,1341,320,131,2074,1443,3338,661,7105,3735,538,4657,5,230,1808,81204,3518,25,2551,11303,2724,755,718,870,978,544,461,2795,139,1044,1633,6513,1388,15,2544,2007,2166,4579,2488,2190,254,1579,330,938,5372,3176,496,0,482,180,4198,817,5021,991,133,366,979,2939,4803,1255,8556,588,994,820,203,86,2855,474,203,7005,775,4112,255,243,942,1180,992,70,4629,829,0,2776,279,129,157,659,2493,3949,997,1699,1181,0,0,1948,306,18967,261,694,202,4831,264,278,7802,3629,547,4468,1989,2645,4060,303,2600,1818,728,955,265,123,4807,205,2812,6571,2758,2037,0,2223,1085,602,1646,415,2354,318,1730,448,994,19,1625,1144,897,704,1996,216,1206,1855,62,1536,824,235,108,2331,390,-32,172,10541,480,2374,479,94,417,2557,589,201,2885,2155,902,1791,2206,5291,638,4448,5267,3324,61,0,116,413,353,1712,523,1454,9367,291,846,341,113,13014,632,27696,3715,4675,3271,123,10185,1026,905,775,926,349,484,1830,2987,197,431,169,226,2424,1234,271,-69,1562,52587,535,2159,195,154,681,2326,961,2532,455,2013,1568,1215,121,1,597,763,326,1380,0,368,438,483,7620,805,0,302,215,5473,106,2346,3219,2227,6610,195,973,7766,948,2149,1413,117,0,71,1938,5359,519,-46,1075,91,598,1027,235,2,4945,311,154,712,7585,2489,2896,354,2667,144,760,1050,5296,12980,509,1644,451,53,334,6771,52,2240,4761,1570,588,957,224,2161,426,147,508,294,1825,158,0,4721,282,108,187,3764,1416,2801,494,1978,155,4608,951,495,1843,262,0,3561,465,76,1796,874,2140,295,304,624,303,273,3342,1227,283,3384,2367,5958,3735,2693,655,1681,866,774,2678,3371,10583,4176,334,393,916,832,3287,488,1947,558,235,288,6036,3,0,81204,5236,2466,1348,7929,70,459,2102,394,4126,224,9001,560,102,1088,562,718,230,-67,3848,579,1646,1229,129,197,3779,2016,436,413,116,62,107,497,2557,2646,3771,1066,1,232,1177,603,736,129,-115,104,589,3472,2845,7529,309,0,1672,1711,1295,2046,455,722,371,997,206,820,410,1216,11115,796,5037,1780,429,2779,222,0,1445,655,77,115,2722,1438,140,915,1058,0,4984,697,4787,962,1320,2955,0,12067,3006,388,0,565,329,4243,72,4328,395,0,205,1730,5,1965,19,7802,2352,155,401,79,1646,437,935,2929,2304,348,640,88,2283,473,0,397,62,3634,273,3417,133,1624,386,2530,2838,1026,2206,260,0,2987,1230,2335,8000,-27,1146,1004,197,169,393,29,920,3608,870,9367,1374,6027,1,349,39,583,1276,2364,53,1612,639,3114,1,1070,195,3144,3236,3208,1568,1191,706,2616,215,3230,726,3713,0,265,70,388,1727,205,2881,846,2266,742,2149,344,1430,265,38,3538,973,1831,641,1047,8103,523,0,515,8304,1368,272,-46,168,515,223,228,644,330,952,1165,0,2823,1490,48,187,8304,276,147,323,799,2540,322,495,358,2371,53,861,602,4041,275,12,1742,46,2027,3221,1720,2033,3189,2946,1230,572,1435,403,1071,3301,1723,705,955,303,3287,109,224,538,5397,1957,774,1188,1167,2611,3145,825,122,334,623,86,976,393,293,476,2724,2391,11,54,3109,3126,488,978,718,3255,1544,0,4071,29080,12569,2896,196,1027,463,3511,224,198,0,674,623,558,259,432,159,657,1808,392,6651,2795,1414,2666,668,502,1809,267,2473,372,484,1767,491,558,337,654,2427,386,251,1044,2907,828,1857,1962,2787,1123,643,62,2007,3463,482,1298,5329,6181,1255,132,2733,4189,724,205,154,232,979,5021,2469,180,658,2918,588,423,302,414,817,183,806,9299,478,1057,762,31472,1090,3738,1277,756,1636,300,321,1295,839,1974,2855,5475,536,1279,775,203,146,4124,14968,1451,3026,431,985,243,1707,5511,8,10861,373,1807,2776,1058,0,1381,204,267,311,306,752,1574,1181,1761,4629,154,4112,11650,6138,264,2144,482,0,4831,12067,1227,1232,275,369,240,2398,2785,62,1377,163,1199,569,0,1989,46,372,2812,2952,569,2812,1199,3904,156,205,1625,415,1812,775,180,46,4017,437,318,1646,470,3591,2037,2979,1092,661,2196,417,2077,2283,1536,446,5,216,565,476,-32,1348,228,1859,2306,2038,824,348,1515,1514,94,2325,417,3450,2543,464,1853,272,1925,2331,324,116,1779,346,353,27696,2155,413,2590,320,1454,1382,2427,2498,1003,2007,926,632,2206,1830,814,5275,2129,2717,341,2885,523,4256,484,535,431,1269,0,211,4012,625,1584,315,200,589,-205,-46,8304,308,1113,992,272,1413,1819,1623,630,2975,7968,154,5169,228,4945,1708,0,1584,1707,952,1978,1105,52,6771,890,56,1644,151,0,2240,957,689,2161,1527,8304,698,494,2801,4761,834,139,12,877,2066,555,48,235,1595,5741,426,187,166,1416,1189,486,0,2557,3138,1720,1765,1506,3585,262,1093,76,4680,1477,3561,3340,1071,247,112,527,2580,975,2986,2048,2785,127,0,4951,488,1154,624,4343,2367,283,6403,802,3735,2693,0,1027,3902,243,0,1055,60,5397,217,6551,303,2093,1167,2376,0,949,393,2678,11,4416,390,1934,3511,1696,1278,1011,2939,3466,372,549,1102,973,491,3337,368,326,12264,203,502,346,4328,279,131,2646,6,1579,2007,1,469,643,514,1289,3676,0,104,159,728,107,1946,1519,5112,1090,4833,1925,335,371,5475,203,50,11862,820,791,1279,455,536,1693,1495,985,935,410,51,679,1780,222,1210,1693,876,3308,0,822,0,3904,2488,88,121,0,0,464,79,2557,272,2543,1224,320,4256,1168,703,136,3810,765,1146,358,1511,557,583,557,113,2850,505,825,5715,-215,2239,376,15485,2918,67,1664,192,1519,0,0,4708,3283,1211,347,423,3982,2506,697,456,324,5768,1517,0,482,638,2524,4539,2039,128,4787,1147,1978,51,-122,294,922,51,694,607,2155,159,7050,1055,8165,376,3701,644,3623,360,284,1893,69,1355,1506,1393,487,655,1788,0,41,215,1187,0,1213,653,3426,238,1690,0,27,681,18188,1006,1352,2340,366,-374,1231,1347,1778,2201,0,2557,0,1320,0,0,22125,6188,1077,45248,3291,562,1046,87,10281,429,3648,863,3,2648,0,0,655,854,858,567,399,257,3735,57,1235,257,401,3290,297,33,1179,471,938,1636,1243,0,1679,2022,2033,869,3611,3624,2488,2228,4,2557,1390,1228,1265,6046,816,0,118,1165,99,1697,866,0,5301,7918,1,160,414,406,0,655,514,11766,0,2892,762,2037,255,1536,0,2,1435,1219,2971,440,3301,2321,213,0,108,920,1031,294,527,1030,2503,1547,1,1167,523,-207,3283,1147,1170,4642,2666,792,127,0,0,121,618,2495,569,473,474,0,1796,520,118,3342,3239,23,40,226,939,-20,940,5,0,447,126,4718,843,656,91,0,2984,870,7608,5115,247,154,1731,3634,19,1129,0,12264,478,2081,965,332,1163,1960,294,188,254,1377,523,600,387,849,1317,273,0,2538,133,146,11115,486,159,1201,2590,800,0,385,238,238,1812,413,152,1031,3143,613,168,2144,1331,2611,925,985,367,302,47,1946,2266,992,3544,76,6013,19,232,993,535,127,1528,324,1639,0,-370,11862,323,3940,8897,2002,668,2946,4216,0,23076,7459,5,4147,0,131,231,720,598,1819,587,1495,442,271,29340,1014,2366,26965,1411,617,4736,2540,403,423,131,4041,273,101,0,2544,1699,2689,3160,388,393,69,2658,-366,466,64,580,3317,955,7441,377,994,1766,-236,774,659,149,1405,290,595,4613,0,2204,576,3840,1358,5169,0,533,1788,1070,80,3254,1309,0,1534,535,368,415,3434,35,2948,2473,1133,306,-382,1224,5359,2166,925,495,2374,1925,279,842,6748,-242,3917,1711,298,335,2240,1478,390,1234,3704,890,3663,119,167,1022,305,172,3047,616,453,526,169,1347,378,2889,57,0,1293,2085,315,1627,1853,1429,3951,780,674,218,763,4151,2787,26,153,362,1184,6840,3145,660,1311,215,3324,0,747,448,1246,271,1271,962,3054,0,346,3550,1379,1093,295,129,636,4101,3352,334,341,8491,227,125,3608,2536,4688,0,1113,1857,2892,6,1076,-930,1382,2048,608,-274,132,344,2230,5679,885,3764,4017,368,569,272,167,1388,7895,2160,1587,1723,691,243,3696,71,0,3765,977,15161,0,776,1994,616,3512,6529,0,2129,874,496,1539,348,1287,12356,5763,-267,443,934,4859,1843,1289,19,8332,5517,949,-157,254,136,285,874,1641,1088,1138,13107,2557,142,733,-405,11008,246,0,536,1506,716,354,1757,7554,854,1230,1303,93,-291,69,771,-675,973,377,480,552,3733,-158,136,4590,283,0,419,462,4,363,7560,1297,40,436,403,5637,916,1942,385,-1042,3696,3384,556,315,2812,324,-519,188,267,21,2038,11115,194,169,0,2981,67,360,3376,4718,387,4266,396,2085,62,-268,1697,341,109,0,4158,156,390,36,0,50,102,57,973,3,1245,828,0,167,66,687,2688,625,1742,1729,889,224,768,1809,423,335,182,4401,607,1084,0,687,659,1435,8828,69,79,990,2290,679,-172,548,565,228,0,228,454,514,2885,567,2235,5267,29,291,4889,502,3608,3556,-41,3944,202,1175,974,3141,4079,0,3357,2587,434,1291,315,394,5561,3528,437,3119,264,3285,1396,510,-101,634,4210,0,84,278,849,1612,204,1854,4661,1579,1561,1468,2887,224,1760,3735,19,61,95,5,360,1730,0,7968,7005,3020,605,376,891,704,4348,2353,8000,2781,541,3576,2725,2354,775,622,4,5,3943,802,2351,1807,2,2297,779,108,459,110,13711,3415,2376,181,448,714,3608,5310,2144,2281,2679,1495,1304,78,437,7433,6112,155,9883,495,294,8990,3173,53,640,217,804,1374,3,502,61,153,8,780,630,2161,32685,3384,5310,383,772,2976,2729,520,205,2378,48,461,116,272,799,0,1534,4457,189,1880,0,11835,839,952,-197,1657,1947,30,2027,1332,72,153,70,36,-198,5,2326,67,598,1527,1623,253,1445,256,1181,1646,-309,670,2196,947,71,521,5115,-17,556,229,325,5112,11821,650,8648,168,2486,396,1791,168,3308,4721,18111,1146,237,618,1085,1028,114,0,631,660,2421,794,2138,2965,222,6997,665,285,473,2226,245,1133,294,451,19268,1461,465,0,654,79,4216,66,0,5539,2599,2187,2120,339,8229,346,158,7103,4855,3696,-357,8304,48,384,751,3546,73,71,974,306,3463,3676,459,286,-11,273,2665,3290,8535,1276,2736,10287,1624,0,446,395,315,484,0,507,2987,801,0,572,2,34,1075,508,926,10861,24,611,1857,329,2635,225,1604,4657,1406,6728,611,1805,-399,208,10884,3472,556,7192,13460,2988,102,1868,-578,241,162,5320,366,1504,262,191,73,358,483,5047,5862,0,2843,351,372,27696,133,3,15459,2551,571,7803,0,24,2104,3158,10,147,12857,4389,474,2326,3644,1988,1595,331,4623,12018,154,190,3904,882,53,6542,687,3064,9228,800,3505,5958,667,36,1059,915,1547,3050,7050,2,14144,705,1758,476,348,5969,3195,2013,121,82,935,3754,104,4751,1529,102,1796,935,365,222,0,1015,107,82,877,2557,1673,2467,980,183,387,459,1227,302,175,182,-367,876,201,796,0,1559,70,2734,3528,469,3311,152,1047,484,1587,4461,3551,495,3792,489,159,985,369,257,2779,638,833,9314,4745,2693,160,1697,0,-770,20806,3136,1430,6831,664,49,604,931,699,212,362,2667,-754,517,258,3140,658,255,5350,9756,3646,368,1,1435,122,2027,496,83,467,0,471,5715,-389,364,25,3450,2374,5514,455,739,336,436,536,0,0,1181,265,2573,-537,1128,2780,405,706,2661,2734,196,533,6728,1227,5,197,13,284,33,2333,1705,2039,381,3738,4401,553,-725,67,330,5943,25,316,4389,0,1389,398,247,0,131,604,0,238,673,7944,3696,347,-199,337,5091,970,258,614,1929,2362,8121,608,3723,117,363,130,2225,-105,7687,222,736,84,196,2123,-482,700,1388,222,592,0,411,-104,475,181,653,0,0,942,13,200,660,1309,-364,-616,2596,5802,568,296,561,2894,2344,1345,171,1838,549,1097,1148,3818,934,-637,65,24,907,100,686,3,4692,-197,4335,664,307,5,-67,3754,1139,250,3695,1025,328,0,6203,1904,347,1289,129,178,81,599,190,0,563,105,3518,248,961,640,1144,0,4381,1134,570,0,357,593,229,0,1157,234,322,113,2139,2251,0,2756,7132,2047,0,1151,5244,1,203,2162,337,0,2,1365,2366,-803,873,-76,2990,538,6388,840,1847,40,30,860,123,667,601,616,259,307,-29,849,47,2194,3413,1299,622,1901,166,1717,-160,89,493,2644,596,0,606,-346,550,237,415,-125,1984,121,266,1723,1049,21,341,233,247,3117,242,24,7007,1851,573,1178,748,-407,4695,2500,86,968,192,93,0,0,-491,1517,0,775,276,5781,0,901,431,911,96,0,-288,2923,16,744,551,322,199,0,0,633,203,583,2749,769,1924,1064,1099,2971,2657,21,0,0,9447,433,375,2399,148,224,147,744,-94,9,1218,1106,0,167,0,324,127,230,344,105,634,317,2234,223,230,0,313,289,0,3676,-184,3954,2951,78,1526,0,233,67,38,1948,5296,612,4872,131,4943,-257,331,105,1160,4930,471,35,1750,5275,728,0,263,601,6429,1076,-57,2,514,-375,28,404,3430,99,2669,202,715,674,312,1463,789,7,473,3150,12223,1541,142,3,1207,351,777,997,15,2819,126,953,10,-577,1159,1350,88,-245,161,41,450,782,-666,-151,55,-666,87,4629,2176,3431,208,0,240,1388,5807,17,0,1743,1008,151,3196,1411,630,0,561,0,281,40,0,1032,-207,235,0,367,505,804,-301,-813,79,50,1205,365,-1415,223,1897,22867,949,1165,1655,260,0,-880,107,1624,1257,355,579,1403,-176,-513,586,1840,720,97,13,140,521,364,416,3304,1880,982,0,173,911,0,549,704,476,3738,634,1134,-128,7102,186,1918,0,250,31,631,62,479,1121,138,0,239,866,1466,3570,440,714,674,127,588,-413,882,877,337,192,3350,99,806,6739,228,-232,556,761,207,221,865,0,1851,-272,367,0,230,0,1954,379,-341,179,13,839,192,576,643,342,1329,219,141,402,8023,1131,1925,0,103,1395,621,1161,24,2,295,-208,258,119,967,-90,0,0,392,23,2486,81,1563,1602,2144,273,455,1038,-384,307,93,127,-150,20718,-218,5222,484,75,1480,1111,639,29,6374,363,-94,92,222,249,1450,2290,0,1026,3953,1426,53,160,171,3237,192,0,385,2591,39,44,5432,349,20,381,4025,167,278,263,4968,581,682,779,2139,5888,0,3431,188,3214,873,-32,1958,76,1013,2731,93,173,384,491,728,411,265,-3,586,-196,700,-67,1600,508,486,243,203,1944,882,2924,20,1417,340,4062,133,0,8876,423,58,5,175,1349,6596,1741,25,0,4374,16,574,615,0,395,678,25,626,165,746,376,-55,0,21,3003,92,511,6904,795,0,166,157,0,0,174,1536,1114,816,1202,600,6,2655,499,0,197,289,5336,434,691,-250,3696,2595,1077,501,21,797,1659,97,2,384,63,1327,284,3395,2038,15,1187,3047,11650,1387,0,1387,446,275,1655,196,0,1327,0,206,523,0,444,1401,205,3957,9645,620,1541,-37,-601,197,-276,824,636,19,641,2983,0,252,119,171,0,-249,455,10,529,1859,613,751,0,1471,7503,68,530,1319,479,360,2163,136,-196,4087,1354,2,2337,514,6212,424,499,8,1305,300,976,2700,-497,2424,-2049,2081,189,0,327,426,1291,3473,434,105,975,-479,62,0,0,1202,2854,9,203,0,2467,3850,47,1895,522,-918,-193,48,0,201,598,1506,26,1582,559,0,-411,36,512,786,3658,-227,423,947,324,0,1694,2894,2693,644,185,1583,2399,1322,194,1221,-302,256,0,1335,682,0,3834,5312,4095,0,-1386,525,2,0,1500,378,552,-84,-240,501,5345,1559,0,0,1989,598,94,3473,349,3876,1934,2,9,11,60,882,499,198,2093,74,1220,1342,6134,3680,605,104,683,48,15,6714,623,234,599,9916,3160,0,2306,2550,701,3244,402,6014,-81,898,863,235,12,298,3463,13338,391,569,54,875,631,3434,1610,505,11528,102,-581,0,7298,0,909,337,829,301,147,282,1294,0,995,532,785,3028,1022,0,792,490,417,2071,1187,280,1236,910,-994,1333,850,3773,460,3140,1028,4264,3932,-1,1682,814,819,1265,514,1764,275,592,1143,546,1164,1381,0,659,192,-12,186,2246,124,2087,1298,101,46,262,0,17924,167,967,0,1547,388,1,0,80,4168,0,781,804,993,34,0,520,567,7177,3629,2199,223,185,5809,210,-199,897,0,7378,593,1224,3031,708,542,1141,-42,-556,482,1501,1850,2266,3283,300,1,178,187,229,42,-367,8,256,2410,2976,-426,39,1428,2030,-1636,108,2094,47,618,162,-671,136,6958,953,821,131,1272,-306,3201,1114,4168,0,0,3309,1377,150,553,458,565,0,2278,210,15578,236,1704,1693,372,1147,3166,1074,23,1431,814,142,810,1604,0,488,4110,1746,-208,152,0,399,318,9072,3071,177,10786,0,879,1887,3331,3,7668,55,0,2998,524,106,85,249,10,523,1321,-194,4517,964,923,2677,873,-1050,361,1466,782,3576,3,-112,759,195,15,-1053,488,287,578,1509,3794,4324,793,943,0,19447,565,1541,1079,0,1310,98,5,0,9216,2551,0,154,-150,427,664,0,680,4,196,290,221,180,-139,79,236,1120,-2282,2200,-461,385,2291,54,2850,1235,360,1352,905,138,0,221,-254,1510,1757,0,934,0,1217,-57,82,438,729,0,374,-341,-367,592,457,4819,-85,467,-309,21522,467,870,-93,75,292,0,263,134,91,0,229,892,197,-213,-321,604,606,1518,192,0,289,535,33,243,0,1279,1327,297,740,278,553,406,5,2071,0,932,-119,381,1309,542,30,0,-15,318,1405,5271,-51,3914,4976,16,1595,306,215,0,2628,1778,1423,659,-31,-204,1462,723,3954,33,4151,0,219,2728,76,4388,-210,2427,45,-74,2173,8422,120,1320,245,9569,0,2770,1221,298,967,0,0,1368,751,2597,-35,629,1330,277,1018,11,0,905,15474,54,-246,0,1951,65,368,51,3492,21,8403,978,165,350,385,2058,-11,505,-547,562,4222,105,0,66,0,13578,11222,1737,59,54,2282,299,396,184,475,-496,117,713,45,1496,0,886,4592,-38,431,-292,2571,191,1689,8494,159,7,35,1007,106,0,0,216,746,764,193,368,205,96,8016,221,157,4830,1039,71,1214,0,0,116,100,91,-398,2820,223,2278,-782,8919,104,3387,0,449,4787,1240,191,2185,0,2857,3782,83,6,88,294,84,84,602,0,-470,-37,2145,937,2059,3598,1206,1273,46,534,-300,4,386,-396,0,14930,-600,3733,465,994,758,256,3461,124,355,1514,40,-320,566,388,577,17,260,0,1823,1463,3390,2769,215,12531,80,317,217,4874,275,738,1839,556,207,-461,789,1133,4253,255,582,743,570,786,295,2583,1285,287,658,246,3463,291,19,5700,0,-346,-456,5953,1693,350,-181,1735,157,67,-444,0,171,262,0,965,0,6392,194,2308,941,46,131,1844,281,109,268,298,-525,738,94,7702,857,-354,0,112,5735,1807,-30,216,127,1096,5193,6,339,0,625,3776,1239,93,304,1409,191,79,2263,10438,81,964,0,3839,586,600,1343,113,240,194,278,260,1013,0,2363,913,686,149,500,11766,137,0,335,16,0,9851,525,788,1016,292,999,2870,689,-100,1084,154,1653,2378,1515,1636,1516,127,2876,1384,228,2481,475,1401,425,244,-6847,0,386,332,1367,120,19,3,-98,303,-752,97,794,1880,732,5261,712,28,0,827,110,377,-344,261,104,610,4328,1371,193,258,56,136,1222,3672,2188,924,11431,140,27,-468,438,-43,1161,458,-441,2278,0,702,69,182,318,-181,261,244,880,2283,550,7752,6,4471,1969,219,76,60,8,19,20011,608,1068,-269,494,159,-754,157,2110,2603,992,593,327,6766,432,25,5299,291,517,97,1636,996,0,710,1049,556,629,186,0,1264,64,2497,-97,161,732,94,2404,21,2658,131,0,351,564,2240,46,132,71,0,267,841,51,7735,417,-14,2490,0,184,19343,947,90,10218,72,120,130,41,0,673,-131,2607,5,23,180,68,0,565,598,1609,1047,5641,557,1066,35,54,1806,39,0,930,0,2764,4492,2166,0,1575,201,318,1682,242,291,304,108,1303,292,89,788,573,1318,151,-37,522,2315,-718,4,-43,596,670,430,60,0,678,159,1345,483,2443,1258,389,0,2067,332,80,84,2702,37127,0,1813,1612,198,1106,2321,33,101,-59,486,136,193,5083,0,8,21,570,644,1104,6004,1503,896,177,665,380,151,179,4,116,0,-57,894,478,10,30,578,2360,-47,-805,782,1282,766,348,296,908,0,5276,658,1089,1042,544,134,73,13156,30,-66,1373,8564,81,5426,16,297,734,1514,153,3503,-849,1441,2487,927,598,345,197,220,9,5678,0,169,388,61,7100,219,-76,1432,879,0,1498,543,1797,2994,1690,1573,0,173,989,335,17,-74,8319,15341,52,-56,1670,370,466,2583,1177,311,842,2744,503,62,4841,253,842,378,637,-372,135,7,446,1328,252,125,1324,-244,657,2140,5571,103,2133,8876,22,3854,32,337,228,1125,1612,1310,-210,0,975,306,170,154,1972,994,380,54,512,1027,1770,13,438,162,-183,698,165,3499,378,855,32,0,0,2994,1238,1717,224,1048,592,396,268,0,5223,1611,780,399,1649,974,22,507,10787,-259,414,67,328,4,471,3038,2276,-848,2662,2597,550,357,1153,4912,194,0,565,649,-45,1310,2308,4,1297,1808,2080,5034,322,679,1742,154,140,377,3644,-50,453,45,46,2060,1316,-361,349,-68,-157,320,86,681,0,4567,40,706,420,0,65,-27,114,678,3105,281,1932,481,156,0,557,1467,428,994,769,108,19,199,448,473,726,0,536,2194,1406,44,-6,1631,4054,75,172,356,1508,49,544,-383,606,-410,469,2,241,0,322,2193,144,0,3428,10,1841,84,622,309,154,1949,2605,5163,557,119,0,356,1395,20,84,609,1856,608,0,1859,282,154,222,897,131,0,37,1704,314,399,300,382,1301,0,930,21,111,1199,1085,230,558,127,4844,826,30,2708,108,577,2764,2834,-324,4,559,271,5774,816,3,274,11265,70,405,22755,557,1554,89,444,4951,30,1,0,0,1093,1561,1861,333,342,388,1515,654,-467,398,0,12848,5205,-181,250,110,445,175,458,5127,928,105,18558,375,133,2278,443,23592,61,192,628,372,222,2469,459,254,563,-29,494,781,2793,1134,4568,0,1189,692,716,520,2133,0,70,872,2458,-30,409,60,667,620,-60,237,373,1221,0,999,67,-463,7934,816,2557,546,78,24450,765,91,703,589,0,1755,269,432,4382,109,52,922,1779,8,-271,0,14,215,307,265,323,800,392,406,104,1453,1168,766,1784,3,1412,-312,167,1239,776,-13,4519,5769,414,958,922,1585,910,3738,1387,-3,144,103,0,-547,9326,1281,267,0,512,3531,4358,222,22,37,591,12,131,228,1794,-34,416,1170,0,466,1463,6835,-397,5222,0,526,2422,430,20,-211,1337,4798,1077,9713,5547,2433,105,275,366,-315,-55,0,2993,3715,-8,1577,588,0,944,9,144,1222,0,668,568,0,-861,877,1107,757,30,287,3079,3238,1012,203,2880,486,1708,10635,1728,67,387,56,18,0,174,162,-16,113,2940,1954,182,247,-58,1685,410,-367,6835,2398,-312,2079,573,399,57,641,1575,-475,128,305,-80,198,1170,683,2312,28,-15,476,0,217,157,83,1871,11016,4023,-57,91,506,161,633,41,-375,-284,0,0,2413,134,127,-253,659,314,6362,33,392,454,23,2034,185,0,738,0,862,1256,371,2503,393,557,61,2991,557,173,80,3611,-482,2982,458,11,0,328,111,2223,37,-15,9051,284,183,109,934,93,811,753,538,1098,3086,2054,2501,209,972,3,326,3323,4121,13849,630,624,7503,0,2850,672,492,778,106,4929,0,545,1728,1401,1943,11,-170,239,272,113,-120,-388,51,1689,108,25290,1,-22,167,1796,677,593,316,855,3096,325,1023,991,876,1271,165,578,2595,8226,657,0,1875,254,1252,790,656,329,83,138,0,39,426,693,2854,787,102,855,1675,1996,473,1,1064,215,138,221,720,51,0,606,6551,-294,64,169,230,2485,209,71,137,2547,1800,6512,1476,534,1696,219,557,1277,-30,175,1595,723,297,310,1012,-103,621,548,182,484,1342,0,66,21,608,5345,461,5801,0,78,-1415,30,100,1371,62,1005,517,0,382,468,178,211,57,114,1222,1660,-9,0,30,0,369,1571,-187,0,-257,2459,1219,5784,162,1909,-195,4,350,87,777,3140,1510,756,1086,339,205,2717,138,1943,744,79,2400,419,414,27,2823,4692,1261,0,0,483,7369,804,2644,175,0,272,252,4053,2158,299,2731,50,36,220,5746,0,238,76,679,1390,418,2891,497,2933,948,0,0,687,-230,2575,7649,59,23495,365,97,5,739,-177,-454,1267,1639,900,-481,528,34,223,218,130,1156,314,1374,22,1129,130,-202,293,275,9224,515,760,2302,-389,133,1580,1020,298,13901,563,-27,2113,980,352,96,3842,3870,589,7426,1,6101,231,876,86,363,8298,0,93,596,168,29,6,-934,297,533,175,-292,2,39,396,-338,2050,510,477,4176,0,0,297,167,-353,1525,211,416,0,1001,75,7602,0,163,673,-154,3723,559,13774,403,1696,722,296,257,418,488,900,2945,-327,115,218,286,293,201,4331,388,483,502,306,-337,950,2410,-633,0,265,698,459,0,1307,8785,302,484,7,1539,3098,745,2050,2766,4641,1167,322,750,1559,0,0,46,0,1862,7831,21614,2137,3247,14,0,637,10655,94,997,2084,1734,805,317,369,100,-44,3296,-50,-411,922,1128,5423,1537,0,519,186,83,1365,1734,51,1567,96,8982,-209,-6,355,0,0,1310,2520,1629,573,1655,26,186,13658,23,87,49,3810,56,384,8,2671,3240,147,63,7863,946,237,0,245,315,1139,0,-102,3984,1988,125,505,834,494,947,262,141,-236,2555,298,1179,31,357,1129,861,16,895,504,2955,122,2204,111,1566,661,2485,3756,43,1529,84,311,408,1866,42,260,2994,0,1133,2305,143,4721,5366,71,1437,1093,817,196,205,0,1002,2916,4513,7,0,253,28,-65,376,1018,260,5539,758,262,236,396,1857,4722,935,4567,220,8,109,0,456,5553,137,299,162,1533,301,1697,441,898,945,0,1830,6138,442,0,1556,83,430,-336,528,111,1556,408,1067,277,257,0,2549,4612,433,680,3851,442,642,487,171,13711,187,101,343,315,205,106,477,2875,1000,-825,534,452,623,310,454,2306,-126,399,0,2109,0,-470,81,1104,457,0,941,-466,2600,3,90,2570,181,66653,556,110,9,0,5249,2499,276,3343,9994,613,925,393,339,1216,1818,2109,46,980,3060,46,274,805,3151,160,0,694,509,237,0,16,504,-274,0,0,2565,91,558,1032,351,231,3706,5,342,588,3165,0,464,837,34230,5435,102,641,334,149,179,61,375,2088,29,3839,2910,3770,141,0,65,-306,3740,0,131,23189,-1,6979,187,1203,6298,-243,181,661,270,1919,492,91,775,2669,2605,1277,568,2344,4321,1064,241,183,9214,513,14850,279,4,-298,522,0,8,432,-378,338,2878,62,1303,255,0,1125,1238,370,2417,4,444,28,2139,194,195,0,189,220,189,746,13054,0,23421,41,7408,101,384,2556,808,0,1158,334,296,1653,1283,2295,-42,55,365,772,334,1060,38,146,439,124,190,211,871,1513,871,1298,360,597,457,2457,2069,47,13,-71,27,-114,2645,1025,2044,10,0,644,4293,-238,-613,1573,1728,15,-160,312,33,80,445,4565,3262,559,4840,-302,73,4790,1078,284,493,100,1042,3665,-9,576,945,108,93,-97,3768,8,66,0,-637,0,26,4726,1782,3430,332,554,0,542,393,134,178,0,23,0,202,647,143,1928,1630,102,0,1790,0,1675,-745,-56,0,2396,223,5956,122,4888,183,0,-262,169,3364,15,126,1953,1385,261,178,1819,0,6337,214,0,1153,415,101,1490,779,2036,333,963,4709,1074,90,243,414,0,2196,1416,281,518,3,36,9301,883,21,3091,2791,217,1579,0,314,655,212,523,111,1166,582,513,75,1992,2910,66,599,89,796,571,215,1088,271,11494,2741,1694,383,298,155,694,179,356,0,179,244,46,246,7,1746,992,4312,103,506,461,268,-454,365,2,1667,2265,4622,0,188,0,592,-276,1254,652,192,148,1812,3478,264,71,1376,668,703,-25,48,2453,0,133,277,78,517,1,7944,3,623,290,8918,41,199,100,313,419,0,0,437,1357,1610,0,709,10086,0,-311,9324,7832,191,6637,0,172,1131,797,120,215,425,476,29,527,0,1093,70,39,296,1464,2226,1286,-738,3643,5260,3096,-312,286,89,-72,4305,1487,0,-78,3495,3317,1906,2996,446,1590,5214,134,8,3120,171,39,171,-140,728,1637,-143,802,795,265,2567,3402,1336,306,10984,526,563,0,0,3107,0,1146,5252,1195,488,1887,49,280,-461,633,3955,-233,1626,1103,223,-175,-3,0,3918,284,4577,876,3754,128,0,547,243,3571,130,-529,1636,12180,297,413,285,19,44,62,79,226,2388,98,48,255,2,643,13410,0,3443,2946,21,1212,2183,135,5903,271,303,7264,0,204,444,-27,287,800,4645,1481,1575,5691,294,154,3950,624,-504,111,1131,322,0,-89,3,1313,462,11,3163,2,3157,4348,-391,7816,5763,240,508,2,1654,860,154,281,427,467,91,1319,259,-488,60,405,177,-412,282,6181,373,-92,49,0,-283,1313,2452,517,350,1623,-435,333,3770,778,483,2170,541,205,2269,0,973,894,-12,0,5154,-32,999,24,0,771,1350,19,709,2040,303,-311,690,2551,-142,-448,99,18,37,3868,5041,260,67,157,1513,1044,113,245,505,92,3685,1636,0,349,3067,338,282,1190,73,384,-388,354,192,70,22,335,2775,592,1271,48,0,4869,737,83,1104,5,23,1137,181,8267,871,1824,4,421,561,1498,657,0,9192,7876,0,192,803,1694,5559,737,174,931,95,0,4367,68,1308,353,-40,0,-312,549,8837,1020,3540,663,2590,4982,6,118,-258,-221,2596,467,3100,722,797,476,558,162,1842,2348,11,2103,967,116,2805,1386,0,0,90,37,7,676,3817,144,230,0,1109,2925,397,865,816,396,0,241,243,233,43,290,101,1151,45,1410,1234,2767,5969,-272,1036,9324,1043,1473,183,86,0,2388,160,385,4,119,0,742,0,1724,0,503,68,5914,192,15,2157,3494,275,318,350,588,2008,35,2152,122,160,1934,0,613,574,0,341,158,1489,2911,1178,96,4157,-575,3419,1104,57,343,-326,0,3104,648,10041,-508,327,1150,1074,27,3720,92,7845,157,428,0,54,13,3230,1637,6981,1,631,7296,3014,920,735,1300,541,0,1257,4522,585,150,202,2137,2674,625,73,2656,3,0,95,106,477,1529,28,1743,924,457,0,736,0,787,-396,1573,0,524,1558,159,53,838,3144,737,4056,162,0,217,3324,2895,0,11254,-280,808,0,246,-972,750,2430,-179,1412,-1531,51,88,-209,799,4048,1310,573,6798,1214,75,387,2246,3,883,1503,-322,1301,950,2326,-78,2405,113,4564,387,1865,4105,258,19,3773,1808,1304,3702,163,-151,1602,1314,84,1906,291,223,207,518,241,-126,421,38,800,32,1477,160,4415,-397,590,778,19,0,-28,3119,122,0,4157,102,437,1,-354,1234,901,247,180,274,92,813,1170,-183,0,136,103,23,2242,137,1047,5731,2707,-329,158,219,2775,461,145,309,733,8417,1400,72,0,9710,1377,881,0,285,550,285,-360,0,72,930,717,67,6227,5252,561,1393,-330,3261,361,807,2305,-11,2223,29,1308,1337,17361,6,370,8,666,0,1336,17672,35,705,2087,4466,844,321,2781,34,29,2443,3975,256,696,63,316,-119,6570,418,0,8784,1970,204,643,304,1177,544,-498,0,209,665,310,2149,13818,526,-218,419,517,61,0,514,365,480,717,24780,1396,414,3100,0,1218,789,859,0,3868,232,1686,29184,144,194,7641,351,150,1532,1549,1057,839,880,4464,6,0,694,153,110,640,3060,2836,1127,11,982,222,627,5010,468,155,2478,668,35,3304,0,237,0,-54,0,240,759,992,1379,8564,0,119,450,746,2032,636,-938,2007,33,2887,1444,42,522,0,3884,472,2060,628,398,417,610,2585,321,0,4,29,892,0,1387,454,71,-35,2251,2460,34,1281,3021,141,500,1459,-244,1356,-289,1396,9,70,877,113,368,89,450,463,1397,310,270,65,865,7,145,327,429,1167,2995,974,784,316,0,211,342,628,0,769,2278,1351,49,1082,5691,916,325,0,2475,3717,288,1130,2715,23,0,-84,290,36,-488,-473,1272,0,-6,510,818,543,7867,1212,533,291,573,1279,280,574,658,2019,22815,887,303,326,453,0,4063,2403,123,270,424,1230,387,744,696,4594,1002,-173,1239,354,375,3,6116,4515,727,3846,1128,1173,27,328,0,-87,2830,4,0,80,2768,5,553,-102,2079,1,598,34,-19,292,144,1113,121,904,-498,0,67,3967,305,260,258,0,72,145,2564,7811,5744,673,602,9374,5016,508,156,0,12,7984,255,211,1854,-497,431,-314,552,465,544,-636,7780,274,1148,67,914,1293,111,937,605,1457,1617,29207,812,324,1327,482,134,347,1824,410,-38,581,3100,0,1138,0,304,313,1898,142,4696,135,574,1322,703,0,1,55,786,22,890,451,59,15,15341,-273,28,58,103,244,0,880,-141,447,62,148,79,9,578,-382,888,382,1390,-104,22,-36,130,77,1031,92,1063,0,282,1394,16,975,12276,313,1648,6,1127,1070,1040,50,62,-755,4707,925,0,867,-201,120,61,0,687,38,2806,-27,2498,390,-423,1587,288,822,-222,197,159,681,0,495,414,151,2572,320,304,1299,740,537,1581,708,178,671,3,981,1042,1021,1035,1114,98,24,486,727,-205,895,319,206,-414,-1489,0,249,927,515,1060,308,808,431,396,-89,-253,0,60,695,1141,791,1381,0,-28,412,310,1319,0,-314,511,-152,907,22,0,8044,1854,1794,2,2321,144,1,762,16,20,2070,308,1617,39,332,713,2885,968,4150,687,333,1821,-436,6929,126,2019,878,6791,0,110,28,443,236,2707,1753,1182,427,788,0,-509,-110,244,933,940,1631,-505,7336,-40,25,0,5,-92,497,2356,3,128,390,300,827,25,340,867,140,3,4920,3237,0,1096,869,1900,413,-588,0,2490,20928,560,0,826,115,107,320,-399,703,328,148,2298,64,4013,0,633,-1137,902,2850,313,923,8,945,2261,18,5828,6307,537,393,215,132,35,125,129,0,315,2567,883,1120,0,1117,773,390,1358,216,317,2369,125,6,15841,51,0,-79,1881,456,1873,0,445,2123,767,229,3783,140,6,859,261,50,-462,0,283,91,0,442,0,1182,316,316,402,8725,102,0,615,0,3060,990,1937,428,655,16,2044,20,29,-155,340,1776,23,863,7051,1049,174,137,783,116,2118,10269,141,13,0,1996,1129,561,539,-349,6971,497,362,4497,2496,2850,0,1199,66,3756,1170,944,50,171,122,1780,136,179,232,82,630,1202,867,6200,-422,426,107,-96,581,402,555,67,72,1942,373,84,394,925,0,6690,4178,20723,887,598,1,4314,2155,760,1248,5122,191,230,7010,1970,3935,437,2323,2213,84,4545,200,206,2937,221,1521,102,519,660,500,1661,961,-273,7067,285,221,479,1595,65,640,490,1440,918,6507,4,2289,131,1852,-749,719,4613,664,291,24,823,1235,1195,21,363,0,0,136,846,0,505,3986,11862,145,2037,441,105,465,320,-762,316,903,123,273,1345,1027,1855,1315,59,2682,2682,3164,342,1742,-106,67,430,-234,0,-206,656,603,1102,117,-13,1993,5920,881,0,953,781,1530,2667,5310,1468,0,144,247,258,595,259,2408,1356,292,2384,307,292,3131,0,2258,1348,741,0,741,521,5315,1660,163,1163,122,1,493,0,715,558,16992,179,198,152,2805,6332,2420,580,259,-451,261,323,0,235,526,4366,0,833,-13,405,3517,699,943,794,503,-700,644,335,719,-195,972,5050,232,2406,324,168,374,658,-1,280,0,0,2064,128,0,863,50,187,-614,841,206,984,201,585,8514,728,80,1246,818,1815,0,210,71,1869,1040,920,668,36,-972,382,-170,5172,1,922,3016,0,1101,3578,0,0,-190,185,156,503,485,392,625,468,280,181,1401,1349,5737,1187,5231,3185,3228,80,2800,10,331,223,0,35,299,240,3534,223,-194,1545,440,2538,337,-492,53,91,316,3196,2697,3,244,410,159,6432,-701,24,296,1,1965,501,3558,177,204,46,2047,810,1914,56831,386,469,69,-124,600,3842,-720,1127,423,-59,0,1489,0,1451,452,283,16,973,1257,-1701,567,-1,3310,115,321,71,759,23,3297,578,4279,234,1137,8669,488,1077,4790,256,974,231,196,2002,218,1011,2761,92,10005,1168,168,1710,207,18,306,8,-250,449,1654,714,1498,695,-15,14,-287,0,-978,0,20,700,-58,841,951,-63,641,195,11,120,450,8379,206,1544,2990,866,1744,-382,214,147,81,202,1314,-60,0,-331,1504,2363,773,941,2116,-971,5,454,53,2578,854,16397,687,1894,0,1150,136,7313,-239,182,1590,-565,930,1091,640,767,480,1363,446,167,0,4196,725,1716,-45,410,-97,12159,395,969,86,395,0,0,829,-15,135,1585,-910,8806,43,136,1195,11219,2003,494,419,-82,64,14522,3455,1076,-261,309,655,102,213,202,0,22,179,4769,-6,19358,5563,6641,747,49,287,437,1313,597,418,-41,449,3572,2428,177,80,1048,3874,5381,17,4040,427,385,266,1411,7747,2129,318,105,2603,443,-116,285,5092,719,0,2095,-390,108,1134,228,1,0,1453,28,1388,0,0,15,22,983,2879,-553,596,1402,223,46,0,1636,96,-295,1,60,84,4287,1,192,1172,105,4708,-1,802,22,3301,2227,2,445,241,429,11,50,2195,1270,2394,3536,-4,-1965,5879,469,502,777,1588,376,848,-393,4660,176,3335,-167,1591,2064,1310,1221,-26,337,2440,0,25947,1734,4,1032,8,3137,-522,21,455,4,1412,141,6619,0,0,202,2552,276,0,86,507,602,1492,0,2117,71,843,229,176,13,169,58,179,50,11854,1022,692,1937,26,0,900,260,-634,30,1694,167,4299,135,40,479,1945,1062,0,2406,337,413,362,284,-66,922,93,693,307,427,5024,463,4130,190,2682,144,1938,90,10465,917,1744,1198,371,575,123,145,312,893,105,0,186,-114,228,0,279,241,2328,728,4380,0,5432,222,3832,715,6215,2085,1398,463,-337,1182,94,5916,4556,373,170,146,1384,595,4903,4037,1746,18,1724,1735,0,367,105,537,0,653,487,1434,1683,530,-287,271,1945,57,5632,750,3992,11,383,598,3178,505,73,1436,264,1720,-25,634,648,0,314,2,2677,855,411,4874,397,61,177,985,767,496,459,1340,1187,4023,184,688,2064,862,137,51439,893,607,5521,1966,363,-49,1533,250,407,3549,0,1017,2652,2442,0,0,665,-1139,3396,542,1957,304,353,13107,1138,0,199,383,0,1844,42,1788,680,517,3,17,-328,1513,603,307,22,0,283,5215,847,5827,0,-759,267,2503,3630,218,1146,167,447,10378,-2712,191,17,2235,292,433,364,30,335,1287,128,133,-888,280,719,1261,1903,202,390,103,362,907,199,4943,6659,730,664,442,7162,61,2579,1583,224,851,2880,1597,0,771,30,346,184,580,913,1967,2929,103,661,19,258,361,1898,0,3579,1265,940,854,1464,3748,6839,-235,12,61,0,6269,142,24,1267,2346,133,16786,400,2033,1938,0,-164,1241,0,214,399,1388,805,1716,2228,1515,44,683,-473,4482,911,3771,1119,-6,-663,686,112,83,418,3840,7628,-10,3,1433,0,756,313,4996,74,431,522,0,1296,435,2128,-383,1019,1780,431,8097,0,138,292,606,0,26,322,336,36935,0,928,2,2220,1125,503,2920,4319,0,1080,36,803,8,833,3410,605,13342,586,559,4910,4527,-221,242,20,797,321,313,136,0,0,54,0,373,577,0,1296,2642,3237,1191,2278,-165,178,209,3560,490,3499,995,1128,163,103,70,191,1601,287,199,177,832,493,13578,-50,292,0,0,294,-558,-311,688,-548,94,299,6217,494,594,0,157,183,22867,1884,0,446,114,217,1783,208,1311,2813,783,243,5704,2895,377,2,153,-165,2764,6699,7,2590,14,2672,881,4793,370,6836,859,1940,1033,532,-321,383,865,1352,-722,1144,794,2061,36,734,99,879,0,4128,0,275,6525,9317,350,699,906,97,115,36,1076,-56,1504,482,208,441,-2,8278,407,197,348,101,294,3730,3885,4582,403,145,834,664,299,29,124,124,0,20,31868,599,248,0,879,34,2548,3,1395,-196,205,1442,393,-185,1158,1165,10721,1270,16,930,0,0,-175,328,0,2556,4969,726,-1451,221,3090,257,139,3168,260,4574,109,140,-45,6507,1291,-10,0,-20,309,250,370,183,8590,1011,1355,1609,75,12,3540,8486,20772,3297,9,-139,381,760,722,24,148,6691,0,787,4576,629,1193,-132,1438,-159,2235,10,805,-79,1664,0,690,616,200,8585,173,808,4822,966,141,531,1154,68,1499,2908,-238,1685,0,4344,0,1846,4,360,205,18777,218,312,15,0,112,9,-44,1023,3,77,0,137,-232,0,139,47,-58,34,590,435,441,212,621,162,4418,522,-547,0,726,435,530,106,590,2929,147,2000,143,193,658,-365,50,356,6718,21,3872,820,6102,516,0,199,584,1449,490,919,4243,6445,47,390,25,2257,677,0,209,2743,50,0,21,21,78,1034,6242,714,98,971,0,1097,0,25,604,434,784,95,616,631,67,555,184,382,-974,-516,0,5,428,0,54,1054,115,2171,350,594,276,-325,1594,2596,115,0,247,235,2593,2166,130,48,189,0,-134,23,0,1,3317,355,917,390,35,523,80,-72,1,733,29,0,0]}],\"hovertemplate\":\"%{xaxis.title.text}=%{x}\\u003cbr\\u003e%{yaxis.title.text}=%{y}\\u003cextra\\u003e\\u003c\\u002fextra\\u003e\",\"legendgroup\":\"\",\"marker\":{\"color\":\"#636efa\",\"symbol\":\"circle\"},\"name\":\"\",\"showlegend\":false,\"type\":\"splom\"}],                        {\"template\":{\"data\":{\"histogram2dcontour\":[{\"type\":\"histogram2dcontour\",\"colorbar\":{\"outlinewidth\":0,\"ticks\":\"\"},\"colorscale\":[[0.0,\"#0d0887\"],[0.1111111111111111,\"#46039f\"],[0.2222222222222222,\"#7201a8\"],[0.3333333333333333,\"#9c179e\"],[0.4444444444444444,\"#bd3786\"],[0.5555555555555556,\"#d8576b\"],[0.6666666666666666,\"#ed7953\"],[0.7777777777777778,\"#fb9f3a\"],[0.8888888888888888,\"#fdca26\"],[1.0,\"#f0f921\"]]}],\"choropleth\":[{\"type\":\"choropleth\",\"colorbar\":{\"outlinewidth\":0,\"ticks\":\"\"}}],\"histogram2d\":[{\"type\":\"histogram2d\",\"colorbar\":{\"outlinewidth\":0,\"ticks\":\"\"},\"colorscale\":[[0.0,\"#0d0887\"],[0.1111111111111111,\"#46039f\"],[0.2222222222222222,\"#7201a8\"],[0.3333333333333333,\"#9c179e\"],[0.4444444444444444,\"#bd3786\"],[0.5555555555555556,\"#d8576b\"],[0.6666666666666666,\"#ed7953\"],[0.7777777777777778,\"#fb9f3a\"],[0.8888888888888888,\"#fdca26\"],[1.0,\"#f0f921\"]]}],\"heatmap\":[{\"type\":\"heatmap\",\"colorbar\":{\"outlinewidth\":0,\"ticks\":\"\"},\"colorscale\":[[0.0,\"#0d0887\"],[0.1111111111111111,\"#46039f\"],[0.2222222222222222,\"#7201a8\"],[0.3333333333333333,\"#9c179e\"],[0.4444444444444444,\"#bd3786\"],[0.5555555555555556,\"#d8576b\"],[0.6666666666666666,\"#ed7953\"],[0.7777777777777778,\"#fb9f3a\"],[0.8888888888888888,\"#fdca26\"],[1.0,\"#f0f921\"]]}],\"heatmapgl\":[{\"type\":\"heatmapgl\",\"colorbar\":{\"outlinewidth\":0,\"ticks\":\"\"},\"colorscale\":[[0.0,\"#0d0887\"],[0.1111111111111111,\"#46039f\"],[0.2222222222222222,\"#7201a8\"],[0.3333333333333333,\"#9c179e\"],[0.4444444444444444,\"#bd3786\"],[0.5555555555555556,\"#d8576b\"],[0.6666666666666666,\"#ed7953\"],[0.7777777777777778,\"#fb9f3a\"],[0.8888888888888888,\"#fdca26\"],[1.0,\"#f0f921\"]]}],\"contourcarpet\":[{\"type\":\"contourcarpet\",\"colorbar\":{\"outlinewidth\":0,\"ticks\":\"\"}}],\"contour\":[{\"type\":\"contour\",\"colorbar\":{\"outlinewidth\":0,\"ticks\":\"\"},\"colorscale\":[[0.0,\"#0d0887\"],[0.1111111111111111,\"#46039f\"],[0.2222222222222222,\"#7201a8\"],[0.3333333333333333,\"#9c179e\"],[0.4444444444444444,\"#bd3786\"],[0.5555555555555556,\"#d8576b\"],[0.6666666666666666,\"#ed7953\"],[0.7777777777777778,\"#fb9f3a\"],[0.8888888888888888,\"#fdca26\"],[1.0,\"#f0f921\"]]}],\"surface\":[{\"type\":\"surface\",\"colorbar\":{\"outlinewidth\":0,\"ticks\":\"\"},\"colorscale\":[[0.0,\"#0d0887\"],[0.1111111111111111,\"#46039f\"],[0.2222222222222222,\"#7201a8\"],[0.3333333333333333,\"#9c179e\"],[0.4444444444444444,\"#bd3786\"],[0.5555555555555556,\"#d8576b\"],[0.6666666666666666,\"#ed7953\"],[0.7777777777777778,\"#fb9f3a\"],[0.8888888888888888,\"#fdca26\"],[1.0,\"#f0f921\"]]}],\"mesh3d\":[{\"type\":\"mesh3d\",\"colorbar\":{\"outlinewidth\":0,\"ticks\":\"\"}}],\"scatter\":[{\"fillpattern\":{\"fillmode\":\"overlay\",\"size\":10,\"solidity\":0.2},\"type\":\"scatter\"}],\"parcoords\":[{\"type\":\"parcoords\",\"line\":{\"colorbar\":{\"outlinewidth\":0,\"ticks\":\"\"}}}],\"scatterpolargl\":[{\"type\":\"scatterpolargl\",\"marker\":{\"colorbar\":{\"outlinewidth\":0,\"ticks\":\"\"}}}],\"bar\":[{\"error_x\":{\"color\":\"#2a3f5f\"},\"error_y\":{\"color\":\"#2a3f5f\"},\"marker\":{\"line\":{\"color\":\"#E5ECF6\",\"width\":0.5},\"pattern\":{\"fillmode\":\"overlay\",\"size\":10,\"solidity\":0.2}},\"type\":\"bar\"}],\"scattergeo\":[{\"type\":\"scattergeo\",\"marker\":{\"colorbar\":{\"outlinewidth\":0,\"ticks\":\"\"}}}],\"scatterpolar\":[{\"type\":\"scatterpolar\",\"marker\":{\"colorbar\":{\"outlinewidth\":0,\"ticks\":\"\"}}}],\"histogram\":[{\"marker\":{\"pattern\":{\"fillmode\":\"overlay\",\"size\":10,\"solidity\":0.2}},\"type\":\"histogram\"}],\"scattergl\":[{\"type\":\"scattergl\",\"marker\":{\"colorbar\":{\"outlinewidth\":0,\"ticks\":\"\"}}}],\"scatter3d\":[{\"type\":\"scatter3d\",\"line\":{\"colorbar\":{\"outlinewidth\":0,\"ticks\":\"\"}},\"marker\":{\"colorbar\":{\"outlinewidth\":0,\"ticks\":\"\"}}}],\"scattermapbox\":[{\"type\":\"scattermapbox\",\"marker\":{\"colorbar\":{\"outlinewidth\":0,\"ticks\":\"\"}}}],\"scatterternary\":[{\"type\":\"scatterternary\",\"marker\":{\"colorbar\":{\"outlinewidth\":0,\"ticks\":\"\"}}}],\"scattercarpet\":[{\"type\":\"scattercarpet\",\"marker\":{\"colorbar\":{\"outlinewidth\":0,\"ticks\":\"\"}}}],\"carpet\":[{\"aaxis\":{\"endlinecolor\":\"#2a3f5f\",\"gridcolor\":\"white\",\"linecolor\":\"white\",\"minorgridcolor\":\"white\",\"startlinecolor\":\"#2a3f5f\"},\"baxis\":{\"endlinecolor\":\"#2a3f5f\",\"gridcolor\":\"white\",\"linecolor\":\"white\",\"minorgridcolor\":\"white\",\"startlinecolor\":\"#2a3f5f\"},\"type\":\"carpet\"}],\"table\":[{\"cells\":{\"fill\":{\"color\":\"#EBF0F8\"},\"line\":{\"color\":\"white\"}},\"header\":{\"fill\":{\"color\":\"#C8D4E3\"},\"line\":{\"color\":\"white\"}},\"type\":\"table\"}],\"barpolar\":[{\"marker\":{\"line\":{\"color\":\"#E5ECF6\",\"width\":0.5},\"pattern\":{\"fillmode\":\"overlay\",\"size\":10,\"solidity\":0.2}},\"type\":\"barpolar\"}],\"pie\":[{\"automargin\":true,\"type\":\"pie\"}]},\"layout\":{\"autotypenumbers\":\"strict\",\"colorway\":[\"#636efa\",\"#EF553B\",\"#00cc96\",\"#ab63fa\",\"#FFA15A\",\"#19d3f3\",\"#FF6692\",\"#B6E880\",\"#FF97FF\",\"#FECB52\"],\"font\":{\"color\":\"#2a3f5f\"},\"hovermode\":\"closest\",\"hoverlabel\":{\"align\":\"left\"},\"paper_bgcolor\":\"white\",\"plot_bgcolor\":\"#E5ECF6\",\"polar\":{\"bgcolor\":\"#E5ECF6\",\"angularaxis\":{\"gridcolor\":\"white\",\"linecolor\":\"white\",\"ticks\":\"\"},\"radialaxis\":{\"gridcolor\":\"white\",\"linecolor\":\"white\",\"ticks\":\"\"}},\"ternary\":{\"bgcolor\":\"#E5ECF6\",\"aaxis\":{\"gridcolor\":\"white\",\"linecolor\":\"white\",\"ticks\":\"\"},\"baxis\":{\"gridcolor\":\"white\",\"linecolor\":\"white\",\"ticks\":\"\"},\"caxis\":{\"gridcolor\":\"white\",\"linecolor\":\"white\",\"ticks\":\"\"}},\"coloraxis\":{\"colorbar\":{\"outlinewidth\":0,\"ticks\":\"\"}},\"colorscale\":{\"sequential\":[[0.0,\"#0d0887\"],[0.1111111111111111,\"#46039f\"],[0.2222222222222222,\"#7201a8\"],[0.3333333333333333,\"#9c179e\"],[0.4444444444444444,\"#bd3786\"],[0.5555555555555556,\"#d8576b\"],[0.6666666666666666,\"#ed7953\"],[0.7777777777777778,\"#fb9f3a\"],[0.8888888888888888,\"#fdca26\"],[1.0,\"#f0f921\"]],\"sequentialminus\":[[0.0,\"#0d0887\"],[0.1111111111111111,\"#46039f\"],[0.2222222222222222,\"#7201a8\"],[0.3333333333333333,\"#9c179e\"],[0.4444444444444444,\"#bd3786\"],[0.5555555555555556,\"#d8576b\"],[0.6666666666666666,\"#ed7953\"],[0.7777777777777778,\"#fb9f3a\"],[0.8888888888888888,\"#fdca26\"],[1.0,\"#f0f921\"]],\"diverging\":[[0,\"#8e0152\"],[0.1,\"#c51b7d\"],[0.2,\"#de77ae\"],[0.3,\"#f1b6da\"],[0.4,\"#fde0ef\"],[0.5,\"#f7f7f7\"],[0.6,\"#e6f5d0\"],[0.7,\"#b8e186\"],[0.8,\"#7fbc41\"],[0.9,\"#4d9221\"],[1,\"#276419\"]]},\"xaxis\":{\"gridcolor\":\"white\",\"linecolor\":\"white\",\"ticks\":\"\",\"title\":{\"standoff\":15},\"zerolinecolor\":\"white\",\"automargin\":true,\"zerolinewidth\":2},\"yaxis\":{\"gridcolor\":\"white\",\"linecolor\":\"white\",\"ticks\":\"\",\"title\":{\"standoff\":15},\"zerolinecolor\":\"white\",\"automargin\":true,\"zerolinewidth\":2},\"scene\":{\"xaxis\":{\"backgroundcolor\":\"#E5ECF6\",\"gridcolor\":\"white\",\"linecolor\":\"white\",\"showbackground\":true,\"ticks\":\"\",\"zerolinecolor\":\"white\",\"gridwidth\":2},\"yaxis\":{\"backgroundcolor\":\"#E5ECF6\",\"gridcolor\":\"white\",\"linecolor\":\"white\",\"showbackground\":true,\"ticks\":\"\",\"zerolinecolor\":\"white\",\"gridwidth\":2},\"zaxis\":{\"backgroundcolor\":\"#E5ECF6\",\"gridcolor\":\"white\",\"linecolor\":\"white\",\"showbackground\":true,\"ticks\":\"\",\"zerolinecolor\":\"white\",\"gridwidth\":2}},\"shapedefaults\":{\"line\":{\"color\":\"#2a3f5f\"}},\"annotationdefaults\":{\"arrowcolor\":\"#2a3f5f\",\"arrowhead\":0,\"arrowwidth\":1},\"geo\":{\"bgcolor\":\"white\",\"landcolor\":\"#E5ECF6\",\"subunitcolor\":\"white\",\"showland\":true,\"showlakes\":true,\"lakecolor\":\"white\"},\"title\":{\"x\":0.05},\"mapbox\":{\"style\":\"light\"}}},\"legend\":{\"tracegroupgap\":0},\"margin\":{\"t\":60},\"dragmode\":\"select\"},                        {\"responsive\": true}                    ).then(function(){\n",
              "                            \n",
              "var gd = document.getElementById('9c7838f9-10d3-4e2a-ba83-c0f9a1606240');\n",
              "var x = new MutationObserver(function (mutations, observer) {{\n",
              "        var display = window.getComputedStyle(gd).display;\n",
              "        if (!display || display === 'none') {{\n",
              "            console.log([gd, 'removed!']);\n",
              "            Plotly.purge(gd);\n",
              "            observer.disconnect();\n",
              "        }}\n",
              "}});\n",
              "\n",
              "// Listen for the removal of the full notebook cells\n",
              "var notebookContainer = gd.closest('#notebook-container');\n",
              "if (notebookContainer) {{\n",
              "    x.observe(notebookContainer, {childList: true});\n",
              "}}\n",
              "\n",
              "// Listen for the clearing of the current output cell\n",
              "var outputEl = gd.closest('.output');\n",
              "if (outputEl) {{\n",
              "    x.observe(outputEl, {childList: true});\n",
              "}}\n",
              "\n",
              "                        })                };                            </script>        </div>\n",
              "</body>\n",
              "</html>"
            ]
          },
          "metadata": {}
        }
      ],
      "source": [
        "numeric_data = df_bnk.select(numeric_features).toPandas()\n",
        "fig = px.scatter_matrix(numeric_data)\n",
        "\n",
        "# Update the layout\n",
        "n = len(numeric_data.columns)\n",
        "for i in range(n):\n",
        "    fig.update_yaxes(title_text=\"\", row=i+1, col=1)\n",
        "    fig.update_xaxes(title_text=\"\", row=n, col=i+1)\n",
        "\n",
        "# Show the plot\n",
        "fig.show()"
      ]
    },
    {
      "cell_type": "code",
      "execution_count": 12,
      "metadata": {
        "id": "UXYkY4q-n4Ft",
        "colab": {
          "base_uri": "https://localhost:8080/"
        },
        "outputId": "804491cb-ebec-4a25-c24f-db2fe26a45c6"
      },
      "outputs": [
        {
          "output_type": "stream",
          "name": "stdout",
          "text": [
            "root\n",
            " |-- age: integer (nullable = true)\n",
            " |-- job: string (nullable = true)\n",
            " |-- marital: string (nullable = true)\n",
            " |-- education: string (nullable = true)\n",
            " |-- default: string (nullable = true)\n",
            " |-- balance: integer (nullable = true)\n",
            " |-- housing: string (nullable = true)\n",
            " |-- loan: string (nullable = true)\n",
            " |-- contact: string (nullable = true)\n",
            " |-- duration: integer (nullable = true)\n",
            " |-- campaign: integer (nullable = true)\n",
            " |-- pdays: integer (nullable = true)\n",
            " |-- previous: integer (nullable = true)\n",
            " |-- poutcome: string (nullable = true)\n",
            " |-- deposit: string (nullable = true)\n",
            "\n"
          ]
        }
      ],
      "source": [
        "# Extracting the columns of day and month\n",
        "df_bnk = df_bnk.select('age', 'job', 'marital', 'education', 'default', 'balance', 'housing', 'loan', 'contact', 'duration', 'campaign', 'pdays', 'previous', 'poutcome', 'deposit')\n",
        "cols = df_bnk.columns\n",
        "df_bnk.printSchema()"
      ]
    },
    {
      "cell_type": "markdown",
      "metadata": {
        "id": "3oJxDAlGpXSG"
      },
      "source": [
        "# Preparation for Machine Learning"
      ]
    },
    {
      "cell_type": "code",
      "execution_count": 13,
      "metadata": {
        "id": "3WsIz8Vxpd0n"
      },
      "outputs": [],
      "source": [
        "categoricalCols = ['job', 'marital', 'education', 'default', 'housing', 'loan', 'contact', 'poutcome']\n",
        "stages = []\n",
        "\n",
        "for categoricalCol in categoricalCols:\n",
        "  stringIndexer = StringIndexer(inputCol = categoricalCol, outputCol = categoricalCol + 'Index')\n",
        "  encoder = OneHotEncoder(inputCols=[stringIndexer.getOutputCol()], outputCols=[categoricalCol + \"classVec\"])\n",
        "  stages += [stringIndexer, encoder]\n",
        "\n",
        "label_stringIdx = StringIndexer(inputCol = 'deposit', outputCol='label')\n",
        "stages += [label_stringIdx]\n",
        "\n",
        "numericCols = ['age', 'balance', 'duration', 'campaign', 'pdays', 'previous']\n",
        "assemblerInputs = [c + \"classVec\" for c in categoricalCols] + numericCols\n",
        "assembler = VectorAssembler(inputCols=assemblerInputs, outputCol=\"features\")\n",
        "stages += [assembler]"
      ]
    },
    {
      "cell_type": "code",
      "execution_count": 14,
      "metadata": {
        "colab": {
          "base_uri": "https://localhost:8080/"
        },
        "id": "XJovUjzl-pQw",
        "outputId": "8f6c5dd2-efce-4f11-e3be-f2485e5787be"
      },
      "outputs": [
        {
          "output_type": "stream",
          "name": "stdout",
          "text": [
            "root\n",
            " |-- label: double (nullable = false)\n",
            " |-- features: vector (nullable = true)\n",
            " |-- age: integer (nullable = true)\n",
            " |-- job: string (nullable = true)\n",
            " |-- marital: string (nullable = true)\n",
            " |-- education: string (nullable = true)\n",
            " |-- default: string (nullable = true)\n",
            " |-- balance: integer (nullable = true)\n",
            " |-- housing: string (nullable = true)\n",
            " |-- loan: string (nullable = true)\n",
            " |-- contact: string (nullable = true)\n",
            " |-- duration: integer (nullable = true)\n",
            " |-- campaign: integer (nullable = true)\n",
            " |-- pdays: integer (nullable = true)\n",
            " |-- previous: integer (nullable = true)\n",
            " |-- poutcome: string (nullable = true)\n",
            " |-- deposit: string (nullable = true)\n",
            "\n"
          ]
        }
      ],
      "source": [
        "pipeline = Pipeline(stages = stages)\n",
        "pipelineModel = pipeline.fit(df_bnk)\n",
        "df_bnk = pipelineModel.transform(df_bnk)\n",
        "selectedCols = ['label', 'features'] + cols\n",
        "df_bnk = df_bnk.select(selectedCols)\n",
        "df_bnk.printSchema()"
      ]
    },
    {
      "cell_type": "code",
      "execution_count": 15,
      "metadata": {
        "colab": {
          "base_uri": "https://localhost:8080/",
          "height": 671
        },
        "id": "9NEROLq8_oSS",
        "outputId": "64942159-2164-42fd-ec1b-a3e28d2e29e4"
      },
      "outputs": [
        {
          "output_type": "execute_result",
          "data": {
            "text/plain": [
              "                                                           0  \\\n",
              "label                                                    1.0   \n",
              "features   (0.0, 0.0, 0.0, 1.0, 0.0, 0.0, 0.0, 0.0, 0.0, ...   \n",
              "age                                                       59   \n",
              "job                                                   admin.   \n",
              "marital                                              married   \n",
              "education                                          secondary   \n",
              "default                                                   no   \n",
              "balance                                                 2343   \n",
              "housing                                                  yes   \n",
              "loan                                                      no   \n",
              "contact                                              unknown   \n",
              "duration                                                2343   \n",
              "campaign                                                   1   \n",
              "pdays                                                     -1   \n",
              "previous                                                2343   \n",
              "poutcome                                             unknown   \n",
              "deposit                                                  yes   \n",
              "\n",
              "                                                           1  \\\n",
              "label                                                    1.0   \n",
              "features   (0.0, 0.0, 0.0, 1.0, 0.0, 0.0, 0.0, 0.0, 0.0, ...   \n",
              "age                                                       56   \n",
              "job                                                   admin.   \n",
              "marital                                              married   \n",
              "education                                          secondary   \n",
              "default                                                   no   \n",
              "balance                                                   45   \n",
              "housing                                                   no   \n",
              "loan                                                      no   \n",
              "contact                                              unknown   \n",
              "duration                                                  45   \n",
              "campaign                                                   1   \n",
              "pdays                                                     -1   \n",
              "previous                                                  45   \n",
              "poutcome                                             unknown   \n",
              "deposit                                                  yes   \n",
              "\n",
              "                                                           2  \\\n",
              "label                                                    1.0   \n",
              "features   (0.0, 0.0, 1.0, 0.0, 0.0, 0.0, 0.0, 0.0, 0.0, ...   \n",
              "age                                                       41   \n",
              "job                                               technician   \n",
              "marital                                              married   \n",
              "education                                          secondary   \n",
              "default                                                   no   \n",
              "balance                                                 1270   \n",
              "housing                                                  yes   \n",
              "loan                                                      no   \n",
              "contact                                              unknown   \n",
              "duration                                                1270   \n",
              "campaign                                                   1   \n",
              "pdays                                                     -1   \n",
              "previous                                                1270   \n",
              "poutcome                                             unknown   \n",
              "deposit                                                  yes   \n",
              "\n",
              "                                                           3  \\\n",
              "label                                                    1.0   \n",
              "features   (0.0, 0.0, 0.0, 0.0, 1.0, 0.0, 0.0, 0.0, 0.0, ...   \n",
              "age                                                       55   \n",
              "job                                                 services   \n",
              "marital                                              married   \n",
              "education                                          secondary   \n",
              "default                                                   no   \n",
              "balance                                                 2476   \n",
              "housing                                                  yes   \n",
              "loan                                                      no   \n",
              "contact                                              unknown   \n",
              "duration                                                2476   \n",
              "campaign                                                   1   \n",
              "pdays                                                     -1   \n",
              "previous                                                2476   \n",
              "poutcome                                             unknown   \n",
              "deposit                                                  yes   \n",
              "\n",
              "                                                           4  \\\n",
              "label                                                    1.0   \n",
              "features   (0.0, 0.0, 0.0, 1.0, 0.0, 0.0, 0.0, 0.0, 0.0, ...   \n",
              "age                                                       54   \n",
              "job                                                   admin.   \n",
              "marital                                              married   \n",
              "education                                           tertiary   \n",
              "default                                                   no   \n",
              "balance                                                  184   \n",
              "housing                                                   no   \n",
              "loan                                                      no   \n",
              "contact                                              unknown   \n",
              "duration                                                 184   \n",
              "campaign                                                   2   \n",
              "pdays                                                     -1   \n",
              "previous                                                 184   \n",
              "poutcome                                             unknown   \n",
              "deposit                                                  yes   \n",
              "\n",
              "                                                           5  \\\n",
              "label                                                    1.0   \n",
              "features   (1.0, 0.0, 0.0, 0.0, 0.0, 0.0, 0.0, 0.0, 0.0, ...   \n",
              "age                                                       42   \n",
              "job                                               management   \n",
              "marital                                               single   \n",
              "education                                           tertiary   \n",
              "default                                                   no   \n",
              "balance                                                    0   \n",
              "housing                                                  yes   \n",
              "loan                                                     yes   \n",
              "contact                                              unknown   \n",
              "duration                                                   0   \n",
              "campaign                                                   2   \n",
              "pdays                                                     -1   \n",
              "previous                                                   0   \n",
              "poutcome                                             unknown   \n",
              "deposit                                                  yes   \n",
              "\n",
              "                                                           6  \\\n",
              "label                                                    1.0   \n",
              "features   (1.0, 0.0, 0.0, 0.0, 0.0, 0.0, 0.0, 0.0, 0.0, ...   \n",
              "age                                                       56   \n",
              "job                                               management   \n",
              "marital                                              married   \n",
              "education                                           tertiary   \n",
              "default                                                   no   \n",
              "balance                                                  830   \n",
              "housing                                                  yes   \n",
              "loan                                                     yes   \n",
              "contact                                              unknown   \n",
              "duration                                                 830   \n",
              "campaign                                                   1   \n",
              "pdays                                                     -1   \n",
              "previous                                                 830   \n",
              "poutcome                                             unknown   \n",
              "deposit                                                  yes   \n",
              "\n",
              "                                                           7  \\\n",
              "label                                                    1.0   \n",
              "features   (0.0, 0.0, 0.0, 0.0, 0.0, 1.0, 0.0, 0.0, 0.0, ...   \n",
              "age                                                       60   \n",
              "job                                                  retired   \n",
              "marital                                             divorced   \n",
              "education                                          secondary   \n",
              "default                                                   no   \n",
              "balance                                                  545   \n",
              "housing                                                  yes   \n",
              "loan                                                      no   \n",
              "contact                                              unknown   \n",
              "duration                                                 545   \n",
              "campaign                                                   1   \n",
              "pdays                                                     -1   \n",
              "previous                                                 545   \n",
              "poutcome                                             unknown   \n",
              "deposit                                                  yes   \n",
              "\n",
              "                                                           8  \\\n",
              "label                                                    1.0   \n",
              "features   (0.0, 0.0, 1.0, 0.0, 0.0, 0.0, 0.0, 0.0, 0.0, ...   \n",
              "age                                                       37   \n",
              "job                                               technician   \n",
              "marital                                              married   \n",
              "education                                          secondary   \n",
              "default                                                   no   \n",
              "balance                                                    1   \n",
              "housing                                                  yes   \n",
              "loan                                                      no   \n",
              "contact                                              unknown   \n",
              "duration                                                   1   \n",
              "campaign                                                   1   \n",
              "pdays                                                     -1   \n",
              "previous                                                   1   \n",
              "poutcome                                             unknown   \n",
              "deposit                                                  yes   \n",
              "\n",
              "                                                           9  \n",
              "label                                                    1.0  \n",
              "features   (0.0, 0.0, 0.0, 0.0, 1.0, 0.0, 0.0, 0.0, 0.0, ...  \n",
              "age                                                       28  \n",
              "job                                                 services  \n",
              "marital                                               single  \n",
              "education                                          secondary  \n",
              "default                                                   no  \n",
              "balance                                                 5090  \n",
              "housing                                                  yes  \n",
              "loan                                                      no  \n",
              "contact                                              unknown  \n",
              "duration                                                5090  \n",
              "campaign                                                   3  \n",
              "pdays                                                     -1  \n",
              "previous                                                5090  \n",
              "poutcome                                             unknown  \n",
              "deposit                                                  yes  "
            ],
            "text/html": [
              "\n",
              "  <div id=\"df-650673ca-527c-4619-a24a-bca1f77dcbe7\" class=\"colab-df-container\">\n",
              "    <div>\n",
              "<style scoped>\n",
              "    .dataframe tbody tr th:only-of-type {\n",
              "        vertical-align: middle;\n",
              "    }\n",
              "\n",
              "    .dataframe tbody tr th {\n",
              "        vertical-align: top;\n",
              "    }\n",
              "\n",
              "    .dataframe thead th {\n",
              "        text-align: right;\n",
              "    }\n",
              "</style>\n",
              "<table border=\"1\" class=\"dataframe\">\n",
              "  <thead>\n",
              "    <tr style=\"text-align: right;\">\n",
              "      <th></th>\n",
              "      <th>0</th>\n",
              "      <th>1</th>\n",
              "      <th>2</th>\n",
              "      <th>3</th>\n",
              "      <th>4</th>\n",
              "      <th>5</th>\n",
              "      <th>6</th>\n",
              "      <th>7</th>\n",
              "      <th>8</th>\n",
              "      <th>9</th>\n",
              "    </tr>\n",
              "  </thead>\n",
              "  <tbody>\n",
              "    <tr>\n",
              "      <th>label</th>\n",
              "      <td>1.0</td>\n",
              "      <td>1.0</td>\n",
              "      <td>1.0</td>\n",
              "      <td>1.0</td>\n",
              "      <td>1.0</td>\n",
              "      <td>1.0</td>\n",
              "      <td>1.0</td>\n",
              "      <td>1.0</td>\n",
              "      <td>1.0</td>\n",
              "      <td>1.0</td>\n",
              "    </tr>\n",
              "    <tr>\n",
              "      <th>features</th>\n",
              "      <td>(0.0, 0.0, 0.0, 1.0, 0.0, 0.0, 0.0, 0.0, 0.0, ...</td>\n",
              "      <td>(0.0, 0.0, 0.0, 1.0, 0.0, 0.0, 0.0, 0.0, 0.0, ...</td>\n",
              "      <td>(0.0, 0.0, 1.0, 0.0, 0.0, 0.0, 0.0, 0.0, 0.0, ...</td>\n",
              "      <td>(0.0, 0.0, 0.0, 0.0, 1.0, 0.0, 0.0, 0.0, 0.0, ...</td>\n",
              "      <td>(0.0, 0.0, 0.0, 1.0, 0.0, 0.0, 0.0, 0.0, 0.0, ...</td>\n",
              "      <td>(1.0, 0.0, 0.0, 0.0, 0.0, 0.0, 0.0, 0.0, 0.0, ...</td>\n",
              "      <td>(1.0, 0.0, 0.0, 0.0, 0.0, 0.0, 0.0, 0.0, 0.0, ...</td>\n",
              "      <td>(0.0, 0.0, 0.0, 0.0, 0.0, 1.0, 0.0, 0.0, 0.0, ...</td>\n",
              "      <td>(0.0, 0.0, 1.0, 0.0, 0.0, 0.0, 0.0, 0.0, 0.0, ...</td>\n",
              "      <td>(0.0, 0.0, 0.0, 0.0, 1.0, 0.0, 0.0, 0.0, 0.0, ...</td>\n",
              "    </tr>\n",
              "    <tr>\n",
              "      <th>age</th>\n",
              "      <td>59</td>\n",
              "      <td>56</td>\n",
              "      <td>41</td>\n",
              "      <td>55</td>\n",
              "      <td>54</td>\n",
              "      <td>42</td>\n",
              "      <td>56</td>\n",
              "      <td>60</td>\n",
              "      <td>37</td>\n",
              "      <td>28</td>\n",
              "    </tr>\n",
              "    <tr>\n",
              "      <th>job</th>\n",
              "      <td>admin.</td>\n",
              "      <td>admin.</td>\n",
              "      <td>technician</td>\n",
              "      <td>services</td>\n",
              "      <td>admin.</td>\n",
              "      <td>management</td>\n",
              "      <td>management</td>\n",
              "      <td>retired</td>\n",
              "      <td>technician</td>\n",
              "      <td>services</td>\n",
              "    </tr>\n",
              "    <tr>\n",
              "      <th>marital</th>\n",
              "      <td>married</td>\n",
              "      <td>married</td>\n",
              "      <td>married</td>\n",
              "      <td>married</td>\n",
              "      <td>married</td>\n",
              "      <td>single</td>\n",
              "      <td>married</td>\n",
              "      <td>divorced</td>\n",
              "      <td>married</td>\n",
              "      <td>single</td>\n",
              "    </tr>\n",
              "    <tr>\n",
              "      <th>education</th>\n",
              "      <td>secondary</td>\n",
              "      <td>secondary</td>\n",
              "      <td>secondary</td>\n",
              "      <td>secondary</td>\n",
              "      <td>tertiary</td>\n",
              "      <td>tertiary</td>\n",
              "      <td>tertiary</td>\n",
              "      <td>secondary</td>\n",
              "      <td>secondary</td>\n",
              "      <td>secondary</td>\n",
              "    </tr>\n",
              "    <tr>\n",
              "      <th>default</th>\n",
              "      <td>no</td>\n",
              "      <td>no</td>\n",
              "      <td>no</td>\n",
              "      <td>no</td>\n",
              "      <td>no</td>\n",
              "      <td>no</td>\n",
              "      <td>no</td>\n",
              "      <td>no</td>\n",
              "      <td>no</td>\n",
              "      <td>no</td>\n",
              "    </tr>\n",
              "    <tr>\n",
              "      <th>balance</th>\n",
              "      <td>2343</td>\n",
              "      <td>45</td>\n",
              "      <td>1270</td>\n",
              "      <td>2476</td>\n",
              "      <td>184</td>\n",
              "      <td>0</td>\n",
              "      <td>830</td>\n",
              "      <td>545</td>\n",
              "      <td>1</td>\n",
              "      <td>5090</td>\n",
              "    </tr>\n",
              "    <tr>\n",
              "      <th>housing</th>\n",
              "      <td>yes</td>\n",
              "      <td>no</td>\n",
              "      <td>yes</td>\n",
              "      <td>yes</td>\n",
              "      <td>no</td>\n",
              "      <td>yes</td>\n",
              "      <td>yes</td>\n",
              "      <td>yes</td>\n",
              "      <td>yes</td>\n",
              "      <td>yes</td>\n",
              "    </tr>\n",
              "    <tr>\n",
              "      <th>loan</th>\n",
              "      <td>no</td>\n",
              "      <td>no</td>\n",
              "      <td>no</td>\n",
              "      <td>no</td>\n",
              "      <td>no</td>\n",
              "      <td>yes</td>\n",
              "      <td>yes</td>\n",
              "      <td>no</td>\n",
              "      <td>no</td>\n",
              "      <td>no</td>\n",
              "    </tr>\n",
              "    <tr>\n",
              "      <th>contact</th>\n",
              "      <td>unknown</td>\n",
              "      <td>unknown</td>\n",
              "      <td>unknown</td>\n",
              "      <td>unknown</td>\n",
              "      <td>unknown</td>\n",
              "      <td>unknown</td>\n",
              "      <td>unknown</td>\n",
              "      <td>unknown</td>\n",
              "      <td>unknown</td>\n",
              "      <td>unknown</td>\n",
              "    </tr>\n",
              "    <tr>\n",
              "      <th>duration</th>\n",
              "      <td>2343</td>\n",
              "      <td>45</td>\n",
              "      <td>1270</td>\n",
              "      <td>2476</td>\n",
              "      <td>184</td>\n",
              "      <td>0</td>\n",
              "      <td>830</td>\n",
              "      <td>545</td>\n",
              "      <td>1</td>\n",
              "      <td>5090</td>\n",
              "    </tr>\n",
              "    <tr>\n",
              "      <th>campaign</th>\n",
              "      <td>1</td>\n",
              "      <td>1</td>\n",
              "      <td>1</td>\n",
              "      <td>1</td>\n",
              "      <td>2</td>\n",
              "      <td>2</td>\n",
              "      <td>1</td>\n",
              "      <td>1</td>\n",
              "      <td>1</td>\n",
              "      <td>3</td>\n",
              "    </tr>\n",
              "    <tr>\n",
              "      <th>pdays</th>\n",
              "      <td>-1</td>\n",
              "      <td>-1</td>\n",
              "      <td>-1</td>\n",
              "      <td>-1</td>\n",
              "      <td>-1</td>\n",
              "      <td>-1</td>\n",
              "      <td>-1</td>\n",
              "      <td>-1</td>\n",
              "      <td>-1</td>\n",
              "      <td>-1</td>\n",
              "    </tr>\n",
              "    <tr>\n",
              "      <th>previous</th>\n",
              "      <td>2343</td>\n",
              "      <td>45</td>\n",
              "      <td>1270</td>\n",
              "      <td>2476</td>\n",
              "      <td>184</td>\n",
              "      <td>0</td>\n",
              "      <td>830</td>\n",
              "      <td>545</td>\n",
              "      <td>1</td>\n",
              "      <td>5090</td>\n",
              "    </tr>\n",
              "    <tr>\n",
              "      <th>poutcome</th>\n",
              "      <td>unknown</td>\n",
              "      <td>unknown</td>\n",
              "      <td>unknown</td>\n",
              "      <td>unknown</td>\n",
              "      <td>unknown</td>\n",
              "      <td>unknown</td>\n",
              "      <td>unknown</td>\n",
              "      <td>unknown</td>\n",
              "      <td>unknown</td>\n",
              "      <td>unknown</td>\n",
              "    </tr>\n",
              "    <tr>\n",
              "      <th>deposit</th>\n",
              "      <td>yes</td>\n",
              "      <td>yes</td>\n",
              "      <td>yes</td>\n",
              "      <td>yes</td>\n",
              "      <td>yes</td>\n",
              "      <td>yes</td>\n",
              "      <td>yes</td>\n",
              "      <td>yes</td>\n",
              "      <td>yes</td>\n",
              "      <td>yes</td>\n",
              "    </tr>\n",
              "  </tbody>\n",
              "</table>\n",
              "</div>\n",
              "    <div class=\"colab-df-buttons\">\n",
              "\n",
              "  <div class=\"colab-df-container\">\n",
              "    <button class=\"colab-df-convert\" onclick=\"convertToInteractive('df-650673ca-527c-4619-a24a-bca1f77dcbe7')\"\n",
              "            title=\"Convert this dataframe to an interactive table.\"\n",
              "            style=\"display:none;\">\n",
              "\n",
              "  <svg xmlns=\"http://www.w3.org/2000/svg\" height=\"24px\" viewBox=\"0 -960 960 960\">\n",
              "    <path d=\"M120-120v-720h720v720H120Zm60-500h600v-160H180v160Zm220 220h160v-160H400v160Zm0 220h160v-160H400v160ZM180-400h160v-160H180v160Zm440 0h160v-160H620v160ZM180-180h160v-160H180v160Zm440 0h160v-160H620v160Z\"/>\n",
              "  </svg>\n",
              "    </button>\n",
              "\n",
              "  <style>\n",
              "    .colab-df-container {\n",
              "      display:flex;\n",
              "      gap: 12px;\n",
              "    }\n",
              "\n",
              "    .colab-df-convert {\n",
              "      background-color: #E8F0FE;\n",
              "      border: none;\n",
              "      border-radius: 50%;\n",
              "      cursor: pointer;\n",
              "      display: none;\n",
              "      fill: #1967D2;\n",
              "      height: 32px;\n",
              "      padding: 0 0 0 0;\n",
              "      width: 32px;\n",
              "    }\n",
              "\n",
              "    .colab-df-convert:hover {\n",
              "      background-color: #E2EBFA;\n",
              "      box-shadow: 0px 1px 2px rgba(60, 64, 67, 0.3), 0px 1px 3px 1px rgba(60, 64, 67, 0.15);\n",
              "      fill: #174EA6;\n",
              "    }\n",
              "\n",
              "    .colab-df-buttons div {\n",
              "      margin-bottom: 4px;\n",
              "    }\n",
              "\n",
              "    [theme=dark] .colab-df-convert {\n",
              "      background-color: #3B4455;\n",
              "      fill: #D2E3FC;\n",
              "    }\n",
              "\n",
              "    [theme=dark] .colab-df-convert:hover {\n",
              "      background-color: #434B5C;\n",
              "      box-shadow: 0px 1px 3px 1px rgba(0, 0, 0, 0.15);\n",
              "      filter: drop-shadow(0px 1px 2px rgba(0, 0, 0, 0.3));\n",
              "      fill: #FFFFFF;\n",
              "    }\n",
              "  </style>\n",
              "\n",
              "    <script>\n",
              "      const buttonEl =\n",
              "        document.querySelector('#df-650673ca-527c-4619-a24a-bca1f77dcbe7 button.colab-df-convert');\n",
              "      buttonEl.style.display =\n",
              "        google.colab.kernel.accessAllowed ? 'block' : 'none';\n",
              "\n",
              "      async function convertToInteractive(key) {\n",
              "        const element = document.querySelector('#df-650673ca-527c-4619-a24a-bca1f77dcbe7');\n",
              "        const dataTable =\n",
              "          await google.colab.kernel.invokeFunction('convertToInteractive',\n",
              "                                                    [key], {});\n",
              "        if (!dataTable) return;\n",
              "\n",
              "        const docLinkHtml = 'Like what you see? Visit the ' +\n",
              "          '<a target=\"_blank\" href=https://colab.research.google.com/notebooks/data_table.ipynb>data table notebook</a>'\n",
              "          + ' to learn more about interactive tables.';\n",
              "        element.innerHTML = '';\n",
              "        dataTable['output_type'] = 'display_data';\n",
              "        await google.colab.output.renderOutput(dataTable, element);\n",
              "        const docLink = document.createElement('div');\n",
              "        docLink.innerHTML = docLinkHtml;\n",
              "        element.appendChild(docLink);\n",
              "      }\n",
              "    </script>\n",
              "  </div>\n",
              "\n",
              "\n",
              "<div id=\"df-d9c1922f-b022-4234-9b3b-159dcc7567c9\">\n",
              "  <button class=\"colab-df-quickchart\" onclick=\"quickchart('df-d9c1922f-b022-4234-9b3b-159dcc7567c9')\"\n",
              "            title=\"Suggest charts\"\n",
              "            style=\"display:none;\">\n",
              "\n",
              "<svg xmlns=\"http://www.w3.org/2000/svg\" height=\"24px\"viewBox=\"0 0 24 24\"\n",
              "     width=\"24px\">\n",
              "    <g>\n",
              "        <path d=\"M19 3H5c-1.1 0-2 .9-2 2v14c0 1.1.9 2 2 2h14c1.1 0 2-.9 2-2V5c0-1.1-.9-2-2-2zM9 17H7v-7h2v7zm4 0h-2V7h2v10zm4 0h-2v-4h2v4z\"/>\n",
              "    </g>\n",
              "</svg>\n",
              "  </button>\n",
              "\n",
              "<style>\n",
              "  .colab-df-quickchart {\n",
              "      --bg-color: #E8F0FE;\n",
              "      --fill-color: #1967D2;\n",
              "      --hover-bg-color: #E2EBFA;\n",
              "      --hover-fill-color: #174EA6;\n",
              "      --disabled-fill-color: #AAA;\n",
              "      --disabled-bg-color: #DDD;\n",
              "  }\n",
              "\n",
              "  [theme=dark] .colab-df-quickchart {\n",
              "      --bg-color: #3B4455;\n",
              "      --fill-color: #D2E3FC;\n",
              "      --hover-bg-color: #434B5C;\n",
              "      --hover-fill-color: #FFFFFF;\n",
              "      --disabled-bg-color: #3B4455;\n",
              "      --disabled-fill-color: #666;\n",
              "  }\n",
              "\n",
              "  .colab-df-quickchart {\n",
              "    background-color: var(--bg-color);\n",
              "    border: none;\n",
              "    border-radius: 50%;\n",
              "    cursor: pointer;\n",
              "    display: none;\n",
              "    fill: var(--fill-color);\n",
              "    height: 32px;\n",
              "    padding: 0;\n",
              "    width: 32px;\n",
              "  }\n",
              "\n",
              "  .colab-df-quickchart:hover {\n",
              "    background-color: var(--hover-bg-color);\n",
              "    box-shadow: 0 1px 2px rgba(60, 64, 67, 0.3), 0 1px 3px 1px rgba(60, 64, 67, 0.15);\n",
              "    fill: var(--button-hover-fill-color);\n",
              "  }\n",
              "\n",
              "  .colab-df-quickchart-complete:disabled,\n",
              "  .colab-df-quickchart-complete:disabled:hover {\n",
              "    background-color: var(--disabled-bg-color);\n",
              "    fill: var(--disabled-fill-color);\n",
              "    box-shadow: none;\n",
              "  }\n",
              "\n",
              "  .colab-df-spinner {\n",
              "    border: 2px solid var(--fill-color);\n",
              "    border-color: transparent;\n",
              "    border-bottom-color: var(--fill-color);\n",
              "    animation:\n",
              "      spin 1s steps(1) infinite;\n",
              "  }\n",
              "\n",
              "  @keyframes spin {\n",
              "    0% {\n",
              "      border-color: transparent;\n",
              "      border-bottom-color: var(--fill-color);\n",
              "      border-left-color: var(--fill-color);\n",
              "    }\n",
              "    20% {\n",
              "      border-color: transparent;\n",
              "      border-left-color: var(--fill-color);\n",
              "      border-top-color: var(--fill-color);\n",
              "    }\n",
              "    30% {\n",
              "      border-color: transparent;\n",
              "      border-left-color: var(--fill-color);\n",
              "      border-top-color: var(--fill-color);\n",
              "      border-right-color: var(--fill-color);\n",
              "    }\n",
              "    40% {\n",
              "      border-color: transparent;\n",
              "      border-right-color: var(--fill-color);\n",
              "      border-top-color: var(--fill-color);\n",
              "    }\n",
              "    60% {\n",
              "      border-color: transparent;\n",
              "      border-right-color: var(--fill-color);\n",
              "    }\n",
              "    80% {\n",
              "      border-color: transparent;\n",
              "      border-right-color: var(--fill-color);\n",
              "      border-bottom-color: var(--fill-color);\n",
              "    }\n",
              "    90% {\n",
              "      border-color: transparent;\n",
              "      border-bottom-color: var(--fill-color);\n",
              "    }\n",
              "  }\n",
              "</style>\n",
              "\n",
              "  <script>\n",
              "    async function quickchart(key) {\n",
              "      const quickchartButtonEl =\n",
              "        document.querySelector('#' + key + ' button');\n",
              "      quickchartButtonEl.disabled = true;  // To prevent multiple clicks.\n",
              "      quickchartButtonEl.classList.add('colab-df-spinner');\n",
              "      try {\n",
              "        const charts = await google.colab.kernel.invokeFunction(\n",
              "            'suggestCharts', [key], {});\n",
              "      } catch (error) {\n",
              "        console.error('Error during call to suggestCharts:', error);\n",
              "      }\n",
              "      quickchartButtonEl.classList.remove('colab-df-spinner');\n",
              "      quickchartButtonEl.classList.add('colab-df-quickchart-complete');\n",
              "    }\n",
              "    (() => {\n",
              "      let quickchartButtonEl =\n",
              "        document.querySelector('#df-d9c1922f-b022-4234-9b3b-159dcc7567c9 button');\n",
              "      quickchartButtonEl.style.display =\n",
              "        google.colab.kernel.accessAllowed ? 'block' : 'none';\n",
              "    })();\n",
              "  </script>\n",
              "</div>\n",
              "\n",
              "    </div>\n",
              "  </div>\n"
            ]
          },
          "metadata": {},
          "execution_count": 15
        }
      ],
      "source": [
        "pd.DataFrame(df_bnk.take(10), columns=df_bnk.columns).transpose()"
      ]
    },
    {
      "cell_type": "code",
      "execution_count": 16,
      "metadata": {
        "colab": {
          "base_uri": "https://localhost:8080/"
        },
        "id": "n38yayQE_5de",
        "outputId": "6c916dea-46fb-4be0-9764-5a892951471a"
      },
      "outputs": [
        {
          "output_type": "stream",
          "name": "stdout",
          "text": [
            "Training Dataset count: 7853\n",
            "Test Dataset count: 3309\n"
          ]
        }
      ],
      "source": [
        "train, test = df_bnk.randomSplit([0.7, 0.3], seed = 2018)\n",
        "print(\"Training Dataset count: \" + str(train.count()))\n",
        "print(\"Test Dataset count: \" + str(test.count()))"
      ]
    },
    {
      "cell_type": "markdown",
      "metadata": {
        "id": "PCRndeauBEEV"
      },
      "source": [
        "# Logistic Regression Model"
      ]
    },
    {
      "cell_type": "code",
      "execution_count": 17,
      "metadata": {
        "id": "RnEjD8GXBBlo"
      },
      "outputs": [],
      "source": [
        "logistic_reg = LogisticRegression(featuresCol = 'features', labelCol = 'label', maxIter=10)\n",
        "logistic_regModel = logistic_reg.fit(train)"
      ]
    },
    {
      "cell_type": "code",
      "execution_count": 18,
      "metadata": {
        "colab": {
          "base_uri": "https://localhost:8080/",
          "height": 430
        },
        "id": "4rXxgVBKC1Wa",
        "outputId": "ddb32d2c-50ac-4fb2-b106-cbb02ba4d0f9"
      },
      "outputs": [
        {
          "output_type": "display_data",
          "data": {
            "text/plain": [
              "<Figure size 640x480 with 1 Axes>"
            ],
            "image/png": "[encoded data removed]"
          },
          "metadata": {}
        }
      ],
      "source": [
        "coeff = np.sort(logistic_regModel.coefficients)\n",
        "plt.plot(coeff)\n",
        "plt.ylabel('Coefficients')\n",
        "plt.show()"
      ]
    },
    {
      "cell_type": "code",
      "execution_count": 19,
      "metadata": {
        "id": "vTtzl259WABM"
      },
      "outputs": [],
      "source": [
        "trainingSummary = logistic_regModel.summary"
      ]
    },
    {
      "cell_type": "code",
      "execution_count": 20,
      "metadata": {
        "colab": {
          "base_uri": "https://localhost:8080/",
          "height": 449
        },
        "id": "ikYcY-0THvun",
        "outputId": "c2998dd7-c893-432a-b8a8-bb4088369106"
      },
      "outputs": [
        {
          "output_type": "display_data",
          "data": {
            "text/plain": [
              "<Figure size 640x480 with 1 Axes>"
            ],
            "image/png": "[encoded data removed]"
          },
          "metadata": {}
        }
      ],
      "source": [
        "prec_rec = trainingSummary.pr.toPandas()\n",
        "plt.plot(prec_rec['recall'], prec_rec['precision'])\n",
        "plt.ylabel('Precision')\n",
        "plt.xlabel('Recall')\n",
        "plt.show()"
      ]
    },
    {
      "cell_type": "code",
      "execution_count": 21,
      "metadata": {
        "colab": {
          "base_uri": "https://localhost:8080/"
        },
        "id": "sAKW1jfOI8yi",
        "outputId": "f59a5ece-1571-45c5-b690-50e83b847de1"
      },
      "outputs": [
        {
          "output_type": "stream",
          "name": "stdout",
          "text": [
            "+---+----------+-----+--------------------+----------+--------------------+\n",
            "|age|       job|label|       rawPrediction|prediction|         probability|\n",
            "+---+----------+-----+--------------------+----------+--------------------+\n",
            "| 27|management|  1.0|[-0.0414330358373...|       1.0|[0.48964322261852...|\n",
            "| 45|management|  1.0|[0.24437022010240...|       0.0|[0.56079033862356...|\n",
            "| 58|management|  1.0|[1.08726703530381...|       0.0|[0.74786673727448...|\n",
            "| 59|management|  1.0|[0.07059050992595...|       0.0|[0.51764030292445...|\n",
            "| 46|management|  1.0|[0.09116998635519...|       0.0|[0.52277672216147...|\n",
            "| 37|management|  1.0|[-0.1327151592080...|       1.0|[0.46686982361093...|\n",
            "| 48|management|  1.0|[-2.2330835821037...|       1.0|[0.09681866230349...|\n",
            "| 47|management|  1.0|[0.95829285990973...|       0.0|[0.72277987707981...|\n",
            "| 49|management|  1.0|[0.27732202959835...|       0.0|[0.56888956191128...|\n",
            "| 40|management|  1.0|[0.44962165969452...|       0.0|[0.61054927638721...|\n",
            "+---+----------+-----+--------------------+----------+--------------------+\n",
            "only showing top 10 rows\n",
            "\n"
          ]
        }
      ],
      "source": [
        "# Making predictions\n",
        "predictions_lr = logistic_regModel.transform(test)\n",
        "predictions_lr.select('age', 'job', 'label', 'rawPrediction', 'prediction', 'probability').show(10)"
      ]
    },
    {
      "cell_type": "code",
      "execution_count": 22,
      "metadata": {
        "colab": {
          "base_uri": "https://localhost:8080/"
        },
        "id": "QbKbJ5LXJX8k",
        "outputId": "9e197d06-133c-47ef-ce1d-a5d86290a8d2"
      },
      "outputs": [
        {
          "output_type": "stream",
          "name": "stdout",
          "text": [
            "Test Area under ROC 0.7487691616446068\n"
          ]
        }
      ],
      "source": [
        "# Evaluating Logistic Regression Model\n",
        "evaluator_lr = BinaryClassificationEvaluator()\n",
        "print('Test Area under ROC', + evaluator_lr.evaluate(predictions_lr))"
      ]
    },
    {
      "cell_type": "code",
      "execution_count": 23,
      "metadata": {
        "id": "ffzYapENOiyP"
      },
      "outputs": [],
      "source": [
        "roc_lr = evaluator_lr.evaluate(predictions_lr)"
      ]
    },
    {
      "cell_type": "markdown",
      "metadata": {
        "id": "kEEaFiSdJ_Ob"
      },
      "source": [
        "# Decision Tree Model"
      ]
    },
    {
      "cell_type": "code",
      "execution_count": 24,
      "metadata": {
        "colab": {
          "base_uri": "https://localhost:8080/"
        },
        "id": "t6qgwioNKCl9",
        "outputId": "6a13c4cc-0817-49ac-b95e-867786ef03ec"
      },
      "outputs": [
        {
          "output_type": "stream",
          "name": "stdout",
          "text": [
            "+---+----------+-----+-------------+----------+--------------------+\n",
            "|age|       job|label|rawPrediction|prediction|         probability|\n",
            "+---+----------+-----+-------------+----------+--------------------+\n",
            "| 27|management|  1.0|    [0.0,5.0]|       1.0|           [0.0,1.0]|\n",
            "| 45|management|  1.0|[610.0,301.0]|       0.0|[0.66959385290889...|\n",
            "| 58|management|  1.0| [101.0,23.0]|       0.0|[0.81451612903225...|\n",
            "| 59|management|  1.0|[285.0,517.0]|       1.0|[0.35536159600997...|\n",
            "| 46|management|  1.0|  [22.0,36.0]|       1.0|[0.37931034482758...|\n",
            "| 37|management|  1.0|  [26.0,66.0]|       1.0|[0.28260869565217...|\n",
            "| 48|management|  1.0| [43.0,591.0]|       1.0|[0.06782334384858...|\n",
            "| 47|management|  1.0|[493.0,134.0]|       0.0|[0.78628389154704...|\n",
            "| 49|management|  1.0|  [22.0,36.0]|       1.0|[0.37931034482758...|\n",
            "| 40|management|  1.0|  [26.0,66.0]|       1.0|[0.28260869565217...|\n",
            "+---+----------+-----+-------------+----------+--------------------+\n",
            "only showing top 10 rows\n",
            "\n"
          ]
        }
      ],
      "source": [
        "decision_tree = DecisionTreeClassifier(featuresCol = 'features', labelCol = 'label', maxDepth = 10)\n",
        "decision_treeModel = decision_tree.fit(train)\n",
        "predictions_dt =  decision_treeModel.transform(test)\n",
        "predictions_dt.select('age', 'job', 'label', 'rawPrediction', 'prediction', 'probability').show(10)"
      ]
    },
    {
      "cell_type": "code",
      "execution_count": 25,
      "metadata": {
        "colab": {
          "base_uri": "https://localhost:8080/"
        },
        "id": "Tw5RXLaTK-wE",
        "outputId": "b0c4d0f4-2a2b-41ab-95a0-66ca1a6587eb"
      },
      "outputs": [
        {
          "output_type": "stream",
          "name": "stdout",
          "text": [
            "Test Area Under ROC: 0.616361409470254\n"
          ]
        }
      ],
      "source": [
        "# evaluating decision tree classifier\n",
        "evaluator_dt = BinaryClassificationEvaluator()\n",
        "print(\"Test Area Under ROC: \" + str(evaluator_dt.evaluate(predictions_dt, {evaluator_dt.metricName: \"areaUnderROC\"})))"
      ]
    },
    {
      "cell_type": "code",
      "execution_count": 26,
      "metadata": {
        "id": "MCkHbEncOP4m"
      },
      "outputs": [],
      "source": [
        "roc_dt = evaluator_dt.evaluate(predictions_dt, {evaluator_dt.metricName: \"areaUnderROC\"})"
      ]
    },
    {
      "cell_type": "markdown",
      "metadata": {
        "id": "w8gtRMiFUEBu"
      },
      "source": [
        "Through the results above, it seems that Logistic Regression performed better than Decision Tree.\n",
        "\n",
        "Let`s try another to improve the Decision Tree using Ensemble methods, such as Random Forest and Gradient-Boosted Tree."
      ]
    },
    {
      "cell_type": "markdown",
      "metadata": {
        "id": "DTBTTuUiLh3L"
      },
      "source": [
        "# Random Forest Classifier"
      ]
    },
    {
      "cell_type": "code",
      "execution_count": 27,
      "metadata": {
        "colab": {
          "base_uri": "https://localhost:8080/"
        },
        "id": "yZcUZtiSUxvF",
        "outputId": "62db758f-d1d7-4078-c0dc-8f30b16039e6"
      },
      "outputs": [
        {
          "output_type": "stream",
          "name": "stdout",
          "text": [
            "+---+----------+-----+--------------------+----------+--------------------+\n",
            "|age|       job|label|       rawPrediction|prediction|         probability|\n",
            "+---+----------+-----+--------------------+----------+--------------------+\n",
            "| 27|management|  1.0|[8.70778380599938...|       1.0|[0.43538919029996...|\n",
            "| 45|management|  1.0|[9.37169874917981...|       1.0|[0.46858493745899...|\n",
            "| 58|management|  1.0|[12.6196581991157...|       0.0|[0.63098290995578...|\n",
            "| 59|management|  1.0|[9.12997879451542...|       1.0|[0.45649893972577...|\n",
            "| 46|management|  1.0|[12.3992692488808...|       0.0|[0.61996346244404...|\n",
            "| 37|management|  1.0|[8.07296008105638...|       1.0|[0.40364800405281...|\n",
            "| 48|management|  1.0|[2.76072369590504...|       1.0|[0.13803618479525...|\n",
            "| 47|management|  1.0|[14.1192741907729...|       0.0|[0.70596370953864...|\n",
            "| 49|management|  1.0|[11.1311570216433...|       0.0|[0.55655785108216...|\n",
            "| 40|management|  1.0|[11.0804172388058...|       0.0|[0.55402086194029...|\n",
            "+---+----------+-----+--------------------+----------+--------------------+\n",
            "only showing top 10 rows\n",
            "\n"
          ]
        }
      ],
      "source": [
        "random_forest = RandomForestClassifier(featuresCol = 'features', labelCol = 'label')\n",
        "random_forestModel = random_forest.fit(train)\n",
        "predictions_rf = random_forestModel.transform(test)\n",
        "predictions_rf.select('age', 'job', 'label', 'rawPrediction', 'prediction', 'probability').show(10)"
      ]
    },
    {
      "cell_type": "code",
      "execution_count": 28,
      "metadata": {
        "colab": {
          "base_uri": "https://localhost:8080/"
        },
        "id": "73Fk7_8jYm4n",
        "outputId": "d9186099-cf38-45e2-e72e-d307423c8c3a"
      },
      "outputs": [
        {
          "output_type": "stream",
          "name": "stdout",
          "text": [
            "Test Area Under ROC: 0.7438296829029091\n"
          ]
        }
      ],
      "source": [
        "evaluator_rf = BinaryClassificationEvaluator()\n",
        "print(\"Test Area Under ROC: \" + str(evaluator_rf.evaluate(predictions_rf, {evaluator_rf.metricName: \"areaUnderROC\"})))"
      ]
    },
    {
      "cell_type": "code",
      "execution_count": 29,
      "metadata": {
        "id": "_x45KsLwcVDe"
      },
      "outputs": [],
      "source": [
        "roc_rf = evaluator_rf.evaluate(predictions_rf, {evaluator_rf.metricName: \"areaUnderROC\"})"
      ]
    },
    {
      "cell_type": "markdown",
      "metadata": {
        "id": "OtkVXQ2KZFfA"
      },
      "source": [
        "# Gradient-Boosted Tree Classifier"
      ]
    },
    {
      "cell_type": "code",
      "execution_count": 30,
      "metadata": {
        "colab": {
          "base_uri": "https://localhost:8080/"
        },
        "id": "UPb6bsZ7ZEow",
        "outputId": "95901ce1-2246-46ee-d3c8-3f6de2be6bfb"
      },
      "outputs": [
        {
          "output_type": "stream",
          "name": "stdout",
          "text": [
            "+---+----------+-----+--------------------+----------+--------------------+\n",
            "|age|       job|label|       rawPrediction|prediction|         probability|\n",
            "+---+----------+-----+--------------------+----------+--------------------+\n",
            "| 27|management|  1.0|[-0.6440585949437...|       1.0|[0.21617166646003...|\n",
            "| 45|management|  1.0|[0.20455123259167...|       0.0|[0.60087264732293...|\n",
            "| 58|management|  1.0|[0.75388159386516...|       0.0|[0.81872947477740...|\n",
            "| 59|management|  1.0|[0.14070012981743...|       0.0|[0.56988948276042...|\n",
            "| 46|management|  1.0|[0.16980903687363...|       0.0|[0.58409774550027...|\n",
            "| 37|management|  1.0|[-0.1583089981094...|       1.0|[0.42150018848000...|\n",
            "| 48|management|  1.0|[-1.1801491627082...|       1.0|[0.08625068012001...|\n",
            "| 47|management|  1.0|[0.45491097423630...|       0.0|[0.71296372652077...|\n",
            "| 49|management|  1.0|[0.03188710643881...|       0.0|[0.51593815168077...|\n",
            "| 40|management|  1.0|[0.23962388444058...|       0.0|[0.61757023061833...|\n",
            "+---+----------+-----+--------------------+----------+--------------------+\n",
            "only showing top 10 rows\n",
            "\n"
          ]
        }
      ],
      "source": [
        "gradient_boosted = GBTClassifier(maxIter=10)\n",
        "gradient_boostedModel = gradient_boosted.fit(train)\n",
        "predictions_gbt = gradient_boostedModel.transform(test)\n",
        "predictions_gbt.select('age', 'job', 'label', 'rawPrediction', 'prediction', 'probability').show(10)"
      ]
    },
    {
      "cell_type": "code",
      "execution_count": 31,
      "metadata": {
        "colab": {
          "base_uri": "https://localhost:8080/"
        },
        "id": "bzt6fJLNauDe",
        "outputId": "6706cc19-e984-4d22-84db-c94d9b274e03"
      },
      "outputs": [
        {
          "output_type": "stream",
          "name": "stdout",
          "text": [
            "Test Area Under ROC: 0.7538299467717838\n"
          ]
        }
      ],
      "source": [
        "evaluator_gbt = BinaryClassificationEvaluator()\n",
        "print(\"Test Area Under ROC: \" + str(evaluator_gbt.evaluate(predictions_gbt, {evaluator_gbt.metricName: \"areaUnderROC\"})))"
      ]
    },
    {
      "cell_type": "code",
      "execution_count": 32,
      "metadata": {
        "id": "mQ67RkCHcTf7"
      },
      "outputs": [],
      "source": [
        "roc_gbt = evaluator_gbt.evaluate(predictions_gbt, {evaluator_gbt.metricName: \"areaUnderROC\"})"
      ]
    },
    {
      "cell_type": "code",
      "execution_count": 33,
      "metadata": {
        "colab": {
          "base_uri": "https://localhost:8080/"
        },
        "id": "Sn7qStY290Lj",
        "outputId": "8951ad7f-1bd8-4df6-9a50-4f8b71d4ec54"
      },
      "outputs": [
        {
          "output_type": "stream",
          "name": "stdout",
          "text": [
            "Logistic Regression: 0.7487750253973796\n",
            "Decision Tree: 0.616361409470254\n",
            "Random Forest: 0.7438296829029093\n",
            "Gradient-Boosted Tree: 0.7538299467717838\n"
          ]
        }
      ],
      "source": [
        "print(\"Logistic Regression: \" + str(roc_lr))\n",
        "print(\"Decision Tree: \" + str(roc_dt))\n",
        "print(\"Random Forest: \" + str(roc_rf))\n",
        "print(\"Gradient-Boosted Tree: \" + str(roc_gbt))\n"
      ]
    },
    {
      "cell_type": "markdown",
      "metadata": {
        "id": "caYEipiZds-3"
      },
      "source": [
        "Looking the results displayed above, we can see that Gradient-Boosted performed better than the other 3.\n",
        "\n",
        "Let`s try to apply hyperparameters on it.\n"
      ]
    },
    {
      "cell_type": "markdown",
      "metadata": {
        "id": "dHWMSmfbeHKQ"
      },
      "source": [
        "# Applying Tuning Methods on Gradient-Boosted Model"
      ]
    },
    {
      "cell_type": "code",
      "execution_count": 34,
      "metadata": {
        "colab": {
          "base_uri": "https://localhost:8080/"
        },
        "id": "8ghMTQTSdsUn",
        "outputId": "3a7089b9-376c-40cb-f134-a349bc24eeda"
      },
      "outputs": [
        {
          "output_type": "stream",
          "name": "stdout",
          "text": [
            "cacheNodeIds: If false, the algorithm will pass trees to executors to match instances with nodes. If true, the algorithm will cache node IDs for each instance. Caching can speed up training of deeper trees. Users can set how often should the cache be checkpointed or disable it by setting checkpointInterval. (default: False)\n",
            "checkpointInterval: set checkpoint interval (>= 1) or disable checkpoint (-1). E.g. 10 means that the cache will get checkpointed every 10 iterations. Note: this setting will be ignored if the checkpoint directory is not set in the SparkContext. (default: 10)\n",
            "featureSubsetStrategy: The number of features to consider for splits at each tree node. Supported options: 'auto' (choose automatically for task: If numTrees == 1, set to 'all'. If numTrees > 1 (forest), set to 'sqrt' for classification and to 'onethird' for regression), 'all' (use all features), 'onethird' (use 1/3 of the features), 'sqrt' (use sqrt(number of features)), 'log2' (use log2(number of features)), 'n' (when n is in the range (0, 1.0], use n * number of features. When n is in the range (1, number of features), use n features). default = 'auto' (default: all)\n",
            "featuresCol: features column name. (default: features)\n",
            "impurity: Criterion used for information gain calculation (case-insensitive). Supported options: variance (default: variance)\n",
            "labelCol: label column name. (default: label)\n",
            "leafCol: Leaf indices column name. Predicted leaf index of each instance in each tree by preorder. (default: )\n",
            "lossType: Loss function which GBT tries to minimize (case-insensitive). Supported options: logistic (default: logistic)\n",
            "maxBins: Max number of bins for discretizing continuous features.  Must be >=2 and >= number of categories for any categorical feature. (default: 32)\n",
            "maxDepth: Maximum depth of the tree. (>= 0) E.g., depth 0 means 1 leaf node; depth 1 means 1 internal node + 2 leaf nodes. Must be in range [0, 30]. (default: 5)\n",
            "maxIter: max number of iterations (>= 0). (default: 20, current: 10)\n",
            "maxMemoryInMB: Maximum memory in MB allocated to histogram aggregation. If too small, then 1 node will be split per iteration, and its aggregates may exceed this size. (default: 256)\n",
            "minInfoGain: Minimum information gain for a split to be considered at a tree node. (default: 0.0)\n",
            "minInstancesPerNode: Minimum number of instances each child must have after split. If a split causes the left or right child to have fewer than minInstancesPerNode, the split will be discarded as invalid. Should be >= 1. (default: 1)\n",
            "minWeightFractionPerNode: Minimum fraction of the weighted sample count that each child must have after split. If a split causes the fraction of the total weight in the left or right child to be less than minWeightFractionPerNode, the split will be discarded as invalid. Should be in interval [0.0, 0.5). (default: 0.0)\n",
            "predictionCol: prediction column name. (default: prediction)\n",
            "probabilityCol: Column name for predicted class conditional probabilities. Note: Not all models output well-calibrated probability estimates! These probabilities should be treated as confidences, not precise probabilities. (default: probability)\n",
            "rawPredictionCol: raw prediction (a.k.a. confidence) column name. (default: rawPrediction)\n",
            "seed: random seed. (default: -8599240846109587994)\n",
            "stepSize: Step size (a.k.a. learning rate) in interval (0, 1] for shrinking the contribution of each estimator. (default: 0.1)\n",
            "subsamplingRate: Fraction of the training data used for learning each decision tree, in range (0, 1]. (default: 1.0)\n",
            "thresholds: Thresholds in multi-class classification to adjust the probability of predicting each class. Array must have length equal to the number of classes, with values > 0, excepting that at most one value may be 0. The class with largest value p/t is predicted, where p is the original probability of that class and t is the class's threshold. (undefined)\n",
            "validationIndicatorCol: name of the column that indicates whether each row is for training or for validation. False indicates training; true indicates validation. (undefined)\n",
            "validationTol: Threshold for stopping early when fit with validation is used. If the error rate on the validation input changes by less than the validationTol, then learning will stop early (before `maxIter`). This parameter is ignored when fit without validation is used. (default: 0.01)\n",
            "weightCol: weight column name. If this is not set or empty, we treat all instance weights as 1.0. (undefined)\n"
          ]
        }
      ],
      "source": [
        "print(gradient_boosted.explainParams())"
      ]
    },
    {
      "cell_type": "code",
      "execution_count": 35,
      "metadata": {
        "colab": {
          "base_uri": "https://localhost:8080/"
        },
        "id": "LVbqDuRVfc33",
        "outputId": "50dc1109-05e9-43a2-a83f-2d0c70ebfbc6"
      },
      "outputs": [
        {
          "output_type": "execute_result",
          "data": {
            "text/plain": [
              "0.7613318854750455"
            ]
          },
          "metadata": {},
          "execution_count": 35
        }
      ],
      "source": [
        "paramGrid = (ParamGridBuilder()\n",
        "            .addGrid(gradient_boosted.maxDepth, [3,6,9])\n",
        "            .addGrid(gradient_boosted.maxBins, [20,60])\n",
        "            .addGrid(gradient_boosted.maxIter, [10,20])\n",
        "            .addGrid(gradient_boosted.stepSize, [0.05, 0.1])\n",
        "            .build())\n",
        "\n",
        "cross_val = CrossValidator(estimator=gradient_boosted, estimatorParamMaps=paramGrid, evaluator=evaluator_gbt, numFolds=5)\n",
        "\n",
        "cross_valModel = cross_val.fit(train)\n",
        "predictions_tun = cross_valModel.transform(test)\n",
        "evaluation_result = evaluator_gbt.evaluate(predictions_tun)\n",
        "evaluation_result"
      ]
    },
    {
      "cell_type": "code",
      "execution_count": 36,
      "metadata": {
        "colab": {
          "base_uri": "https://localhost:8080/"
        },
        "id": "TiCm7d10-8eS",
        "outputId": "4b941432-1a0a-4bd7-e522-001a47a8ab65"
      },
      "outputs": [
        {
          "output_type": "stream",
          "name": "stdout",
          "text": [
            "Gradient-Boosted Tree: 0.7538299467717838\n",
            "Tuned Gradient-Boosted Tree: 0.7613318854750455\n"
          ]
        }
      ],
      "source": [
        "print(\"Gradient-Boosted Tree: \" + str(roc_gbt))\n",
        "print(\"Tuned Gradient-Boosted Tree: \" + str(evaluation_result))"
      ]
    },
    {
      "cell_type": "markdown",
      "metadata": {
        "id": "fVseQGftNgYX"
      },
      "source": [
        "# Feature Selection through Chi-Squared Selector"
      ]
    },
    {
      "cell_type": "code",
      "execution_count": 37,
      "metadata": {
        "colab": {
          "base_uri": "https://localhost:8080/"
        },
        "id": "0vIKOhXYGzK-",
        "outputId": "1d7b8019-611b-449a-df5a-7b37d43bd4db"
      },
      "outputs": [
        {
          "output_type": "stream",
          "name": "stdout",
          "text": [
            "Selected Features: (30,[0,11,13,16,17,18,19,21,24,25,26,27,28,29],[1.0,1.0,1.0,1.0,1.0,1.0,1.0,1.0,30.0,850.0,850.0,2.0,-1.0,850.0])\n"
          ]
        }
      ],
      "source": [
        "selector = ChiSqSelector(featuresCol='features', outputCol='selectedFeatures', labelCol='label', fpr=0.05)\n",
        "\n",
        "pipeline = Pipeline(stages=[selector, gradient_boosted])\n",
        "\n",
        "pipeline_model = pipeline.fit(train)\n",
        "\n",
        "selected_features_train = pipeline_model.transform(train)\n",
        "\n",
        "selected_features_test = pipeline_model.transform(test)\n",
        "\n",
        "selected_features = selected_features_train.select('selectedFeatures').collect()[0]['selectedFeatures']\n",
        "\n",
        "print(\"Selected Features:\", selected_features)\n"
      ]
    },
    {
      "cell_type": "code",
      "execution_count": 38,
      "metadata": {
        "colab": {
          "base_uri": "https://localhost:8080/"
        },
        "id": "5tlAjQvYZTeR",
        "outputId": "e669ff95-137e-4e03-9fd0-9d34b18e768f"
      },
      "outputs": [
        {
          "output_type": "stream",
          "name": "stdout",
          "text": [
            "Area under ROC: 0.7538299467717843\n"
          ]
        }
      ],
      "source": [
        "# Evaluate the model on the test data\n",
        "evaluator = BinaryClassificationEvaluator(labelCol='label', metricName='areaUnderROC')\n",
        "area_under_roc = evaluator.evaluate(selected_features_test)\n",
        "print(\"Area under ROC:\", area_under_roc)\n"
      ]
    },
    {
      "cell_type": "markdown",
      "metadata": {
        "id": "CBbnDXIhPoLS"
      },
      "source": [
        "We noticed that the feature selection didn`t bring increment to our gradient boosted model."
      ]
    },
    {
      "cell_type": "markdown",
      "metadata": {
        "id": "xT8tlJURXKgu"
      },
      "source": [
        "# Trying to select the columns"
      ]
    },
    {
      "cell_type": "code",
      "execution_count": 39,
      "metadata": {
        "colab": {
          "base_uri": "https://localhost:8080/"
        },
        "id": "E6Azh8J1TLok",
        "outputId": "871ae8d9-14b9-47a9-86b2-87c0d78382c4"
      },
      "outputs": [
        {
          "output_type": "stream",
          "name": "stdout",
          "text": [
            "('jobclassVec_management', 0): -0.13224789793183206\n",
            "('jobclassVec_blue-collar', 1): -0.007403746040579797\n",
            "('jobclassVec_technician', 2): -0.0818948082235892\n",
            "('jobclassVec_admin.', 3): 0.06662684990145178\n",
            "('jobclassVec_services', 4): -0.05224723498957836\n",
            "('jobclassVec_retired', 5): 0.729814167969826\n",
            "('jobclassVec_self-employed', 6): -0.0630204350797046\n",
            "('jobclassVec_student', 7): 0.4448059512871793\n",
            "('jobclassVec_unemployed', 8): 0.194257194982733\n",
            "('jobclassVec_entrepreneur', 9): -0.17065258065946745\n",
            "('jobclassVec_housemaid', 10): -0.21568025628709325\n",
            "('maritalclassVec_married', 11): -0.2147846701268001\n",
            "('maritalclassVec_single', 12): 0.04993805534786234\n",
            "('educationclassVec_secondary', 13): -0.02622002453111428\n",
            "('educationclassVec_tertiary', 14): 0.2214476610388966\n",
            "('educationclassVec_primary', 15): -0.14500910114627663\n",
            "('defaultclassVec_no', 16): 0.23335290454474888\n",
            "('housingclassVec_no', 17): 0.48757653732432715\n",
            "('loanclassVec_no', 18): 0.4037075950308285\n",
            "('contactclassVec_cellular', 19): 0.1846909146308692\n",
            "('contactclassVec_unknown', 20): -0.7769251584551552\n",
            "('poutcomeclassVec_unknown', 21): -0.3908746986611329\n",
            "('poutcomeclassVec_failure', 22): -0.2385168848710978\n",
            "('poutcomeclassVec_success', 23): 1.7486295666219813\n",
            "('age', 24): -0.00329350784740377\n",
            "('balance', 25): 1.1270943681291856e-05\n",
            "('duration', 26): 1.1270943681291856e-05\n",
            "('campaign', 27): -0.08578713212009223\n",
            "('pdays', 28): 0.00024235650645521478\n",
            "('previous', 29): 1.1270943681291856e-05\n"
          ]
        }
      ],
      "source": [
        "# Access the coefficients\n",
        "coefficients = logistic_regModel.coefficients\n",
        "\n",
        "# Access the feature column names\n",
        "feature_columns = train.schema[\"features\"].metadata[\"ml_attr\"][\"attrs\"][\"binary\"] + \\\n",
        "                  train.schema[\"features\"].metadata[\"ml_attr\"][\"attrs\"][\"numeric\"]\n",
        "\n",
        "# Convert dictionaries to tuples before creating the mapping\n",
        "feature_columns_tuples = [(d['name'], d['idx']) for d in feature_columns]\n",
        "\n",
        "# Create a mapping of coefficients to feature column names\n",
        "coefficients_mapping = dict(zip(feature_columns_tuples, coefficients))\n",
        "\n",
        "# Print the coefficients mapped to feature column names\n",
        "for feature, coefficient in coefficients_mapping.items():\n",
        "    print(f\"{feature}: {coefficient}\")"
      ]
    },
    {
      "cell_type": "code",
      "execution_count": 40,
      "metadata": {
        "id": "7tOWgAsDVmf4"
      },
      "outputs": [],
      "source": [
        "# Get the absolute values of coefficients and their corresponding feature names\n",
        "coefficients_with_names = list(zip(coefficients, feature_columns))\n",
        "\n",
        "# Sort by absolute coefficient values in descending order\n",
        "sorted_coefficients = sorted(coefficients_with_names, key=lambda x: abs(x[0]), reverse=True)\n",
        "\n",
        "# Select the top 20 features\n",
        "\n",
        "top_feature_names = [feature_name for _, feature_name in sorted_coefficients[:10]]\n",
        "top_feature_names = [feature_info['name'] for feature_info in top_feature_names]"
      ]
    },
    {
      "cell_type": "code",
      "execution_count": 41,
      "metadata": {
        "colab": {
          "base_uri": "https://localhost:8080/"
        },
        "id": "7pjauXA8Vy9L",
        "outputId": "8fc4a465-ee06-4527-a734-f4d0e7d582d2"
      },
      "outputs": [
        {
          "output_type": "execute_result",
          "data": {
            "text/plain": [
              "['poutcomeclassVec_success',\n",
              " 'contactclassVec_unknown',\n",
              " 'jobclassVec_retired',\n",
              " 'housingclassVec_no',\n",
              " 'jobclassVec_student',\n",
              " 'loanclassVec_no',\n",
              " 'poutcomeclassVec_unknown',\n",
              " 'poutcomeclassVec_failure',\n",
              " 'defaultclassVec_no',\n",
              " 'educationclassVec_tertiary']"
            ]
          },
          "metadata": {},
          "execution_count": 41
        }
      ],
      "source": [
        "top_feature_names"
      ]
    },
    {
      "cell_type": "markdown",
      "metadata": {
        "id": "E3UCseExoSgy"
      },
      "source": [
        "Through the above cell code, we can see that the top 10 features are related to the fields: poutcome, contact, job, housing, loan, default, education"
      ]
    },
    {
      "cell_type": "code",
      "execution_count": 113,
      "metadata": {
        "colab": {
          "base_uri": "https://localhost:8080/"
        },
        "id": "4G1HImR9oA0O",
        "outputId": "160c0f88-ae87-49fc-be61-abd1be3e5110"
      },
      "outputs": [
        {
          "output_type": "stream",
          "name": "stdout",
          "text": [
            "root\n",
            " |-- poutcome: string (nullable = true)\n",
            " |-- contact: string (nullable = true)\n",
            " |-- job: string (nullable = true)\n",
            " |-- housing: string (nullable = true)\n",
            " |-- loan: string (nullable = true)\n",
            " |-- default: string (nullable = true)\n",
            " |-- education: string (nullable = true)\n",
            " |-- deposit: string (nullable = true)\n",
            " |-- age: integer (nullable = true)\n",
            " |-- balance: integer (nullable = true)\n",
            "\n"
          ]
        }
      ],
      "source": [
        "# creating a copy of the dataframe filtering it according to these columns above\n",
        "df_bnk_copy = df_bnk.alias('df_bnk_copy')\n",
        "id(df_bnk_copy) == id(df_bnk)\n",
        "df_bnk_copy = df_bnk_copy.select(\"poutcome\", \"contact\", \"job\", \"housing\", \"loan\", \"default\", \"education\", \"deposit\", \"age\", \"balance\")\n",
        "df_bnk_copy.printSchema()"
      ]
    },
    {
      "cell_type": "code",
      "execution_count": 114,
      "metadata": {
        "id": "yCUb8au1ppZc"
      },
      "outputs": [],
      "source": [
        "categoricalCols_copy = ['job', 'education', 'default', 'housing', 'loan', 'contact', 'poutcome']\n",
        "stages_copy = []\n",
        "\n",
        "for categoricalCol_copy in categoricalCols_copy:\n",
        "  stringIndexer_copy = StringIndexer(inputCol = categoricalCol_copy, outputCol = categoricalCol_copy + 'Index')\n",
        "  encoder_copy = OneHotEncoder(inputCols=[stringIndexer_copy.getOutputCol()], outputCols=[categoricalCol_copy + \"classVec\"])\n",
        "  stages_copy += [stringIndexer_copy, encoder_copy]\n",
        "\n",
        "label_stringIdx_copy = StringIndexer(inputCol = 'deposit', outputCol='label')\n",
        "stages_copy += [label_stringIdx_copy]\n",
        "\n",
        "numericCols_copy = ['age', 'balance']\n",
        "assemblerInputs_copy = [c + \"classVec\" for c in categoricalCols_copy] + numericCols_copy\n",
        "assembler_copy = VectorAssembler(inputCols=assemblerInputs_copy, outputCol=\"features\")\n",
        "stages_copy += [assembler_copy]"
      ]
    },
    {
      "cell_type": "code",
      "execution_count": 115,
      "metadata": {
        "colab": {
          "base_uri": "https://localhost:8080/"
        },
        "id": "qkNJemfSqEyc",
        "outputId": "6843259e-469b-4520-c576-cafffd72b1d1"
      },
      "outputs": [
        {
          "output_type": "stream",
          "name": "stdout",
          "text": [
            "root\n",
            " |-- label: double (nullable = false)\n",
            " |-- features: vector (nullable = true)\n",
            " |-- age: integer (nullable = true)\n",
            " |-- job: string (nullable = true)\n",
            " |-- education: string (nullable = true)\n",
            " |-- default: string (nullable = true)\n",
            " |-- balance: integer (nullable = true)\n",
            " |-- housing: string (nullable = true)\n",
            " |-- loan: string (nullable = true)\n",
            " |-- contact: string (nullable = true)\n",
            " |-- poutcome: string (nullable = true)\n",
            " |-- deposit: string (nullable = true)\n",
            "\n"
          ]
        }
      ],
      "source": [
        "pipeline_copy = Pipeline(stages = stages_copy)\n",
        "pipelineModel_copy = pipeline_copy.fit(df_bnk_copy)\n",
        "df_bnk_copy = pipelineModel_copy.transform(df_bnk_copy)\n",
        "selectedCols_copy = ['label', 'features'] + [col for col in cols if col not in ['marital', 'duration', 'campaign', 'pdays', 'previous']]\n",
        "df_bnk_copy = df_bnk_copy.select(selectedCols_copy)\n",
        "df_bnk_copy.printSchema()"
      ]
    },
    {
      "cell_type": "code",
      "source": [
        "train_selFeature, test_selFeature = df_bnk_copy.randomSplit([0.7, 0.3], seed = 2018)\n",
        "print(\"Training Dataset count: \" + str(train_selFeature.count()))\n",
        "print(\"Test Dataset count: \" + str(test_selFeature.count()))"
      ],
      "metadata": {
        "colab": {
          "base_uri": "https://localhost:8080/"
        },
        "id": "9OO3N3LoW0ma",
        "outputId": "753f13de-f27c-4862-c689-4e9a4b78d0eb"
      },
      "execution_count": 116,
      "outputs": [
        {
          "output_type": "stream",
          "name": "stdout",
          "text": [
            "Training Dataset count: 7853\n",
            "Test Dataset count: 3309\n"
          ]
        }
      ]
    },
    {
      "cell_type": "code",
      "source": [
        "gradient_boosted_sf = GBTClassifier(maxIter=10)\n",
        "gradient_boostedModel_sf = gradient_boosted.fit(train_selFeature)\n",
        "predictions_gbt_sf = gradient_boostedModel_sf.transform(test_selFeature)\n",
        "predictions_gbt_sf.select('age', 'job', 'label', 'rawPrediction', 'prediction', 'probability').show(10)"
      ],
      "metadata": {
        "colab": {
          "base_uri": "https://localhost:8080/"
        },
        "id": "jUFAquV1X_lz",
        "outputId": "d0a2bd78-a851-4d54-c10a-09171ed33073"
      },
      "execution_count": 117,
      "outputs": [
        {
          "output_type": "stream",
          "name": "stdout",
          "text": [
            "+---+----------+-----+--------------------+----------+--------------------+\n",
            "|age|       job|label|       rawPrediction|prediction|         probability|\n",
            "+---+----------+-----+--------------------+----------+--------------------+\n",
            "| 31|management|  1.0|[0.36975636539366...|       0.0|[0.67688929468950...|\n",
            "| 28|management|  1.0|[-0.3744893151577...|       1.0|[0.32104389288233...|\n",
            "| 32|management|  1.0|[-0.1802394711134...|       1.0|[0.41084363248007...|\n",
            "| 33|management|  1.0|[-0.1656906959510...|       1.0|[0.41790454723944...|\n",
            "| 39|management|  1.0|[-0.2005763418652...|       1.0|[0.40103542676595...|\n",
            "| 45|management|  1.0|[-0.1656906959510...|       1.0|[0.41790454723944...|\n",
            "| 58|management|  1.0|[-0.1987570298596...|       1.0|[0.40190976001164...|\n",
            "| 52|management|  1.0|[-0.4060921526281...|       1.0|[0.30742522891150...|\n",
            "| 28|management|  1.0|[-1.1629574761377...|       1.0|[0.08899931693224...|\n",
            "| 37|management|  1.0|[-1.0915695468259...|       1.0|[0.10127485523500...|\n",
            "+---+----------+-----+--------------------+----------+--------------------+\n",
            "only showing top 10 rows\n",
            "\n"
          ]
        }
      ]
    },
    {
      "cell_type": "code",
      "source": [
        "evaluator_gbt_sf = BinaryClassificationEvaluator()\n",
        "print(\"Test Area Under ROC: \" + str(evaluator_gbt_sf.evaluate(predictions_gbt_sf, {evaluator_gbt_sf.metricName: \"areaUnderROC\"})))"
      ],
      "metadata": {
        "colab": {
          "base_uri": "https://localhost:8080/"
        },
        "id": "xg4Dv5rkYIcf",
        "outputId": "603b5c8a-0359-42f4-bb88-8f54e4a647f3"
      },
      "execution_count": 118,
      "outputs": [
        {
          "output_type": "stream",
          "name": "stdout",
          "text": [
            "Test Area Under ROC: 0.7435694788736308\n"
          ]
        }
      ]
    },
    {
      "cell_type": "code",
      "source": [
        "roc_gbt_sf = evaluator_gbt.evaluate(predictions_gbt_sf, {evaluator_gbt_sf.metricName: \"areaUnderROC\"})"
      ],
      "metadata": {
        "id": "bSqVxVXHYk3N"
      },
      "execution_count": 119,
      "outputs": []
    },
    {
      "cell_type": "code",
      "source": [
        "print(\"Gradient-Boosted Tree: \" + str(roc_gbt))\n",
        "print(\"Tuned Gradient-Boosted Tree: \" + str(evaluation_result))\n",
        "print(\"Selecting Features and Applying in the Gradient-Boosted Tree: \" + str(roc_gbt_sf))"
      ],
      "metadata": {
        "colab": {
          "base_uri": "https://localhost:8080/"
        },
        "id": "I15fJMkbYzbk",
        "outputId": "3a2b4232-2998-4b8b-ab3b-abe56ed4ebf1"
      },
      "execution_count": 120,
      "outputs": [
        {
          "output_type": "stream",
          "name": "stdout",
          "text": [
            "Gradient-Boosted Tree: 0.7538299467717838\n",
            "Tuned Gradient-Boosted Tree: 0.7613318854750455\n",
            "Selecting Features and Applying in the Gradient-Boosted Tree: 0.7435694788736309\n"
          ]
        }
      ]
    },
    {
      "cell_type": "markdown",
      "source": [
        "# Summary\n"
      ],
      "metadata": {
        "id": "VtDctHunZCBB"
      }
    },
    {
      "cell_type": "markdown",
      "source": [
        "The best performed model was Tuned Gradient-Boosted Tree.\n",
        "\n",
        "After applying feature selection, the model didn't have a good roc score, since the prior features were performed better, which could mean they described better the processes than reducing the features."
      ],
      "metadata": {
        "id": "cyI5mXLPZlev"
      }
    },
    {
      "cell_type": "markdown",
      "source": [
        "# References"
      ],
      "metadata": {
        "id": "5PxUaJPdcoHK"
      }
    },
    {
      "cell_type": "markdown",
      "source": [
        "https://towardsdatascience.com/machine-learning-with-pyspark-and-mllib-solving-a-binary-classification-problem-96396065d2aa\n",
        "\n",
        "https://spark.apache.org/docs/2.2.0/ml-features.html\n",
        "\n",
        "https://www.youtube.com/watch?v=9X73jbQSglY"
      ],
      "metadata": {
        "id": "ec464juPctYG"
      }
    }
  ],
  "metadata": {
    "colab": {
      "provenance": [],
      "toc_visible": true,
      "authorship_tag": "ABX9TyPc7DsG7PqIJTvqBN6rVbSa",
      "include_colab_link": true
    },
    "kernelspec": {
      "display_name": "Python 3",
      "name": "python3"
    },
    "language_info": {
      "name": "python"
    }
  },
  "nbformat": 4,
  "nbformat_minor": 0
}